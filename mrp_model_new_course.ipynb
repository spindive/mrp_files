{
 "cells": [
  {
   "cell_type": "code",
   "execution_count": 1,
   "metadata": {},
   "outputs": [],
   "source": [
    "import pandas as pd\n",
    "import numpy as np\n",
    "from sklearn.model_selection import train_test_split\n",
    "import tensorflow as tf\n",
    "from tensorflow import keras\n",
    "from matplotlib import pyplot as plt\n",
    "import tokenize\n",
    "import io\n",
    "import matplotlib\n",
    "import matplotlib.pyplot as plt\n",
    "from IPython.display import display, HTML\n",
    "import lime\n",
    "from lime.lime_text import LimeTextExplainer\n",
    "from sklearn.pipeline import make_pipeline\n",
    "from sklearn.metrics import accuracy_score, classification_report, confusion_matrix\n",
    "import keras_tuner as kt\n",
    "import json\n",
    "import pickle\n",
    "from tensorflow.keras.utils import plot_model"
   ]
  },
  {
   "cell_type": "code",
   "execution_count": 2,
   "metadata": {},
   "outputs": [],
   "source": [
    "from tensorflow.keras.preprocessing import sequence\n",
    "from tensorflow.keras.models import Sequential\n",
    "from tensorflow.keras.layers import Dense, Dropout, Activation, Flatten, Embedding, Conv1D, GlobalMaxPooling1D, GlobalAveragePooling1D, LSTM, SimpleRNN, SpatialDropout1D, Attention, MaxPooling1D\n",
    "from tensorflow.keras.callbacks import EarlyStopping , ModelCheckpoint\n",
    "from tensorflow.keras.preprocessing.text import Tokenizer\n",
    "from tensorflow.keras.preprocessing.sequence import pad_sequences"
   ]
  },
  {
   "cell_type": "code",
   "execution_count": 3,
   "metadata": {},
   "outputs": [
    {
     "data": {
      "text/plain": [
       "[PhysicalDevice(name='/physical_device:GPU:0', device_type='GPU')]"
      ]
     },
     "execution_count": 3,
     "metadata": {},
     "output_type": "execute_result"
    }
   ],
   "source": [
    "tf.config.list_physical_devices(\"GPU\")"
   ]
  },
  {
   "cell_type": "code",
   "execution_count": 4,
   "metadata": {},
   "outputs": [],
   "source": [
    "df_code_py = pd.read_parquet('df_code_py.gzip')"
   ]
  },
  {
   "cell_type": "code",
   "execution_count": 5,
   "metadata": {},
   "outputs": [
    {
     "data": {
      "text/html": [
       "<div>\n",
       "<style scoped>\n",
       "    .dataframe tbody tr th:only-of-type {\n",
       "        vertical-align: middle;\n",
       "    }\n",
       "\n",
       "    .dataframe tbody tr th {\n",
       "        vertical-align: top;\n",
       "    }\n",
       "\n",
       "    .dataframe thead th {\n",
       "        text-align: right;\n",
       "    }\n",
       "</style>\n",
       "<table border=\"1\" class=\"dataframe\">\n",
       "  <thead>\n",
       "    <tr style=\"text-align: right;\">\n",
       "      <th></th>\n",
       "      <th>academic_year_1</th>\n",
       "      <th>task</th>\n",
       "      <th>user</th>\n",
       "      <th>date</th>\n",
       "      <th>academic_year_0</th>\n",
       "      <th>upload</th>\n",
       "      <th>module</th>\n",
       "      <th>correct</th>\n",
       "      <th>hour_submitted</th>\n",
       "      <th>tokens</th>\n",
       "      <th>token_count</th>\n",
       "      <th>line_count</th>\n",
       "      <th>token_code_only</th>\n",
       "      <th>token_per_line</th>\n",
       "    </tr>\n",
       "  </thead>\n",
       "  <tbody>\n",
       "    <tr>\n",
       "      <th>0</th>\n",
       "      <td>2017</td>\n",
       "      <td>add.py</td>\n",
       "      <td>b9e7e608-6036-4d44-8770-a7036176b53c</td>\n",
       "      <td>2016-09-19 14:11:41</td>\n",
       "      <td>2016</td>\n",
       "      <td>#!/usr/bin/env python\\n\\na = int(raw_input())\\...</td>\n",
       "      <td>ca277</td>\n",
       "      <td>True</td>\n",
       "      <td>14</td>\n",
       "      <td>[{'end': [1, 21], 'line': '#!/usr/bin/env pyth...</td>\n",
       "      <td>30</td>\n",
       "      <td>4</td>\n",
       "      <td>[\\n, a, =, int, (, raw_input, (, ), ), \\n, b, ...</td>\n",
       "      <td>7.5</td>\n",
       "    </tr>\n",
       "    <tr>\n",
       "      <th>1</th>\n",
       "      <td>2017</td>\n",
       "      <td>concat-lines.py</td>\n",
       "      <td>b9e7e608-6036-4d44-8770-a7036176b53c</td>\n",
       "      <td>2016-09-19 14:17:33</td>\n",
       "      <td>2016</td>\n",
       "      <td>#!/usr/bin/env python\\n\\na = str(raw_input())\\...</td>\n",
       "      <td>ca277</td>\n",
       "      <td>True</td>\n",
       "      <td>14</td>\n",
       "      <td>[{'end': [1, 21], 'line': '#!/usr/bin/env pyth...</td>\n",
       "      <td>30</td>\n",
       "      <td>4</td>\n",
       "      <td>[\\n, a, =, str, (, raw_input, (, ), ), \\n, b, ...</td>\n",
       "      <td>7.5</td>\n",
       "    </tr>\n",
       "    <tr>\n",
       "      <th>2</th>\n",
       "      <td>2017</td>\n",
       "      <td>goodbye.py</td>\n",
       "      <td>b9e7e608-6036-4d44-8770-a7036176b53c</td>\n",
       "      <td>2016-09-19 10:15:59</td>\n",
       "      <td>2016</td>\n",
       "      <td>#!/usr/bin/env python\\n\\nprint \"Goodbye\"\\n</td>\n",
       "      <td>ca277</td>\n",
       "      <td>True</td>\n",
       "      <td>10</td>\n",
       "      <td>[{'end': [1, 21], 'line': '#!/usr/bin/env pyth...</td>\n",
       "      <td>7</td>\n",
       "      <td>2</td>\n",
       "      <td>[\\n, print, \"Goodbye\", \\n]</td>\n",
       "      <td>3.5</td>\n",
       "    </tr>\n",
       "    <tr>\n",
       "      <th>3</th>\n",
       "      <td>2017</td>\n",
       "      <td>less-than.py</td>\n",
       "      <td>b9e7e608-6036-4d44-8770-a7036176b53c</td>\n",
       "      <td>2016-09-19 14:14:22</td>\n",
       "      <td>2016</td>\n",
       "      <td>#!/usr/bin/env python\\n\\na = int(raw_input())\\...</td>\n",
       "      <td>ca277</td>\n",
       "      <td>True</td>\n",
       "      <td>14</td>\n",
       "      <td>[{'end': [1, 21], 'line': '#!/usr/bin/env pyth...</td>\n",
       "      <td>30</td>\n",
       "      <td>4</td>\n",
       "      <td>[\\n, a, =, int, (, raw_input, (, ), ), \\n, b, ...</td>\n",
       "      <td>7.5</td>\n",
       "    </tr>\n",
       "    <tr>\n",
       "      <th>4</th>\n",
       "      <td>2017</td>\n",
       "      <td>longest-line.py</td>\n",
       "      <td>b9e7e608-6036-4d44-8770-a7036176b53c</td>\n",
       "      <td>2016-09-19 14:51:28</td>\n",
       "      <td>2016</td>\n",
       "      <td>#!usr/bin/evn python\\n\\na = raw_input()\\nb = r...</td>\n",
       "      <td>ca277</td>\n",
       "      <td>True</td>\n",
       "      <td>14</td>\n",
       "      <td>[{'end': [1, 20], 'line': '#!usr/bin/evn pytho...</td>\n",
       "      <td>42</td>\n",
       "      <td>7</td>\n",
       "      <td>[\\n, a, =, raw_input, (, ), \\n, b, =, raw_inpu...</td>\n",
       "      <td>6.0</td>\n",
       "    </tr>\n",
       "  </tbody>\n",
       "</table>\n",
       "</div>"
      ],
      "text/plain": [
       "   academic_year_1             task                                  user  \\\n",
       "0             2017           add.py  b9e7e608-6036-4d44-8770-a7036176b53c   \n",
       "1             2017  concat-lines.py  b9e7e608-6036-4d44-8770-a7036176b53c   \n",
       "2             2017       goodbye.py  b9e7e608-6036-4d44-8770-a7036176b53c   \n",
       "3             2017     less-than.py  b9e7e608-6036-4d44-8770-a7036176b53c   \n",
       "4             2017  longest-line.py  b9e7e608-6036-4d44-8770-a7036176b53c   \n",
       "\n",
       "                 date  academic_year_0  \\\n",
       "0 2016-09-19 14:11:41             2016   \n",
       "1 2016-09-19 14:17:33             2016   \n",
       "2 2016-09-19 10:15:59             2016   \n",
       "3 2016-09-19 14:14:22             2016   \n",
       "4 2016-09-19 14:51:28             2016   \n",
       "\n",
       "                                              upload module  correct  \\\n",
       "0  #!/usr/bin/env python\\n\\na = int(raw_input())\\...  ca277     True   \n",
       "1  #!/usr/bin/env python\\n\\na = str(raw_input())\\...  ca277     True   \n",
       "2         #!/usr/bin/env python\\n\\nprint \"Goodbye\"\\n  ca277     True   \n",
       "3  #!/usr/bin/env python\\n\\na = int(raw_input())\\...  ca277     True   \n",
       "4  #!usr/bin/evn python\\n\\na = raw_input()\\nb = r...  ca277     True   \n",
       "\n",
       "   hour_submitted                                             tokens  \\\n",
       "0              14  [{'end': [1, 21], 'line': '#!/usr/bin/env pyth...   \n",
       "1              14  [{'end': [1, 21], 'line': '#!/usr/bin/env pyth...   \n",
       "2              10  [{'end': [1, 21], 'line': '#!/usr/bin/env pyth...   \n",
       "3              14  [{'end': [1, 21], 'line': '#!/usr/bin/env pyth...   \n",
       "4              14  [{'end': [1, 20], 'line': '#!usr/bin/evn pytho...   \n",
       "\n",
       "   token_count  line_count                                    token_code_only  \\\n",
       "0           30           4  [\\n, a, =, int, (, raw_input, (, ), ), \\n, b, ...   \n",
       "1           30           4  [\\n, a, =, str, (, raw_input, (, ), ), \\n, b, ...   \n",
       "2            7           2                         [\\n, print, \"Goodbye\", \\n]   \n",
       "3           30           4  [\\n, a, =, int, (, raw_input, (, ), ), \\n, b, ...   \n",
       "4           42           7  [\\n, a, =, raw_input, (, ), \\n, b, =, raw_inpu...   \n",
       "\n",
       "   token_per_line  \n",
       "0             7.5  \n",
       "1             7.5  \n",
       "2             3.5  \n",
       "3             7.5  \n",
       "4             6.0  "
      ]
     },
     "execution_count": 5,
     "metadata": {},
     "output_type": "execute_result"
    }
   ],
   "source": [
    "df_code_py.head()"
   ]
  },
  {
   "cell_type": "code",
   "execution_count": 6,
   "metadata": {},
   "outputs": [
    {
     "data": {
      "text/plain": [
       "(378455, 14)"
      ]
     },
     "execution_count": 6,
     "metadata": {},
     "output_type": "execute_result"
    }
   ],
   "source": [
    "df_code_py.shape"
   ]
  },
  {
   "cell_type": "code",
   "execution_count": 7,
   "metadata": {},
   "outputs": [],
   "source": [
    "df_code_py_exp = df_code_py\n",
    "#df_code_py_exp = df_code_py[df_code_py[\"task\"]==\"ex3-first-long-word.py\"]"
   ]
  },
  {
   "cell_type": "code",
   "execution_count": 8,
   "metadata": {},
   "outputs": [
    {
     "data": {
      "text/plain": [
       "array([{'end': array([ 1, 21], dtype=int64), 'line': '#!/usr/bin/env python\\n', 'start': array([1, 0], dtype=int64), 'string': '#!/usr/bin/env python', 'type': 61},\n",
       "       {'end': array([ 1, 22], dtype=int64), 'line': '#!/usr/bin/env python\\n', 'start': array([ 1, 21], dtype=int64), 'string': '\\n', 'type': 62},\n",
       "       {'end': array([2, 1], dtype=int64), 'line': '\\n', 'start': array([2, 0], dtype=int64), 'string': '\\n', 'type': 62},\n",
       "       {'end': array([3, 1], dtype=int64), 'line': 'a = int(raw_input())\\n', 'start': array([3, 0], dtype=int64), 'string': 'a', 'type': 1},\n",
       "       {'end': array([3, 3], dtype=int64), 'line': 'a = int(raw_input())\\n', 'start': array([3, 2], dtype=int64), 'string': '=', 'type': 54},\n",
       "       {'end': array([3, 7], dtype=int64), 'line': 'a = int(raw_input())\\n', 'start': array([3, 4], dtype=int64), 'string': 'int', 'type': 1},\n",
       "       {'end': array([3, 8], dtype=int64), 'line': 'a = int(raw_input())\\n', 'start': array([3, 7], dtype=int64), 'string': '(', 'type': 54},\n",
       "       {'end': array([ 3, 17], dtype=int64), 'line': 'a = int(raw_input())\\n', 'start': array([3, 8], dtype=int64), 'string': 'raw_input', 'type': 1},\n",
       "       {'end': array([ 3, 18], dtype=int64), 'line': 'a = int(raw_input())\\n', 'start': array([ 3, 17], dtype=int64), 'string': '(', 'type': 54},\n",
       "       {'end': array([ 3, 19], dtype=int64), 'line': 'a = int(raw_input())\\n', 'start': array([ 3, 18], dtype=int64), 'string': ')', 'type': 54},\n",
       "       {'end': array([ 3, 20], dtype=int64), 'line': 'a = int(raw_input())\\n', 'start': array([ 3, 19], dtype=int64), 'string': ')', 'type': 54},\n",
       "       {'end': array([ 3, 21], dtype=int64), 'line': 'a = int(raw_input())\\n', 'start': array([ 3, 20], dtype=int64), 'string': '\\n', 'type': 4},\n",
       "       {'end': array([4, 1], dtype=int64), 'line': 'b = int(raw_input())\\n', 'start': array([4, 0], dtype=int64), 'string': 'b', 'type': 1},\n",
       "       {'end': array([4, 3], dtype=int64), 'line': 'b = int(raw_input())\\n', 'start': array([4, 2], dtype=int64), 'string': '=', 'type': 54},\n",
       "       {'end': array([4, 7], dtype=int64), 'line': 'b = int(raw_input())\\n', 'start': array([4, 4], dtype=int64), 'string': 'int', 'type': 1},\n",
       "       {'end': array([4, 8], dtype=int64), 'line': 'b = int(raw_input())\\n', 'start': array([4, 7], dtype=int64), 'string': '(', 'type': 54},\n",
       "       {'end': array([ 4, 17], dtype=int64), 'line': 'b = int(raw_input())\\n', 'start': array([4, 8], dtype=int64), 'string': 'raw_input', 'type': 1},\n",
       "       {'end': array([ 4, 18], dtype=int64), 'line': 'b = int(raw_input())\\n', 'start': array([ 4, 17], dtype=int64), 'string': '(', 'type': 54},\n",
       "       {'end': array([ 4, 19], dtype=int64), 'line': 'b = int(raw_input())\\n', 'start': array([ 4, 18], dtype=int64), 'string': ')', 'type': 54},\n",
       "       {'end': array([ 4, 20], dtype=int64), 'line': 'b = int(raw_input())\\n', 'start': array([ 4, 19], dtype=int64), 'string': ')', 'type': 54},\n",
       "       {'end': array([ 4, 21], dtype=int64), 'line': 'b = int(raw_input())\\n', 'start': array([ 4, 20], dtype=int64), 'string': '\\n', 'type': 4},\n",
       "       {'end': array([5, 1], dtype=int64), 'line': '\\n', 'start': array([5, 0], dtype=int64), 'string': '\\n', 'type': 62},\n",
       "       {'end': array([6, 5], dtype=int64), 'line': 'print a + b\\n', 'start': array([6, 0], dtype=int64), 'string': 'print', 'type': 1},\n",
       "       {'end': array([6, 7], dtype=int64), 'line': 'print a + b\\n', 'start': array([6, 6], dtype=int64), 'string': 'a', 'type': 1},\n",
       "       {'end': array([6, 9], dtype=int64), 'line': 'print a + b\\n', 'start': array([6, 8], dtype=int64), 'string': '+', 'type': 54},\n",
       "       {'end': array([ 6, 11], dtype=int64), 'line': 'print a + b\\n', 'start': array([ 6, 10], dtype=int64), 'string': 'b', 'type': 1},\n",
       "       {'end': array([ 6, 12], dtype=int64), 'line': 'print a + b\\n', 'start': array([ 6, 11], dtype=int64), 'string': '\\n', 'type': 4},\n",
       "       {'end': array([7, 1], dtype=int64), 'line': '\\n', 'start': array([7, 0], dtype=int64), 'string': '\\n', 'type': 62},\n",
       "       {'end': array([8, 1], dtype=int64), 'line': '\\n', 'start': array([8, 0], dtype=int64), 'string': '\\n', 'type': 62},\n",
       "       {'end': array([9, 0], dtype=int64), 'line': '', 'start': array([9, 0], dtype=int64), 'string': '', 'type': 0}],\n",
       "      dtype=object)"
      ]
     },
     "execution_count": 8,
     "metadata": {},
     "output_type": "execute_result"
    }
   ],
   "source": [
    "df_code_py_exp.iloc[0].tokens"
   ]
  },
  {
   "cell_type": "code",
   "execution_count": 9,
   "metadata": {},
   "outputs": [],
   "source": [
    "MAX_NUM_WORDS = 100\n",
    "MAX_SEQUENCE_LENGTH = 100\n",
    "EMBEDDING_DIM = 50"
   ]
  },
  {
   "cell_type": "code",
   "execution_count": 10,
   "metadata": {},
   "outputs": [],
   "source": [
    "def tokenizer_custom(t_list):    \n",
    "    \n",
    "    if isinstance(t_list, np.ndarray):\n",
    "        #print(t_list)\n",
    "        return t_list\n",
    "    else:\n",
    "        temp_tokens = None\n",
    "        t_dict = None\n",
    "        t_code_only = []\n",
    "        with io.StringIO(t_list) as f:\n",
    "            line = f.readline\n",
    "            temp_tokens = tokenize.generate_tokens(line)\n",
    "            try:\n",
    "                for token in temp_tokens:\n",
    "                    t_dict = token._asdict()\n",
    "                    #print(t_dict)\n",
    "                    #print(t_dict[\"string\"])\n",
    "                    if t_dict[\"line\"] == \"\\n\" or t_dict[\"type\"] == 0:\n",
    "                        pass\n",
    "                    elif t_dict[\"type\"] != 61:\n",
    "                        # tokenize only the code not comments\n",
    "                        t_code_only.append(t_dict[\"string\"])\n",
    "            except:\n",
    "                pass\n",
    "        return np.array(t_code_only)"
   ]
  },
  {
   "cell_type": "code",
   "execution_count": 11,
   "metadata": {},
   "outputs": [],
   "source": [
    "tokenizer = Tokenizer(num_words = MAX_NUM_WORDS, filters=None, lower=True, analyzer=tokenizer_custom)"
   ]
  },
  {
   "cell_type": "code",
   "execution_count": 12,
   "metadata": {},
   "outputs": [],
   "source": [
    "tokenizer.fit_on_texts(df_code_py_exp[\"token_code_only\"].values)\n",
    "word_index = tokenizer.word_index"
   ]
  },
  {
   "cell_type": "code",
   "execution_count": 13,
   "metadata": {},
   "outputs": [],
   "source": [
    "X_values = tokenizer.texts_to_sequences(df_code_py_exp[\"token_code_only\"].values)\n",
    "X_values = pad_sequences(X_values, maxlen=MAX_SEQUENCE_LENGTH)\n"
   ]
  },
  {
   "cell_type": "code",
   "execution_count": 14,
   "metadata": {},
   "outputs": [],
   "source": [
    "Y_values = df_code_py_exp[\"correct\"].astype(int).values"
   ]
  },
  {
   "cell_type": "code",
   "execution_count": 15,
   "metadata": {},
   "outputs": [
    {
     "name": "stdout",
     "output_type": "stream",
     "text": [
      "[ 0  0  0  0  0  0  0  0  0  0  0  0  0  0  0  0  0  0  0  0  0  0  0  0\n",
      "  0  0  0  0  0  0  0  0  0  0  0  0  0  0  0  0  0  0  0  0  0  0  0  0\n",
      "  0  0  0  0  0  0  0  0  0  0  0  0  0  0  0  0  0  0  0  0  0  0  0  0\n",
      "  0  0  0  0  1 18  4 47  2 51  2  3  3  1 61  4 47  2 51  2  3  3  1 16\n",
      " 18 17 61  1] 1\n"
     ]
    }
   ],
   "source": [
    "print(X_values[0], Y_values[0])"
   ]
  },
  {
   "cell_type": "code",
   "execution_count": 16,
   "metadata": {},
   "outputs": [
    {
     "name": "stdout",
     "output_type": "stream",
     "text": [
      "['\\n' 'a' '=' 'int' '(' 'raw_input' '(' ')' ')' '\\n' 'b' '=' 'int' '('\n",
      " 'raw_input' '(' ')' ')' '\\n' 'print' 'a' '+' 'b' '\\n'] True\n"
     ]
    }
   ],
   "source": [
    "print(df_code_py_exp.iloc[0].token_code_only, df_code_py_exp.iloc[0].correct)"
   ]
  },
  {
   "cell_type": "code",
   "execution_count": 17,
   "metadata": {},
   "outputs": [],
   "source": [
    "X_train = X_values[(df_code_py[\"task\"]!=\"stableford_122.py\") | \n",
    "                   (df_code_py[\"task\"]!=\"ex3-strip-zeros.py\") |\n",
    "                   (df_code_py[\"task\"]!=\"small-primes.py\") |\n",
    "                   (df_code_py[\"task\"]!=\"ex2-third-words.py\") |\n",
    "                   (df_code_py[\"task\"]!=\"wordcomps_031.py\")]"
   ]
  },
  {
   "cell_type": "code",
   "execution_count": 18,
   "metadata": {},
   "outputs": [],
   "source": [
    "X_test = X_values[(df_code_py[\"task\"]==\"stableford_122.py\") | \n",
    "                   (df_code_py[\"task\"]==\"ex3-strip-zeros.py\") |\n",
    "                   (df_code_py[\"task\"]==\"small-primes.py\") |\n",
    "                   (df_code_py[\"task\"]==\"ex2-third-words.py\") |\n",
    "                   (df_code_py[\"task\"]==\"wordcomps_031.py\")]"
   ]
  },
  {
   "cell_type": "code",
   "execution_count": 19,
   "metadata": {},
   "outputs": [],
   "source": [
    "Y_train = Y_values[(df_code_py[\"task\"]!=\"stableford_122.py\") | \n",
    "                   (df_code_py[\"task\"]!=\"ex3-strip-zeros.py\") |\n",
    "                   (df_code_py[\"task\"]!=\"small-primes.py\") |\n",
    "                   (df_code_py[\"task\"]!=\"ex2-third-words.py\") |\n",
    "                   (df_code_py[\"task\"]!=\"wordcomps_031.py\")]"
   ]
  },
  {
   "cell_type": "code",
   "execution_count": 20,
   "metadata": {},
   "outputs": [],
   "source": [
    "Y_test = Y_values[(df_code_py[\"task\"]==\"stableford_122.py\") | \n",
    "                   (df_code_py[\"task\"]==\"ex3-strip-zeros.py\") |\n",
    "                   (df_code_py[\"task\"]==\"small-primes.py\") |\n",
    "                   (df_code_py[\"task\"]==\"ex2-third-words.py\") |\n",
    "                   (df_code_py[\"task\"]==\"wordcomps_031.py\")]"
   ]
  },
  {
   "cell_type": "code",
   "execution_count": 21,
   "metadata": {},
   "outputs": [],
   "source": [
    "I_train = df_code_py_exp.index[(df_code_py[\"task\"]!=\"stableford_122.py\") | \n",
    "                   (df_code_py[\"task\"]!=\"ex3-strip-zeros.py\") |\n",
    "                   (df_code_py[\"task\"]!=\"small-primes.py\") |\n",
    "                   (df_code_py[\"task\"]!=\"ex2-third-words.py\") |\n",
    "                   (df_code_py[\"task\"]!=\"wordcomps_031.py\")]"
   ]
  },
  {
   "cell_type": "code",
   "execution_count": 22,
   "metadata": {},
   "outputs": [],
   "source": [
    "I_test = df_code_py_exp.index[(df_code_py[\"task\"]==\"stableford_122.py\") | \n",
    "                   (df_code_py[\"task\"]==\"ex3-strip-zeros.py\") |\n",
    "                   (df_code_py[\"task\"]==\"small-primes.py\") |\n",
    "                   (df_code_py[\"task\"]==\"ex2-third-words.py\") |\n",
    "                   (df_code_py[\"task\"]==\"wordcomps_031.py\")]"
   ]
  },
  {
   "cell_type": "code",
   "execution_count": 23,
   "metadata": {},
   "outputs": [
    {
     "name": "stdout",
     "output_type": "stream",
     "text": [
      "X_train:  (378455, 100) Y_train:  (378455,)\n",
      "X_test:  (11821, 100) Y_test:  (11821,)\n"
     ]
    }
   ],
   "source": [
    "print(\"X_train: \", X_train.shape, \"Y_train: \", Y_train.shape)\n",
    "print(\"X_test: \", X_test.shape, \"Y_test: \", Y_test.shape)"
   ]
  },
  {
   "cell_type": "code",
   "execution_count": 24,
   "metadata": {},
   "outputs": [
    {
     "name": "stdout",
     "output_type": "stream",
     "text": [
      "[ 0  0  0  0  0  0  0  0  0  0  0  0  0  0  0  0  0  0  0  0  0  0  0  0\n",
      "  0  0  0  0  0  0  0  0  0  0  0  0  0  0  0  0  0  0  0  0  0  0  0  0\n",
      "  0  0  0  0  0  0  0  0  0  0  0  0  0  0  0  0  0  0  0  0  0  0  0  0\n",
      "  0  0  0  0  1 18  4 47  2 51  2  3  3  1 61  4 47  2 51  2  3  3  1 16\n",
      " 18 17 61  1] 1\n"
     ]
    }
   ],
   "source": [
    "print(X_train[0], Y_train[0])"
   ]
  },
  {
   "cell_type": "code",
   "execution_count": 25,
   "metadata": {},
   "outputs": [
    {
     "name": "stdout",
     "output_type": "stream",
     "text": [
      "['\\n' 'a' '=' 'int' '(' 'raw_input' '(' ')' ')' '\\n' 'b' '=' 'int' '('\n",
      " 'raw_input' '(' ')' ')' '\\n' 'print' 'a' '+' 'b' '\\n']\n"
     ]
    }
   ],
   "source": [
    "print(df_code_py_exp.loc[I_train[0], \"token_code_only\"])"
   ]
  },
  {
   "cell_type": "code",
   "execution_count": 26,
   "metadata": {},
   "outputs": [],
   "source": [
    "callback = tf.keras.callbacks.EarlyStopping(monitor=\"val_loss\", patience=5)"
   ]
  },
  {
   "cell_type": "code",
   "execution_count": 27,
   "metadata": {},
   "outputs": [],
   "source": [
    "def model_builder(hp):    \n",
    "    model_input = keras.Input(shape=(X_train.shape[1],))\n",
    "    #attention = Activation(activation = 'softmax', name='attention_vec')(model_input)\n",
    "    x = Embedding(MAX_NUM_WORDS, EMBEDDING_DIM, input_length=X_train.shape[1])(model_input)\n",
    "    hp_conv = hp.Int(\"units\", min_value=3, max_value=7, step=1)\n",
    "    hp_stride = hp.Int(\"stride\", min_value=1, max_value=3, step=1)\n",
    "    x = Conv1D(50, hp_conv, padding =\"valid\", activation =\"relu\", strides=hp_stride)(x)\n",
    "    x = MaxPooling1D()(x)\n",
    "    hp_do = hp.Choice(\"dropout\", values = [0.05, 0.1, 0.15, 0.2])\n",
    "    x = LSTM(50, activation=\"tanh\", return_sequences=True, dropout=hp_do)(x)\n",
    "    x = LSTM(25, activation=\"tanh\", dropout=hp_do)(x)\n",
    "    #model.add(GlobalMaxPooling1D())\n",
    "    #model.add(Dense(25, activation=\"relu\"))\n",
    "    model_output = Dense(1, activation=\"sigmoid\")(x)\n",
    "    model = keras.Model(inputs=model_input, outputs=model_output)\n",
    "    #hp_learning_rate = hp.Choice(\"learning_rate\", values = [1e-2, 1e-3, 1e-4])\n",
    "    hp_opt = hp.Choice(\"optimizer\", values=[\"adam\", \"adafactor\", \"sgd\"])\n",
    "    #model.summary()\n",
    "    model.compile(\n",
    "    loss = \"binary_crossentropy\", \n",
    "    optimizer= hp_opt,\n",
    "    metrics =[\"accuracy\"],\n",
    "    )\n",
    "    return model"
   ]
  },
  {
   "cell_type": "code",
   "execution_count": 28,
   "metadata": {},
   "outputs": [],
   "source": [
    "#plot_model(model, to_file=\"model_design.png\", show_shapes=True, show_layer_names=True)"
   ]
  },
  {
   "cell_type": "code",
   "execution_count": 29,
   "metadata": {},
   "outputs": [
    {
     "name": "stdout",
     "output_type": "stream",
     "text": [
      "INFO:tensorflow:Reloading Tuner from .\\adaptive_lms\\tuner0.json\n"
     ]
    }
   ],
   "source": [
    "tuner = kt.Hyperband(model_builder,\n",
    "                     objective='val_accuracy',\n",
    "                     max_epochs=10,\n",
    "                     factor=3,\n",
    "                     project_name=\"adaptive_lms\")\n"
   ]
  },
  {
   "cell_type": "code",
   "execution_count": 30,
   "metadata": {},
   "outputs": [
    {
     "name": "stdout",
     "output_type": "stream",
     "text": [
      "INFO:tensorflow:Oracle triggered exit\n"
     ]
    }
   ],
   "source": [
    "tuner.search(X_train, Y_train, epochs=50, validation_split=0.2, callbacks=[callback])"
   ]
  },
  {
   "cell_type": "code",
   "execution_count": 31,
   "metadata": {},
   "outputs": [],
   "source": [
    "best_hps=tuner.get_best_hyperparameters(num_trials=1)[0]\n"
   ]
  },
  {
   "cell_type": "code",
   "execution_count": 32,
   "metadata": {},
   "outputs": [
    {
     "data": {
      "text/plain": [
       "3"
      ]
     },
     "execution_count": 32,
     "metadata": {},
     "output_type": "execute_result"
    }
   ],
   "source": [
    "best_hps.get(\"units\")"
   ]
  },
  {
   "cell_type": "code",
   "execution_count": 33,
   "metadata": {},
   "outputs": [
    {
     "data": {
      "text/plain": [
       "'adam'"
      ]
     },
     "execution_count": 33,
     "metadata": {},
     "output_type": "execute_result"
    }
   ],
   "source": [
    "best_hps.get(\"optimizer\")"
   ]
  },
  {
   "cell_type": "code",
   "execution_count": 34,
   "metadata": {},
   "outputs": [
    {
     "data": {
      "text/plain": [
       "1"
      ]
     },
     "execution_count": 34,
     "metadata": {},
     "output_type": "execute_result"
    }
   ],
   "source": [
    "best_hps.get(\"stride\")"
   ]
  },
  {
   "cell_type": "code",
   "execution_count": 35,
   "metadata": {},
   "outputs": [
    {
     "data": {
      "text/plain": [
       "0.05"
      ]
     },
     "execution_count": 35,
     "metadata": {},
     "output_type": "execute_result"
    }
   ],
   "source": [
    "best_hps.get(\"dropout\")"
   ]
  },
  {
   "cell_type": "code",
   "execution_count": 36,
   "metadata": {},
   "outputs": [],
   "source": [
    "model = tuner.hypermodel.build(best_hps)"
   ]
  },
  {
   "cell_type": "code",
   "execution_count": 37,
   "metadata": {},
   "outputs": [],
   "source": [
    "epochs = 100\n",
    "batch_size = 128"
   ]
  },
  {
   "cell_type": "code",
   "execution_count": 38,
   "metadata": {},
   "outputs": [
    {
     "name": "stdout",
     "output_type": "stream",
     "text": [
      "Epoch 1/100\n",
      "2366/2366 [==============================] - 55s 20ms/step - loss: 0.5566 - accuracy: 0.7295 - val_loss: 0.5277 - val_accuracy: 0.7559\n",
      "Epoch 2/100\n",
      "2366/2366 [==============================] - 47s 20ms/step - loss: 0.5161 - accuracy: 0.7488 - val_loss: 0.5312 - val_accuracy: 0.7399\n",
      "Epoch 3/100\n",
      "2366/2366 [==============================] - 48s 20ms/step - loss: 0.4926 - accuracy: 0.7610 - val_loss: 0.5009 - val_accuracy: 0.7671\n",
      "Epoch 4/100\n",
      "2366/2366 [==============================] - 46s 20ms/step - loss: 0.4744 - accuracy: 0.7700 - val_loss: 0.4871 - val_accuracy: 0.7719\n",
      "Epoch 5/100\n",
      "2366/2366 [==============================] - 48s 20ms/step - loss: 0.4580 - accuracy: 0.7795 - val_loss: 0.4935 - val_accuracy: 0.7642\n",
      "Epoch 6/100\n",
      "2366/2366 [==============================] - 49s 21ms/step - loss: 0.4441 - accuracy: 0.7869 - val_loss: 0.4759 - val_accuracy: 0.7808\n",
      "Epoch 7/100\n",
      "2366/2366 [==============================] - 49s 21ms/step - loss: 0.4315 - accuracy: 0.7948 - val_loss: 0.4894 - val_accuracy: 0.7693\n",
      "Epoch 8/100\n",
      "2366/2366 [==============================] - 48s 20ms/step - loss: 0.4217 - accuracy: 0.8004 - val_loss: 0.4946 - val_accuracy: 0.7599\n",
      "Epoch 9/100\n",
      "2366/2366 [==============================] - 48s 20ms/step - loss: 0.4132 - accuracy: 0.8050 - val_loss: 0.4846 - val_accuracy: 0.7667\n",
      "Epoch 10/100\n",
      "2366/2366 [==============================] - 45s 19ms/step - loss: 0.4059 - accuracy: 0.8089 - val_loss: 0.4799 - val_accuracy: 0.7746\n",
      "Epoch 11/100\n",
      "2366/2366 [==============================] - 48s 20ms/step - loss: 0.3987 - accuracy: 0.8123 - val_loss: 0.4792 - val_accuracy: 0.7734\n"
     ]
    }
   ],
   "source": [
    "history = model.fit(\n",
    "    X_train, \n",
    "    Y_train, \n",
    "    epochs=epochs, \n",
    "    batch_size=batch_size, \n",
    "    validation_split=0.2,\n",
    "    callbacks=[callback]\n",
    "    )"
   ]
  },
  {
   "cell_type": "code",
   "execution_count": 39,
   "metadata": {},
   "outputs": [],
   "source": [
    "model.save(\"CNN-LSTM-New-Course.h5\")"
   ]
  },
  {
   "cell_type": "code",
   "execution_count": 40,
   "metadata": {},
   "outputs": [],
   "source": [
    "with open('tokenizer.pickle', 'wb') as handle:\n",
    "    pickle.dump(tokenizer, handle, protocol=pickle.HIGHEST_PROTOCOL)"
   ]
  },
  {
   "cell_type": "code",
   "execution_count": 41,
   "metadata": {},
   "outputs": [
    {
     "name": "stdout",
     "output_type": "stream",
     "text": [
      "370/370 [==============================] - 3s 8ms/step - loss: 0.2334 - accuracy: 0.9094\n"
     ]
    }
   ],
   "source": [
    "test_accuracy = model.evaluate(X_test, Y_test)"
   ]
  },
  {
   "cell_type": "code",
   "execution_count": 42,
   "metadata": {},
   "outputs": [
    {
     "name": "stdout",
     "output_type": "stream",
     "text": [
      "370/370 [==============================] - 3s 6ms/step\n"
     ]
    }
   ],
   "source": [
    "Y_pred = model.predict(X_test)"
   ]
  },
  {
   "cell_type": "code",
   "execution_count": 43,
   "metadata": {},
   "outputs": [],
   "source": [
    "Y_pred = np.round(Y_pred, 0)"
   ]
  },
  {
   "cell_type": "code",
   "execution_count": 44,
   "metadata": {},
   "outputs": [
    {
     "name": "stdout",
     "output_type": "stream",
     "text": [
      "              precision    recall  f1-score   support\n",
      "\n",
      "           0       0.93      0.98      0.95     10725\n",
      "           1       0.52      0.26      0.35      1096\n",
      "\n",
      "    accuracy                           0.91     11821\n",
      "   macro avg       0.73      0.62      0.65     11821\n",
      "weighted avg       0.89      0.91      0.90     11821\n",
      "\n"
     ]
    }
   ],
   "source": [
    "print(classification_report(Y_test, Y_pred))"
   ]
  },
  {
   "cell_type": "code",
   "execution_count": 45,
   "metadata": {},
   "outputs": [
    {
     "name": "stdout",
     "output_type": "stream",
     "text": [
      "[[10461   264]\n",
      " [  807   289]]\n"
     ]
    }
   ],
   "source": [
    "print(confusion_matrix(Y_test, Y_pred))"
   ]
  },
  {
   "cell_type": "code",
   "execution_count": 46,
   "metadata": {},
   "outputs": [
    {
     "data": {
      "image/png": "[encoded data removed]",
      "text/plain": [
       "<Figure size 640x480 with 1 Axes>"
      ]
     },
     "metadata": {},
     "output_type": "display_data"
    }
   ],
   "source": [
    "plt.plot(history.history[\"accuracy\"])\n",
    "plt.plot(history.history[\"val_accuracy\"])\n",
    "plt.show()"
   ]
  },
  {
   "cell_type": "code",
   "execution_count": 47,
   "metadata": {},
   "outputs": [
    {
     "data": {
      "image/png": "[encoded data removed]",
      "text/plain": [
       "<Figure size 640x480 with 1 Axes>"
      ]
     },
     "metadata": {},
     "output_type": "display_data"
    }
   ],
   "source": [
    "plt.plot(history.history[\"loss\"])\n",
    "plt.plot(history.history[\"val_loss\"])\n",
    "plt.show()"
   ]
  },
  {
   "cell_type": "code",
   "execution_count": 48,
   "metadata": {},
   "outputs": [],
   "source": [
    "#model = keras.Model(inputs=model.input, outputs=[model.output, model.get_layer('attention_vec').output])"
   ]
  },
  {
   "cell_type": "code",
   "execution_count": 49,
   "metadata": {},
   "outputs": [],
   "source": [
    "test_case_raw = 'print \"Hello World\"'\n",
    "#test_case_raw = 'if 2==3: print \"true\" else: print \"false\"' "
   ]
  },
  {
   "cell_type": "code",
   "execution_count": 50,
   "metadata": {},
   "outputs": [],
   "source": [
    "def predict_fn (code):\n",
    "    predictions = []\n",
    "    if isinstance(code, list) or isinstance(code, np.ndarray):\n",
    "        m_input = code\n",
    "    else:\n",
    "        m_input = [code]\n",
    "    \n",
    "    for m in m_input:\n",
    "        m_input = tokenizer.texts_to_sequences([m])\n",
    "        m_input = pad_sequences(m_input, maxlen=MAX_SEQUENCE_LENGTH)\n",
    "        prob = model.predict(m_input)\n",
    "        predictions.append([1-prob[0][0], prob[0][0]])\n",
    "    return np.array(predictions)\n",
    "\n"
   ]
  },
  {
   "cell_type": "code",
   "execution_count": 51,
   "metadata": {},
   "outputs": [
    {
     "name": "stdout",
     "output_type": "stream",
     "text": [
      "1/1 [==============================] - 0s 53ms/step\n"
     ]
    },
    {
     "data": {
      "text/plain": [
       "array([[0.20128441, 0.79871559]])"
      ]
     },
     "execution_count": 51,
     "metadata": {},
     "output_type": "execute_result"
    }
   ],
   "source": [
    "predict_fn(test_case_raw)"
   ]
  },
  {
   "cell_type": "code",
   "execution_count": 52,
   "metadata": {},
   "outputs": [
    {
     "name": "stdout",
     "output_type": "stream",
     "text": [
      "1/1 [==============================] - 0s 26ms/step\n"
     ]
    },
    {
     "data": {
      "text/plain": [
       "0.7987155914306641"
      ]
     },
     "execution_count": 52,
     "metadata": {},
     "output_type": "execute_result"
    }
   ],
   "source": [
    "predict_fn(test_case_raw)[0,1]"
   ]
  },
  {
   "cell_type": "code",
   "execution_count": 53,
   "metadata": {},
   "outputs": [],
   "source": [
    "#int(pl.predict_proba([test_case_raw])[0,1])"
   ]
  },
  {
   "cell_type": "code",
   "execution_count": 54,
   "metadata": {},
   "outputs": [],
   "source": [
    "#attention_outputs = outputs[1]"
   ]
  },
  {
   "cell_type": "code",
   "execution_count": 55,
   "metadata": {},
   "outputs": [],
   "source": [
    "#print(attention_outputs)"
   ]
  }
 ],
 "metadata": {
  "kernelspec": {
   "display_name": "base",
   "language": "python",
   "name": "python3"
  },
  "language_info": {
   "codemirror_mode": {
    "name": "ipython",
    "version": 3
   },
   "file_extension": ".py",
   "mimetype": "text/x-python",
   "name": "python",
   "nbconvert_exporter": "python",
   "pygments_lexer": "ipython3",
   "version": "3.10.9"
  },
  "orig_nbformat": 4
 },
 "nbformat": 4,
 "nbformat_minor": 2
}
