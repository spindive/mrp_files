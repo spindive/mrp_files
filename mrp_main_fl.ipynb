{
 "cells": [
  {
   "cell_type": "code",
   "execution_count": 139,
   "metadata": {},
   "outputs": [],
   "source": [
    "import json\n",
    "import pandas as pd\n",
    "import numpy as np"
   ]
  },
  {
   "cell_type": "code",
   "execution_count": 140,
   "metadata": {},
   "outputs": [
    {
     "data": {
      "text/plain": [
       "'c:\\\\Users\\\\felix\\\\Documents\\\\School\\\\Ryerson\\\\MRP\\\\mrp_files'"
      ]
     },
     "execution_count": 140,
     "metadata": {},
     "output_type": "execute_result"
    }
   ],
   "source": [
    "import os\n",
    "os.getcwd()"
   ]
  },
  {
   "cell_type": "code",
   "execution_count": 141,
   "metadata": {},
   "outputs": [],
   "source": [
    "grades_raw = open(\"grades_data.json\")\n",
    "code_raw = open(\"programming_data.json\")"
   ]
  },
  {
   "cell_type": "code",
   "execution_count": 142,
   "metadata": {},
   "outputs": [],
   "source": [
    "grades_raw = json.load(grades_raw)\n",
    "code_raw = json.load(code_raw)"
   ]
  },
  {
   "cell_type": "code",
   "execution_count": 143,
   "metadata": {},
   "outputs": [],
   "source": [
    "df_grades = pd.json_normalize(grades_raw)\n",
    "df_code = pd.json_normalize(code_raw)"
   ]
  },
  {
   "cell_type": "code",
   "execution_count": 144,
   "metadata": {},
   "outputs": [
    {
     "data": {
      "text/html": [
       "<div>\n",
       "<style scoped>\n",
       "    .dataframe tbody tr th:only-of-type {\n",
       "        vertical-align: middle;\n",
       "    }\n",
       "\n",
       "    .dataframe tbody tr th {\n",
       "        vertical-align: top;\n",
       "    }\n",
       "\n",
       "    .dataframe thead th {\n",
       "        text-align: right;\n",
       "    }\n",
       "</style>\n",
       "<table border=\"1\" class=\"dataframe\">\n",
       "  <thead>\n",
       "    <tr style=\"text-align: right;\">\n",
       "      <th></th>\n",
       "      <th>exam_week</th>\n",
       "      <th>academic_year_1</th>\n",
       "      <th>academic_year_0</th>\n",
       "      <th>module</th>\n",
       "      <th>grade</th>\n",
       "      <th>user</th>\n",
       "    </tr>\n",
       "  </thead>\n",
       "  <tbody>\n",
       "    <tr>\n",
       "      <th>0</th>\n",
       "      <td>12</td>\n",
       "      <td>2016</td>\n",
       "      <td>2015</td>\n",
       "      <td>ca114</td>\n",
       "      <td>40</td>\n",
       "      <td>e45f938b-9d5c-4838-86ce-0755e3c97053</td>\n",
       "    </tr>\n",
       "    <tr>\n",
       "      <th>1</th>\n",
       "      <td>12</td>\n",
       "      <td>2016</td>\n",
       "      <td>2015</td>\n",
       "      <td>ca114</td>\n",
       "      <td>60</td>\n",
       "      <td>91b06877-f0e0-4af9-bbd4-b20ffa90e36b</td>\n",
       "    </tr>\n",
       "    <tr>\n",
       "      <th>2</th>\n",
       "      <td>12</td>\n",
       "      <td>2016</td>\n",
       "      <td>2015</td>\n",
       "      <td>ca114</td>\n",
       "      <td>60</td>\n",
       "      <td>b9e7e608-6036-4d44-8770-a7036176b53c</td>\n",
       "    </tr>\n",
       "    <tr>\n",
       "      <th>3</th>\n",
       "      <td>12</td>\n",
       "      <td>2016</td>\n",
       "      <td>2015</td>\n",
       "      <td>ca114</td>\n",
       "      <td>100</td>\n",
       "      <td>78cd7f00-c86a-46a4-ab20-040f317a60ca</td>\n",
       "    </tr>\n",
       "    <tr>\n",
       "      <th>4</th>\n",
       "      <td>12</td>\n",
       "      <td>2016</td>\n",
       "      <td>2015</td>\n",
       "      <td>ca114</td>\n",
       "      <td>60</td>\n",
       "      <td>80965c2d-45d9-440d-b3c3-403c112145e9</td>\n",
       "    </tr>\n",
       "  </tbody>\n",
       "</table>\n",
       "</div>"
      ],
      "text/plain": [
       "   exam_week  academic_year_1  academic_year_0 module  grade  \\\n",
       "0         12             2016             2015  ca114     40   \n",
       "1         12             2016             2015  ca114     60   \n",
       "2         12             2016             2015  ca114     60   \n",
       "3         12             2016             2015  ca114    100   \n",
       "4         12             2016             2015  ca114     60   \n",
       "\n",
       "                                   user  \n",
       "0  e45f938b-9d5c-4838-86ce-0755e3c97053  \n",
       "1  91b06877-f0e0-4af9-bbd4-b20ffa90e36b  \n",
       "2  b9e7e608-6036-4d44-8770-a7036176b53c  \n",
       "3  78cd7f00-c86a-46a4-ab20-040f317a60ca  \n",
       "4  80965c2d-45d9-440d-b3c3-403c112145e9  "
      ]
     },
     "execution_count": 144,
     "metadata": {},
     "output_type": "execute_result"
    }
   ],
   "source": [
    "df_grades.head()"
   ]
  },
  {
   "cell_type": "code",
   "execution_count": 145,
   "metadata": {},
   "outputs": [
    {
     "data": {
      "text/html": [
       "<div>\n",
       "<style scoped>\n",
       "    .dataframe tbody tr th:only-of-type {\n",
       "        vertical-align: middle;\n",
       "    }\n",
       "\n",
       "    .dataframe tbody tr th {\n",
       "        vertical-align: top;\n",
       "    }\n",
       "\n",
       "    .dataframe thead th {\n",
       "        text-align: right;\n",
       "    }\n",
       "</style>\n",
       "<table border=\"1\" class=\"dataframe\">\n",
       "  <thead>\n",
       "    <tr style=\"text-align: right;\">\n",
       "      <th></th>\n",
       "      <th>academic_year_1</th>\n",
       "      <th>task</th>\n",
       "      <th>user</th>\n",
       "      <th>extension</th>\n",
       "      <th>ip</th>\n",
       "      <th>date</th>\n",
       "      <th>academic_year_0</th>\n",
       "      <th>upload</th>\n",
       "      <th>module</th>\n",
       "      <th>correct</th>\n",
       "    </tr>\n",
       "  </thead>\n",
       "  <tbody>\n",
       "    <tr>\n",
       "      <th>0</th>\n",
       "      <td>2017</td>\n",
       "      <td>add.py</td>\n",
       "      <td>b9e7e608-6036-4d44-8770-a7036176b53c</td>\n",
       "      <td>py</td>\n",
       "      <td></td>\n",
       "      <td>2016-09-19 14:11:41</td>\n",
       "      <td>2016</td>\n",
       "      <td>#!/usr/bin/env python\\n\\na = int(raw_input())\\...</td>\n",
       "      <td>ca277</td>\n",
       "      <td>True</td>\n",
       "    </tr>\n",
       "    <tr>\n",
       "      <th>1</th>\n",
       "      <td>2017</td>\n",
       "      <td>concat-lines.py</td>\n",
       "      <td>b9e7e608-6036-4d44-8770-a7036176b53c</td>\n",
       "      <td>py</td>\n",
       "      <td></td>\n",
       "      <td>2016-09-19 14:17:33</td>\n",
       "      <td>2016</td>\n",
       "      <td>#!/usr/bin/env python\\n\\na = str(raw_input())\\...</td>\n",
       "      <td>ca277</td>\n",
       "      <td>True</td>\n",
       "    </tr>\n",
       "    <tr>\n",
       "      <th>2</th>\n",
       "      <td>2017</td>\n",
       "      <td>goodbye.py</td>\n",
       "      <td>b9e7e608-6036-4d44-8770-a7036176b53c</td>\n",
       "      <td>py</td>\n",
       "      <td></td>\n",
       "      <td>2016-09-19 10:15:59</td>\n",
       "      <td>2016</td>\n",
       "      <td>#!/usr/bin/env python\\n\\nprint \"Goodbye\"\\n</td>\n",
       "      <td>ca277</td>\n",
       "      <td>True</td>\n",
       "    </tr>\n",
       "    <tr>\n",
       "      <th>3</th>\n",
       "      <td>2017</td>\n",
       "      <td>less-than.py</td>\n",
       "      <td>b9e7e608-6036-4d44-8770-a7036176b53c</td>\n",
       "      <td>py</td>\n",
       "      <td></td>\n",
       "      <td>2016-09-19 14:14:22</td>\n",
       "      <td>2016</td>\n",
       "      <td>#!/usr/bin/env python\\n\\na = int(raw_input())\\...</td>\n",
       "      <td>ca277</td>\n",
       "      <td>True</td>\n",
       "    </tr>\n",
       "    <tr>\n",
       "      <th>4</th>\n",
       "      <td>2017</td>\n",
       "      <td>longest-line.py</td>\n",
       "      <td>b9e7e608-6036-4d44-8770-a7036176b53c</td>\n",
       "      <td>py</td>\n",
       "      <td></td>\n",
       "      <td>2016-09-19 14:51:28</td>\n",
       "      <td>2016</td>\n",
       "      <td>#!usr/bin/evn python\\n\\na = raw_input()\\nb = r...</td>\n",
       "      <td>ca277</td>\n",
       "      <td>True</td>\n",
       "    </tr>\n",
       "  </tbody>\n",
       "</table>\n",
       "</div>"
      ],
      "text/plain": [
       "  academic_year_1             task                                  user  \\\n",
       "0            2017           add.py  b9e7e608-6036-4d44-8770-a7036176b53c   \n",
       "1            2017  concat-lines.py  b9e7e608-6036-4d44-8770-a7036176b53c   \n",
       "2            2017       goodbye.py  b9e7e608-6036-4d44-8770-a7036176b53c   \n",
       "3            2017     less-than.py  b9e7e608-6036-4d44-8770-a7036176b53c   \n",
       "4            2017  longest-line.py  b9e7e608-6036-4d44-8770-a7036176b53c   \n",
       "\n",
       "  extension ip                 date academic_year_0  \\\n",
       "0        py     2016-09-19 14:11:41            2016   \n",
       "1        py     2016-09-19 14:17:33            2016   \n",
       "2        py     2016-09-19 10:15:59            2016   \n",
       "3        py     2016-09-19 14:14:22            2016   \n",
       "4        py     2016-09-19 14:51:28            2016   \n",
       "\n",
       "                                              upload module  correct  \n",
       "0  #!/usr/bin/env python\\n\\na = int(raw_input())\\...  ca277     True  \n",
       "1  #!/usr/bin/env python\\n\\na = str(raw_input())\\...  ca277     True  \n",
       "2         #!/usr/bin/env python\\n\\nprint \"Goodbye\"\\n  ca277     True  \n",
       "3  #!/usr/bin/env python\\n\\na = int(raw_input())\\...  ca277     True  \n",
       "4  #!usr/bin/evn python\\n\\na = raw_input()\\nb = r...  ca277     True  "
      ]
     },
     "execution_count": 145,
     "metadata": {},
     "output_type": "execute_result"
    }
   ],
   "source": [
    "df_code.head()"
   ]
  },
  {
   "cell_type": "code",
   "execution_count": 146,
   "metadata": {},
   "outputs": [
    {
     "data": {
      "text/plain": [
       "(591707, 10)"
      ]
     },
     "execution_count": 146,
     "metadata": {},
     "output_type": "execute_result"
    }
   ],
   "source": [
    "df_code.shape"
   ]
  },
  {
   "cell_type": "code",
   "execution_count": 147,
   "metadata": {},
   "outputs": [
    {
     "data": {
      "text/plain": [
       "(2774, 6)"
      ]
     },
     "execution_count": 147,
     "metadata": {},
     "output_type": "execute_result"
    }
   ],
   "source": [
    "df_grades.shape"
   ]
  },
  {
   "cell_type": "code",
   "execution_count": 148,
   "metadata": {},
   "outputs": [],
   "source": [
    "import matplotlib.pyplot as plt"
   ]
  },
  {
   "cell_type": "code",
   "execution_count": 149,
   "metadata": {},
   "outputs": [
    {
     "data": {
      "text/html": [
       "<div>\n",
       "<style scoped>\n",
       "    .dataframe tbody tr th:only-of-type {\n",
       "        vertical-align: middle;\n",
       "    }\n",
       "\n",
       "    .dataframe tbody tr th {\n",
       "        vertical-align: top;\n",
       "    }\n",
       "\n",
       "    .dataframe thead th {\n",
       "        text-align: right;\n",
       "    }\n",
       "</style>\n",
       "<table border=\"1\" class=\"dataframe\">\n",
       "  <thead>\n",
       "    <tr style=\"text-align: right;\">\n",
       "      <th></th>\n",
       "      <th>exam_week</th>\n",
       "      <th>academic_year_1</th>\n",
       "      <th>academic_year_0</th>\n",
       "      <th>grade</th>\n",
       "    </tr>\n",
       "  </thead>\n",
       "  <tbody>\n",
       "    <tr>\n",
       "      <th>count</th>\n",
       "      <td>2774.000000</td>\n",
       "      <td>2774.000000</td>\n",
       "      <td>2774.000000</td>\n",
       "      <td>2774.000000</td>\n",
       "    </tr>\n",
       "    <tr>\n",
       "      <th>mean</th>\n",
       "      <td>8.653929</td>\n",
       "      <td>2017.149964</td>\n",
       "      <td>2016.149964</td>\n",
       "      <td>53.357246</td>\n",
       "    </tr>\n",
       "    <tr>\n",
       "      <th>std</th>\n",
       "      <td>3.066152</td>\n",
       "      <td>0.795229</td>\n",
       "      <td>0.795229</td>\n",
       "      <td>34.057497</td>\n",
       "    </tr>\n",
       "    <tr>\n",
       "      <th>min</th>\n",
       "      <td>4.000000</td>\n",
       "      <td>2016.000000</td>\n",
       "      <td>2015.000000</td>\n",
       "      <td>0.000000</td>\n",
       "    </tr>\n",
       "    <tr>\n",
       "      <th>25%</th>\n",
       "      <td>6.000000</td>\n",
       "      <td>2016.000000</td>\n",
       "      <td>2015.000000</td>\n",
       "      <td>25.000000</td>\n",
       "    </tr>\n",
       "    <tr>\n",
       "      <th>50%</th>\n",
       "      <td>8.000000</td>\n",
       "      <td>2017.000000</td>\n",
       "      <td>2016.000000</td>\n",
       "      <td>50.000000</td>\n",
       "    </tr>\n",
       "    <tr>\n",
       "      <th>75%</th>\n",
       "      <td>12.000000</td>\n",
       "      <td>2018.000000</td>\n",
       "      <td>2017.000000</td>\n",
       "      <td>80.000000</td>\n",
       "    </tr>\n",
       "    <tr>\n",
       "      <th>max</th>\n",
       "      <td>12.000000</td>\n",
       "      <td>2018.000000</td>\n",
       "      <td>2017.000000</td>\n",
       "      <td>100.000000</td>\n",
       "    </tr>\n",
       "  </tbody>\n",
       "</table>\n",
       "</div>"
      ],
      "text/plain": [
       "         exam_week  academic_year_1  academic_year_0        grade\n",
       "count  2774.000000      2774.000000      2774.000000  2774.000000\n",
       "mean      8.653929      2017.149964      2016.149964    53.357246\n",
       "std       3.066152         0.795229         0.795229    34.057497\n",
       "min       4.000000      2016.000000      2015.000000     0.000000\n",
       "25%       6.000000      2016.000000      2015.000000    25.000000\n",
       "50%       8.000000      2017.000000      2016.000000    50.000000\n",
       "75%      12.000000      2018.000000      2017.000000    80.000000\n",
       "max      12.000000      2018.000000      2017.000000   100.000000"
      ]
     },
     "execution_count": 149,
     "metadata": {},
     "output_type": "execute_result"
    }
   ],
   "source": [
    "df_grades.describe()"
   ]
  },
  {
   "cell_type": "code",
   "execution_count": 150,
   "metadata": {},
   "outputs": [
    {
     "name": "stdout",
     "output_type": "stream",
     "text": [
      "<class 'pandas.core.frame.DataFrame'>\n",
      "RangeIndex: 591707 entries, 0 to 591706\n",
      "Data columns (total 10 columns):\n",
      " #   Column           Non-Null Count   Dtype \n",
      "---  ------           --------------   ----- \n",
      " 0   academic_year_1  591707 non-null  object\n",
      " 1   task             591707 non-null  object\n",
      " 2   user             591707 non-null  object\n",
      " 3   extension        591707 non-null  object\n",
      " 4   ip               591707 non-null  object\n",
      " 5   date             591707 non-null  object\n",
      " 6   academic_year_0  591707 non-null  object\n",
      " 7   upload           591707 non-null  object\n",
      " 8   module           591707 non-null  object\n",
      " 9   correct          591707 non-null  bool  \n",
      "dtypes: bool(1), object(9)\n",
      "memory usage: 41.2+ MB\n"
     ]
    }
   ],
   "source": [
    "df_code.info()"
   ]
  },
  {
   "cell_type": "code",
   "execution_count": 151,
   "metadata": {},
   "outputs": [
    {
     "data": {
      "text/plain": [
       "py    490829\n",
       "sh     85381\n",
       "hs     15381\n",
       "pl       103\n",
       "          13\n",
       "Name: extension, dtype: int64"
      ]
     },
     "execution_count": 151,
     "metadata": {},
     "output_type": "execute_result"
    }
   ],
   "source": [
    "df_code[\"extension\"].value_counts()"
   ]
  },
  {
   "cell_type": "code",
   "execution_count": 152,
   "metadata": {},
   "outputs": [
    {
     "data": {
      "text/plain": [
       "academic_year_1    13\n",
       "task               13\n",
       "user               13\n",
       "extension          13\n",
       "ip                 13\n",
       "date               13\n",
       "academic_year_0    13\n",
       "upload             13\n",
       "module             13\n",
       "correct            13\n",
       "dtype: int64"
      ]
     },
     "execution_count": 152,
     "metadata": {},
     "output_type": "execute_result"
    }
   ],
   "source": [
    "df_code[df_code['extension']==\"\"].count()"
   ]
  },
  {
   "cell_type": "code",
   "execution_count": 153,
   "metadata": {},
   "outputs": [
    {
     "data": {
      "text/plain": [
       "academic_year_1    953\n",
       "task               953\n",
       "user               953\n",
       "extension          953\n",
       "ip                 953\n",
       "date               953\n",
       "academic_year_0    953\n",
       "upload             953\n",
       "module             953\n",
       "correct            953\n",
       "dtype: int64"
      ]
     },
     "execution_count": 153,
     "metadata": {},
     "output_type": "execute_result"
    }
   ],
   "source": [
    "df_code[df_code['upload']==\"\"].count()"
   ]
  },
  {
   "cell_type": "code",
   "execution_count": 154,
   "metadata": {},
   "outputs": [
    {
     "data": {
      "text/plain": [
       "academic_year_1    0\n",
       "task               0\n",
       "user               0\n",
       "extension          0\n",
       "ip                 0\n",
       "date               0\n",
       "academic_year_0    0\n",
       "upload             0\n",
       "module             0\n",
       "correct            0\n",
       "dtype: int64"
      ]
     },
     "execution_count": 154,
     "metadata": {},
     "output_type": "execute_result"
    }
   ],
   "source": [
    "df_code[df_code['correct']==\"\"].count()"
   ]
  },
  {
   "attachments": {},
   "cell_type": "markdown",
   "metadata": {},
   "source": [
    "Drop non-python submissions and blank submissions"
   ]
  },
  {
   "cell_type": "code",
   "execution_count": 155,
   "metadata": {},
   "outputs": [],
   "source": [
    "df_code_py = df_code[(df_code[\"extension\"] == \"py\") & (df_code['upload']!=\"\")]"
   ]
  },
  {
   "cell_type": "code",
   "execution_count": 156,
   "metadata": {},
   "outputs": [
    {
     "name": "stderr",
     "output_type": "stream",
     "text": [
      "C:\\Users\\felix\\AppData\\Local\\Temp\\ipykernel_2024\\3702918823.py:1: SettingWithCopyWarning: \n",
      "A value is trying to be set on a copy of a slice from a DataFrame\n",
      "\n",
      "See the caveats in the documentation: https://pandas.pydata.org/pandas-docs/stable/user_guide/indexing.html#returning-a-view-versus-a-copy\n",
      "  df_code_py.drop(columns=[\"extension\", \"ip\"], inplace=True)\n"
     ]
    }
   ],
   "source": [
    "df_code_py.drop(columns=[\"extension\", \"ip\"], inplace=True)"
   ]
  },
  {
   "cell_type": "code",
   "execution_count": 157,
   "metadata": {},
   "outputs": [
    {
     "data": {
      "text/html": [
       "<div>\n",
       "<style scoped>\n",
       "    .dataframe tbody tr th:only-of-type {\n",
       "        vertical-align: middle;\n",
       "    }\n",
       "\n",
       "    .dataframe tbody tr th {\n",
       "        vertical-align: top;\n",
       "    }\n",
       "\n",
       "    .dataframe thead th {\n",
       "        text-align: right;\n",
       "    }\n",
       "</style>\n",
       "<table border=\"1\" class=\"dataframe\">\n",
       "  <thead>\n",
       "    <tr style=\"text-align: right;\">\n",
       "      <th></th>\n",
       "      <th>academic_year_1</th>\n",
       "      <th>task</th>\n",
       "      <th>user</th>\n",
       "      <th>date</th>\n",
       "      <th>academic_year_0</th>\n",
       "      <th>upload</th>\n",
       "      <th>module</th>\n",
       "      <th>correct</th>\n",
       "    </tr>\n",
       "  </thead>\n",
       "  <tbody>\n",
       "    <tr>\n",
       "      <th>0</th>\n",
       "      <td>2017</td>\n",
       "      <td>add.py</td>\n",
       "      <td>b9e7e608-6036-4d44-8770-a7036176b53c</td>\n",
       "      <td>2016-09-19 14:11:41</td>\n",
       "      <td>2016</td>\n",
       "      <td>#!/usr/bin/env python\\n\\na = int(raw_input())\\...</td>\n",
       "      <td>ca277</td>\n",
       "      <td>True</td>\n",
       "    </tr>\n",
       "    <tr>\n",
       "      <th>1</th>\n",
       "      <td>2017</td>\n",
       "      <td>concat-lines.py</td>\n",
       "      <td>b9e7e608-6036-4d44-8770-a7036176b53c</td>\n",
       "      <td>2016-09-19 14:17:33</td>\n",
       "      <td>2016</td>\n",
       "      <td>#!/usr/bin/env python\\n\\na = str(raw_input())\\...</td>\n",
       "      <td>ca277</td>\n",
       "      <td>True</td>\n",
       "    </tr>\n",
       "    <tr>\n",
       "      <th>2</th>\n",
       "      <td>2017</td>\n",
       "      <td>goodbye.py</td>\n",
       "      <td>b9e7e608-6036-4d44-8770-a7036176b53c</td>\n",
       "      <td>2016-09-19 10:15:59</td>\n",
       "      <td>2016</td>\n",
       "      <td>#!/usr/bin/env python\\n\\nprint \"Goodbye\"\\n</td>\n",
       "      <td>ca277</td>\n",
       "      <td>True</td>\n",
       "    </tr>\n",
       "    <tr>\n",
       "      <th>3</th>\n",
       "      <td>2017</td>\n",
       "      <td>less-than.py</td>\n",
       "      <td>b9e7e608-6036-4d44-8770-a7036176b53c</td>\n",
       "      <td>2016-09-19 14:14:22</td>\n",
       "      <td>2016</td>\n",
       "      <td>#!/usr/bin/env python\\n\\na = int(raw_input())\\...</td>\n",
       "      <td>ca277</td>\n",
       "      <td>True</td>\n",
       "    </tr>\n",
       "    <tr>\n",
       "      <th>4</th>\n",
       "      <td>2017</td>\n",
       "      <td>longest-line.py</td>\n",
       "      <td>b9e7e608-6036-4d44-8770-a7036176b53c</td>\n",
       "      <td>2016-09-19 14:51:28</td>\n",
       "      <td>2016</td>\n",
       "      <td>#!usr/bin/evn python\\n\\na = raw_input()\\nb = r...</td>\n",
       "      <td>ca277</td>\n",
       "      <td>True</td>\n",
       "    </tr>\n",
       "    <tr>\n",
       "      <th>...</th>\n",
       "      <td>...</td>\n",
       "      <td>...</td>\n",
       "      <td>...</td>\n",
       "      <td>...</td>\n",
       "      <td>...</td>\n",
       "      <td>...</td>\n",
       "      <td>...</td>\n",
       "      <td>...</td>\n",
       "    </tr>\n",
       "    <tr>\n",
       "      <th>591702</th>\n",
       "      <td>2018</td>\n",
       "      <td>ex3-histogram.py</td>\n",
       "      <td>df8dd1dd-a7c8-46c0-b89f-ec170a81f08a</td>\n",
       "      <td>2018-08-22 12:55:26</td>\n",
       "      <td>2017</td>\n",
       "      <td>#!/usr/bin/env python\\n\\nch = raw_input()\\n\\ns...</td>\n",
       "      <td>ca177</td>\n",
       "      <td>False</td>\n",
       "    </tr>\n",
       "    <tr>\n",
       "      <th>591703</th>\n",
       "      <td>2018</td>\n",
       "      <td>ex3-histogram.py</td>\n",
       "      <td>df8dd1dd-a7c8-46c0-b89f-ec170a81f08a</td>\n",
       "      <td>2018-08-22 12:55:45</td>\n",
       "      <td>2017</td>\n",
       "      <td>#!/usr/bin/env python\\n\\nch = raw_input()\\n\\ns...</td>\n",
       "      <td>ca177</td>\n",
       "      <td>True</td>\n",
       "    </tr>\n",
       "    <tr>\n",
       "      <th>591704</th>\n",
       "      <td>2018</td>\n",
       "      <td>ex3-histogram.py</td>\n",
       "      <td>df8dd1dd-a7c8-46c0-b89f-ec170a81f08a</td>\n",
       "      <td>2018-08-22 12:56:12</td>\n",
       "      <td>2017</td>\n",
       "      <td>#!/usr/bin/env python\\n\\nch = raw_input()\\n\\ns...</td>\n",
       "      <td>ca177</td>\n",
       "      <td>True</td>\n",
       "    </tr>\n",
       "    <tr>\n",
       "      <th>591705</th>\n",
       "      <td>2018</td>\n",
       "      <td>ex3-histogram.py</td>\n",
       "      <td>df8dd1dd-a7c8-46c0-b89f-ec170a81f08a</td>\n",
       "      <td>2018-08-22 12:56:12</td>\n",
       "      <td>2017</td>\n",
       "      <td>#!/usr/bin/env python\\n\\nch = raw_input()\\n\\ns...</td>\n",
       "      <td>ca177</td>\n",
       "      <td>True</td>\n",
       "    </tr>\n",
       "    <tr>\n",
       "      <th>591706</th>\n",
       "      <td>2018</td>\n",
       "      <td>ex3-histogram.py</td>\n",
       "      <td>df8dd1dd-a7c8-46c0-b89f-ec170a81f08a</td>\n",
       "      <td>2018-08-22 12:56:12</td>\n",
       "      <td>2017</td>\n",
       "      <td>#!/usr/bin/env python\\n\\nch = raw_input()\\n\\ns...</td>\n",
       "      <td>ca177</td>\n",
       "      <td>True</td>\n",
       "    </tr>\n",
       "  </tbody>\n",
       "</table>\n",
       "<p>489995 rows × 8 columns</p>\n",
       "</div>"
      ],
      "text/plain": [
       "       academic_year_1              task  \\\n",
       "0                 2017            add.py   \n",
       "1                 2017   concat-lines.py   \n",
       "2                 2017        goodbye.py   \n",
       "3                 2017      less-than.py   \n",
       "4                 2017   longest-line.py   \n",
       "...                ...               ...   \n",
       "591702            2018  ex3-histogram.py   \n",
       "591703            2018  ex3-histogram.py   \n",
       "591704            2018  ex3-histogram.py   \n",
       "591705            2018  ex3-histogram.py   \n",
       "591706            2018  ex3-histogram.py   \n",
       "\n",
       "                                        user                 date  \\\n",
       "0       b9e7e608-6036-4d44-8770-a7036176b53c  2016-09-19 14:11:41   \n",
       "1       b9e7e608-6036-4d44-8770-a7036176b53c  2016-09-19 14:17:33   \n",
       "2       b9e7e608-6036-4d44-8770-a7036176b53c  2016-09-19 10:15:59   \n",
       "3       b9e7e608-6036-4d44-8770-a7036176b53c  2016-09-19 14:14:22   \n",
       "4       b9e7e608-6036-4d44-8770-a7036176b53c  2016-09-19 14:51:28   \n",
       "...                                      ...                  ...   \n",
       "591702  df8dd1dd-a7c8-46c0-b89f-ec170a81f08a  2018-08-22 12:55:26   \n",
       "591703  df8dd1dd-a7c8-46c0-b89f-ec170a81f08a  2018-08-22 12:55:45   \n",
       "591704  df8dd1dd-a7c8-46c0-b89f-ec170a81f08a  2018-08-22 12:56:12   \n",
       "591705  df8dd1dd-a7c8-46c0-b89f-ec170a81f08a  2018-08-22 12:56:12   \n",
       "591706  df8dd1dd-a7c8-46c0-b89f-ec170a81f08a  2018-08-22 12:56:12   \n",
       "\n",
       "       academic_year_0                                             upload  \\\n",
       "0                 2016  #!/usr/bin/env python\\n\\na = int(raw_input())\\...   \n",
       "1                 2016  #!/usr/bin/env python\\n\\na = str(raw_input())\\...   \n",
       "2                 2016         #!/usr/bin/env python\\n\\nprint \"Goodbye\"\\n   \n",
       "3                 2016  #!/usr/bin/env python\\n\\na = int(raw_input())\\...   \n",
       "4                 2016  #!usr/bin/evn python\\n\\na = raw_input()\\nb = r...   \n",
       "...                ...                                                ...   \n",
       "591702            2017  #!/usr/bin/env python\\n\\nch = raw_input()\\n\\ns...   \n",
       "591703            2017  #!/usr/bin/env python\\n\\nch = raw_input()\\n\\ns...   \n",
       "591704            2017  #!/usr/bin/env python\\n\\nch = raw_input()\\n\\ns...   \n",
       "591705            2017  #!/usr/bin/env python\\n\\nch = raw_input()\\n\\ns...   \n",
       "591706            2017  #!/usr/bin/env python\\n\\nch = raw_input()\\n\\ns...   \n",
       "\n",
       "       module  correct  \n",
       "0       ca277     True  \n",
       "1       ca277     True  \n",
       "2       ca277     True  \n",
       "3       ca277     True  \n",
       "4       ca277     True  \n",
       "...       ...      ...  \n",
       "591702  ca177    False  \n",
       "591703  ca177     True  \n",
       "591704  ca177     True  \n",
       "591705  ca177     True  \n",
       "591706  ca177     True  \n",
       "\n",
       "[489995 rows x 8 columns]"
      ]
     },
     "execution_count": 157,
     "metadata": {},
     "output_type": "execute_result"
    }
   ],
   "source": [
    "df_code_py"
   ]
  },
  {
   "cell_type": "code",
   "execution_count": 158,
   "metadata": {},
   "outputs": [
    {
     "data": {
      "text/plain": [
       "2017    1116\n",
       "2016     958\n",
       "2015     700\n",
       "Name: academic_year_0, dtype: int64"
      ]
     },
     "execution_count": 158,
     "metadata": {},
     "output_type": "execute_result"
    }
   ],
   "source": [
    "df_grades[\"academic_year_0\"].value_counts()"
   ]
  },
  {
   "cell_type": "code",
   "execution_count": 159,
   "metadata": {},
   "outputs": [
    {
     "data": {
      "text/plain": [
       "2017    261248\n",
       "2016    217328\n",
       "2015     11410\n",
       "2018         9\n",
       "Name: academic_year_0, dtype: int64"
      ]
     },
     "execution_count": 159,
     "metadata": {},
     "output_type": "execute_result"
    }
   ],
   "source": [
    "df_code_py[\"academic_year_0\"].value_counts()"
   ]
  },
  {
   "cell_type": "code",
   "execution_count": 160,
   "metadata": {},
   "outputs": [
    {
     "data": {
      "text/plain": [
       "ca117    167672\n",
       "ca116    143614\n",
       "ca177     81077\n",
       "ca277     59895\n",
       "ca278     37481\n",
       "ca000       145\n",
       "ca114       106\n",
       "ca247         3\n",
       "ca320         2\n",
       "Name: module, dtype: int64"
      ]
     },
     "execution_count": 160,
     "metadata": {},
     "output_type": "execute_result"
    }
   ],
   "source": [
    "df_code_py[\"module\"].value_counts()"
   ]
  },
  {
   "cell_type": "code",
   "execution_count": 161,
   "metadata": {},
   "outputs": [
    {
     "data": {
      "text/plain": [
       "ca116    1036\n",
       "ca117     874\n",
       "ca114     411\n",
       "ca277     259\n",
       "ca278     194\n",
       "Name: module, dtype: int64"
      ]
     },
     "execution_count": 161,
     "metadata": {},
     "output_type": "execute_result"
    }
   ],
   "source": [
    "df_grades[\"module\"].value_counts()"
   ]
  },
  {
   "cell_type": "code",
   "execution_count": 162,
   "metadata": {},
   "outputs": [
    {
     "name": "stdout",
     "output_type": "stream",
     "text": [
      "<class 'pandas.core.frame.DataFrame'>\n",
      "RangeIndex: 2774 entries, 0 to 2773\n",
      "Data columns (total 6 columns):\n",
      " #   Column           Non-Null Count  Dtype \n",
      "---  ------           --------------  ----- \n",
      " 0   exam_week        2774 non-null   int64 \n",
      " 1   academic_year_1  2774 non-null   int64 \n",
      " 2   academic_year_0  2774 non-null   int64 \n",
      " 3   module           2774 non-null   object\n",
      " 4   grade            2774 non-null   int64 \n",
      " 5   user             2774 non-null   object\n",
      "dtypes: int64(4), object(2)\n",
      "memory usage: 130.2+ KB\n"
     ]
    }
   ],
   "source": [
    "df_grades.info()"
   ]
  },
  {
   "cell_type": "code",
   "execution_count": 163,
   "metadata": {},
   "outputs": [
    {
     "data": {
      "text/html": [
       "<div>\n",
       "<style scoped>\n",
       "    .dataframe tbody tr th:only-of-type {\n",
       "        vertical-align: middle;\n",
       "    }\n",
       "\n",
       "    .dataframe tbody tr th {\n",
       "        vertical-align: top;\n",
       "    }\n",
       "\n",
       "    .dataframe thead th {\n",
       "        text-align: right;\n",
       "    }\n",
       "</style>\n",
       "<table border=\"1\" class=\"dataframe\">\n",
       "  <thead>\n",
       "    <tr style=\"text-align: right;\">\n",
       "      <th></th>\n",
       "      <th>academic_year_1</th>\n",
       "      <th>task</th>\n",
       "      <th>user</th>\n",
       "      <th>date</th>\n",
       "      <th>academic_year_0</th>\n",
       "      <th>upload</th>\n",
       "      <th>module</th>\n",
       "      <th>correct</th>\n",
       "    </tr>\n",
       "  </thead>\n",
       "  <tbody>\n",
       "    <tr>\n",
       "      <th>count</th>\n",
       "      <td>489995</td>\n",
       "      <td>489995</td>\n",
       "      <td>489995</td>\n",
       "      <td>489995</td>\n",
       "      <td>489995</td>\n",
       "      <td>489995</td>\n",
       "      <td>489995</td>\n",
       "      <td>489995</td>\n",
       "    </tr>\n",
       "    <tr>\n",
       "      <th>unique</th>\n",
       "      <td>4</td>\n",
       "      <td>909</td>\n",
       "      <td>533</td>\n",
       "      <td>340788</td>\n",
       "      <td>4</td>\n",
       "      <td>331677</td>\n",
       "      <td>9</td>\n",
       "      <td>2</td>\n",
       "    </tr>\n",
       "    <tr>\n",
       "      <th>top</th>\n",
       "      <td>2018</td>\n",
       "      <td>stableford_122.py</td>\n",
       "      <td>4a1f2726-b713-40f0-b544-9de55d617a12</td>\n",
       "      <td>2016-10-12 21:44:54</td>\n",
       "      <td>2017</td>\n",
       "      <td>print \"hello\"\\n</td>\n",
       "      <td>ca117</td>\n",
       "      <td>False</td>\n",
       "    </tr>\n",
       "    <tr>\n",
       "      <th>freq</th>\n",
       "      <td>261248</td>\n",
       "      <td>3719</td>\n",
       "      <td>7500</td>\n",
       "      <td>19</td>\n",
       "      <td>261248</td>\n",
       "      <td>363</td>\n",
       "      <td>167672</td>\n",
       "      <td>295517</td>\n",
       "    </tr>\n",
       "  </tbody>\n",
       "</table>\n",
       "</div>"
      ],
      "text/plain": [
       "        academic_year_1               task  \\\n",
       "count            489995             489995   \n",
       "unique                4                909   \n",
       "top                2018  stableford_122.py   \n",
       "freq             261248               3719   \n",
       "\n",
       "                                        user                 date  \\\n",
       "count                                 489995               489995   \n",
       "unique                                   533               340788   \n",
       "top     4a1f2726-b713-40f0-b544-9de55d617a12  2016-10-12 21:44:54   \n",
       "freq                                    7500                   19   \n",
       "\n",
       "        academic_year_0           upload  module correct  \n",
       "count            489995           489995  489995  489995  \n",
       "unique                4           331677       9       2  \n",
       "top                2017  print \"hello\"\\n   ca117   False  \n",
       "freq             261248              363  167672  295517  "
      ]
     },
     "execution_count": 163,
     "metadata": {},
     "output_type": "execute_result"
    }
   ],
   "source": [
    "df_code_py.describe()"
   ]
  },
  {
   "cell_type": "code",
   "execution_count": 164,
   "metadata": {},
   "outputs": [
    {
     "name": "stdout",
     "output_type": "stream",
     "text": [
      "<class 'pandas.core.frame.DataFrame'>\n",
      "Int64Index: 489995 entries, 0 to 591706\n",
      "Data columns (total 8 columns):\n",
      " #   Column           Non-Null Count   Dtype \n",
      "---  ------           --------------   ----- \n",
      " 0   academic_year_1  489995 non-null  object\n",
      " 1   task             489995 non-null  object\n",
      " 2   user             489995 non-null  object\n",
      " 3   date             489995 non-null  object\n",
      " 4   academic_year_0  489995 non-null  object\n",
      " 5   upload           489995 non-null  object\n",
      " 6   module           489995 non-null  object\n",
      " 7   correct          489995 non-null  bool  \n",
      "dtypes: bool(1), object(7)\n",
      "memory usage: 30.4+ MB\n"
     ]
    }
   ],
   "source": [
    "df_code_py.info()"
   ]
  },
  {
   "cell_type": "code",
   "execution_count": 165,
   "metadata": {},
   "outputs": [
    {
     "data": {
      "text/plain": [
       "[Text(0, 0, '353'),\n",
       " Text(0, 0, '154'),\n",
       " Text(0, 0, '322'),\n",
       " Text(0, 0, '127'),\n",
       " Text(0, 0, '228'),\n",
       " Text(0, 0, '336'),\n",
       " Text(0, 0, '151'),\n",
       " Text(0, 0, '353'),\n",
       " Text(0, 0, '125'),\n",
       " Text(0, 0, '625')]"
      ]
     },
     "execution_count": 165,
     "metadata": {},
     "output_type": "execute_result"
    },
    {
     "data": {
      "image/png": "[encoded data removed]",
      "text/plain": [
       "<Figure size 640x480 with 1 Axes>"
      ]
     },
     "metadata": {},
     "output_type": "display_data"
    }
   ],
   "source": [
    "val, bin, bar = plt.hist(df_grades[\"grade\"], label=\"Inline label\", ec=\"white\")\n",
    "plt.xlabel(\"Grade\")\n",
    "plt.ylabel(\"Count\")\n",
    "plt.title(\"Grade Histogram - All Courses\")\n",
    "plt.bar_label(bar, fontsize=10, c=\"black\")"
   ]
  },
  {
   "cell_type": "code",
   "execution_count": 166,
   "metadata": {},
   "outputs": [
    {
     "data": {
      "text/html": [
       "<div>\n",
       "<style scoped>\n",
       "    .dataframe tbody tr th:only-of-type {\n",
       "        vertical-align: middle;\n",
       "    }\n",
       "\n",
       "    .dataframe tbody tr th {\n",
       "        vertical-align: top;\n",
       "    }\n",
       "\n",
       "    .dataframe thead th {\n",
       "        text-align: right;\n",
       "    }\n",
       "</style>\n",
       "<table border=\"1\" class=\"dataframe\">\n",
       "  <thead>\n",
       "    <tr style=\"text-align: right;\">\n",
       "      <th></th>\n",
       "      <th>exam_week</th>\n",
       "      <th>academic_year_1</th>\n",
       "      <th>academic_year_0</th>\n",
       "      <th>module</th>\n",
       "      <th>grade</th>\n",
       "      <th>user</th>\n",
       "    </tr>\n",
       "  </thead>\n",
       "  <tbody>\n",
       "    <tr>\n",
       "      <th>0</th>\n",
       "      <td>12</td>\n",
       "      <td>2016</td>\n",
       "      <td>2015</td>\n",
       "      <td>ca114</td>\n",
       "      <td>40</td>\n",
       "      <td>e45f938b-9d5c-4838-86ce-0755e3c97053</td>\n",
       "    </tr>\n",
       "    <tr>\n",
       "      <th>70</th>\n",
       "      <td>6</td>\n",
       "      <td>2016</td>\n",
       "      <td>2015</td>\n",
       "      <td>ca114</td>\n",
       "      <td>20</td>\n",
       "      <td>e45f938b-9d5c-4838-86ce-0755e3c97053</td>\n",
       "    </tr>\n",
       "    <tr>\n",
       "      <th>2321</th>\n",
       "      <td>12</td>\n",
       "      <td>2017</td>\n",
       "      <td>2016</td>\n",
       "      <td>ca277</td>\n",
       "      <td>10</td>\n",
       "      <td>e45f938b-9d5c-4838-86ce-0755e3c97053</td>\n",
       "    </tr>\n",
       "    <tr>\n",
       "      <th>2580</th>\n",
       "      <td>6</td>\n",
       "      <td>2017</td>\n",
       "      <td>2016</td>\n",
       "      <td>ca278</td>\n",
       "      <td>26</td>\n",
       "      <td>e45f938b-9d5c-4838-86ce-0755e3c97053</td>\n",
       "    </tr>\n",
       "    <tr>\n",
       "      <th>2636</th>\n",
       "      <td>12</td>\n",
       "      <td>2017</td>\n",
       "      <td>2016</td>\n",
       "      <td>ca278</td>\n",
       "      <td>67</td>\n",
       "      <td>e45f938b-9d5c-4838-86ce-0755e3c97053</td>\n",
       "    </tr>\n",
       "  </tbody>\n",
       "</table>\n",
       "</div>"
      ],
      "text/plain": [
       "      exam_week  academic_year_1  academic_year_0 module  grade  \\\n",
       "0            12             2016             2015  ca114     40   \n",
       "70            6             2016             2015  ca114     20   \n",
       "2321         12             2017             2016  ca277     10   \n",
       "2580          6             2017             2016  ca278     26   \n",
       "2636         12             2017             2016  ca278     67   \n",
       "\n",
       "                                      user  \n",
       "0     e45f938b-9d5c-4838-86ce-0755e3c97053  \n",
       "70    e45f938b-9d5c-4838-86ce-0755e3c97053  \n",
       "2321  e45f938b-9d5c-4838-86ce-0755e3c97053  \n",
       "2580  e45f938b-9d5c-4838-86ce-0755e3c97053  \n",
       "2636  e45f938b-9d5c-4838-86ce-0755e3c97053  "
      ]
     },
     "execution_count": 166,
     "metadata": {},
     "output_type": "execute_result"
    }
   ],
   "source": [
    "df_grades[df_grades[\"user\"]==\"e45f938b-9d5c-4838-86ce-0755e3c97053\"]"
   ]
  },
  {
   "cell_type": "code",
   "execution_count": 167,
   "metadata": {},
   "outputs": [
    {
     "data": {
      "text/html": [
       "<div>\n",
       "<style scoped>\n",
       "    .dataframe tbody tr th:only-of-type {\n",
       "        vertical-align: middle;\n",
       "    }\n",
       "\n",
       "    .dataframe tbody tr th {\n",
       "        vertical-align: top;\n",
       "    }\n",
       "\n",
       "    .dataframe thead th {\n",
       "        text-align: right;\n",
       "    }\n",
       "</style>\n",
       "<table border=\"1\" class=\"dataframe\">\n",
       "  <thead>\n",
       "    <tr style=\"text-align: right;\">\n",
       "      <th></th>\n",
       "      <th>exam_week</th>\n",
       "      <th>academic_year_1</th>\n",
       "      <th>academic_year_0</th>\n",
       "      <th>module</th>\n",
       "      <th>grade</th>\n",
       "      <th>user</th>\n",
       "    </tr>\n",
       "  </thead>\n",
       "  <tbody>\n",
       "    <tr>\n",
       "      <th>1</th>\n",
       "      <td>12</td>\n",
       "      <td>2016</td>\n",
       "      <td>2015</td>\n",
       "      <td>ca114</td>\n",
       "      <td>60</td>\n",
       "      <td>91b06877-f0e0-4af9-bbd4-b20ffa90e36b</td>\n",
       "    </tr>\n",
       "    <tr>\n",
       "      <th>71</th>\n",
       "      <td>6</td>\n",
       "      <td>2016</td>\n",
       "      <td>2015</td>\n",
       "      <td>ca114</td>\n",
       "      <td>20</td>\n",
       "      <td>91b06877-f0e0-4af9-bbd4-b20ffa90e36b</td>\n",
       "    </tr>\n",
       "  </tbody>\n",
       "</table>\n",
       "</div>"
      ],
      "text/plain": [
       "    exam_week  academic_year_1  academic_year_0 module  grade  \\\n",
       "1          12             2016             2015  ca114     60   \n",
       "71          6             2016             2015  ca114     20   \n",
       "\n",
       "                                    user  \n",
       "1   91b06877-f0e0-4af9-bbd4-b20ffa90e36b  \n",
       "71  91b06877-f0e0-4af9-bbd4-b20ffa90e36b  "
      ]
     },
     "execution_count": 167,
     "metadata": {},
     "output_type": "execute_result"
    }
   ],
   "source": [
    "df_grades[df_grades[\"user\"]==\"91b06877-f0e0-4af9-bbd4-b20ffa90e36b\"]"
   ]
  },
  {
   "cell_type": "code",
   "execution_count": 168,
   "metadata": {},
   "outputs": [
    {
     "data": {
      "text/html": [
       "<div>\n",
       "<style scoped>\n",
       "    .dataframe tbody tr th:only-of-type {\n",
       "        vertical-align: middle;\n",
       "    }\n",
       "\n",
       "    .dataframe tbody tr th {\n",
       "        vertical-align: top;\n",
       "    }\n",
       "\n",
       "    .dataframe thead th {\n",
       "        text-align: right;\n",
       "    }\n",
       "</style>\n",
       "<table border=\"1\" class=\"dataframe\">\n",
       "  <thead>\n",
       "    <tr style=\"text-align: right;\">\n",
       "      <th></th>\n",
       "      <th>exam_week</th>\n",
       "      <th>academic_year_1</th>\n",
       "      <th>academic_year_0</th>\n",
       "      <th>module</th>\n",
       "      <th>grade</th>\n",
       "      <th>user</th>\n",
       "    </tr>\n",
       "  </thead>\n",
       "  <tbody>\n",
       "    <tr>\n",
       "      <th>3</th>\n",
       "      <td>12</td>\n",
       "      <td>2016</td>\n",
       "      <td>2015</td>\n",
       "      <td>ca114</td>\n",
       "      <td>100</td>\n",
       "      <td>78cd7f00-c86a-46a4-ab20-040f317a60ca</td>\n",
       "    </tr>\n",
       "    <tr>\n",
       "      <th>73</th>\n",
       "      <td>6</td>\n",
       "      <td>2016</td>\n",
       "      <td>2015</td>\n",
       "      <td>ca114</td>\n",
       "      <td>0</td>\n",
       "      <td>78cd7f00-c86a-46a4-ab20-040f317a60ca</td>\n",
       "    </tr>\n",
       "  </tbody>\n",
       "</table>\n",
       "</div>"
      ],
      "text/plain": [
       "    exam_week  academic_year_1  academic_year_0 module  grade  \\\n",
       "3          12             2016             2015  ca114    100   \n",
       "73          6             2016             2015  ca114      0   \n",
       "\n",
       "                                    user  \n",
       "3   78cd7f00-c86a-46a4-ab20-040f317a60ca  \n",
       "73  78cd7f00-c86a-46a4-ab20-040f317a60ca  "
      ]
     },
     "execution_count": 168,
     "metadata": {},
     "output_type": "execute_result"
    }
   ],
   "source": [
    "df_grades[df_grades[\"user\"]==\"78cd7f00-c86a-46a4-ab20-040f317a60ca\"]"
   ]
  },
  {
   "cell_type": "code",
   "execution_count": 169,
   "metadata": {},
   "outputs": [
    {
     "data": {
      "text/plain": [
       "'#!/usr/bin/env python\\n\\na = int(raw_input())\\nb = int(raw_input())\\n\\nprint a + b\\n\\n\\n'"
      ]
     },
     "execution_count": 169,
     "metadata": {},
     "output_type": "execute_result"
    }
   ],
   "source": [
    "df_code_py.iloc[0][\"upload\"]"
   ]
  },
  {
   "cell_type": "code",
   "execution_count": 170,
   "metadata": {},
   "outputs": [
    {
     "data": {
      "text/plain": [
       "preamble-test.py      14\n",
       "first-and-last.py     14\n",
       "second-argument.py    12\n",
       "q5_zzz_101.py         11\n",
       "ls.py                 11\n",
       "Name: task, dtype: int64"
      ]
     },
     "execution_count": 170,
     "metadata": {},
     "output_type": "execute_result"
    }
   ],
   "source": [
    "df_code_py[\"task\"].value_counts()[820:825]"
   ]
  },
  {
   "cell_type": "code",
   "execution_count": 171,
   "metadata": {},
   "outputs": [
    {
     "data": {
      "text/plain": [
       "\"import sys\\n\\n# Careful here: return in a finally eats the exception\\ndef calc_points(par, net_strokes):\\n    try:\\n        points = par - int(net_strokes) + 2\\n        return (points > 0) * points\\n    except ValueError:\\n        if net_strokes == 'X':\\n            return 0\\n        raise\\n\\ndef print_results(results, maxwidth):\\n    if not results:\\n        return\\n    sorted_results = sorted(results, key=lambda x:x[-1], reverse=True)\\n    for (n, p) in sorted_results:\\n        print('{:>{:d}s} : {:2d}'.format(n, maxwidth, p))\\n\\ndef print_disqualified(disqualified, maxwidth):\\n    for (n, p) in disqualified:\\n        print('{:>{:d}s} : Disqualified'.format(n, maxwidth))\\n\\ndef main():\\n\\n    # List of results\\n    results = []\\n    disqualified = []\\n\\n    # Grab pars and indices\\n    pars = [int(x) for x in sys.stdin.readline().strip().split()]\\n    indices = [int(x) for x in sys.stdin.readline().strip().split()]\\n\\n    # Go through remaining lines    \\n    for line in sys.stdin:\\n        tokens = line.split()\\n        scores = tokens[-18:]\\n        hcap = int(tokens[-19])\\n        name = ' '.join(tokens[:-19])\\n        # print('{} : {}'.format(name, hcap))\\n\\n        # Increment par on each hole where strokes received\\n        hpars = pars[:]\\n        for i in range(1, hcap+1):\\n            # Handling mod 18\\n            idx = i % 18\\n            if not idx:\\n                idx = 18\\n            hpars[indices.index(idx)] += 1\\n\\n        # print(pars)\\n        # print(hpars)\\n        # print([calc_points(p, s) for (p, s) in zip(hpars, scores)])\\n\\n        try:\\n            points = sum([calc_points(p, s) for (p, s) in zip(hpars, scores)])\\n        except ValueError:\\n            disqualified.append((name, 0))\\n        else:\\n            results.append((name, points))\\n\\n    # Present results\\n    maxwidth = len(max(results+disqualified, key=lambda x:len(x[0]))[0])\\n    print_results(results, maxwidth)\\n    print_disqualified(disqualified, maxwidth)         \\n\\nif __name__ == '__main__':\\n    main()\\n\""
      ]
     },
     "execution_count": 171,
     "metadata": {},
     "output_type": "execute_result"
    }
   ],
   "source": [
    "df_code_py[df_code_py[\"task\"]==\"stableford_122.py\"].iloc[0][\"upload\"]"
   ]
  },
  {
   "cell_type": "code",
   "execution_count": 172,
   "metadata": {},
   "outputs": [
    {
     "data": {
      "text/plain": [
       "'import sys\\n\\nd = {}\\n\\ndef longest_name(d):\\n  longest = [n for n in d.keys()]\\n  biggest = max(longest, key=len)\\n  return len(biggest)\\n\\ndef point_calc(s):\\n  if s <= -4:\\n      return 6\\n  elif s == -3:\\n      return 5\\n  elif s == -2:\\n      return 4\\n  elif s == -1:\\n      return 3\\n  elif s == 0:\\n      return 2\\n  elif s == 1:\\n      return 1\\n  else:\\n      return 0\\n\\ndef score_calc(par, index, name, handicap, stroke):\\n  h = int(handicap)\\n  l = h + 1\\n  n = list(range(1, 101))\\n  total = 0\\n  i = 0\\n  while i < len(stroke):\\n    try:\\n      num = int(stroke[i])\\n      if num not in n:\\n        total = \\'Disqualified\\'\\n     \\n      if h >= 1 and h <=18 and int(index[i]) in range(1, l):\\n        net_stroke = num - 1\\n        score_to_par = net_stroke - par[i]\\n        p = point_calc(score_to_par)\\n        total += p\\n\\n      elif h >= 19 and h <= 36:\\n        c = h - 18\\n        if int(index[i]) in range(1, c + 1):\\n          net_stroke = num - 2\\n          score_to_par = net_stroke - par[i]\\n          p = point_calc(score_to_par)\\n          total += p\\n\\n        else:\\n          net_stroke = num - 1\\n          score_to_par = net_stroke - par[i]\\n          p = point_calc(score_to_par)\\n          total += p\\n\\n      elif h >= 37 and h <= 54:\\n        c = h - 36\\n        if int(index[i]) in range(1, c + 1):\\n          net_stroke = num - 3\\n          score_to_par = net_stroke - par[i]\\n          p = point_calc(score_to_par)\\n          total += p\\n\\n        else:\\n          net_stroke = num - 2\\n          score_to_par = net_stroke - par[i]\\n          p = point_calc(score_to_par)\\n          total += p\\n        \\n      else:\\n        score_to_par = num - par[i]\\n        p = point_calc(score_to_par)\\n        total += p\\n\\n    except ValueError:\\n      pass\\n\\n    i += 1\\n\\n    d[name] = total\\n\\ndef sortfunc(t):\\n  return t[1]\\n\\ndef main():\\n  par = []\\n  index = []\\n  for i, line in enumerate(sys.stdin):\\n    l = line.strip(\"\\\\n\")\\n    details = l.split(\" \")\\n    if i == 0:\\n      par = [int(n) for n in details if i == 0]\\n\\n    elif i == 1:\\n      index = [int(n) for n in details]\\n\\n    else:\\n      stroke = details[-18:]\\n      handicap = details[-19]\\n      name = \" \".join(details[:-19])\\n      score_calc(par, index, name, handicap, stroke)\\n\\n\\n  length = longest_name(d)\\n\\n  for (k, v) in sorted(d.items(), key=sortfunc, reverse=True):\\n    print (\"{:>{}s} : {:>2d}\".format(k, length, v))\\n\\nif __name__ == \"__main__\":\\n  main()\\n'"
      ]
     },
     "execution_count": 172,
     "metadata": {},
     "output_type": "execute_result"
    }
   ],
   "source": [
    "df_code_py[df_code_py[\"task\"]==\"stableford_122.py\"].iloc[100][\"upload\"]"
   ]
  },
  {
   "cell_type": "code",
   "execution_count": 173,
   "metadata": {},
   "outputs": [],
   "source": [
    "import tokenize"
   ]
  },
  {
   "cell_type": "code",
   "execution_count": 174,
   "metadata": {},
   "outputs": [],
   "source": [
    "import io"
   ]
  },
  {
   "cell_type": "code",
   "execution_count": 175,
   "metadata": {},
   "outputs": [],
   "source": [
    "df_code_py = df_code_py.drop_duplicates(subset=[\"task\", \"user\", \"date\"])"
   ]
  },
  {
   "cell_type": "code",
   "execution_count": 176,
   "metadata": {},
   "outputs": [],
   "source": [
    "tokens = []\n",
    "token_count = []\n",
    "line_count = []\n",
    "token_code_only = []\n",
    "\n",
    "for index, row in df_code_py.iterrows():\n",
    "    temp_tokens = None\n",
    "    t_dict = []\n",
    "    t_code_only = []\n",
    "    temp_lines = 0\n",
    "    temp_token_count = 0\n",
    "    empty_lines = 0\n",
    "    with io.StringIO(row[\"upload\"]) as f:\n",
    "        line = f.readline\n",
    "        temp_tokens = tokenize.generate_tokens(line)\n",
    "        try:\n",
    "            for token in temp_tokens:\n",
    "                t_dict.append(token._asdict())\n",
    "                temp_token_count += 1\n",
    "                if t_dict[-1][\"line\"] == \"\\n\" or t_dict[-1][\"type\"] == 0:\n",
    "                    empty_lines += 1\n",
    "                elif t_dict[-1][\"type\"] != 61:\n",
    "                    # tokenize only the code not comments\n",
    "                    t_code_only.append(t_dict[-1][\"string\"])\n",
    "        except:\n",
    "            pass\n",
    "    tokens.append(t_dict)\n",
    "    token_count.append(temp_token_count)\n",
    "    temp_lines = t_dict[-1][\"end\"][0] - empty_lines\n",
    "    line_count.append(temp_lines)\n",
    "    token_code_only.append(t_code_only)"
   ]
  },
  {
   "cell_type": "code",
   "execution_count": 177,
   "metadata": {},
   "outputs": [
    {
     "name": "stderr",
     "output_type": "stream",
     "text": [
      "C:\\Users\\felix\\AppData\\Local\\Temp\\ipykernel_2024\\3305286083.py:1: SettingWithCopyWarning: \n",
      "A value is trying to be set on a copy of a slice from a DataFrame.\n",
      "Try using .loc[row_indexer,col_indexer] = value instead\n",
      "\n",
      "See the caveats in the documentation: https://pandas.pydata.org/pandas-docs/stable/user_guide/indexing.html#returning-a-view-versus-a-copy\n",
      "  df_code_py[\"date\"] = pd.to_datetime(df_code_py[\"date\"])\n"
     ]
    }
   ],
   "source": [
    "df_code_py[\"date\"] = pd.to_datetime(df_code_py[\"date\"]) "
   ]
  },
  {
   "cell_type": "code",
   "execution_count": 178,
   "metadata": {},
   "outputs": [
    {
     "name": "stderr",
     "output_type": "stream",
     "text": [
      "C:\\Users\\felix\\AppData\\Local\\Temp\\ipykernel_2024\\665244305.py:1: SettingWithCopyWarning: \n",
      "A value is trying to be set on a copy of a slice from a DataFrame.\n",
      "Try using .loc[row_indexer,col_indexer] = value instead\n",
      "\n",
      "See the caveats in the documentation: https://pandas.pydata.org/pandas-docs/stable/user_guide/indexing.html#returning-a-view-versus-a-copy\n",
      "  df_code_py[\"hour_submitted\"] = df_code_py[\"date\"].dt.hour\n"
     ]
    }
   ],
   "source": [
    "df_code_py[\"hour_submitted\"] = df_code_py[\"date\"].dt.hour"
   ]
  },
  {
   "cell_type": "code",
   "execution_count": 179,
   "metadata": {},
   "outputs": [
    {
     "name": "stderr",
     "output_type": "stream",
     "text": [
      "C:\\Users\\felix\\AppData\\Local\\Temp\\ipykernel_2024\\96055891.py:1: SettingWithCopyWarning: \n",
      "A value is trying to be set on a copy of a slice from a DataFrame.\n",
      "Try using .loc[row_indexer,col_indexer] = value instead\n",
      "\n",
      "See the caveats in the documentation: https://pandas.pydata.org/pandas-docs/stable/user_guide/indexing.html#returning-a-view-versus-a-copy\n",
      "  df_code_py[\"tokens\"] = np.array(tokens, dtype=object)\n"
     ]
    }
   ],
   "source": [
    "df_code_py[\"tokens\"] = np.array(tokens, dtype=object)"
   ]
  },
  {
   "cell_type": "code",
   "execution_count": 180,
   "metadata": {},
   "outputs": [
    {
     "name": "stderr",
     "output_type": "stream",
     "text": [
      "C:\\Users\\felix\\AppData\\Local\\Temp\\ipykernel_2024\\2873733347.py:1: SettingWithCopyWarning: \n",
      "A value is trying to be set on a copy of a slice from a DataFrame.\n",
      "Try using .loc[row_indexer,col_indexer] = value instead\n",
      "\n",
      "See the caveats in the documentation: https://pandas.pydata.org/pandas-docs/stable/user_guide/indexing.html#returning-a-view-versus-a-copy\n",
      "  df_code_py[\"token_count\"] = np.array(token_count)\n"
     ]
    }
   ],
   "source": [
    "df_code_py[\"token_count\"] = np.array(token_count)"
   ]
  },
  {
   "cell_type": "code",
   "execution_count": 181,
   "metadata": {},
   "outputs": [
    {
     "name": "stderr",
     "output_type": "stream",
     "text": [
      "C:\\Users\\felix\\AppData\\Local\\Temp\\ipykernel_2024\\4076580069.py:1: SettingWithCopyWarning: \n",
      "A value is trying to be set on a copy of a slice from a DataFrame.\n",
      "Try using .loc[row_indexer,col_indexer] = value instead\n",
      "\n",
      "See the caveats in the documentation: https://pandas.pydata.org/pandas-docs/stable/user_guide/indexing.html#returning-a-view-versus-a-copy\n",
      "  df_code_py[\"line_count\"] = np.array(line_count)\n"
     ]
    }
   ],
   "source": [
    "df_code_py[\"line_count\"] = np.array(line_count)"
   ]
  },
  {
   "cell_type": "code",
   "execution_count": 182,
   "metadata": {},
   "outputs": [
    {
     "name": "stderr",
     "output_type": "stream",
     "text": [
      "C:\\Users\\felix\\AppData\\Local\\Temp\\ipykernel_2024\\2847834887.py:1: VisibleDeprecationWarning: Creating an ndarray from ragged nested sequences (which is a list-or-tuple of lists-or-tuples-or ndarrays with different lengths or shapes) is deprecated. If you meant to do this, you must specify 'dtype=object' when creating the ndarray.\n",
      "  df_code_py[\"token_code_only\"] = np.array(token_code_only)\n",
      "C:\\Users\\felix\\AppData\\Local\\Temp\\ipykernel_2024\\2847834887.py:1: SettingWithCopyWarning: \n",
      "A value is trying to be set on a copy of a slice from a DataFrame.\n",
      "Try using .loc[row_indexer,col_indexer] = value instead\n",
      "\n",
      "See the caveats in the documentation: https://pandas.pydata.org/pandas-docs/stable/user_guide/indexing.html#returning-a-view-versus-a-copy\n",
      "  df_code_py[\"token_code_only\"] = np.array(token_code_only)\n"
     ]
    }
   ],
   "source": [
    "df_code_py[\"token_code_only\"] = np.array(token_code_only)"
   ]
  },
  {
   "cell_type": "code",
   "execution_count": 183,
   "metadata": {},
   "outputs": [
    {
     "data": {
      "text/html": [
       "<div>\n",
       "<style scoped>\n",
       "    .dataframe tbody tr th:only-of-type {\n",
       "        vertical-align: middle;\n",
       "    }\n",
       "\n",
       "    .dataframe tbody tr th {\n",
       "        vertical-align: top;\n",
       "    }\n",
       "\n",
       "    .dataframe thead th {\n",
       "        text-align: right;\n",
       "    }\n",
       "</style>\n",
       "<table border=\"1\" class=\"dataframe\">\n",
       "  <thead>\n",
       "    <tr style=\"text-align: right;\">\n",
       "      <th></th>\n",
       "      <th>academic_year_1</th>\n",
       "      <th>task</th>\n",
       "      <th>user</th>\n",
       "      <th>date</th>\n",
       "      <th>academic_year_0</th>\n",
       "      <th>upload</th>\n",
       "      <th>module</th>\n",
       "      <th>correct</th>\n",
       "      <th>hour_submitted</th>\n",
       "      <th>tokens</th>\n",
       "      <th>token_count</th>\n",
       "      <th>line_count</th>\n",
       "      <th>token_code_only</th>\n",
       "    </tr>\n",
       "  </thead>\n",
       "  <tbody>\n",
       "    <tr>\n",
       "      <th>0</th>\n",
       "      <td>2017</td>\n",
       "      <td>add.py</td>\n",
       "      <td>b9e7e608-6036-4d44-8770-a7036176b53c</td>\n",
       "      <td>2016-09-19 14:11:41</td>\n",
       "      <td>2016</td>\n",
       "      <td>#!/usr/bin/env python\\n\\na = int(raw_input())\\...</td>\n",
       "      <td>ca277</td>\n",
       "      <td>True</td>\n",
       "      <td>14</td>\n",
       "      <td>[{'type': 61, 'string': '#!/usr/bin/env python...</td>\n",
       "      <td>30</td>\n",
       "      <td>4</td>\n",
       "      <td>[\\n, a, =, int, (, raw_input, (, ), ), \\n, b, ...</td>\n",
       "    </tr>\n",
       "    <tr>\n",
       "      <th>1</th>\n",
       "      <td>2017</td>\n",
       "      <td>concat-lines.py</td>\n",
       "      <td>b9e7e608-6036-4d44-8770-a7036176b53c</td>\n",
       "      <td>2016-09-19 14:17:33</td>\n",
       "      <td>2016</td>\n",
       "      <td>#!/usr/bin/env python\\n\\na = str(raw_input())\\...</td>\n",
       "      <td>ca277</td>\n",
       "      <td>True</td>\n",
       "      <td>14</td>\n",
       "      <td>[{'type': 61, 'string': '#!/usr/bin/env python...</td>\n",
       "      <td>30</td>\n",
       "      <td>4</td>\n",
       "      <td>[\\n, a, =, str, (, raw_input, (, ), ), \\n, b, ...</td>\n",
       "    </tr>\n",
       "    <tr>\n",
       "      <th>2</th>\n",
       "      <td>2017</td>\n",
       "      <td>goodbye.py</td>\n",
       "      <td>b9e7e608-6036-4d44-8770-a7036176b53c</td>\n",
       "      <td>2016-09-19 10:15:59</td>\n",
       "      <td>2016</td>\n",
       "      <td>#!/usr/bin/env python\\n\\nprint \"Goodbye\"\\n</td>\n",
       "      <td>ca277</td>\n",
       "      <td>True</td>\n",
       "      <td>10</td>\n",
       "      <td>[{'type': 61, 'string': '#!/usr/bin/env python...</td>\n",
       "      <td>7</td>\n",
       "      <td>2</td>\n",
       "      <td>[\\n, print, \"Goodbye\", \\n]</td>\n",
       "    </tr>\n",
       "    <tr>\n",
       "      <th>3</th>\n",
       "      <td>2017</td>\n",
       "      <td>less-than.py</td>\n",
       "      <td>b9e7e608-6036-4d44-8770-a7036176b53c</td>\n",
       "      <td>2016-09-19 14:14:22</td>\n",
       "      <td>2016</td>\n",
       "      <td>#!/usr/bin/env python\\n\\na = int(raw_input())\\...</td>\n",
       "      <td>ca277</td>\n",
       "      <td>True</td>\n",
       "      <td>14</td>\n",
       "      <td>[{'type': 61, 'string': '#!/usr/bin/env python...</td>\n",
       "      <td>30</td>\n",
       "      <td>4</td>\n",
       "      <td>[\\n, a, =, int, (, raw_input, (, ), ), \\n, b, ...</td>\n",
       "    </tr>\n",
       "    <tr>\n",
       "      <th>4</th>\n",
       "      <td>2017</td>\n",
       "      <td>longest-line.py</td>\n",
       "      <td>b9e7e608-6036-4d44-8770-a7036176b53c</td>\n",
       "      <td>2016-09-19 14:51:28</td>\n",
       "      <td>2016</td>\n",
       "      <td>#!usr/bin/evn python\\n\\na = raw_input()\\nb = r...</td>\n",
       "      <td>ca277</td>\n",
       "      <td>True</td>\n",
       "      <td>14</td>\n",
       "      <td>[{'type': 61, 'string': '#!usr/bin/evn python'...</td>\n",
       "      <td>42</td>\n",
       "      <td>7</td>\n",
       "      <td>[\\n, a, =, raw_input, (, ), \\n, b, =, raw_inpu...</td>\n",
       "    </tr>\n",
       "    <tr>\n",
       "      <th>...</th>\n",
       "      <td>...</td>\n",
       "      <td>...</td>\n",
       "      <td>...</td>\n",
       "      <td>...</td>\n",
       "      <td>...</td>\n",
       "      <td>...</td>\n",
       "      <td>...</td>\n",
       "      <td>...</td>\n",
       "      <td>...</td>\n",
       "      <td>...</td>\n",
       "      <td>...</td>\n",
       "      <td>...</td>\n",
       "      <td>...</td>\n",
       "    </tr>\n",
       "    <tr>\n",
       "      <th>591699</th>\n",
       "      <td>2018</td>\n",
       "      <td>ex3-first-long-word.py</td>\n",
       "      <td>df8dd1dd-a7c8-46c0-b89f-ec170a81f08a</td>\n",
       "      <td>2018-08-22 11:52:33</td>\n",
       "      <td>2017</td>\n",
       "      <td>#!/usr/bin/env python\\n\\nn = 10\\nword = raw_in...</td>\n",
       "      <td>ca177</td>\n",
       "      <td>True</td>\n",
       "      <td>11</td>\n",
       "      <td>[{'type': 61, 'string': '#!/usr/bin/env python...</td>\n",
       "      <td>36</td>\n",
       "      <td>6</td>\n",
       "      <td>[\\n, n, =, 10, \\n, word, =, raw_input, (, ), \\...</td>\n",
       "    </tr>\n",
       "    <tr>\n",
       "      <th>591700</th>\n",
       "      <td>2018</td>\n",
       "      <td>ex3-first-long-word.py</td>\n",
       "      <td>df8dd1dd-a7c8-46c0-b89f-ec170a81f08a</td>\n",
       "      <td>2018-08-22 12:56:07</td>\n",
       "      <td>2017</td>\n",
       "      <td>#!/usr/bin/env python\\n\\nn = 10\\nword = raw_in...</td>\n",
       "      <td>ca177</td>\n",
       "      <td>True</td>\n",
       "      <td>12</td>\n",
       "      <td>[{'type': 61, 'string': '#!/usr/bin/env python...</td>\n",
       "      <td>36</td>\n",
       "      <td>6</td>\n",
       "      <td>[\\n, n, =, 10, \\n, word, =, raw_input, (, ), \\...</td>\n",
       "    </tr>\n",
       "    <tr>\n",
       "      <th>591702</th>\n",
       "      <td>2018</td>\n",
       "      <td>ex3-histogram.py</td>\n",
       "      <td>df8dd1dd-a7c8-46c0-b89f-ec170a81f08a</td>\n",
       "      <td>2018-08-22 12:55:26</td>\n",
       "      <td>2017</td>\n",
       "      <td>#!/usr/bin/env python\\n\\nch = raw_input()\\n\\ns...</td>\n",
       "      <td>ca177</td>\n",
       "      <td>False</td>\n",
       "      <td>12</td>\n",
       "      <td>[{'type': 61, 'string': '#!/usr/bin/env python...</td>\n",
       "      <td>40</td>\n",
       "      <td>6</td>\n",
       "      <td>[\\n, ch, =, raw_input, (, ), \\n, s, =, raw_inp...</td>\n",
       "    </tr>\n",
       "    <tr>\n",
       "      <th>591703</th>\n",
       "      <td>2018</td>\n",
       "      <td>ex3-histogram.py</td>\n",
       "      <td>df8dd1dd-a7c8-46c0-b89f-ec170a81f08a</td>\n",
       "      <td>2018-08-22 12:55:45</td>\n",
       "      <td>2017</td>\n",
       "      <td>#!/usr/bin/env python\\n\\nch = raw_input()\\n\\ns...</td>\n",
       "      <td>ca177</td>\n",
       "      <td>True</td>\n",
       "      <td>12</td>\n",
       "      <td>[{'type': 61, 'string': '#!/usr/bin/env python...</td>\n",
       "      <td>39</td>\n",
       "      <td>6</td>\n",
       "      <td>[\\n, ch, =, raw_input, (, ), \\n, s, =, raw_inp...</td>\n",
       "    </tr>\n",
       "    <tr>\n",
       "      <th>591704</th>\n",
       "      <td>2018</td>\n",
       "      <td>ex3-histogram.py</td>\n",
       "      <td>df8dd1dd-a7c8-46c0-b89f-ec170a81f08a</td>\n",
       "      <td>2018-08-22 12:56:12</td>\n",
       "      <td>2017</td>\n",
       "      <td>#!/usr/bin/env python\\n\\nch = raw_input()\\n\\ns...</td>\n",
       "      <td>ca177</td>\n",
       "      <td>True</td>\n",
       "      <td>12</td>\n",
       "      <td>[{'type': 61, 'string': '#!/usr/bin/env python...</td>\n",
       "      <td>39</td>\n",
       "      <td>6</td>\n",
       "      <td>[\\n, ch, =, raw_input, (, ), \\n, s, =, raw_inp...</td>\n",
       "    </tr>\n",
       "  </tbody>\n",
       "</table>\n",
       "<p>378469 rows × 13 columns</p>\n",
       "</div>"
      ],
      "text/plain": [
       "       academic_year_1                    task  \\\n",
       "0                 2017                  add.py   \n",
       "1                 2017         concat-lines.py   \n",
       "2                 2017              goodbye.py   \n",
       "3                 2017            less-than.py   \n",
       "4                 2017         longest-line.py   \n",
       "...                ...                     ...   \n",
       "591699            2018  ex3-first-long-word.py   \n",
       "591700            2018  ex3-first-long-word.py   \n",
       "591702            2018        ex3-histogram.py   \n",
       "591703            2018        ex3-histogram.py   \n",
       "591704            2018        ex3-histogram.py   \n",
       "\n",
       "                                        user                date  \\\n",
       "0       b9e7e608-6036-4d44-8770-a7036176b53c 2016-09-19 14:11:41   \n",
       "1       b9e7e608-6036-4d44-8770-a7036176b53c 2016-09-19 14:17:33   \n",
       "2       b9e7e608-6036-4d44-8770-a7036176b53c 2016-09-19 10:15:59   \n",
       "3       b9e7e608-6036-4d44-8770-a7036176b53c 2016-09-19 14:14:22   \n",
       "4       b9e7e608-6036-4d44-8770-a7036176b53c 2016-09-19 14:51:28   \n",
       "...                                      ...                 ...   \n",
       "591699  df8dd1dd-a7c8-46c0-b89f-ec170a81f08a 2018-08-22 11:52:33   \n",
       "591700  df8dd1dd-a7c8-46c0-b89f-ec170a81f08a 2018-08-22 12:56:07   \n",
       "591702  df8dd1dd-a7c8-46c0-b89f-ec170a81f08a 2018-08-22 12:55:26   \n",
       "591703  df8dd1dd-a7c8-46c0-b89f-ec170a81f08a 2018-08-22 12:55:45   \n",
       "591704  df8dd1dd-a7c8-46c0-b89f-ec170a81f08a 2018-08-22 12:56:12   \n",
       "\n",
       "       academic_year_0                                             upload  \\\n",
       "0                 2016  #!/usr/bin/env python\\n\\na = int(raw_input())\\...   \n",
       "1                 2016  #!/usr/bin/env python\\n\\na = str(raw_input())\\...   \n",
       "2                 2016         #!/usr/bin/env python\\n\\nprint \"Goodbye\"\\n   \n",
       "3                 2016  #!/usr/bin/env python\\n\\na = int(raw_input())\\...   \n",
       "4                 2016  #!usr/bin/evn python\\n\\na = raw_input()\\nb = r...   \n",
       "...                ...                                                ...   \n",
       "591699            2017  #!/usr/bin/env python\\n\\nn = 10\\nword = raw_in...   \n",
       "591700            2017  #!/usr/bin/env python\\n\\nn = 10\\nword = raw_in...   \n",
       "591702            2017  #!/usr/bin/env python\\n\\nch = raw_input()\\n\\ns...   \n",
       "591703            2017  #!/usr/bin/env python\\n\\nch = raw_input()\\n\\ns...   \n",
       "591704            2017  #!/usr/bin/env python\\n\\nch = raw_input()\\n\\ns...   \n",
       "\n",
       "       module  correct  hour_submitted  \\\n",
       "0       ca277     True              14   \n",
       "1       ca277     True              14   \n",
       "2       ca277     True              10   \n",
       "3       ca277     True              14   \n",
       "4       ca277     True              14   \n",
       "...       ...      ...             ...   \n",
       "591699  ca177     True              11   \n",
       "591700  ca177     True              12   \n",
       "591702  ca177    False              12   \n",
       "591703  ca177     True              12   \n",
       "591704  ca177     True              12   \n",
       "\n",
       "                                                   tokens  token_count  \\\n",
       "0       [{'type': 61, 'string': '#!/usr/bin/env python...           30   \n",
       "1       [{'type': 61, 'string': '#!/usr/bin/env python...           30   \n",
       "2       [{'type': 61, 'string': '#!/usr/bin/env python...            7   \n",
       "3       [{'type': 61, 'string': '#!/usr/bin/env python...           30   \n",
       "4       [{'type': 61, 'string': '#!usr/bin/evn python'...           42   \n",
       "...                                                   ...          ...   \n",
       "591699  [{'type': 61, 'string': '#!/usr/bin/env python...           36   \n",
       "591700  [{'type': 61, 'string': '#!/usr/bin/env python...           36   \n",
       "591702  [{'type': 61, 'string': '#!/usr/bin/env python...           40   \n",
       "591703  [{'type': 61, 'string': '#!/usr/bin/env python...           39   \n",
       "591704  [{'type': 61, 'string': '#!/usr/bin/env python...           39   \n",
       "\n",
       "        line_count                                    token_code_only  \n",
       "0                4  [\\n, a, =, int, (, raw_input, (, ), ), \\n, b, ...  \n",
       "1                4  [\\n, a, =, str, (, raw_input, (, ), ), \\n, b, ...  \n",
       "2                2                         [\\n, print, \"Goodbye\", \\n]  \n",
       "3                4  [\\n, a, =, int, (, raw_input, (, ), ), \\n, b, ...  \n",
       "4                7  [\\n, a, =, raw_input, (, ), \\n, b, =, raw_inpu...  \n",
       "...            ...                                                ...  \n",
       "591699           6  [\\n, n, =, 10, \\n, word, =, raw_input, (, ), \\...  \n",
       "591700           6  [\\n, n, =, 10, \\n, word, =, raw_input, (, ), \\...  \n",
       "591702           6  [\\n, ch, =, raw_input, (, ), \\n, s, =, raw_inp...  \n",
       "591703           6  [\\n, ch, =, raw_input, (, ), \\n, s, =, raw_inp...  \n",
       "591704           6  [\\n, ch, =, raw_input, (, ), \\n, s, =, raw_inp...  \n",
       "\n",
       "[378469 rows x 13 columns]"
      ]
     },
     "execution_count": 183,
     "metadata": {},
     "output_type": "execute_result"
    }
   ],
   "source": [
    "df_code_py"
   ]
  },
  {
   "cell_type": "code",
   "execution_count": 184,
   "metadata": {},
   "outputs": [
    {
     "name": "stderr",
     "output_type": "stream",
     "text": [
      "C:\\Users\\felix\\AppData\\Local\\Temp\\ipykernel_2024\\466031809.py:1: SettingWithCopyWarning: \n",
      "A value is trying to be set on a copy of a slice from a DataFrame.\n",
      "Try using .loc[row_indexer,col_indexer] = value instead\n",
      "\n",
      "See the caveats in the documentation: https://pandas.pydata.org/pandas-docs/stable/user_guide/indexing.html#returning-a-view-versus-a-copy\n",
      "  df_code_py[\"token_per_line\"] = df_code_py[\"token_count\"]/df_code_py[\"line_count\"]\n"
     ]
    }
   ],
   "source": [
    "df_code_py[\"token_per_line\"] = df_code_py[\"token_count\"]/df_code_py[\"line_count\"]"
   ]
  },
  {
   "cell_type": "code",
   "execution_count": 185,
   "metadata": {},
   "outputs": [],
   "source": [
    "df_code_py = df_code_py[df_code_py[\"line_count\"]!=0]"
   ]
  },
  {
   "cell_type": "code",
   "execution_count": 186,
   "metadata": {},
   "outputs": [
    {
     "data": {
      "text/html": [
       "<div>\n",
       "<style scoped>\n",
       "    .dataframe tbody tr th:only-of-type {\n",
       "        vertical-align: middle;\n",
       "    }\n",
       "\n",
       "    .dataframe tbody tr th {\n",
       "        vertical-align: top;\n",
       "    }\n",
       "\n",
       "    .dataframe thead th {\n",
       "        text-align: right;\n",
       "    }\n",
       "</style>\n",
       "<table border=\"1\" class=\"dataframe\">\n",
       "  <thead>\n",
       "    <tr style=\"text-align: right;\">\n",
       "      <th></th>\n",
       "      <th>academic_year_1</th>\n",
       "      <th>task</th>\n",
       "      <th>user</th>\n",
       "      <th>date</th>\n",
       "      <th>academic_year_0</th>\n",
       "      <th>upload</th>\n",
       "      <th>module</th>\n",
       "      <th>correct</th>\n",
       "      <th>hour_submitted</th>\n",
       "      <th>tokens</th>\n",
       "      <th>token_count</th>\n",
       "      <th>line_count</th>\n",
       "      <th>token_code_only</th>\n",
       "      <th>token_per_line</th>\n",
       "    </tr>\n",
       "  </thead>\n",
       "  <tbody>\n",
       "    <tr>\n",
       "      <th>0</th>\n",
       "      <td>2017</td>\n",
       "      <td>add.py</td>\n",
       "      <td>b9e7e608-6036-4d44-8770-a7036176b53c</td>\n",
       "      <td>2016-09-19 14:11:41</td>\n",
       "      <td>2016</td>\n",
       "      <td>#!/usr/bin/env python\\n\\na = int(raw_input())\\...</td>\n",
       "      <td>ca277</td>\n",
       "      <td>True</td>\n",
       "      <td>14</td>\n",
       "      <td>[{'type': 61, 'string': '#!/usr/bin/env python...</td>\n",
       "      <td>30</td>\n",
       "      <td>4</td>\n",
       "      <td>[\\n, a, =, int, (, raw_input, (, ), ), \\n, b, ...</td>\n",
       "      <td>7.500000</td>\n",
       "    </tr>\n",
       "    <tr>\n",
       "      <th>1</th>\n",
       "      <td>2017</td>\n",
       "      <td>concat-lines.py</td>\n",
       "      <td>b9e7e608-6036-4d44-8770-a7036176b53c</td>\n",
       "      <td>2016-09-19 14:17:33</td>\n",
       "      <td>2016</td>\n",
       "      <td>#!/usr/bin/env python\\n\\na = str(raw_input())\\...</td>\n",
       "      <td>ca277</td>\n",
       "      <td>True</td>\n",
       "      <td>14</td>\n",
       "      <td>[{'type': 61, 'string': '#!/usr/bin/env python...</td>\n",
       "      <td>30</td>\n",
       "      <td>4</td>\n",
       "      <td>[\\n, a, =, str, (, raw_input, (, ), ), \\n, b, ...</td>\n",
       "      <td>7.500000</td>\n",
       "    </tr>\n",
       "    <tr>\n",
       "      <th>2</th>\n",
       "      <td>2017</td>\n",
       "      <td>goodbye.py</td>\n",
       "      <td>b9e7e608-6036-4d44-8770-a7036176b53c</td>\n",
       "      <td>2016-09-19 10:15:59</td>\n",
       "      <td>2016</td>\n",
       "      <td>#!/usr/bin/env python\\n\\nprint \"Goodbye\"\\n</td>\n",
       "      <td>ca277</td>\n",
       "      <td>True</td>\n",
       "      <td>10</td>\n",
       "      <td>[{'type': 61, 'string': '#!/usr/bin/env python...</td>\n",
       "      <td>7</td>\n",
       "      <td>2</td>\n",
       "      <td>[\\n, print, \"Goodbye\", \\n]</td>\n",
       "      <td>3.500000</td>\n",
       "    </tr>\n",
       "    <tr>\n",
       "      <th>3</th>\n",
       "      <td>2017</td>\n",
       "      <td>less-than.py</td>\n",
       "      <td>b9e7e608-6036-4d44-8770-a7036176b53c</td>\n",
       "      <td>2016-09-19 14:14:22</td>\n",
       "      <td>2016</td>\n",
       "      <td>#!/usr/bin/env python\\n\\na = int(raw_input())\\...</td>\n",
       "      <td>ca277</td>\n",
       "      <td>True</td>\n",
       "      <td>14</td>\n",
       "      <td>[{'type': 61, 'string': '#!/usr/bin/env python...</td>\n",
       "      <td>30</td>\n",
       "      <td>4</td>\n",
       "      <td>[\\n, a, =, int, (, raw_input, (, ), ), \\n, b, ...</td>\n",
       "      <td>7.500000</td>\n",
       "    </tr>\n",
       "    <tr>\n",
       "      <th>4</th>\n",
       "      <td>2017</td>\n",
       "      <td>longest-line.py</td>\n",
       "      <td>b9e7e608-6036-4d44-8770-a7036176b53c</td>\n",
       "      <td>2016-09-19 14:51:28</td>\n",
       "      <td>2016</td>\n",
       "      <td>#!usr/bin/evn python\\n\\na = raw_input()\\nb = r...</td>\n",
       "      <td>ca277</td>\n",
       "      <td>True</td>\n",
       "      <td>14</td>\n",
       "      <td>[{'type': 61, 'string': '#!usr/bin/evn python'...</td>\n",
       "      <td>42</td>\n",
       "      <td>7</td>\n",
       "      <td>[\\n, a, =, raw_input, (, ), \\n, b, =, raw_inpu...</td>\n",
       "      <td>6.000000</td>\n",
       "    </tr>\n",
       "    <tr>\n",
       "      <th>...</th>\n",
       "      <td>...</td>\n",
       "      <td>...</td>\n",
       "      <td>...</td>\n",
       "      <td>...</td>\n",
       "      <td>...</td>\n",
       "      <td>...</td>\n",
       "      <td>...</td>\n",
       "      <td>...</td>\n",
       "      <td>...</td>\n",
       "      <td>...</td>\n",
       "      <td>...</td>\n",
       "      <td>...</td>\n",
       "      <td>...</td>\n",
       "      <td>...</td>\n",
       "    </tr>\n",
       "    <tr>\n",
       "      <th>591699</th>\n",
       "      <td>2018</td>\n",
       "      <td>ex3-first-long-word.py</td>\n",
       "      <td>df8dd1dd-a7c8-46c0-b89f-ec170a81f08a</td>\n",
       "      <td>2018-08-22 11:52:33</td>\n",
       "      <td>2017</td>\n",
       "      <td>#!/usr/bin/env python\\n\\nn = 10\\nword = raw_in...</td>\n",
       "      <td>ca177</td>\n",
       "      <td>True</td>\n",
       "      <td>11</td>\n",
       "      <td>[{'type': 61, 'string': '#!/usr/bin/env python...</td>\n",
       "      <td>36</td>\n",
       "      <td>6</td>\n",
       "      <td>[\\n, n, =, 10, \\n, word, =, raw_input, (, ), \\...</td>\n",
       "      <td>6.000000</td>\n",
       "    </tr>\n",
       "    <tr>\n",
       "      <th>591700</th>\n",
       "      <td>2018</td>\n",
       "      <td>ex3-first-long-word.py</td>\n",
       "      <td>df8dd1dd-a7c8-46c0-b89f-ec170a81f08a</td>\n",
       "      <td>2018-08-22 12:56:07</td>\n",
       "      <td>2017</td>\n",
       "      <td>#!/usr/bin/env python\\n\\nn = 10\\nword = raw_in...</td>\n",
       "      <td>ca177</td>\n",
       "      <td>True</td>\n",
       "      <td>12</td>\n",
       "      <td>[{'type': 61, 'string': '#!/usr/bin/env python...</td>\n",
       "      <td>36</td>\n",
       "      <td>6</td>\n",
       "      <td>[\\n, n, =, 10, \\n, word, =, raw_input, (, ), \\...</td>\n",
       "      <td>6.000000</td>\n",
       "    </tr>\n",
       "    <tr>\n",
       "      <th>591702</th>\n",
       "      <td>2018</td>\n",
       "      <td>ex3-histogram.py</td>\n",
       "      <td>df8dd1dd-a7c8-46c0-b89f-ec170a81f08a</td>\n",
       "      <td>2018-08-22 12:55:26</td>\n",
       "      <td>2017</td>\n",
       "      <td>#!/usr/bin/env python\\n\\nch = raw_input()\\n\\ns...</td>\n",
       "      <td>ca177</td>\n",
       "      <td>False</td>\n",
       "      <td>12</td>\n",
       "      <td>[{'type': 61, 'string': '#!/usr/bin/env python...</td>\n",
       "      <td>40</td>\n",
       "      <td>6</td>\n",
       "      <td>[\\n, ch, =, raw_input, (, ), \\n, s, =, raw_inp...</td>\n",
       "      <td>6.666667</td>\n",
       "    </tr>\n",
       "    <tr>\n",
       "      <th>591703</th>\n",
       "      <td>2018</td>\n",
       "      <td>ex3-histogram.py</td>\n",
       "      <td>df8dd1dd-a7c8-46c0-b89f-ec170a81f08a</td>\n",
       "      <td>2018-08-22 12:55:45</td>\n",
       "      <td>2017</td>\n",
       "      <td>#!/usr/bin/env python\\n\\nch = raw_input()\\n\\ns...</td>\n",
       "      <td>ca177</td>\n",
       "      <td>True</td>\n",
       "      <td>12</td>\n",
       "      <td>[{'type': 61, 'string': '#!/usr/bin/env python...</td>\n",
       "      <td>39</td>\n",
       "      <td>6</td>\n",
       "      <td>[\\n, ch, =, raw_input, (, ), \\n, s, =, raw_inp...</td>\n",
       "      <td>6.500000</td>\n",
       "    </tr>\n",
       "    <tr>\n",
       "      <th>591704</th>\n",
       "      <td>2018</td>\n",
       "      <td>ex3-histogram.py</td>\n",
       "      <td>df8dd1dd-a7c8-46c0-b89f-ec170a81f08a</td>\n",
       "      <td>2018-08-22 12:56:12</td>\n",
       "      <td>2017</td>\n",
       "      <td>#!/usr/bin/env python\\n\\nch = raw_input()\\n\\ns...</td>\n",
       "      <td>ca177</td>\n",
       "      <td>True</td>\n",
       "      <td>12</td>\n",
       "      <td>[{'type': 61, 'string': '#!/usr/bin/env python...</td>\n",
       "      <td>39</td>\n",
       "      <td>6</td>\n",
       "      <td>[\\n, ch, =, raw_input, (, ), \\n, s, =, raw_inp...</td>\n",
       "      <td>6.500000</td>\n",
       "    </tr>\n",
       "  </tbody>\n",
       "</table>\n",
       "<p>378455 rows × 14 columns</p>\n",
       "</div>"
      ],
      "text/plain": [
       "       academic_year_1                    task  \\\n",
       "0                 2017                  add.py   \n",
       "1                 2017         concat-lines.py   \n",
       "2                 2017              goodbye.py   \n",
       "3                 2017            less-than.py   \n",
       "4                 2017         longest-line.py   \n",
       "...                ...                     ...   \n",
       "591699            2018  ex3-first-long-word.py   \n",
       "591700            2018  ex3-first-long-word.py   \n",
       "591702            2018        ex3-histogram.py   \n",
       "591703            2018        ex3-histogram.py   \n",
       "591704            2018        ex3-histogram.py   \n",
       "\n",
       "                                        user                date  \\\n",
       "0       b9e7e608-6036-4d44-8770-a7036176b53c 2016-09-19 14:11:41   \n",
       "1       b9e7e608-6036-4d44-8770-a7036176b53c 2016-09-19 14:17:33   \n",
       "2       b9e7e608-6036-4d44-8770-a7036176b53c 2016-09-19 10:15:59   \n",
       "3       b9e7e608-6036-4d44-8770-a7036176b53c 2016-09-19 14:14:22   \n",
       "4       b9e7e608-6036-4d44-8770-a7036176b53c 2016-09-19 14:51:28   \n",
       "...                                      ...                 ...   \n",
       "591699  df8dd1dd-a7c8-46c0-b89f-ec170a81f08a 2018-08-22 11:52:33   \n",
       "591700  df8dd1dd-a7c8-46c0-b89f-ec170a81f08a 2018-08-22 12:56:07   \n",
       "591702  df8dd1dd-a7c8-46c0-b89f-ec170a81f08a 2018-08-22 12:55:26   \n",
       "591703  df8dd1dd-a7c8-46c0-b89f-ec170a81f08a 2018-08-22 12:55:45   \n",
       "591704  df8dd1dd-a7c8-46c0-b89f-ec170a81f08a 2018-08-22 12:56:12   \n",
       "\n",
       "       academic_year_0                                             upload  \\\n",
       "0                 2016  #!/usr/bin/env python\\n\\na = int(raw_input())\\...   \n",
       "1                 2016  #!/usr/bin/env python\\n\\na = str(raw_input())\\...   \n",
       "2                 2016         #!/usr/bin/env python\\n\\nprint \"Goodbye\"\\n   \n",
       "3                 2016  #!/usr/bin/env python\\n\\na = int(raw_input())\\...   \n",
       "4                 2016  #!usr/bin/evn python\\n\\na = raw_input()\\nb = r...   \n",
       "...                ...                                                ...   \n",
       "591699            2017  #!/usr/bin/env python\\n\\nn = 10\\nword = raw_in...   \n",
       "591700            2017  #!/usr/bin/env python\\n\\nn = 10\\nword = raw_in...   \n",
       "591702            2017  #!/usr/bin/env python\\n\\nch = raw_input()\\n\\ns...   \n",
       "591703            2017  #!/usr/bin/env python\\n\\nch = raw_input()\\n\\ns...   \n",
       "591704            2017  #!/usr/bin/env python\\n\\nch = raw_input()\\n\\ns...   \n",
       "\n",
       "       module  correct  hour_submitted  \\\n",
       "0       ca277     True              14   \n",
       "1       ca277     True              14   \n",
       "2       ca277     True              10   \n",
       "3       ca277     True              14   \n",
       "4       ca277     True              14   \n",
       "...       ...      ...             ...   \n",
       "591699  ca177     True              11   \n",
       "591700  ca177     True              12   \n",
       "591702  ca177    False              12   \n",
       "591703  ca177     True              12   \n",
       "591704  ca177     True              12   \n",
       "\n",
       "                                                   tokens  token_count  \\\n",
       "0       [{'type': 61, 'string': '#!/usr/bin/env python...           30   \n",
       "1       [{'type': 61, 'string': '#!/usr/bin/env python...           30   \n",
       "2       [{'type': 61, 'string': '#!/usr/bin/env python...            7   \n",
       "3       [{'type': 61, 'string': '#!/usr/bin/env python...           30   \n",
       "4       [{'type': 61, 'string': '#!usr/bin/evn python'...           42   \n",
       "...                                                   ...          ...   \n",
       "591699  [{'type': 61, 'string': '#!/usr/bin/env python...           36   \n",
       "591700  [{'type': 61, 'string': '#!/usr/bin/env python...           36   \n",
       "591702  [{'type': 61, 'string': '#!/usr/bin/env python...           40   \n",
       "591703  [{'type': 61, 'string': '#!/usr/bin/env python...           39   \n",
       "591704  [{'type': 61, 'string': '#!/usr/bin/env python...           39   \n",
       "\n",
       "        line_count                                    token_code_only  \\\n",
       "0                4  [\\n, a, =, int, (, raw_input, (, ), ), \\n, b, ...   \n",
       "1                4  [\\n, a, =, str, (, raw_input, (, ), ), \\n, b, ...   \n",
       "2                2                         [\\n, print, \"Goodbye\", \\n]   \n",
       "3                4  [\\n, a, =, int, (, raw_input, (, ), ), \\n, b, ...   \n",
       "4                7  [\\n, a, =, raw_input, (, ), \\n, b, =, raw_inpu...   \n",
       "...            ...                                                ...   \n",
       "591699           6  [\\n, n, =, 10, \\n, word, =, raw_input, (, ), \\...   \n",
       "591700           6  [\\n, n, =, 10, \\n, word, =, raw_input, (, ), \\...   \n",
       "591702           6  [\\n, ch, =, raw_input, (, ), \\n, s, =, raw_inp...   \n",
       "591703           6  [\\n, ch, =, raw_input, (, ), \\n, s, =, raw_inp...   \n",
       "591704           6  [\\n, ch, =, raw_input, (, ), \\n, s, =, raw_inp...   \n",
       "\n",
       "        token_per_line  \n",
       "0             7.500000  \n",
       "1             7.500000  \n",
       "2             3.500000  \n",
       "3             7.500000  \n",
       "4             6.000000  \n",
       "...                ...  \n",
       "591699        6.000000  \n",
       "591700        6.000000  \n",
       "591702        6.666667  \n",
       "591703        6.500000  \n",
       "591704        6.500000  \n",
       "\n",
       "[378455 rows x 14 columns]"
      ]
     },
     "execution_count": 186,
     "metadata": {},
     "output_type": "execute_result"
    }
   ],
   "source": [
    "df_code_py"
   ]
  },
  {
   "cell_type": "code",
   "execution_count": 187,
   "metadata": {},
   "outputs": [
    {
     "data": {
      "text/plain": [
       "'#!/usr/bin/env python\\n\\na = str(raw_input())\\nb = str(raw_input())\\n\\nprint a + b\\n\\n\\n'"
      ]
     },
     "execution_count": 187,
     "metadata": {},
     "output_type": "execute_result"
    }
   ],
   "source": [
    "df_code_py.loc[1, \"upload\"]"
   ]
  },
  {
   "cell_type": "code",
   "execution_count": 188,
   "metadata": {},
   "outputs": [
    {
     "data": {
      "text/plain": [
       "[{'type': 61,\n",
       "  'string': '#!/usr/bin/env python',\n",
       "  'start': (1, 0),\n",
       "  'end': (1, 21),\n",
       "  'line': '#!/usr/bin/env python\\n'},\n",
       " {'type': 62,\n",
       "  'string': '\\n',\n",
       "  'start': (1, 21),\n",
       "  'end': (1, 22),\n",
       "  'line': '#!/usr/bin/env python\\n'},\n",
       " {'type': 62, 'string': '\\n', 'start': (2, 0), 'end': (2, 1), 'line': '\\n'},\n",
       " {'type': 1,\n",
       "  'string': 'a',\n",
       "  'start': (3, 0),\n",
       "  'end': (3, 1),\n",
       "  'line': 'a = str(raw_input())\\n'},\n",
       " {'type': 54,\n",
       "  'string': '=',\n",
       "  'start': (3, 2),\n",
       "  'end': (3, 3),\n",
       "  'line': 'a = str(raw_input())\\n'},\n",
       " {'type': 1,\n",
       "  'string': 'str',\n",
       "  'start': (3, 4),\n",
       "  'end': (3, 7),\n",
       "  'line': 'a = str(raw_input())\\n'},\n",
       " {'type': 54,\n",
       "  'string': '(',\n",
       "  'start': (3, 7),\n",
       "  'end': (3, 8),\n",
       "  'line': 'a = str(raw_input())\\n'},\n",
       " {'type': 1,\n",
       "  'string': 'raw_input',\n",
       "  'start': (3, 8),\n",
       "  'end': (3, 17),\n",
       "  'line': 'a = str(raw_input())\\n'},\n",
       " {'type': 54,\n",
       "  'string': '(',\n",
       "  'start': (3, 17),\n",
       "  'end': (3, 18),\n",
       "  'line': 'a = str(raw_input())\\n'},\n",
       " {'type': 54,\n",
       "  'string': ')',\n",
       "  'start': (3, 18),\n",
       "  'end': (3, 19),\n",
       "  'line': 'a = str(raw_input())\\n'},\n",
       " {'type': 54,\n",
       "  'string': ')',\n",
       "  'start': (3, 19),\n",
       "  'end': (3, 20),\n",
       "  'line': 'a = str(raw_input())\\n'},\n",
       " {'type': 4,\n",
       "  'string': '\\n',\n",
       "  'start': (3, 20),\n",
       "  'end': (3, 21),\n",
       "  'line': 'a = str(raw_input())\\n'},\n",
       " {'type': 1,\n",
       "  'string': 'b',\n",
       "  'start': (4, 0),\n",
       "  'end': (4, 1),\n",
       "  'line': 'b = str(raw_input())\\n'},\n",
       " {'type': 54,\n",
       "  'string': '=',\n",
       "  'start': (4, 2),\n",
       "  'end': (4, 3),\n",
       "  'line': 'b = str(raw_input())\\n'},\n",
       " {'type': 1,\n",
       "  'string': 'str',\n",
       "  'start': (4, 4),\n",
       "  'end': (4, 7),\n",
       "  'line': 'b = str(raw_input())\\n'},\n",
       " {'type': 54,\n",
       "  'string': '(',\n",
       "  'start': (4, 7),\n",
       "  'end': (4, 8),\n",
       "  'line': 'b = str(raw_input())\\n'},\n",
       " {'type': 1,\n",
       "  'string': 'raw_input',\n",
       "  'start': (4, 8),\n",
       "  'end': (4, 17),\n",
       "  'line': 'b = str(raw_input())\\n'},\n",
       " {'type': 54,\n",
       "  'string': '(',\n",
       "  'start': (4, 17),\n",
       "  'end': (4, 18),\n",
       "  'line': 'b = str(raw_input())\\n'},\n",
       " {'type': 54,\n",
       "  'string': ')',\n",
       "  'start': (4, 18),\n",
       "  'end': (4, 19),\n",
       "  'line': 'b = str(raw_input())\\n'},\n",
       " {'type': 54,\n",
       "  'string': ')',\n",
       "  'start': (4, 19),\n",
       "  'end': (4, 20),\n",
       "  'line': 'b = str(raw_input())\\n'},\n",
       " {'type': 4,\n",
       "  'string': '\\n',\n",
       "  'start': (4, 20),\n",
       "  'end': (4, 21),\n",
       "  'line': 'b = str(raw_input())\\n'},\n",
       " {'type': 62, 'string': '\\n', 'start': (5, 0), 'end': (5, 1), 'line': '\\n'},\n",
       " {'type': 1,\n",
       "  'string': 'print',\n",
       "  'start': (6, 0),\n",
       "  'end': (6, 5),\n",
       "  'line': 'print a + b\\n'},\n",
       " {'type': 1,\n",
       "  'string': 'a',\n",
       "  'start': (6, 6),\n",
       "  'end': (6, 7),\n",
       "  'line': 'print a + b\\n'},\n",
       " {'type': 54,\n",
       "  'string': '+',\n",
       "  'start': (6, 8),\n",
       "  'end': (6, 9),\n",
       "  'line': 'print a + b\\n'},\n",
       " {'type': 1,\n",
       "  'string': 'b',\n",
       "  'start': (6, 10),\n",
       "  'end': (6, 11),\n",
       "  'line': 'print a + b\\n'},\n",
       " {'type': 4,\n",
       "  'string': '\\n',\n",
       "  'start': (6, 11),\n",
       "  'end': (6, 12),\n",
       "  'line': 'print a + b\\n'},\n",
       " {'type': 62, 'string': '\\n', 'start': (7, 0), 'end': (7, 1), 'line': '\\n'},\n",
       " {'type': 62, 'string': '\\n', 'start': (8, 0), 'end': (8, 1), 'line': '\\n'},\n",
       " {'type': 0, 'string': '', 'start': (9, 0), 'end': (9, 0), 'line': ''}]"
      ]
     },
     "execution_count": 188,
     "metadata": {},
     "output_type": "execute_result"
    }
   ],
   "source": [
    "df_code_py.loc[1, \"tokens\"]"
   ]
  },
  {
   "cell_type": "code",
   "execution_count": 189,
   "metadata": {},
   "outputs": [],
   "source": [
    "str_tokens = []\n",
    "type_tokens = []\n",
    "str_count = {}\n",
    "type_count = {}\n",
    "for index, row in df_code_py.iterrows():\n",
    "    for i in row[\"tokens\"]:\n",
    "        str_tokens.append(i[\"string\"])\n",
    "        type_tokens.append(tokenize.tok_name[i[\"type\"]])\n",
    "        if i[\"string\"] not in str_count:\n",
    "            str_count[i[\"string\"]]=1\n",
    "        else:\n",
    "            str_count[i[\"string\"]]+=1\n",
    "        if tokenize.tok_name[i[\"type\"]] not in type_count:\n",
    "            type_count[tokenize.tok_name[i[\"type\"]]]=1\n",
    "        else:\n",
    "            type_count[tokenize.tok_name[i[\"type\"]]]+=1"
   ]
  },
  {
   "cell_type": "code",
   "execution_count": 190,
   "metadata": {},
   "outputs": [],
   "source": [
    "df_code_py.to_parquet('df_code_py.gzip')"
   ]
  },
  {
   "cell_type": "code",
   "execution_count": 191,
   "metadata": {},
   "outputs": [],
   "source": [
    "srt_type = sorted(type_count.items(), key=lambda item: item[1], reverse=True)"
   ]
  },
  {
   "cell_type": "code",
   "execution_count": 192,
   "metadata": {},
   "outputs": [],
   "source": [
    "srt_str = sorted(str_count.items(), key=lambda item: item[1], reverse=True)"
   ]
  },
  {
   "cell_type": "code",
   "execution_count": 193,
   "metadata": {},
   "outputs": [
    {
     "data": {
      "text/plain": [
       "[('OP', 16877664),\n",
       " ('NAME', 14972705),\n",
       " ('NEWLINE', 4986586),\n",
       " ('NUMBER', 1909500),\n",
       " ('NL', 1896372),\n",
       " ('INDENT', 1522495),\n",
       " ('DEDENT', 1507413),\n",
       " ('STRING', 1254664),\n",
       " ('ENDMARKER', 368416),\n",
       " ('COMMENT', 232414),\n",
       " ('ERRORTOKEN', 5016)]"
      ]
     },
     "execution_count": 193,
     "metadata": {},
     "output_type": "execute_result"
    }
   ],
   "source": [
    "srt_type"
   ]
  },
  {
   "cell_type": "code",
   "execution_count": 194,
   "metadata": {},
   "outputs": [
    {
     "data": {
      "image/png": "[encoded data removed]",
      "text/plain": [
       "<Figure size 640x480 with 1 Axes>"
      ]
     },
     "metadata": {},
     "output_type": "display_data"
    }
   ],
   "source": [
    "fig, ax = plt.subplots()\n",
    "p = ax.bar([i[0] for i in srt_type], [i[1] for i in srt_type])\n",
    "ax.set_title(\"Top Python Tokens by Type\")\n",
    "ax.set_xlabel(\"Token Type\")\n",
    "ax.set_ylabel(\"Tens of Millions of Occurences\")\n",
    "plt.xticks(rotation='vertical')\n",
    "ax.bar_label(p, labels=[round(i[1]/10000000, 2) for i in srt_type], label_type = \"edge\")\n",
    "plt.show()"
   ]
  },
  {
   "cell_type": "code",
   "execution_count": 195,
   "metadata": {},
   "outputs": [
    {
     "data": {
      "text/plain": [
       "[('\\n', 6104711),\n",
       " ('(', 2954003),\n",
       " (')', 2950957),\n",
       " ('=', 2125259),\n",
       " ('', 1995613),\n",
       " (':', 1837955),\n",
       " ('.', 1672050),\n",
       " ('i', 1087501),\n",
       " (',', 1073868),\n",
       " ('[', 1044302)]"
      ]
     },
     "execution_count": 195,
     "metadata": {},
     "output_type": "execute_result"
    }
   ],
   "source": [
    "srt_str[:10]"
   ]
  },
  {
   "cell_type": "code",
   "execution_count": 196,
   "metadata": {},
   "outputs": [
    {
     "name": "stderr",
     "output_type": "stream",
     "text": [
      ") missing from current font.\\site-packages\\IPython\\core\\pylabtools.py:152: UserWarning: Glyph 13 (\n",
      "  fig.canvas.print_figure(bytes_io, **kw)\n"
     ]
    },
    {
     "data": {
      "image/png": "[encoded data removed]",
      "text/plain": [
       "<Figure size 640x480 with 1 Axes>"
      ]
     },
     "metadata": {},
     "output_type": "display_data"
    }
   ],
   "source": [
    "fig, ax = plt.subplots()\n",
    "p = ax.bar([i[0] for i in srt_str[:20]], [i[1] for i in srt_str[:20]])\n",
    "ax.set_title(\"Top 20 Python Tokens\")\n",
    "ax.set_xlabel(\"Token\")\n",
    "ax.set_ylabel(\"Millions of Occurences\")\n",
    "ax.bar_label(p, labels=[round(i[1]/1000000, 2) for i in srt_str[:20]], label_type = \"edge\", fontsize=7)\n",
    "plt.show()"
   ]
  },
  {
   "cell_type": "code",
   "execution_count": 197,
   "metadata": {},
   "outputs": [
    {
     "name": "stdout",
     "output_type": "stream",
     "text": [
      "Requirement already satisfied: ydata-profiling[notebook] in c:\\programdata\\anaconda3\\lib\\site-packages (4.3.1)\n",
      "Requirement already satisfied: jinja2<3.2,>=2.11.1 in c:\\programdata\\anaconda3\\lib\\site-packages (from ydata-profiling[notebook]) (3.1.2)\n",
      "Requirement already satisfied: tqdm<5,>=4.48.2 in c:\\programdata\\anaconda3\\lib\\site-packages (from ydata-profiling[notebook]) (4.64.1)\n",
      "Requirement already satisfied: visions[type_image_path]==0.7.5 in c:\\programdata\\anaconda3\\lib\\site-packages (from ydata-profiling[notebook]) (0.7.5)\n",
      "Requirement already satisfied: scipy<1.11,>=1.4.1 in c:\\programdata\\anaconda3\\lib\\site-packages (from ydata-profiling[notebook]) (1.10.0)\n",
      "Requirement already satisfied: statsmodels<1,>=0.13.2 in c:\\programdata\\anaconda3\\lib\\site-packages (from ydata-profiling[notebook]) (0.13.5)\n",
      "Requirement already satisfied: dacite>=1.8 in c:\\programdata\\anaconda3\\lib\\site-packages (from ydata-profiling[notebook]) (1.8.1)\n",
      "Requirement already satisfied: requests<3,>=2.24.0 in c:\\programdata\\anaconda3\\lib\\site-packages (from ydata-profiling[notebook]) (2.28.1)\n",
      "Requirement already satisfied: PyYAML<6.1,>=5.0.0 in c:\\programdata\\anaconda3\\lib\\site-packages (from ydata-profiling[notebook]) (6.0)\n",
      "Requirement already satisfied: pandas!=1.4.0,<2.1,>1.1 in c:\\programdata\\anaconda3\\lib\\site-packages (from ydata-profiling[notebook]) (1.5.3)\n",
      "Requirement already satisfied: multimethod<2,>=1.4 in c:\\programdata\\anaconda3\\lib\\site-packages (from ydata-profiling[notebook]) (1.9.1)\n",
      "Requirement already satisfied: htmlmin==0.1.12 in c:\\programdata\\anaconda3\\lib\\site-packages (from ydata-profiling[notebook]) (0.1.12)\n",
      "Requirement already satisfied: numpy<1.24,>=1.16.0 in c:\\programdata\\anaconda3\\lib\\site-packages (from ydata-profiling[notebook]) (1.23.5)\n",
      "Requirement already satisfied: typeguard<3,>=2.13.2 in c:\\programdata\\anaconda3\\lib\\site-packages (from ydata-profiling[notebook]) (2.13.3)\n",
      "Requirement already satisfied: phik<0.13,>=0.11.1 in c:\\programdata\\anaconda3\\lib\\site-packages (from ydata-profiling[notebook]) (0.12.3)\n",
      "Requirement already satisfied: imagehash==4.3.1 in c:\\programdata\\anaconda3\\lib\\site-packages (from ydata-profiling[notebook]) (4.3.1)\n",
      "Requirement already satisfied: seaborn<0.13,>=0.10.1 in c:\\programdata\\anaconda3\\lib\\site-packages (from ydata-profiling[notebook]) (0.12.2)\n",
      "Requirement already satisfied: wordcloud>=1.9.1 in c:\\programdata\\anaconda3\\lib\\site-packages (from ydata-profiling[notebook]) (1.9.2)\n",
      "Requirement already satisfied: pydantic<2,>=1.8.1 in c:\\programdata\\anaconda3\\lib\\site-packages (from ydata-profiling[notebook]) (1.10.9)\n",
      "Requirement already satisfied: matplotlib<4,>=3.2 in c:\\programdata\\anaconda3\\lib\\site-packages (from ydata-profiling[notebook]) (3.7.0)\n",
      "Requirement already satisfied: jupyter-core>=4.6.3 in c:\\programdata\\anaconda3\\lib\\site-packages (from ydata-profiling[notebook]) (5.2.0)\n",
      "Requirement already satisfied: jupyter-client>=5.3.4 in c:\\programdata\\anaconda3\\lib\\site-packages (from ydata-profiling[notebook]) (7.3.4)\n",
      "Requirement already satisfied: ipywidgets>=7.5.1 in c:\\programdata\\anaconda3\\lib\\site-packages (from ydata-profiling[notebook]) (7.6.5)\n",
      "Requirement already satisfied: PyWavelets in c:\\programdata\\anaconda3\\lib\\site-packages (from imagehash==4.3.1->ydata-profiling[notebook]) (1.4.1)\n",
      "Requirement already satisfied: pillow in c:\\programdata\\anaconda3\\lib\\site-packages (from imagehash==4.3.1->ydata-profiling[notebook]) (9.4.0)\n",
      "Requirement already satisfied: tangled-up-in-unicode>=0.0.4 in c:\\programdata\\anaconda3\\lib\\site-packages (from visions[type_image_path]==0.7.5->ydata-profiling[notebook]) (0.2.0)\n",
      "Requirement already satisfied: networkx>=2.4 in c:\\programdata\\anaconda3\\lib\\site-packages (from visions[type_image_path]==0.7.5->ydata-profiling[notebook]) (2.8.4)\n",
      "Requirement already satisfied: attrs>=19.3.0 in c:\\programdata\\anaconda3\\lib\\site-packages (from visions[type_image_path]==0.7.5->ydata-profiling[notebook]) (22.1.0)\n",
      "Requirement already satisfied: jupyterlab-widgets>=1.0.0 in c:\\programdata\\anaconda3\\lib\\site-packages (from ipywidgets>=7.5.1->ydata-profiling[notebook]) (1.0.0)\n",
      "Requirement already satisfied: ipykernel>=4.5.1 in c:\\programdata\\anaconda3\\lib\\site-packages (from ipywidgets>=7.5.1->ydata-profiling[notebook]) (6.19.2)\n",
      "Requirement already satisfied: widgetsnbextension~=3.5.0 in c:\\programdata\\anaconda3\\lib\\site-packages (from ipywidgets>=7.5.1->ydata-profiling[notebook]) (3.5.2)\n",
      "Requirement already satisfied: ipython>=4.0.0 in c:\\programdata\\anaconda3\\lib\\site-packages (from ipywidgets>=7.5.1->ydata-profiling[notebook]) (8.10.0)\n",
      "Requirement already satisfied: ipython-genutils~=0.2.0 in c:\\programdata\\anaconda3\\lib\\site-packages (from ipywidgets>=7.5.1->ydata-profiling[notebook]) (0.2.0)\n",
      "Requirement already satisfied: nbformat>=4.2.0 in c:\\programdata\\anaconda3\\lib\\site-packages (from ipywidgets>=7.5.1->ydata-profiling[notebook]) (5.7.0)\n",
      "Requirement already satisfied: traitlets>=4.3.1 in c:\\programdata\\anaconda3\\lib\\site-packages (from ipywidgets>=7.5.1->ydata-profiling[notebook]) (5.7.1)\n",
      "Requirement already satisfied: MarkupSafe>=2.0 in c:\\programdata\\anaconda3\\lib\\site-packages (from jinja2<3.2,>=2.11.1->ydata-profiling[notebook]) (2.1.1)\n",
      "Requirement already satisfied: pyzmq>=23.0 in c:\\programdata\\anaconda3\\lib\\site-packages (from jupyter-client>=5.3.4->ydata-profiling[notebook]) (23.2.0)\n",
      "Requirement already satisfied: nest-asyncio>=1.5.4 in c:\\programdata\\anaconda3\\lib\\site-packages (from jupyter-client>=5.3.4->ydata-profiling[notebook]) (1.5.6)\n",
      "Requirement already satisfied: entrypoints in c:\\programdata\\anaconda3\\lib\\site-packages (from jupyter-client>=5.3.4->ydata-profiling[notebook]) (0.4)\n",
      "Requirement already satisfied: tornado>=6.0 in c:\\programdata\\anaconda3\\lib\\site-packages (from jupyter-client>=5.3.4->ydata-profiling[notebook]) (6.1)\n",
      "Requirement already satisfied: python-dateutil>=2.8.2 in c:\\programdata\\anaconda3\\lib\\site-packages (from jupyter-client>=5.3.4->ydata-profiling[notebook]) (2.8.2)\n",
      "Requirement already satisfied: platformdirs>=2.5 in c:\\programdata\\anaconda3\\lib\\site-packages (from jupyter-core>=4.6.3->ydata-profiling[notebook]) (2.5.2)\n",
      "Requirement already satisfied: pywin32>=1.0 in c:\\programdata\\anaconda3\\lib\\site-packages (from jupyter-core>=4.6.3->ydata-profiling[notebook]) (305.1)\n",
      "Requirement already satisfied: kiwisolver>=1.0.1 in c:\\programdata\\anaconda3\\lib\\site-packages (from matplotlib<4,>=3.2->ydata-profiling[notebook]) (1.4.4)\n",
      "Requirement already satisfied: packaging>=20.0 in c:\\programdata\\anaconda3\\lib\\site-packages (from matplotlib<4,>=3.2->ydata-profiling[notebook]) (22.0)\n",
      "Requirement already satisfied: pyparsing>=2.3.1 in c:\\programdata\\anaconda3\\lib\\site-packages (from matplotlib<4,>=3.2->ydata-profiling[notebook]) (3.0.9)\n",
      "Requirement already satisfied: contourpy>=1.0.1 in c:\\programdata\\anaconda3\\lib\\site-packages (from matplotlib<4,>=3.2->ydata-profiling[notebook]) (1.0.5)\n",
      "Requirement already satisfied: fonttools>=4.22.0 in c:\\programdata\\anaconda3\\lib\\site-packages (from matplotlib<4,>=3.2->ydata-profiling[notebook]) (4.25.0)\n",
      "Requirement already satisfied: cycler>=0.10 in c:\\programdata\\anaconda3\\lib\\site-packages (from matplotlib<4,>=3.2->ydata-profiling[notebook]) (0.11.0)\n",
      "Requirement already satisfied: pytz>=2020.1 in c:\\programdata\\anaconda3\\lib\\site-packages (from pandas!=1.4.0,<2.1,>1.1->ydata-profiling[notebook]) (2022.7)\n",
      "Requirement already satisfied: joblib>=0.14.1 in c:\\programdata\\anaconda3\\lib\\site-packages (from phik<0.13,>=0.11.1->ydata-profiling[notebook]) (1.1.1)\n",
      "Requirement already satisfied: typing-extensions>=4.2.0 in c:\\programdata\\anaconda3\\lib\\site-packages (from pydantic<2,>=1.8.1->ydata-profiling[notebook]) (4.4.0)\n",
      "Requirement already satisfied: urllib3<1.27,>=1.21.1 in c:\\programdata\\anaconda3\\lib\\site-packages (from requests<3,>=2.24.0->ydata-profiling[notebook]) (1.26.14)\n",
      "Requirement already satisfied: certifi>=2017.4.17 in c:\\programdata\\anaconda3\\lib\\site-packages (from requests<3,>=2.24.0->ydata-profiling[notebook]) (2023.5.7)\n",
      "Requirement already satisfied: idna<4,>=2.5 in c:\\programdata\\anaconda3\\lib\\site-packages (from requests<3,>=2.24.0->ydata-profiling[notebook]) (3.4)\n",
      "Requirement already satisfied: charset-normalizer<3,>=2 in c:\\programdata\\anaconda3\\lib\\site-packages (from requests<3,>=2.24.0->ydata-profiling[notebook]) (2.0.4)\n",
      "Requirement already satisfied: patsy>=0.5.2 in c:\\programdata\\anaconda3\\lib\\site-packages (from statsmodels<1,>=0.13.2->ydata-profiling[notebook]) (0.5.3)\n",
      "Requirement already satisfied: colorama in c:\\programdata\\anaconda3\\lib\\site-packages (from tqdm<5,>=4.48.2->ydata-profiling[notebook]) (0.4.6)\n",
      "Requirement already satisfied: debugpy>=1.0 in c:\\programdata\\anaconda3\\lib\\site-packages (from ipykernel>=4.5.1->ipywidgets>=7.5.1->ydata-profiling[notebook]) (1.5.1)\n",
      "Requirement already satisfied: comm>=0.1.1 in c:\\programdata\\anaconda3\\lib\\site-packages (from ipykernel>=4.5.1->ipywidgets>=7.5.1->ydata-profiling[notebook]) (0.1.2)\n",
      "Requirement already satisfied: matplotlib-inline>=0.1 in c:\\programdata\\anaconda3\\lib\\site-packages (from ipykernel>=4.5.1->ipywidgets>=7.5.1->ydata-profiling[notebook]) (0.1.6)\n",
      "Requirement already satisfied: psutil in c:\\programdata\\anaconda3\\lib\\site-packages (from ipykernel>=4.5.1->ipywidgets>=7.5.1->ydata-profiling[notebook]) (5.9.0)\n",
      "Requirement already satisfied: backcall in c:\\programdata\\anaconda3\\lib\\site-packages (from ipython>=4.0.0->ipywidgets>=7.5.1->ydata-profiling[notebook]) (0.2.0)\n",
      "Requirement already satisfied: decorator in c:\\programdata\\anaconda3\\lib\\site-packages (from ipython>=4.0.0->ipywidgets>=7.5.1->ydata-profiling[notebook]) (5.1.1)\n",
      "Requirement already satisfied: pygments>=2.4.0 in c:\\programdata\\anaconda3\\lib\\site-packages (from ipython>=4.0.0->ipywidgets>=7.5.1->ydata-profiling[notebook]) (2.11.2)\n",
      "Requirement already satisfied: pickleshare in c:\\programdata\\anaconda3\\lib\\site-packages (from ipython>=4.0.0->ipywidgets>=7.5.1->ydata-profiling[notebook]) (0.7.5)\n",
      "Requirement already satisfied: prompt-toolkit<3.1.0,>=3.0.30 in c:\\programdata\\anaconda3\\lib\\site-packages (from ipython>=4.0.0->ipywidgets>=7.5.1->ydata-profiling[notebook]) (3.0.36)\n",
      "Requirement already satisfied: jedi>=0.16 in c:\\programdata\\anaconda3\\lib\\site-packages (from ipython>=4.0.0->ipywidgets>=7.5.1->ydata-profiling[notebook]) (0.18.1)\n",
      "Requirement already satisfied: stack-data in c:\\programdata\\anaconda3\\lib\\site-packages (from ipython>=4.0.0->ipywidgets>=7.5.1->ydata-profiling[notebook]) (0.2.0)\n",
      "Requirement already satisfied: jsonschema>=2.6 in c:\\programdata\\anaconda3\\lib\\site-packages (from nbformat>=4.2.0->ipywidgets>=7.5.1->ydata-profiling[notebook]) (4.17.3)\n",
      "Requirement already satisfied: fastjsonschema in c:\\programdata\\anaconda3\\lib\\site-packages (from nbformat>=4.2.0->ipywidgets>=7.5.1->ydata-profiling[notebook]) (2.16.2)\n",
      "Requirement already satisfied: six in c:\\programdata\\anaconda3\\lib\\site-packages (from patsy>=0.5.2->statsmodels<1,>=0.13.2->ydata-profiling[notebook]) (1.16.0)\n",
      "Requirement already satisfied: notebook>=4.4.1 in c:\\programdata\\anaconda3\\lib\\site-packages (from widgetsnbextension~=3.5.0->ipywidgets>=7.5.1->ydata-profiling[notebook]) (6.5.2)\n",
      "Requirement already satisfied: parso<0.9.0,>=0.8.0 in c:\\programdata\\anaconda3\\lib\\site-packages (from jedi>=0.16->ipython>=4.0.0->ipywidgets>=7.5.1->ydata-profiling[notebook]) (0.8.3)\n",
      "Requirement already satisfied: pyrsistent!=0.17.0,!=0.17.1,!=0.17.2,>=0.14.0 in c:\\programdata\\anaconda3\\lib\\site-packages (from jsonschema>=2.6->nbformat>=4.2.0->ipywidgets>=7.5.1->ydata-profiling[notebook]) (0.18.0)\n",
      "Requirement already satisfied: Send2Trash>=1.8.0 in c:\\programdata\\anaconda3\\lib\\site-packages (from notebook>=4.4.1->widgetsnbextension~=3.5.0->ipywidgets>=7.5.1->ydata-profiling[notebook]) (1.8.0)\n",
      "Requirement already satisfied: argon2-cffi in c:\\programdata\\anaconda3\\lib\\site-packages (from notebook>=4.4.1->widgetsnbextension~=3.5.0->ipywidgets>=7.5.1->ydata-profiling[notebook]) (21.3.0)\n",
      "Requirement already satisfied: terminado>=0.8.3 in c:\\programdata\\anaconda3\\lib\\site-packages (from notebook>=4.4.1->widgetsnbextension~=3.5.0->ipywidgets>=7.5.1->ydata-profiling[notebook]) (0.17.1)\n",
      "Requirement already satisfied: nbclassic>=0.4.7 in c:\\programdata\\anaconda3\\lib\\site-packages (from notebook>=4.4.1->widgetsnbextension~=3.5.0->ipywidgets>=7.5.1->ydata-profiling[notebook]) (0.5.2)\n",
      "Requirement already satisfied: nbconvert>=5 in c:\\programdata\\anaconda3\\lib\\site-packages (from notebook>=4.4.1->widgetsnbextension~=3.5.0->ipywidgets>=7.5.1->ydata-profiling[notebook]) (6.5.4)\n",
      "Requirement already satisfied: prometheus-client in c:\\programdata\\anaconda3\\lib\\site-packages (from notebook>=4.4.1->widgetsnbextension~=3.5.0->ipywidgets>=7.5.1->ydata-profiling[notebook]) (0.14.1)\n",
      "Requirement already satisfied: wcwidth in c:\\programdata\\anaconda3\\lib\\site-packages (from prompt-toolkit<3.1.0,>=3.0.30->ipython>=4.0.0->ipywidgets>=7.5.1->ydata-profiling[notebook]) (0.2.5)\n",
      "Requirement already satisfied: pure-eval in c:\\programdata\\anaconda3\\lib\\site-packages (from stack-data->ipython>=4.0.0->ipywidgets>=7.5.1->ydata-profiling[notebook]) (0.2.2)\n",
      "Requirement already satisfied: executing in c:\\programdata\\anaconda3\\lib\\site-packages (from stack-data->ipython>=4.0.0->ipywidgets>=7.5.1->ydata-profiling[notebook]) (0.8.3)\n",
      "Requirement already satisfied: asttokens in c:\\programdata\\anaconda3\\lib\\site-packages (from stack-data->ipython>=4.0.0->ipywidgets>=7.5.1->ydata-profiling[notebook]) (2.0.5)\n",
      "Requirement already satisfied: jupyter-server>=1.8 in c:\\programdata\\anaconda3\\lib\\site-packages (from nbclassic>=0.4.7->notebook>=4.4.1->widgetsnbextension~=3.5.0->ipywidgets>=7.5.1->ydata-profiling[notebook]) (1.23.4)\n",
      "Requirement already satisfied: notebook-shim>=0.1.0 in c:\\programdata\\anaconda3\\lib\\site-packages (from nbclassic>=0.4.7->notebook>=4.4.1->widgetsnbextension~=3.5.0->ipywidgets>=7.5.1->ydata-profiling[notebook]) (0.2.2)\n",
      "Requirement already satisfied: tinycss2 in c:\\programdata\\anaconda3\\lib\\site-packages (from nbconvert>=5->notebook>=4.4.1->widgetsnbextension~=3.5.0->ipywidgets>=7.5.1->ydata-profiling[notebook]) (1.2.1)\n",
      "Requirement already satisfied: nbclient>=0.5.0 in c:\\programdata\\anaconda3\\lib\\site-packages (from nbconvert>=5->notebook>=4.4.1->widgetsnbextension~=3.5.0->ipywidgets>=7.5.1->ydata-profiling[notebook]) (0.5.13)\n",
      "Requirement already satisfied: pandocfilters>=1.4.1 in c:\\programdata\\anaconda3\\lib\\site-packages (from nbconvert>=5->notebook>=4.4.1->widgetsnbextension~=3.5.0->ipywidgets>=7.5.1->ydata-profiling[notebook]) (1.5.0)\n",
      "Requirement already satisfied: jupyterlab-pygments in c:\\programdata\\anaconda3\\lib\\site-packages (from nbconvert>=5->notebook>=4.4.1->widgetsnbextension~=3.5.0->ipywidgets>=7.5.1->ydata-profiling[notebook]) (0.1.2)\n",
      "Requirement already satisfied: mistune<2,>=0.8.1 in c:\\programdata\\anaconda3\\lib\\site-packages (from nbconvert>=5->notebook>=4.4.1->widgetsnbextension~=3.5.0->ipywidgets>=7.5.1->ydata-profiling[notebook]) (0.8.4)\n",
      "Requirement already satisfied: bleach in c:\\programdata\\anaconda3\\lib\\site-packages (from nbconvert>=5->notebook>=4.4.1->widgetsnbextension~=3.5.0->ipywidgets>=7.5.1->ydata-profiling[notebook]) (4.1.0)\n",
      "Requirement already satisfied: lxml in c:\\programdata\\anaconda3\\lib\\site-packages (from nbconvert>=5->notebook>=4.4.1->widgetsnbextension~=3.5.0->ipywidgets>=7.5.1->ydata-profiling[notebook]) (4.9.1)\n",
      "Requirement already satisfied: beautifulsoup4 in c:\\programdata\\anaconda3\\lib\\site-packages (from nbconvert>=5->notebook>=4.4.1->widgetsnbextension~=3.5.0->ipywidgets>=7.5.1->ydata-profiling[notebook]) (4.11.1)\n",
      "Requirement already satisfied: defusedxml in c:\\programdata\\anaconda3\\lib\\site-packages (from nbconvert>=5->notebook>=4.4.1->widgetsnbextension~=3.5.0->ipywidgets>=7.5.1->ydata-profiling[notebook]) (0.7.1)\n",
      "Requirement already satisfied: pywinpty>=1.1.0 in c:\\programdata\\anaconda3\\lib\\site-packages (from terminado>=0.8.3->notebook>=4.4.1->widgetsnbextension~=3.5.0->ipywidgets>=7.5.1->ydata-profiling[notebook]) (2.0.10)\n",
      "Requirement already satisfied: argon2-cffi-bindings in c:\\programdata\\anaconda3\\lib\\site-packages (from argon2-cffi->notebook>=4.4.1->widgetsnbextension~=3.5.0->ipywidgets>=7.5.1->ydata-profiling[notebook]) (21.2.0)\n",
      "Requirement already satisfied: websocket-client in c:\\programdata\\anaconda3\\lib\\site-packages (from jupyter-server>=1.8->nbclassic>=0.4.7->notebook>=4.4.1->widgetsnbextension~=3.5.0->ipywidgets>=7.5.1->ydata-profiling[notebook]) (0.58.0)\n",
      "Requirement already satisfied: anyio<4,>=3.1.0 in c:\\programdata\\anaconda3\\lib\\site-packages (from jupyter-server>=1.8->nbclassic>=0.4.7->notebook>=4.4.1->widgetsnbextension~=3.5.0->ipywidgets>=7.5.1->ydata-profiling[notebook]) (3.5.0)\n",
      "Requirement already satisfied: cffi>=1.0.1 in c:\\programdata\\anaconda3\\lib\\site-packages (from argon2-cffi-bindings->argon2-cffi->notebook>=4.4.1->widgetsnbextension~=3.5.0->ipywidgets>=7.5.1->ydata-profiling[notebook]) (1.15.1)\n",
      "Requirement already satisfied: soupsieve>1.2 in c:\\programdata\\anaconda3\\lib\\site-packages (from beautifulsoup4->nbconvert>=5->notebook>=4.4.1->widgetsnbextension~=3.5.0->ipywidgets>=7.5.1->ydata-profiling[notebook]) (2.3.2.post1)\n",
      "Requirement already satisfied: webencodings in c:\\programdata\\anaconda3\\lib\\site-packages (from bleach->nbconvert>=5->notebook>=4.4.1->widgetsnbextension~=3.5.0->ipywidgets>=7.5.1->ydata-profiling[notebook]) (0.5.1)\n",
      "Requirement already satisfied: sniffio>=1.1 in c:\\programdata\\anaconda3\\lib\\site-packages (from anyio<4,>=3.1.0->jupyter-server>=1.8->nbclassic>=0.4.7->notebook>=4.4.1->widgetsnbextension~=3.5.0->ipywidgets>=7.5.1->ydata-profiling[notebook]) (1.2.0)\n",
      "Requirement already satisfied: pycparser in c:\\programdata\\anaconda3\\lib\\site-packages (from cffi>=1.0.1->argon2-cffi-bindings->argon2-cffi->notebook>=4.4.1->widgetsnbextension~=3.5.0->ipywidgets>=7.5.1->ydata-profiling[notebook]) (2.21)\n"
     ]
    },
    {
     "name": "stderr",
     "output_type": "stream",
     "text": [
      "Enabling notebook extension jupyter-js-widgets/extension...\n",
      "      - Validating: ok\n"
     ]
    }
   ],
   "source": [
    "import sys\n",
    "!{sys.executable} -m pip install -U ydata-profiling[notebook]\n",
    "!jupyter nbextension enable --py widgetsnbextension"
   ]
  },
  {
   "cell_type": "code",
   "execution_count": 198,
   "metadata": {},
   "outputs": [],
   "source": [
    "from ydata_profiling import ProfileReport"
   ]
  },
  {
   "cell_type": "code",
   "execution_count": 199,
   "metadata": {},
   "outputs": [],
   "source": [
    "#df_code_py = pd.read_parquet('df_code_py.gzip')"
   ]
  },
  {
   "cell_type": "code",
   "execution_count": 1,
   "metadata": {},
   "outputs": [
    {
     "ename": "NameError",
     "evalue": "name 'ProfileReport' is not defined",
     "output_type": "error",
     "traceback": [
      "\u001b[1;31m---------------------------------------------------------------------------\u001b[0m",
      "\u001b[1;31mNameError\u001b[0m                                 Traceback (most recent call last)",
      "Cell \u001b[1;32mIn[1], line 1\u001b[0m\n\u001b[1;32m----> 1\u001b[0m profile \u001b[39m=\u001b[39m ProfileReport(df_code_py[df_code_py\u001b[39m.\u001b[39mcolumns\u001b[39m.\u001b[39mdifference([\u001b[39m\"\u001b[39m\u001b[39mupload\u001b[39m\u001b[39m\"\u001b[39m, \u001b[39m\"\u001b[39m\u001b[39mtokens\u001b[39m\u001b[39m\"\u001b[39m, \u001b[39m\"\u001b[39m\u001b[39mtoken_code_only\u001b[39m\u001b[39m\"\u001b[39m])], title\u001b[39m=\u001b[39m\u001b[39m\"\u001b[39m\u001b[39mPython Code Upload Profile\u001b[39m\u001b[39m\"\u001b[39m)\n",
      "\u001b[1;31mNameError\u001b[0m: name 'ProfileReport' is not defined"
     ]
    }
   ],
   "source": [
    "profile = ProfileReport(df_code_py[df_code_py.columns.difference([\"upload\", \"tokens\", \"token_code_only\"])], title=\"Python Code Upload Profile\")"
   ]
  },
  {
   "cell_type": "code",
   "execution_count": null,
   "metadata": {},
   "outputs": [
    {
     "data": {
      "application/vnd.jupyter.widget-view+json": {
       "model_id": "fe8d3362e9fb4ddfa9880ca12f9060b4",
       "version_major": 2,
       "version_minor": 0
      },
      "text/plain": [
       "Summarize dataset:   0%|          | 0/5 [00:00<?, ?it/s]"
      ]
     },
     "metadata": {},
     "output_type": "display_data"
    }
   ],
   "source": [
    "profile.to_notebook_iframe()"
   ]
  }
 ],
 "metadata": {
  "kernelspec": {
   "display_name": "base",
   "language": "python",
   "name": "python3"
  },
  "language_info": {
   "codemirror_mode": {
    "name": "ipython",
    "version": 3
   },
   "file_extension": ".py",
   "mimetype": "text/x-python",
   "name": "python",
   "nbconvert_exporter": "python",
   "pygments_lexer": "ipython3",
   "version": "3.10.9"
  },
  "orig_nbformat": 4
 },
 "nbformat": 4,
 "nbformat_minor": 2
}
