{
 "cells": [
  {
   "cell_type": "code",
   "execution_count": 1,
   "metadata": {},
   "outputs": [],
   "source": [
    "import json\n",
    "import pandas as pd"
   ]
  },
  {
   "cell_type": "code",
   "execution_count": 2,
   "metadata": {},
   "outputs": [
    {
     "data": {
      "text/plain": [
       "'c:\\\\Users\\\\felix\\\\Documents\\\\School\\\\Ryerson\\\\MRP\\\\mrp_files'"
      ]
     },
     "execution_count": 2,
     "metadata": {},
     "output_type": "execute_result"
    }
   ],
   "source": [
    "import os\n",
    "os.getcwd()"
   ]
  },
  {
   "cell_type": "code",
   "execution_count": 3,
   "metadata": {},
   "outputs": [],
   "source": [
    "grades_raw = open(\"grades_data.json\")\n",
    "code_raw = open(\"programming_data.json\")"
   ]
  },
  {
   "cell_type": "code",
   "execution_count": 4,
   "metadata": {},
   "outputs": [],
   "source": [
    "grades_raw = json.load(grades_raw)\n",
    "code_raw = json.load(code_raw)"
   ]
  },
  {
   "cell_type": "code",
   "execution_count": 5,
   "metadata": {},
   "outputs": [],
   "source": [
    "df_grades = pd.json_normalize(grades_raw)\n",
    "df_code = pd.json_normalize(code_raw)"
   ]
  },
  {
   "cell_type": "code",
   "execution_count": 6,
   "metadata": {},
   "outputs": [
    {
     "data": {
      "text/html": [
       "<div>\n",
       "<style scoped>\n",
       "    .dataframe tbody tr th:only-of-type {\n",
       "        vertical-align: middle;\n",
       "    }\n",
       "\n",
       "    .dataframe tbody tr th {\n",
       "        vertical-align: top;\n",
       "    }\n",
       "\n",
       "    .dataframe thead th {\n",
       "        text-align: right;\n",
       "    }\n",
       "</style>\n",
       "<table border=\"1\" class=\"dataframe\">\n",
       "  <thead>\n",
       "    <tr style=\"text-align: right;\">\n",
       "      <th></th>\n",
       "      <th>exam_week</th>\n",
       "      <th>academic_year_1</th>\n",
       "      <th>academic_year_0</th>\n",
       "      <th>module</th>\n",
       "      <th>grade</th>\n",
       "      <th>user</th>\n",
       "    </tr>\n",
       "  </thead>\n",
       "  <tbody>\n",
       "    <tr>\n",
       "      <th>0</th>\n",
       "      <td>12</td>\n",
       "      <td>2016</td>\n",
       "      <td>2015</td>\n",
       "      <td>ca114</td>\n",
       "      <td>40</td>\n",
       "      <td>e45f938b-9d5c-4838-86ce-0755e3c97053</td>\n",
       "    </tr>\n",
       "    <tr>\n",
       "      <th>1</th>\n",
       "      <td>12</td>\n",
       "      <td>2016</td>\n",
       "      <td>2015</td>\n",
       "      <td>ca114</td>\n",
       "      <td>60</td>\n",
       "      <td>91b06877-f0e0-4af9-bbd4-b20ffa90e36b</td>\n",
       "    </tr>\n",
       "    <tr>\n",
       "      <th>2</th>\n",
       "      <td>12</td>\n",
       "      <td>2016</td>\n",
       "      <td>2015</td>\n",
       "      <td>ca114</td>\n",
       "      <td>60</td>\n",
       "      <td>b9e7e608-6036-4d44-8770-a7036176b53c</td>\n",
       "    </tr>\n",
       "    <tr>\n",
       "      <th>3</th>\n",
       "      <td>12</td>\n",
       "      <td>2016</td>\n",
       "      <td>2015</td>\n",
       "      <td>ca114</td>\n",
       "      <td>100</td>\n",
       "      <td>78cd7f00-c86a-46a4-ab20-040f317a60ca</td>\n",
       "    </tr>\n",
       "    <tr>\n",
       "      <th>4</th>\n",
       "      <td>12</td>\n",
       "      <td>2016</td>\n",
       "      <td>2015</td>\n",
       "      <td>ca114</td>\n",
       "      <td>60</td>\n",
       "      <td>80965c2d-45d9-440d-b3c3-403c112145e9</td>\n",
       "    </tr>\n",
       "  </tbody>\n",
       "</table>\n",
       "</div>"
      ],
      "text/plain": [
       "   exam_week  academic_year_1  academic_year_0 module  grade  \\\n",
       "0         12             2016             2015  ca114     40   \n",
       "1         12             2016             2015  ca114     60   \n",
       "2         12             2016             2015  ca114     60   \n",
       "3         12             2016             2015  ca114    100   \n",
       "4         12             2016             2015  ca114     60   \n",
       "\n",
       "                                   user  \n",
       "0  e45f938b-9d5c-4838-86ce-0755e3c97053  \n",
       "1  91b06877-f0e0-4af9-bbd4-b20ffa90e36b  \n",
       "2  b9e7e608-6036-4d44-8770-a7036176b53c  \n",
       "3  78cd7f00-c86a-46a4-ab20-040f317a60ca  \n",
       "4  80965c2d-45d9-440d-b3c3-403c112145e9  "
      ]
     },
     "execution_count": 6,
     "metadata": {},
     "output_type": "execute_result"
    }
   ],
   "source": [
    "df_grades.head()"
   ]
  },
  {
   "cell_type": "code",
   "execution_count": 7,
   "metadata": {},
   "outputs": [
    {
     "data": {
      "text/html": [
       "<div>\n",
       "<style scoped>\n",
       "    .dataframe tbody tr th:only-of-type {\n",
       "        vertical-align: middle;\n",
       "    }\n",
       "\n",
       "    .dataframe tbody tr th {\n",
       "        vertical-align: top;\n",
       "    }\n",
       "\n",
       "    .dataframe thead th {\n",
       "        text-align: right;\n",
       "    }\n",
       "</style>\n",
       "<table border=\"1\" class=\"dataframe\">\n",
       "  <thead>\n",
       "    <tr style=\"text-align: right;\">\n",
       "      <th></th>\n",
       "      <th>academic_year_1</th>\n",
       "      <th>task</th>\n",
       "      <th>user</th>\n",
       "      <th>extension</th>\n",
       "      <th>ip</th>\n",
       "      <th>date</th>\n",
       "      <th>academic_year_0</th>\n",
       "      <th>upload</th>\n",
       "      <th>module</th>\n",
       "      <th>correct</th>\n",
       "    </tr>\n",
       "  </thead>\n",
       "  <tbody>\n",
       "    <tr>\n",
       "      <th>0</th>\n",
       "      <td>2017</td>\n",
       "      <td>add.py</td>\n",
       "      <td>b9e7e608-6036-4d44-8770-a7036176b53c</td>\n",
       "      <td>py</td>\n",
       "      <td></td>\n",
       "      <td>2016-09-19 14:11:41</td>\n",
       "      <td>2016</td>\n",
       "      <td>#!/usr/bin/env python\\n\\na = int(raw_input())\\...</td>\n",
       "      <td>ca277</td>\n",
       "      <td>True</td>\n",
       "    </tr>\n",
       "    <tr>\n",
       "      <th>1</th>\n",
       "      <td>2017</td>\n",
       "      <td>concat-lines.py</td>\n",
       "      <td>b9e7e608-6036-4d44-8770-a7036176b53c</td>\n",
       "      <td>py</td>\n",
       "      <td></td>\n",
       "      <td>2016-09-19 14:17:33</td>\n",
       "      <td>2016</td>\n",
       "      <td>#!/usr/bin/env python\\n\\na = str(raw_input())\\...</td>\n",
       "      <td>ca277</td>\n",
       "      <td>True</td>\n",
       "    </tr>\n",
       "    <tr>\n",
       "      <th>2</th>\n",
       "      <td>2017</td>\n",
       "      <td>goodbye.py</td>\n",
       "      <td>b9e7e608-6036-4d44-8770-a7036176b53c</td>\n",
       "      <td>py</td>\n",
       "      <td></td>\n",
       "      <td>2016-09-19 10:15:59</td>\n",
       "      <td>2016</td>\n",
       "      <td>#!/usr/bin/env python\\n\\nprint \"Goodbye\"\\n</td>\n",
       "      <td>ca277</td>\n",
       "      <td>True</td>\n",
       "    </tr>\n",
       "    <tr>\n",
       "      <th>3</th>\n",
       "      <td>2017</td>\n",
       "      <td>less-than.py</td>\n",
       "      <td>b9e7e608-6036-4d44-8770-a7036176b53c</td>\n",
       "      <td>py</td>\n",
       "      <td></td>\n",
       "      <td>2016-09-19 14:14:22</td>\n",
       "      <td>2016</td>\n",
       "      <td>#!/usr/bin/env python\\n\\na = int(raw_input())\\...</td>\n",
       "      <td>ca277</td>\n",
       "      <td>True</td>\n",
       "    </tr>\n",
       "    <tr>\n",
       "      <th>4</th>\n",
       "      <td>2017</td>\n",
       "      <td>longest-line.py</td>\n",
       "      <td>b9e7e608-6036-4d44-8770-a7036176b53c</td>\n",
       "      <td>py</td>\n",
       "      <td></td>\n",
       "      <td>2016-09-19 14:51:28</td>\n",
       "      <td>2016</td>\n",
       "      <td>#!usr/bin/evn python\\n\\na = raw_input()\\nb = r...</td>\n",
       "      <td>ca277</td>\n",
       "      <td>True</td>\n",
       "    </tr>\n",
       "  </tbody>\n",
       "</table>\n",
       "</div>"
      ],
      "text/plain": [
       "  academic_year_1             task                                  user  \\\n",
       "0            2017           add.py  b9e7e608-6036-4d44-8770-a7036176b53c   \n",
       "1            2017  concat-lines.py  b9e7e608-6036-4d44-8770-a7036176b53c   \n",
       "2            2017       goodbye.py  b9e7e608-6036-4d44-8770-a7036176b53c   \n",
       "3            2017     less-than.py  b9e7e608-6036-4d44-8770-a7036176b53c   \n",
       "4            2017  longest-line.py  b9e7e608-6036-4d44-8770-a7036176b53c   \n",
       "\n",
       "  extension ip                 date academic_year_0  \\\n",
       "0        py     2016-09-19 14:11:41            2016   \n",
       "1        py     2016-09-19 14:17:33            2016   \n",
       "2        py     2016-09-19 10:15:59            2016   \n",
       "3        py     2016-09-19 14:14:22            2016   \n",
       "4        py     2016-09-19 14:51:28            2016   \n",
       "\n",
       "                                              upload module  correct  \n",
       "0  #!/usr/bin/env python\\n\\na = int(raw_input())\\...  ca277     True  \n",
       "1  #!/usr/bin/env python\\n\\na = str(raw_input())\\...  ca277     True  \n",
       "2         #!/usr/bin/env python\\n\\nprint \"Goodbye\"\\n  ca277     True  \n",
       "3  #!/usr/bin/env python\\n\\na = int(raw_input())\\...  ca277     True  \n",
       "4  #!usr/bin/evn python\\n\\na = raw_input()\\nb = r...  ca277     True  "
      ]
     },
     "execution_count": 7,
     "metadata": {},
     "output_type": "execute_result"
    }
   ],
   "source": [
    "df_code.head()"
   ]
  },
  {
   "cell_type": "code",
   "execution_count": 8,
   "metadata": {},
   "outputs": [
    {
     "data": {
      "text/plain": [
       "(591707, 10)"
      ]
     },
     "execution_count": 8,
     "metadata": {},
     "output_type": "execute_result"
    }
   ],
   "source": [
    "df_code.shape"
   ]
  },
  {
   "cell_type": "code",
   "execution_count": 9,
   "metadata": {},
   "outputs": [
    {
     "data": {
      "text/plain": [
       "(2774, 6)"
      ]
     },
     "execution_count": 9,
     "metadata": {},
     "output_type": "execute_result"
    }
   ],
   "source": [
    "df_grades.shape"
   ]
  },
  {
   "cell_type": "code",
   "execution_count": 10,
   "metadata": {},
   "outputs": [],
   "source": [
    "import matplotlib.pyplot as plt"
   ]
  },
  {
   "cell_type": "code",
   "execution_count": 11,
   "metadata": {},
   "outputs": [
    {
     "data": {
      "text/html": [
       "<div>\n",
       "<style scoped>\n",
       "    .dataframe tbody tr th:only-of-type {\n",
       "        vertical-align: middle;\n",
       "    }\n",
       "\n",
       "    .dataframe tbody tr th {\n",
       "        vertical-align: top;\n",
       "    }\n",
       "\n",
       "    .dataframe thead th {\n",
       "        text-align: right;\n",
       "    }\n",
       "</style>\n",
       "<table border=\"1\" class=\"dataframe\">\n",
       "  <thead>\n",
       "    <tr style=\"text-align: right;\">\n",
       "      <th></th>\n",
       "      <th>exam_week</th>\n",
       "      <th>academic_year_1</th>\n",
       "      <th>academic_year_0</th>\n",
       "      <th>grade</th>\n",
       "    </tr>\n",
       "  </thead>\n",
       "  <tbody>\n",
       "    <tr>\n",
       "      <th>count</th>\n",
       "      <td>2774.000000</td>\n",
       "      <td>2774.000000</td>\n",
       "      <td>2774.000000</td>\n",
       "      <td>2774.000000</td>\n",
       "    </tr>\n",
       "    <tr>\n",
       "      <th>mean</th>\n",
       "      <td>8.653929</td>\n",
       "      <td>2017.149964</td>\n",
       "      <td>2016.149964</td>\n",
       "      <td>53.357246</td>\n",
       "    </tr>\n",
       "    <tr>\n",
       "      <th>std</th>\n",
       "      <td>3.066152</td>\n",
       "      <td>0.795229</td>\n",
       "      <td>0.795229</td>\n",
       "      <td>34.057497</td>\n",
       "    </tr>\n",
       "    <tr>\n",
       "      <th>min</th>\n",
       "      <td>4.000000</td>\n",
       "      <td>2016.000000</td>\n",
       "      <td>2015.000000</td>\n",
       "      <td>0.000000</td>\n",
       "    </tr>\n",
       "    <tr>\n",
       "      <th>25%</th>\n",
       "      <td>6.000000</td>\n",
       "      <td>2016.000000</td>\n",
       "      <td>2015.000000</td>\n",
       "      <td>25.000000</td>\n",
       "    </tr>\n",
       "    <tr>\n",
       "      <th>50%</th>\n",
       "      <td>8.000000</td>\n",
       "      <td>2017.000000</td>\n",
       "      <td>2016.000000</td>\n",
       "      <td>50.000000</td>\n",
       "    </tr>\n",
       "    <tr>\n",
       "      <th>75%</th>\n",
       "      <td>12.000000</td>\n",
       "      <td>2018.000000</td>\n",
       "      <td>2017.000000</td>\n",
       "      <td>80.000000</td>\n",
       "    </tr>\n",
       "    <tr>\n",
       "      <th>max</th>\n",
       "      <td>12.000000</td>\n",
       "      <td>2018.000000</td>\n",
       "      <td>2017.000000</td>\n",
       "      <td>100.000000</td>\n",
       "    </tr>\n",
       "  </tbody>\n",
       "</table>\n",
       "</div>"
      ],
      "text/plain": [
       "         exam_week  academic_year_1  academic_year_0        grade\n",
       "count  2774.000000      2774.000000      2774.000000  2774.000000\n",
       "mean      8.653929      2017.149964      2016.149964    53.357246\n",
       "std       3.066152         0.795229         0.795229    34.057497\n",
       "min       4.000000      2016.000000      2015.000000     0.000000\n",
       "25%       6.000000      2016.000000      2015.000000    25.000000\n",
       "50%       8.000000      2017.000000      2016.000000    50.000000\n",
       "75%      12.000000      2018.000000      2017.000000    80.000000\n",
       "max      12.000000      2018.000000      2017.000000   100.000000"
      ]
     },
     "execution_count": 11,
     "metadata": {},
     "output_type": "execute_result"
    }
   ],
   "source": [
    "df_grades.describe()"
   ]
  },
  {
   "cell_type": "code",
   "execution_count": 23,
   "metadata": {},
   "outputs": [
    {
     "data": {
      "text/plain": [
       "2017    1116\n",
       "2016     958\n",
       "2015     700\n",
       "Name: academic_year_0, dtype: int64"
      ]
     },
     "execution_count": 23,
     "metadata": {},
     "output_type": "execute_result"
    }
   ],
   "source": [
    "df_grades[\"academic_year_0\"].value_counts()"
   ]
  },
  {
   "cell_type": "code",
   "execution_count": 24,
   "metadata": {},
   "outputs": [
    {
     "data": {
      "text/plain": [
       "2017    320007\n",
       "2016    260247\n",
       "2015     11437\n",
       "2018         9\n",
       "             7\n",
       "Name: academic_year_0, dtype: int64"
      ]
     },
     "execution_count": 24,
     "metadata": {},
     "output_type": "execute_result"
    }
   ],
   "source": [
    "df_code[\"academic_year_0\"].value_counts()"
   ]
  },
  {
   "cell_type": "code",
   "execution_count": 25,
   "metadata": {},
   "outputs": [
    {
     "data": {
      "text/plain": [
       "ca117    167917\n",
       "ca116    143905\n",
       "ca114     85320\n",
       "ca177     81300\n",
       "ca277     60093\n",
       "ca278     37605\n",
       "ca320     15337\n",
       "ca000       227\n",
       "ca247         3\n",
       "Name: module, dtype: int64"
      ]
     },
     "execution_count": 25,
     "metadata": {},
     "output_type": "execute_result"
    }
   ],
   "source": [
    "df_code[\"module\"].value_counts()"
   ]
  },
  {
   "cell_type": "code",
   "execution_count": 26,
   "metadata": {},
   "outputs": [
    {
     "data": {
      "text/plain": [
       "ca116    1036\n",
       "ca117     874\n",
       "ca114     411\n",
       "ca277     259\n",
       "ca278     194\n",
       "Name: module, dtype: int64"
      ]
     },
     "execution_count": 26,
     "metadata": {},
     "output_type": "execute_result"
    }
   ],
   "source": [
    "df_grades[\"module\"].value_counts()"
   ]
  },
  {
   "cell_type": "code",
   "execution_count": 12,
   "metadata": {},
   "outputs": [
    {
     "name": "stdout",
     "output_type": "stream",
     "text": [
      "<class 'pandas.core.frame.DataFrame'>\n",
      "RangeIndex: 2774 entries, 0 to 2773\n",
      "Data columns (total 6 columns):\n",
      " #   Column           Non-Null Count  Dtype \n",
      "---  ------           --------------  ----- \n",
      " 0   exam_week        2774 non-null   int64 \n",
      " 1   academic_year_1  2774 non-null   int64 \n",
      " 2   academic_year_0  2774 non-null   int64 \n",
      " 3   module           2774 non-null   object\n",
      " 4   grade            2774 non-null   int64 \n",
      " 5   user             2774 non-null   object\n",
      "dtypes: int64(4), object(2)\n",
      "memory usage: 130.2+ KB\n"
     ]
    }
   ],
   "source": [
    "df_grades.info()"
   ]
  },
  {
   "cell_type": "code",
   "execution_count": 13,
   "metadata": {},
   "outputs": [
    {
     "data": {
      "text/html": [
       "<div>\n",
       "<style scoped>\n",
       "    .dataframe tbody tr th:only-of-type {\n",
       "        vertical-align: middle;\n",
       "    }\n",
       "\n",
       "    .dataframe tbody tr th {\n",
       "        vertical-align: top;\n",
       "    }\n",
       "\n",
       "    .dataframe thead th {\n",
       "        text-align: right;\n",
       "    }\n",
       "</style>\n",
       "<table border=\"1\" class=\"dataframe\">\n",
       "  <thead>\n",
       "    <tr style=\"text-align: right;\">\n",
       "      <th></th>\n",
       "      <th>academic_year_1</th>\n",
       "      <th>task</th>\n",
       "      <th>user</th>\n",
       "      <th>extension</th>\n",
       "      <th>ip</th>\n",
       "      <th>date</th>\n",
       "      <th>academic_year_0</th>\n",
       "      <th>upload</th>\n",
       "      <th>module</th>\n",
       "      <th>correct</th>\n",
       "    </tr>\n",
       "  </thead>\n",
       "  <tbody>\n",
       "    <tr>\n",
       "      <th>count</th>\n",
       "      <td>591707</td>\n",
       "      <td>591707</td>\n",
       "      <td>591707</td>\n",
       "      <td>591707</td>\n",
       "      <td>591707</td>\n",
       "      <td>591707</td>\n",
       "      <td>591707</td>\n",
       "      <td>591707</td>\n",
       "      <td>591707</td>\n",
       "      <td>591707</td>\n",
       "    </tr>\n",
       "    <tr>\n",
       "      <th>unique</th>\n",
       "      <td>5</td>\n",
       "      <td>1138</td>\n",
       "      <td>641</td>\n",
       "      <td>5</td>\n",
       "      <td>5048</td>\n",
       "      <td>406782</td>\n",
       "      <td>5</td>\n",
       "      <td>390409</td>\n",
       "      <td>9</td>\n",
       "      <td>2</td>\n",
       "    </tr>\n",
       "    <tr>\n",
       "      <th>top</th>\n",
       "      <td>2018</td>\n",
       "      <td>stableford_122.py</td>\n",
       "      <td>4a1f2726-b713-40f0-b544-9de55d617a12</td>\n",
       "      <td>py</td>\n",
       "      <td></td>\n",
       "      <td>2016-10-12 21:44:54</td>\n",
       "      <td>2017</td>\n",
       "      <td></td>\n",
       "      <td>ca117</td>\n",
       "      <td>False</td>\n",
       "    </tr>\n",
       "    <tr>\n",
       "      <th>freq</th>\n",
       "      <td>320007</td>\n",
       "      <td>3721</td>\n",
       "      <td>7503</td>\n",
       "      <td>490829</td>\n",
       "      <td>79211</td>\n",
       "      <td>19</td>\n",
       "      <td>320007</td>\n",
       "      <td>953</td>\n",
       "      <td>167917</td>\n",
       "      <td>358557</td>\n",
       "    </tr>\n",
       "  </tbody>\n",
       "</table>\n",
       "</div>"
      ],
      "text/plain": [
       "        academic_year_1               task  \\\n",
       "count            591707             591707   \n",
       "unique                5               1138   \n",
       "top                2018  stableford_122.py   \n",
       "freq             320007               3721   \n",
       "\n",
       "                                        user extension      ip  \\\n",
       "count                                 591707    591707  591707   \n",
       "unique                                   641         5    5048   \n",
       "top     4a1f2726-b713-40f0-b544-9de55d617a12        py           \n",
       "freq                                    7503    490829   79211   \n",
       "\n",
       "                       date  academic_year_0  upload  module correct  \n",
       "count                591707           591707  591707  591707  591707  \n",
       "unique               406782                5  390409       9       2  \n",
       "top     2016-10-12 21:44:54             2017           ca117   False  \n",
       "freq                     19           320007     953  167917  358557  "
      ]
     },
     "execution_count": 13,
     "metadata": {},
     "output_type": "execute_result"
    }
   ],
   "source": [
    "df_code.describe()"
   ]
  },
  {
   "cell_type": "code",
   "execution_count": 14,
   "metadata": {},
   "outputs": [
    {
     "name": "stdout",
     "output_type": "stream",
     "text": [
      "<class 'pandas.core.frame.DataFrame'>\n",
      "RangeIndex: 591707 entries, 0 to 591706\n",
      "Data columns (total 10 columns):\n",
      " #   Column           Non-Null Count   Dtype \n",
      "---  ------           --------------   ----- \n",
      " 0   academic_year_1  591707 non-null  object\n",
      " 1   task             591707 non-null  object\n",
      " 2   user             591707 non-null  object\n",
      " 3   extension        591707 non-null  object\n",
      " 4   ip               591707 non-null  object\n",
      " 5   date             591707 non-null  object\n",
      " 6   academic_year_0  591707 non-null  object\n",
      " 7   upload           591707 non-null  object\n",
      " 8   module           591707 non-null  object\n",
      " 9   correct          591707 non-null  bool  \n",
      "dtypes: bool(1), object(9)\n",
      "memory usage: 41.2+ MB\n"
     ]
    }
   ],
   "source": [
    "df_code.info()"
   ]
  },
  {
   "cell_type": "code",
   "execution_count": 15,
   "metadata": {},
   "outputs": [
    {
     "data": {
      "text/plain": [
       "[Text(0, 0, '353'),\n",
       " Text(0, 0, '154'),\n",
       " Text(0, 0, '322'),\n",
       " Text(0, 0, '127'),\n",
       " Text(0, 0, '228'),\n",
       " Text(0, 0, '336'),\n",
       " Text(0, 0, '151'),\n",
       " Text(0, 0, '353'),\n",
       " Text(0, 0, '125'),\n",
       " Text(0, 0, '625')]"
      ]
     },
     "execution_count": 15,
     "metadata": {},
     "output_type": "execute_result"
    },
    {
     "data": {
      "image/png": "[encoded data removed]",
      "text/plain": [
       "<Figure size 640x480 with 1 Axes>"
      ]
     },
     "metadata": {},
     "output_type": "display_data"
    }
   ],
   "source": [
    "val, bin, bar = plt.hist(df_grades[\"grade\"], label=\"Inline label\", ec=\"white\")\n",
    "plt.xlabel(\"Grade\")\n",
    "plt.ylabel(\"Count\")\n",
    "plt.title(\"Grade Histogram - All Courses\")\n",
    "plt.bar_label(bar, fontsize=10, c=\"black\")"
   ]
  },
  {
   "cell_type": "code",
   "execution_count": 16,
   "metadata": {},
   "outputs": [
    {
     "data": {
      "text/html": [
       "<div>\n",
       "<style scoped>\n",
       "    .dataframe tbody tr th:only-of-type {\n",
       "        vertical-align: middle;\n",
       "    }\n",
       "\n",
       "    .dataframe tbody tr th {\n",
       "        vertical-align: top;\n",
       "    }\n",
       "\n",
       "    .dataframe thead th {\n",
       "        text-align: right;\n",
       "    }\n",
       "</style>\n",
       "<table border=\"1\" class=\"dataframe\">\n",
       "  <thead>\n",
       "    <tr style=\"text-align: right;\">\n",
       "      <th></th>\n",
       "      <th>exam_week</th>\n",
       "      <th>academic_year_1</th>\n",
       "      <th>academic_year_0</th>\n",
       "      <th>module</th>\n",
       "      <th>grade</th>\n",
       "      <th>user</th>\n",
       "    </tr>\n",
       "  </thead>\n",
       "  <tbody>\n",
       "    <tr>\n",
       "      <th>0</th>\n",
       "      <td>12</td>\n",
       "      <td>2016</td>\n",
       "      <td>2015</td>\n",
       "      <td>ca114</td>\n",
       "      <td>40</td>\n",
       "      <td>e45f938b-9d5c-4838-86ce-0755e3c97053</td>\n",
       "    </tr>\n",
       "    <tr>\n",
       "      <th>70</th>\n",
       "      <td>6</td>\n",
       "      <td>2016</td>\n",
       "      <td>2015</td>\n",
       "      <td>ca114</td>\n",
       "      <td>20</td>\n",
       "      <td>e45f938b-9d5c-4838-86ce-0755e3c97053</td>\n",
       "    </tr>\n",
       "    <tr>\n",
       "      <th>2321</th>\n",
       "      <td>12</td>\n",
       "      <td>2017</td>\n",
       "      <td>2016</td>\n",
       "      <td>ca277</td>\n",
       "      <td>10</td>\n",
       "      <td>e45f938b-9d5c-4838-86ce-0755e3c97053</td>\n",
       "    </tr>\n",
       "    <tr>\n",
       "      <th>2580</th>\n",
       "      <td>6</td>\n",
       "      <td>2017</td>\n",
       "      <td>2016</td>\n",
       "      <td>ca278</td>\n",
       "      <td>26</td>\n",
       "      <td>e45f938b-9d5c-4838-86ce-0755e3c97053</td>\n",
       "    </tr>\n",
       "    <tr>\n",
       "      <th>2636</th>\n",
       "      <td>12</td>\n",
       "      <td>2017</td>\n",
       "      <td>2016</td>\n",
       "      <td>ca278</td>\n",
       "      <td>67</td>\n",
       "      <td>e45f938b-9d5c-4838-86ce-0755e3c97053</td>\n",
       "    </tr>\n",
       "  </tbody>\n",
       "</table>\n",
       "</div>"
      ],
      "text/plain": [
       "      exam_week  academic_year_1  academic_year_0 module  grade  \\\n",
       "0            12             2016             2015  ca114     40   \n",
       "70            6             2016             2015  ca114     20   \n",
       "2321         12             2017             2016  ca277     10   \n",
       "2580          6             2017             2016  ca278     26   \n",
       "2636         12             2017             2016  ca278     67   \n",
       "\n",
       "                                      user  \n",
       "0     e45f938b-9d5c-4838-86ce-0755e3c97053  \n",
       "70    e45f938b-9d5c-4838-86ce-0755e3c97053  \n",
       "2321  e45f938b-9d5c-4838-86ce-0755e3c97053  \n",
       "2580  e45f938b-9d5c-4838-86ce-0755e3c97053  \n",
       "2636  e45f938b-9d5c-4838-86ce-0755e3c97053  "
      ]
     },
     "execution_count": 16,
     "metadata": {},
     "output_type": "execute_result"
    }
   ],
   "source": [
    "df_grades[df_grades[\"user\"]==\"e45f938b-9d5c-4838-86ce-0755e3c97053\"]"
   ]
  },
  {
   "cell_type": "code",
   "execution_count": 17,
   "metadata": {},
   "outputs": [
    {
     "data": {
      "text/html": [
       "<div>\n",
       "<style scoped>\n",
       "    .dataframe tbody tr th:only-of-type {\n",
       "        vertical-align: middle;\n",
       "    }\n",
       "\n",
       "    .dataframe tbody tr th {\n",
       "        vertical-align: top;\n",
       "    }\n",
       "\n",
       "    .dataframe thead th {\n",
       "        text-align: right;\n",
       "    }\n",
       "</style>\n",
       "<table border=\"1\" class=\"dataframe\">\n",
       "  <thead>\n",
       "    <tr style=\"text-align: right;\">\n",
       "      <th></th>\n",
       "      <th>exam_week</th>\n",
       "      <th>academic_year_1</th>\n",
       "      <th>academic_year_0</th>\n",
       "      <th>module</th>\n",
       "      <th>grade</th>\n",
       "      <th>user</th>\n",
       "    </tr>\n",
       "  </thead>\n",
       "  <tbody>\n",
       "    <tr>\n",
       "      <th>1</th>\n",
       "      <td>12</td>\n",
       "      <td>2016</td>\n",
       "      <td>2015</td>\n",
       "      <td>ca114</td>\n",
       "      <td>60</td>\n",
       "      <td>91b06877-f0e0-4af9-bbd4-b20ffa90e36b</td>\n",
       "    </tr>\n",
       "    <tr>\n",
       "      <th>71</th>\n",
       "      <td>6</td>\n",
       "      <td>2016</td>\n",
       "      <td>2015</td>\n",
       "      <td>ca114</td>\n",
       "      <td>20</td>\n",
       "      <td>91b06877-f0e0-4af9-bbd4-b20ffa90e36b</td>\n",
       "    </tr>\n",
       "  </tbody>\n",
       "</table>\n",
       "</div>"
      ],
      "text/plain": [
       "    exam_week  academic_year_1  academic_year_0 module  grade  \\\n",
       "1          12             2016             2015  ca114     60   \n",
       "71          6             2016             2015  ca114     20   \n",
       "\n",
       "                                    user  \n",
       "1   91b06877-f0e0-4af9-bbd4-b20ffa90e36b  \n",
       "71  91b06877-f0e0-4af9-bbd4-b20ffa90e36b  "
      ]
     },
     "execution_count": 17,
     "metadata": {},
     "output_type": "execute_result"
    }
   ],
   "source": [
    "df_grades[df_grades[\"user\"]==\"91b06877-f0e0-4af9-bbd4-b20ffa90e36b\"]"
   ]
  },
  {
   "cell_type": "code",
   "execution_count": 18,
   "metadata": {},
   "outputs": [
    {
     "data": {
      "text/html": [
       "<div>\n",
       "<style scoped>\n",
       "    .dataframe tbody tr th:only-of-type {\n",
       "        vertical-align: middle;\n",
       "    }\n",
       "\n",
       "    .dataframe tbody tr th {\n",
       "        vertical-align: top;\n",
       "    }\n",
       "\n",
       "    .dataframe thead th {\n",
       "        text-align: right;\n",
       "    }\n",
       "</style>\n",
       "<table border=\"1\" class=\"dataframe\">\n",
       "  <thead>\n",
       "    <tr style=\"text-align: right;\">\n",
       "      <th></th>\n",
       "      <th>exam_week</th>\n",
       "      <th>academic_year_1</th>\n",
       "      <th>academic_year_0</th>\n",
       "      <th>module</th>\n",
       "      <th>grade</th>\n",
       "      <th>user</th>\n",
       "    </tr>\n",
       "  </thead>\n",
       "  <tbody>\n",
       "    <tr>\n",
       "      <th>3</th>\n",
       "      <td>12</td>\n",
       "      <td>2016</td>\n",
       "      <td>2015</td>\n",
       "      <td>ca114</td>\n",
       "      <td>100</td>\n",
       "      <td>78cd7f00-c86a-46a4-ab20-040f317a60ca</td>\n",
       "    </tr>\n",
       "    <tr>\n",
       "      <th>73</th>\n",
       "      <td>6</td>\n",
       "      <td>2016</td>\n",
       "      <td>2015</td>\n",
       "      <td>ca114</td>\n",
       "      <td>0</td>\n",
       "      <td>78cd7f00-c86a-46a4-ab20-040f317a60ca</td>\n",
       "    </tr>\n",
       "  </tbody>\n",
       "</table>\n",
       "</div>"
      ],
      "text/plain": [
       "    exam_week  academic_year_1  academic_year_0 module  grade  \\\n",
       "3          12             2016             2015  ca114    100   \n",
       "73          6             2016             2015  ca114      0   \n",
       "\n",
       "                                    user  \n",
       "3   78cd7f00-c86a-46a4-ab20-040f317a60ca  \n",
       "73  78cd7f00-c86a-46a4-ab20-040f317a60ca  "
      ]
     },
     "execution_count": 18,
     "metadata": {},
     "output_type": "execute_result"
    }
   ],
   "source": [
    "df_grades[df_grades[\"user\"]==\"78cd7f00-c86a-46a4-ab20-040f317a60ca\"]"
   ]
  },
  {
   "cell_type": "code",
   "execution_count": 19,
   "metadata": {},
   "outputs": [
    {
     "data": {
      "text/plain": [
       "'#!/usr/bin/env python\\n\\na = int(raw_input())\\nb = int(raw_input())\\n\\nprint a + b\\n\\n\\n'"
      ]
     },
     "execution_count": 19,
     "metadata": {},
     "output_type": "execute_result"
    }
   ],
   "source": [
    "df_code.iloc[0][\"upload\"]"
   ]
  },
  {
   "cell_type": "code",
   "execution_count": 20,
   "metadata": {},
   "outputs": [
    {
     "data": {
      "text/plain": [
       "stableford_122.py               3721\n",
       "ex3-strip-zeros.py              2830\n",
       "pdaq2.hs                        2515\n",
       "small-primes.py                 2414\n",
       "ex2-third-words.py              2399\n",
       "                                ... \n",
       "bc-reverse-lines-and-text.py       1\n",
       "bc-wc.py                           1\n",
       "beststudent_31_v2.py               1\n",
       "ex3-birth-month-counts.py          1\n",
       "bc-copy-lines.py                   1\n",
       "Name: task, Length: 1138, dtype: int64"
      ]
     },
     "execution_count": 20,
     "metadata": {},
     "output_type": "execute_result"
    }
   ],
   "source": [
    "df_code[\"task\"].value_counts()"
   ]
  },
  {
   "cell_type": "code",
   "execution_count": 21,
   "metadata": {},
   "outputs": [
    {
     "data": {
      "text/plain": [
       "py    490829\n",
       "sh     85381\n",
       "hs     15381\n",
       "pl       103\n",
       "          13\n",
       "Name: extension, dtype: int64"
      ]
     },
     "execution_count": 21,
     "metadata": {},
     "output_type": "execute_result"
    }
   ],
   "source": [
    "df_code[\"extension\"].value_counts()"
   ]
  }
 ],
 "metadata": {
  "kernelspec": {
   "display_name": "base",
   "language": "python",
   "name": "python3"
  },
  "language_info": {
   "codemirror_mode": {
    "name": "ipython",
    "version": 3
   },
   "file_extension": ".py",
   "mimetype": "text/x-python",
   "name": "python",
   "nbconvert_exporter": "python",
   "pygments_lexer": "ipython3",
   "version": "3.10.9"
  },
  "orig_nbformat": 4
 },
 "nbformat": 4,
 "nbformat_minor": 2
}
