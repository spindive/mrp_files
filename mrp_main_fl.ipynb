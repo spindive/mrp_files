{
 "cells": [
  {
   "cell_type": "code",
   "execution_count": 1,
   "metadata": {},
   "outputs": [],
   "source": [
    "import json\n",
    "import pandas as pd"
   ]
  },
  {
   "cell_type": "code",
   "execution_count": 2,
   "metadata": {},
   "outputs": [
    {
     "data": {
      "text/plain": [
       "'c:\\\\Users\\\\felix\\\\Documents\\\\School\\\\Ryerson\\\\MRP\\\\mrp_files'"
      ]
     },
     "execution_count": 2,
     "metadata": {},
     "output_type": "execute_result"
    }
   ],
   "source": [
    "import os\n",
    "os.getcwd()"
   ]
  },
  {
   "cell_type": "code",
   "execution_count": 3,
   "metadata": {},
   "outputs": [],
   "source": [
    "grades_raw = open(\"grades_data.json\")\n",
    "code_raw = open(\"programming_data.json\")"
   ]
  },
  {
   "cell_type": "code",
   "execution_count": 4,
   "metadata": {},
   "outputs": [],
   "source": [
    "grades_raw = json.load(grades_raw)\n",
    "code_raw = json.load(code_raw)"
   ]
  },
  {
   "cell_type": "code",
   "execution_count": 5,
   "metadata": {},
   "outputs": [],
   "source": [
    "df_grades = pd.json_normalize(grades_raw)\n",
    "df_code = pd.json_normalize(code_raw)"
   ]
  },
  {
   "cell_type": "code",
   "execution_count": 6,
   "metadata": {},
   "outputs": [
    {
     "data": {
      "text/html": [
       "<div>\n",
       "<style scoped>\n",
       "    .dataframe tbody tr th:only-of-type {\n",
       "        vertical-align: middle;\n",
       "    }\n",
       "\n",
       "    .dataframe tbody tr th {\n",
       "        vertical-align: top;\n",
       "    }\n",
       "\n",
       "    .dataframe thead th {\n",
       "        text-align: right;\n",
       "    }\n",
       "</style>\n",
       "<table border=\"1\" class=\"dataframe\">\n",
       "  <thead>\n",
       "    <tr style=\"text-align: right;\">\n",
       "      <th></th>\n",
       "      <th>exam_week</th>\n",
       "      <th>academic_year_1</th>\n",
       "      <th>academic_year_0</th>\n",
       "      <th>module</th>\n",
       "      <th>grade</th>\n",
       "      <th>user</th>\n",
       "    </tr>\n",
       "  </thead>\n",
       "  <tbody>\n",
       "    <tr>\n",
       "      <th>0</th>\n",
       "      <td>12</td>\n",
       "      <td>2016</td>\n",
       "      <td>2015</td>\n",
       "      <td>ca114</td>\n",
       "      <td>40</td>\n",
       "      <td>e45f938b-9d5c-4838-86ce-0755e3c97053</td>\n",
       "    </tr>\n",
       "    <tr>\n",
       "      <th>1</th>\n",
       "      <td>12</td>\n",
       "      <td>2016</td>\n",
       "      <td>2015</td>\n",
       "      <td>ca114</td>\n",
       "      <td>60</td>\n",
       "      <td>91b06877-f0e0-4af9-bbd4-b20ffa90e36b</td>\n",
       "    </tr>\n",
       "    <tr>\n",
       "      <th>2</th>\n",
       "      <td>12</td>\n",
       "      <td>2016</td>\n",
       "      <td>2015</td>\n",
       "      <td>ca114</td>\n",
       "      <td>60</td>\n",
       "      <td>b9e7e608-6036-4d44-8770-a7036176b53c</td>\n",
       "    </tr>\n",
       "    <tr>\n",
       "      <th>3</th>\n",
       "      <td>12</td>\n",
       "      <td>2016</td>\n",
       "      <td>2015</td>\n",
       "      <td>ca114</td>\n",
       "      <td>100</td>\n",
       "      <td>78cd7f00-c86a-46a4-ab20-040f317a60ca</td>\n",
       "    </tr>\n",
       "    <tr>\n",
       "      <th>4</th>\n",
       "      <td>12</td>\n",
       "      <td>2016</td>\n",
       "      <td>2015</td>\n",
       "      <td>ca114</td>\n",
       "      <td>60</td>\n",
       "      <td>80965c2d-45d9-440d-b3c3-403c112145e9</td>\n",
       "    </tr>\n",
       "  </tbody>\n",
       "</table>\n",
       "</div>"
      ],
      "text/plain": [
       "   exam_week  academic_year_1  academic_year_0 module  grade  \\\n",
       "0         12             2016             2015  ca114     40   \n",
       "1         12             2016             2015  ca114     60   \n",
       "2         12             2016             2015  ca114     60   \n",
       "3         12             2016             2015  ca114    100   \n",
       "4         12             2016             2015  ca114     60   \n",
       "\n",
       "                                   user  \n",
       "0  e45f938b-9d5c-4838-86ce-0755e3c97053  \n",
       "1  91b06877-f0e0-4af9-bbd4-b20ffa90e36b  \n",
       "2  b9e7e608-6036-4d44-8770-a7036176b53c  \n",
       "3  78cd7f00-c86a-46a4-ab20-040f317a60ca  \n",
       "4  80965c2d-45d9-440d-b3c3-403c112145e9  "
      ]
     },
     "execution_count": 6,
     "metadata": {},
     "output_type": "execute_result"
    }
   ],
   "source": [
    "df_grades.head()"
   ]
  },
  {
   "cell_type": "code",
   "execution_count": 7,
   "metadata": {},
   "outputs": [
    {
     "data": {
      "text/html": [
       "<div>\n",
       "<style scoped>\n",
       "    .dataframe tbody tr th:only-of-type {\n",
       "        vertical-align: middle;\n",
       "    }\n",
       "\n",
       "    .dataframe tbody tr th {\n",
       "        vertical-align: top;\n",
       "    }\n",
       "\n",
       "    .dataframe thead th {\n",
       "        text-align: right;\n",
       "    }\n",
       "</style>\n",
       "<table border=\"1\" class=\"dataframe\">\n",
       "  <thead>\n",
       "    <tr style=\"text-align: right;\">\n",
       "      <th></th>\n",
       "      <th>academic_year_1</th>\n",
       "      <th>task</th>\n",
       "      <th>user</th>\n",
       "      <th>extension</th>\n",
       "      <th>ip</th>\n",
       "      <th>date</th>\n",
       "      <th>academic_year_0</th>\n",
       "      <th>upload</th>\n",
       "      <th>module</th>\n",
       "      <th>correct</th>\n",
       "    </tr>\n",
       "  </thead>\n",
       "  <tbody>\n",
       "    <tr>\n",
       "      <th>0</th>\n",
       "      <td>2017</td>\n",
       "      <td>add.py</td>\n",
       "      <td>b9e7e608-6036-4d44-8770-a7036176b53c</td>\n",
       "      <td>py</td>\n",
       "      <td></td>\n",
       "      <td>2016-09-19 14:11:41</td>\n",
       "      <td>2016</td>\n",
       "      <td>#!/usr/bin/env python\\n\\na = int(raw_input())\\...</td>\n",
       "      <td>ca277</td>\n",
       "      <td>True</td>\n",
       "    </tr>\n",
       "    <tr>\n",
       "      <th>1</th>\n",
       "      <td>2017</td>\n",
       "      <td>concat-lines.py</td>\n",
       "      <td>b9e7e608-6036-4d44-8770-a7036176b53c</td>\n",
       "      <td>py</td>\n",
       "      <td></td>\n",
       "      <td>2016-09-19 14:17:33</td>\n",
       "      <td>2016</td>\n",
       "      <td>#!/usr/bin/env python\\n\\na = str(raw_input())\\...</td>\n",
       "      <td>ca277</td>\n",
       "      <td>True</td>\n",
       "    </tr>\n",
       "    <tr>\n",
       "      <th>2</th>\n",
       "      <td>2017</td>\n",
       "      <td>goodbye.py</td>\n",
       "      <td>b9e7e608-6036-4d44-8770-a7036176b53c</td>\n",
       "      <td>py</td>\n",
       "      <td></td>\n",
       "      <td>2016-09-19 10:15:59</td>\n",
       "      <td>2016</td>\n",
       "      <td>#!/usr/bin/env python\\n\\nprint \"Goodbye\"\\n</td>\n",
       "      <td>ca277</td>\n",
       "      <td>True</td>\n",
       "    </tr>\n",
       "    <tr>\n",
       "      <th>3</th>\n",
       "      <td>2017</td>\n",
       "      <td>less-than.py</td>\n",
       "      <td>b9e7e608-6036-4d44-8770-a7036176b53c</td>\n",
       "      <td>py</td>\n",
       "      <td></td>\n",
       "      <td>2016-09-19 14:14:22</td>\n",
       "      <td>2016</td>\n",
       "      <td>#!/usr/bin/env python\\n\\na = int(raw_input())\\...</td>\n",
       "      <td>ca277</td>\n",
       "      <td>True</td>\n",
       "    </tr>\n",
       "    <tr>\n",
       "      <th>4</th>\n",
       "      <td>2017</td>\n",
       "      <td>longest-line.py</td>\n",
       "      <td>b9e7e608-6036-4d44-8770-a7036176b53c</td>\n",
       "      <td>py</td>\n",
       "      <td></td>\n",
       "      <td>2016-09-19 14:51:28</td>\n",
       "      <td>2016</td>\n",
       "      <td>#!usr/bin/evn python\\n\\na = raw_input()\\nb = r...</td>\n",
       "      <td>ca277</td>\n",
       "      <td>True</td>\n",
       "    </tr>\n",
       "  </tbody>\n",
       "</table>\n",
       "</div>"
      ],
      "text/plain": [
       "  academic_year_1             task                                  user  \\\n",
       "0            2017           add.py  b9e7e608-6036-4d44-8770-a7036176b53c   \n",
       "1            2017  concat-lines.py  b9e7e608-6036-4d44-8770-a7036176b53c   \n",
       "2            2017       goodbye.py  b9e7e608-6036-4d44-8770-a7036176b53c   \n",
       "3            2017     less-than.py  b9e7e608-6036-4d44-8770-a7036176b53c   \n",
       "4            2017  longest-line.py  b9e7e608-6036-4d44-8770-a7036176b53c   \n",
       "\n",
       "  extension ip                 date academic_year_0  \\\n",
       "0        py     2016-09-19 14:11:41            2016   \n",
       "1        py     2016-09-19 14:17:33            2016   \n",
       "2        py     2016-09-19 10:15:59            2016   \n",
       "3        py     2016-09-19 14:14:22            2016   \n",
       "4        py     2016-09-19 14:51:28            2016   \n",
       "\n",
       "                                              upload module  correct  \n",
       "0  #!/usr/bin/env python\\n\\na = int(raw_input())\\...  ca277     True  \n",
       "1  #!/usr/bin/env python\\n\\na = str(raw_input())\\...  ca277     True  \n",
       "2         #!/usr/bin/env python\\n\\nprint \"Goodbye\"\\n  ca277     True  \n",
       "3  #!/usr/bin/env python\\n\\na = int(raw_input())\\...  ca277     True  \n",
       "4  #!usr/bin/evn python\\n\\na = raw_input()\\nb = r...  ca277     True  "
      ]
     },
     "execution_count": 7,
     "metadata": {},
     "output_type": "execute_result"
    }
   ],
   "source": [
    "df_code.head()"
   ]
  },
  {
   "cell_type": "code",
   "execution_count": 8,
   "metadata": {},
   "outputs": [
    {
     "data": {
      "text/plain": [
       "(591707, 10)"
      ]
     },
     "execution_count": 8,
     "metadata": {},
     "output_type": "execute_result"
    }
   ],
   "source": [
    "df_code.shape"
   ]
  },
  {
   "cell_type": "code",
   "execution_count": 9,
   "metadata": {},
   "outputs": [
    {
     "data": {
      "text/plain": [
       "(2774, 6)"
      ]
     },
     "execution_count": 9,
     "metadata": {},
     "output_type": "execute_result"
    }
   ],
   "source": [
    "df_grades.shape"
   ]
  },
  {
   "cell_type": "code",
   "execution_count": 10,
   "metadata": {},
   "outputs": [],
   "source": [
    "import matplotlib.pyplot as plt"
   ]
  },
  {
   "cell_type": "code",
   "execution_count": 11,
   "metadata": {},
   "outputs": [
    {
     "data": {
      "text/html": [
       "<div>\n",
       "<style scoped>\n",
       "    .dataframe tbody tr th:only-of-type {\n",
       "        vertical-align: middle;\n",
       "    }\n",
       "\n",
       "    .dataframe tbody tr th {\n",
       "        vertical-align: top;\n",
       "    }\n",
       "\n",
       "    .dataframe thead th {\n",
       "        text-align: right;\n",
       "    }\n",
       "</style>\n",
       "<table border=\"1\" class=\"dataframe\">\n",
       "  <thead>\n",
       "    <tr style=\"text-align: right;\">\n",
       "      <th></th>\n",
       "      <th>exam_week</th>\n",
       "      <th>academic_year_1</th>\n",
       "      <th>academic_year_0</th>\n",
       "      <th>grade</th>\n",
       "    </tr>\n",
       "  </thead>\n",
       "  <tbody>\n",
       "    <tr>\n",
       "      <th>count</th>\n",
       "      <td>2774.000000</td>\n",
       "      <td>2774.000000</td>\n",
       "      <td>2774.000000</td>\n",
       "      <td>2774.000000</td>\n",
       "    </tr>\n",
       "    <tr>\n",
       "      <th>mean</th>\n",
       "      <td>8.653929</td>\n",
       "      <td>2017.149964</td>\n",
       "      <td>2016.149964</td>\n",
       "      <td>53.357246</td>\n",
       "    </tr>\n",
       "    <tr>\n",
       "      <th>std</th>\n",
       "      <td>3.066152</td>\n",
       "      <td>0.795229</td>\n",
       "      <td>0.795229</td>\n",
       "      <td>34.057497</td>\n",
       "    </tr>\n",
       "    <tr>\n",
       "      <th>min</th>\n",
       "      <td>4.000000</td>\n",
       "      <td>2016.000000</td>\n",
       "      <td>2015.000000</td>\n",
       "      <td>0.000000</td>\n",
       "    </tr>\n",
       "    <tr>\n",
       "      <th>25%</th>\n",
       "      <td>6.000000</td>\n",
       "      <td>2016.000000</td>\n",
       "      <td>2015.000000</td>\n",
       "      <td>25.000000</td>\n",
       "    </tr>\n",
       "    <tr>\n",
       "      <th>50%</th>\n",
       "      <td>8.000000</td>\n",
       "      <td>2017.000000</td>\n",
       "      <td>2016.000000</td>\n",
       "      <td>50.000000</td>\n",
       "    </tr>\n",
       "    <tr>\n",
       "      <th>75%</th>\n",
       "      <td>12.000000</td>\n",
       "      <td>2018.000000</td>\n",
       "      <td>2017.000000</td>\n",
       "      <td>80.000000</td>\n",
       "    </tr>\n",
       "    <tr>\n",
       "      <th>max</th>\n",
       "      <td>12.000000</td>\n",
       "      <td>2018.000000</td>\n",
       "      <td>2017.000000</td>\n",
       "      <td>100.000000</td>\n",
       "    </tr>\n",
       "  </tbody>\n",
       "</table>\n",
       "</div>"
      ],
      "text/plain": [
       "         exam_week  academic_year_1  academic_year_0        grade\n",
       "count  2774.000000      2774.000000      2774.000000  2774.000000\n",
       "mean      8.653929      2017.149964      2016.149964    53.357246\n",
       "std       3.066152         0.795229         0.795229    34.057497\n",
       "min       4.000000      2016.000000      2015.000000     0.000000\n",
       "25%       6.000000      2016.000000      2015.000000    25.000000\n",
       "50%       8.000000      2017.000000      2016.000000    50.000000\n",
       "75%      12.000000      2018.000000      2017.000000    80.000000\n",
       "max      12.000000      2018.000000      2017.000000   100.000000"
      ]
     },
     "execution_count": 11,
     "metadata": {},
     "output_type": "execute_result"
    }
   ],
   "source": [
    "df_grades.describe()"
   ]
  },
  {
   "cell_type": "code",
   "execution_count": 12,
   "metadata": {},
   "outputs": [
    {
     "data": {
      "text/plain": [
       "py    490829\n",
       "sh     85381\n",
       "hs     15381\n",
       "pl       103\n",
       "          13\n",
       "Name: extension, dtype: int64"
      ]
     },
     "execution_count": 12,
     "metadata": {},
     "output_type": "execute_result"
    }
   ],
   "source": [
    "df_code[\"extension\"].value_counts()"
   ]
  },
  {
   "cell_type": "code",
   "execution_count": 13,
   "metadata": {},
   "outputs": [],
   "source": [
    "df_code_py = df_code[df_code[\"extension\"] == \"py\"]"
   ]
  },
  {
   "cell_type": "code",
   "execution_count": 14,
   "metadata": {},
   "outputs": [
    {
     "data": {
      "text/html": [
       "<div>\n",
       "<style scoped>\n",
       "    .dataframe tbody tr th:only-of-type {\n",
       "        vertical-align: middle;\n",
       "    }\n",
       "\n",
       "    .dataframe tbody tr th {\n",
       "        vertical-align: top;\n",
       "    }\n",
       "\n",
       "    .dataframe thead th {\n",
       "        text-align: right;\n",
       "    }\n",
       "</style>\n",
       "<table border=\"1\" class=\"dataframe\">\n",
       "  <thead>\n",
       "    <tr style=\"text-align: right;\">\n",
       "      <th></th>\n",
       "      <th>academic_year_1</th>\n",
       "      <th>task</th>\n",
       "      <th>user</th>\n",
       "      <th>extension</th>\n",
       "      <th>ip</th>\n",
       "      <th>date</th>\n",
       "      <th>academic_year_0</th>\n",
       "      <th>upload</th>\n",
       "      <th>module</th>\n",
       "      <th>correct</th>\n",
       "    </tr>\n",
       "  </thead>\n",
       "  <tbody>\n",
       "    <tr>\n",
       "      <th>0</th>\n",
       "      <td>2017</td>\n",
       "      <td>add.py</td>\n",
       "      <td>b9e7e608-6036-4d44-8770-a7036176b53c</td>\n",
       "      <td>py</td>\n",
       "      <td></td>\n",
       "      <td>2016-09-19 14:11:41</td>\n",
       "      <td>2016</td>\n",
       "      <td>#!/usr/bin/env python\\n\\na = int(raw_input())\\...</td>\n",
       "      <td>ca277</td>\n",
       "      <td>True</td>\n",
       "    </tr>\n",
       "    <tr>\n",
       "      <th>1</th>\n",
       "      <td>2017</td>\n",
       "      <td>concat-lines.py</td>\n",
       "      <td>b9e7e608-6036-4d44-8770-a7036176b53c</td>\n",
       "      <td>py</td>\n",
       "      <td></td>\n",
       "      <td>2016-09-19 14:17:33</td>\n",
       "      <td>2016</td>\n",
       "      <td>#!/usr/bin/env python\\n\\na = str(raw_input())\\...</td>\n",
       "      <td>ca277</td>\n",
       "      <td>True</td>\n",
       "    </tr>\n",
       "    <tr>\n",
       "      <th>2</th>\n",
       "      <td>2017</td>\n",
       "      <td>goodbye.py</td>\n",
       "      <td>b9e7e608-6036-4d44-8770-a7036176b53c</td>\n",
       "      <td>py</td>\n",
       "      <td></td>\n",
       "      <td>2016-09-19 10:15:59</td>\n",
       "      <td>2016</td>\n",
       "      <td>#!/usr/bin/env python\\n\\nprint \"Goodbye\"\\n</td>\n",
       "      <td>ca277</td>\n",
       "      <td>True</td>\n",
       "    </tr>\n",
       "    <tr>\n",
       "      <th>3</th>\n",
       "      <td>2017</td>\n",
       "      <td>less-than.py</td>\n",
       "      <td>b9e7e608-6036-4d44-8770-a7036176b53c</td>\n",
       "      <td>py</td>\n",
       "      <td></td>\n",
       "      <td>2016-09-19 14:14:22</td>\n",
       "      <td>2016</td>\n",
       "      <td>#!/usr/bin/env python\\n\\na = int(raw_input())\\...</td>\n",
       "      <td>ca277</td>\n",
       "      <td>True</td>\n",
       "    </tr>\n",
       "    <tr>\n",
       "      <th>4</th>\n",
       "      <td>2017</td>\n",
       "      <td>longest-line.py</td>\n",
       "      <td>b9e7e608-6036-4d44-8770-a7036176b53c</td>\n",
       "      <td>py</td>\n",
       "      <td></td>\n",
       "      <td>2016-09-19 14:51:28</td>\n",
       "      <td>2016</td>\n",
       "      <td>#!usr/bin/evn python\\n\\na = raw_input()\\nb = r...</td>\n",
       "      <td>ca277</td>\n",
       "      <td>True</td>\n",
       "    </tr>\n",
       "    <tr>\n",
       "      <th>...</th>\n",
       "      <td>...</td>\n",
       "      <td>...</td>\n",
       "      <td>...</td>\n",
       "      <td>...</td>\n",
       "      <td>...</td>\n",
       "      <td>...</td>\n",
       "      <td>...</td>\n",
       "      <td>...</td>\n",
       "      <td>...</td>\n",
       "      <td>...</td>\n",
       "    </tr>\n",
       "    <tr>\n",
       "      <th>591702</th>\n",
       "      <td>2018</td>\n",
       "      <td>ex3-histogram.py</td>\n",
       "      <td>df8dd1dd-a7c8-46c0-b89f-ec170a81f08a</td>\n",
       "      <td>py</td>\n",
       "      <td>136.206.11.20</td>\n",
       "      <td>2018-08-22 12:55:26</td>\n",
       "      <td>2017</td>\n",
       "      <td>#!/usr/bin/env python\\n\\nch = raw_input()\\n\\ns...</td>\n",
       "      <td>ca177</td>\n",
       "      <td>False</td>\n",
       "    </tr>\n",
       "    <tr>\n",
       "      <th>591703</th>\n",
       "      <td>2018</td>\n",
       "      <td>ex3-histogram.py</td>\n",
       "      <td>df8dd1dd-a7c8-46c0-b89f-ec170a81f08a</td>\n",
       "      <td>py</td>\n",
       "      <td>136.206.11.20</td>\n",
       "      <td>2018-08-22 12:55:45</td>\n",
       "      <td>2017</td>\n",
       "      <td>#!/usr/bin/env python\\n\\nch = raw_input()\\n\\ns...</td>\n",
       "      <td>ca177</td>\n",
       "      <td>True</td>\n",
       "    </tr>\n",
       "    <tr>\n",
       "      <th>591704</th>\n",
       "      <td>2018</td>\n",
       "      <td>ex3-histogram.py</td>\n",
       "      <td>df8dd1dd-a7c8-46c0-b89f-ec170a81f08a</td>\n",
       "      <td>py</td>\n",
       "      <td>136.206.11.20</td>\n",
       "      <td>2018-08-22 12:56:12</td>\n",
       "      <td>2017</td>\n",
       "      <td>#!/usr/bin/env python\\n\\nch = raw_input()\\n\\ns...</td>\n",
       "      <td>ca177</td>\n",
       "      <td>True</td>\n",
       "    </tr>\n",
       "    <tr>\n",
       "      <th>591705</th>\n",
       "      <td>2018</td>\n",
       "      <td>ex3-histogram.py</td>\n",
       "      <td>df8dd1dd-a7c8-46c0-b89f-ec170a81f08a</td>\n",
       "      <td>py</td>\n",
       "      <td>136.206.11.20</td>\n",
       "      <td>2018-08-22 12:56:12</td>\n",
       "      <td>2017</td>\n",
       "      <td>#!/usr/bin/env python\\n\\nch = raw_input()\\n\\ns...</td>\n",
       "      <td>ca177</td>\n",
       "      <td>True</td>\n",
       "    </tr>\n",
       "    <tr>\n",
       "      <th>591706</th>\n",
       "      <td>2018</td>\n",
       "      <td>ex3-histogram.py</td>\n",
       "      <td>df8dd1dd-a7c8-46c0-b89f-ec170a81f08a</td>\n",
       "      <td>py</td>\n",
       "      <td>136.206.11.20</td>\n",
       "      <td>2018-08-22 12:56:12</td>\n",
       "      <td>2017</td>\n",
       "      <td>#!/usr/bin/env python\\n\\nch = raw_input()\\n\\ns...</td>\n",
       "      <td>ca177</td>\n",
       "      <td>True</td>\n",
       "    </tr>\n",
       "  </tbody>\n",
       "</table>\n",
       "<p>490829 rows × 10 columns</p>\n",
       "</div>"
      ],
      "text/plain": [
       "       academic_year_1              task  \\\n",
       "0                 2017            add.py   \n",
       "1                 2017   concat-lines.py   \n",
       "2                 2017        goodbye.py   \n",
       "3                 2017      less-than.py   \n",
       "4                 2017   longest-line.py   \n",
       "...                ...               ...   \n",
       "591702            2018  ex3-histogram.py   \n",
       "591703            2018  ex3-histogram.py   \n",
       "591704            2018  ex3-histogram.py   \n",
       "591705            2018  ex3-histogram.py   \n",
       "591706            2018  ex3-histogram.py   \n",
       "\n",
       "                                        user extension             ip  \\\n",
       "0       b9e7e608-6036-4d44-8770-a7036176b53c        py                  \n",
       "1       b9e7e608-6036-4d44-8770-a7036176b53c        py                  \n",
       "2       b9e7e608-6036-4d44-8770-a7036176b53c        py                  \n",
       "3       b9e7e608-6036-4d44-8770-a7036176b53c        py                  \n",
       "4       b9e7e608-6036-4d44-8770-a7036176b53c        py                  \n",
       "...                                      ...       ...            ...   \n",
       "591702  df8dd1dd-a7c8-46c0-b89f-ec170a81f08a        py  136.206.11.20   \n",
       "591703  df8dd1dd-a7c8-46c0-b89f-ec170a81f08a        py  136.206.11.20   \n",
       "591704  df8dd1dd-a7c8-46c0-b89f-ec170a81f08a        py  136.206.11.20   \n",
       "591705  df8dd1dd-a7c8-46c0-b89f-ec170a81f08a        py  136.206.11.20   \n",
       "591706  df8dd1dd-a7c8-46c0-b89f-ec170a81f08a        py  136.206.11.20   \n",
       "\n",
       "                       date academic_year_0  \\\n",
       "0       2016-09-19 14:11:41            2016   \n",
       "1       2016-09-19 14:17:33            2016   \n",
       "2       2016-09-19 10:15:59            2016   \n",
       "3       2016-09-19 14:14:22            2016   \n",
       "4       2016-09-19 14:51:28            2016   \n",
       "...                     ...             ...   \n",
       "591702  2018-08-22 12:55:26            2017   \n",
       "591703  2018-08-22 12:55:45            2017   \n",
       "591704  2018-08-22 12:56:12            2017   \n",
       "591705  2018-08-22 12:56:12            2017   \n",
       "591706  2018-08-22 12:56:12            2017   \n",
       "\n",
       "                                                   upload module  correct  \n",
       "0       #!/usr/bin/env python\\n\\na = int(raw_input())\\...  ca277     True  \n",
       "1       #!/usr/bin/env python\\n\\na = str(raw_input())\\...  ca277     True  \n",
       "2              #!/usr/bin/env python\\n\\nprint \"Goodbye\"\\n  ca277     True  \n",
       "3       #!/usr/bin/env python\\n\\na = int(raw_input())\\...  ca277     True  \n",
       "4       #!usr/bin/evn python\\n\\na = raw_input()\\nb = r...  ca277     True  \n",
       "...                                                   ...    ...      ...  \n",
       "591702  #!/usr/bin/env python\\n\\nch = raw_input()\\n\\ns...  ca177    False  \n",
       "591703  #!/usr/bin/env python\\n\\nch = raw_input()\\n\\ns...  ca177     True  \n",
       "591704  #!/usr/bin/env python\\n\\nch = raw_input()\\n\\ns...  ca177     True  \n",
       "591705  #!/usr/bin/env python\\n\\nch = raw_input()\\n\\ns...  ca177     True  \n",
       "591706  #!/usr/bin/env python\\n\\nch = raw_input()\\n\\ns...  ca177     True  \n",
       "\n",
       "[490829 rows x 10 columns]"
      ]
     },
     "execution_count": 14,
     "metadata": {},
     "output_type": "execute_result"
    }
   ],
   "source": [
    "df_code_py"
   ]
  },
  {
   "cell_type": "code",
   "execution_count": 15,
   "metadata": {},
   "outputs": [
    {
     "data": {
      "text/plain": [
       "2017    1116\n",
       "2016     958\n",
       "2015     700\n",
       "Name: academic_year_0, dtype: int64"
      ]
     },
     "execution_count": 15,
     "metadata": {},
     "output_type": "execute_result"
    }
   ],
   "source": [
    "df_grades[\"academic_year_0\"].value_counts()"
   ]
  },
  {
   "cell_type": "code",
   "execution_count": 16,
   "metadata": {},
   "outputs": [
    {
     "data": {
      "text/plain": [
       "2017    261629\n",
       "2016    217760\n",
       "2015     11431\n",
       "2018         9\n",
       "Name: academic_year_0, dtype: int64"
      ]
     },
     "execution_count": 16,
     "metadata": {},
     "output_type": "execute_result"
    }
   ],
   "source": [
    "df_code_py[\"academic_year_0\"].value_counts()"
   ]
  },
  {
   "cell_type": "code",
   "execution_count": 17,
   "metadata": {},
   "outputs": [
    {
     "data": {
      "text/plain": [
       "ca117    167917\n",
       "ca116    143825\n",
       "ca177     81135\n",
       "ca277     60091\n",
       "ca278     37605\n",
       "ca000       145\n",
       "ca114       106\n",
       "ca247         3\n",
       "ca320         2\n",
       "Name: module, dtype: int64"
      ]
     },
     "execution_count": 17,
     "metadata": {},
     "output_type": "execute_result"
    }
   ],
   "source": [
    "df_code_py[\"module\"].value_counts()"
   ]
  },
  {
   "cell_type": "code",
   "execution_count": 18,
   "metadata": {},
   "outputs": [
    {
     "data": {
      "text/plain": [
       "ca116    1036\n",
       "ca117     874\n",
       "ca114     411\n",
       "ca277     259\n",
       "ca278     194\n",
       "Name: module, dtype: int64"
      ]
     },
     "execution_count": 18,
     "metadata": {},
     "output_type": "execute_result"
    }
   ],
   "source": [
    "df_grades[\"module\"].value_counts()"
   ]
  },
  {
   "cell_type": "code",
   "execution_count": 19,
   "metadata": {},
   "outputs": [
    {
     "name": "stdout",
     "output_type": "stream",
     "text": [
      "<class 'pandas.core.frame.DataFrame'>\n",
      "RangeIndex: 2774 entries, 0 to 2773\n",
      "Data columns (total 6 columns):\n",
      " #   Column           Non-Null Count  Dtype \n",
      "---  ------           --------------  ----- \n",
      " 0   exam_week        2774 non-null   int64 \n",
      " 1   academic_year_1  2774 non-null   int64 \n",
      " 2   academic_year_0  2774 non-null   int64 \n",
      " 3   module           2774 non-null   object\n",
      " 4   grade            2774 non-null   int64 \n",
      " 5   user             2774 non-null   object\n",
      "dtypes: int64(4), object(2)\n",
      "memory usage: 130.2+ KB\n"
     ]
    }
   ],
   "source": [
    "df_grades.info()"
   ]
  },
  {
   "cell_type": "code",
   "execution_count": 20,
   "metadata": {},
   "outputs": [
    {
     "data": {
      "text/html": [
       "<div>\n",
       "<style scoped>\n",
       "    .dataframe tbody tr th:only-of-type {\n",
       "        vertical-align: middle;\n",
       "    }\n",
       "\n",
       "    .dataframe tbody tr th {\n",
       "        vertical-align: top;\n",
       "    }\n",
       "\n",
       "    .dataframe thead th {\n",
       "        text-align: right;\n",
       "    }\n",
       "</style>\n",
       "<table border=\"1\" class=\"dataframe\">\n",
       "  <thead>\n",
       "    <tr style=\"text-align: right;\">\n",
       "      <th></th>\n",
       "      <th>academic_year_1</th>\n",
       "      <th>task</th>\n",
       "      <th>user</th>\n",
       "      <th>extension</th>\n",
       "      <th>ip</th>\n",
       "      <th>date</th>\n",
       "      <th>academic_year_0</th>\n",
       "      <th>upload</th>\n",
       "      <th>module</th>\n",
       "      <th>correct</th>\n",
       "    </tr>\n",
       "  </thead>\n",
       "  <tbody>\n",
       "    <tr>\n",
       "      <th>count</th>\n",
       "      <td>490829</td>\n",
       "      <td>490829</td>\n",
       "      <td>490829</td>\n",
       "      <td>490829</td>\n",
       "      <td>490829</td>\n",
       "      <td>490829</td>\n",
       "      <td>490829</td>\n",
       "      <td>490829</td>\n",
       "      <td>490829</td>\n",
       "      <td>490829</td>\n",
       "    </tr>\n",
       "    <tr>\n",
       "      <th>unique</th>\n",
       "      <td>4</td>\n",
       "      <td>909</td>\n",
       "      <td>533</td>\n",
       "      <td>1</td>\n",
       "      <td>4653</td>\n",
       "      <td>341329</td>\n",
       "      <td>4</td>\n",
       "      <td>331678</td>\n",
       "      <td>9</td>\n",
       "      <td>2</td>\n",
       "    </tr>\n",
       "    <tr>\n",
       "      <th>top</th>\n",
       "      <td>2018</td>\n",
       "      <td>stableford_122.py</td>\n",
       "      <td>4a1f2726-b713-40f0-b544-9de55d617a12</td>\n",
       "      <td>py</td>\n",
       "      <td></td>\n",
       "      <td>2016-10-12 21:44:54</td>\n",
       "      <td>2017</td>\n",
       "      <td></td>\n",
       "      <td>ca117</td>\n",
       "      <td>False</td>\n",
       "    </tr>\n",
       "    <tr>\n",
       "      <th>freq</th>\n",
       "      <td>261629</td>\n",
       "      <td>3721</td>\n",
       "      <td>7503</td>\n",
       "      <td>490829</td>\n",
       "      <td>68138</td>\n",
       "      <td>19</td>\n",
       "      <td>261629</td>\n",
       "      <td>834</td>\n",
       "      <td>167917</td>\n",
       "      <td>296351</td>\n",
       "    </tr>\n",
       "  </tbody>\n",
       "</table>\n",
       "</div>"
      ],
      "text/plain": [
       "        academic_year_1               task  \\\n",
       "count            490829             490829   \n",
       "unique                4                909   \n",
       "top                2018  stableford_122.py   \n",
       "freq             261629               3721   \n",
       "\n",
       "                                        user extension      ip  \\\n",
       "count                                 490829    490829  490829   \n",
       "unique                                   533         1    4653   \n",
       "top     4a1f2726-b713-40f0-b544-9de55d617a12        py           \n",
       "freq                                    7503    490829   68138   \n",
       "\n",
       "                       date  academic_year_0  upload  module correct  \n",
       "count                490829           490829  490829  490829  490829  \n",
       "unique               341329                4  331678       9       2  \n",
       "top     2016-10-12 21:44:54             2017           ca117   False  \n",
       "freq                     19           261629     834  167917  296351  "
      ]
     },
     "execution_count": 20,
     "metadata": {},
     "output_type": "execute_result"
    }
   ],
   "source": [
    "df_code_py.describe()"
   ]
  },
  {
   "cell_type": "code",
   "execution_count": 21,
   "metadata": {},
   "outputs": [
    {
     "name": "stdout",
     "output_type": "stream",
     "text": [
      "<class 'pandas.core.frame.DataFrame'>\n",
      "Int64Index: 490829 entries, 0 to 591706\n",
      "Data columns (total 10 columns):\n",
      " #   Column           Non-Null Count   Dtype \n",
      "---  ------           --------------   ----- \n",
      " 0   academic_year_1  490829 non-null  object\n",
      " 1   task             490829 non-null  object\n",
      " 2   user             490829 non-null  object\n",
      " 3   extension        490829 non-null  object\n",
      " 4   ip               490829 non-null  object\n",
      " 5   date             490829 non-null  object\n",
      " 6   academic_year_0  490829 non-null  object\n",
      " 7   upload           490829 non-null  object\n",
      " 8   module           490829 non-null  object\n",
      " 9   correct          490829 non-null  bool  \n",
      "dtypes: bool(1), object(9)\n",
      "memory usage: 37.9+ MB\n"
     ]
    }
   ],
   "source": [
    "df_code_py.info()"
   ]
  },
  {
   "cell_type": "code",
   "execution_count": 22,
   "metadata": {},
   "outputs": [
    {
     "data": {
      "text/plain": [
       "[Text(0, 0, '353'),\n",
       " Text(0, 0, '154'),\n",
       " Text(0, 0, '322'),\n",
       " Text(0, 0, '127'),\n",
       " Text(0, 0, '228'),\n",
       " Text(0, 0, '336'),\n",
       " Text(0, 0, '151'),\n",
       " Text(0, 0, '353'),\n",
       " Text(0, 0, '125'),\n",
       " Text(0, 0, '625')]"
      ]
     },
     "execution_count": 22,
     "metadata": {},
     "output_type": "execute_result"
    },
    {
     "data": {
      "image/png": "[encoded data removed]",
      "text/plain": [
       "<Figure size 640x480 with 1 Axes>"
      ]
     },
     "metadata": {},
     "output_type": "display_data"
    }
   ],
   "source": [
    "val, bin, bar = plt.hist(df_grades[\"grade\"], label=\"Inline label\", ec=\"white\")\n",
    "plt.xlabel(\"Grade\")\n",
    "plt.ylabel(\"Count\")\n",
    "plt.title(\"Grade Histogram - All Courses\")\n",
    "plt.bar_label(bar, fontsize=10, c=\"black\")"
   ]
  },
  {
   "cell_type": "code",
   "execution_count": 23,
   "metadata": {},
   "outputs": [
    {
     "data": {
      "text/html": [
       "<div>\n",
       "<style scoped>\n",
       "    .dataframe tbody tr th:only-of-type {\n",
       "        vertical-align: middle;\n",
       "    }\n",
       "\n",
       "    .dataframe tbody tr th {\n",
       "        vertical-align: top;\n",
       "    }\n",
       "\n",
       "    .dataframe thead th {\n",
       "        text-align: right;\n",
       "    }\n",
       "</style>\n",
       "<table border=\"1\" class=\"dataframe\">\n",
       "  <thead>\n",
       "    <tr style=\"text-align: right;\">\n",
       "      <th></th>\n",
       "      <th>exam_week</th>\n",
       "      <th>academic_year_1</th>\n",
       "      <th>academic_year_0</th>\n",
       "      <th>module</th>\n",
       "      <th>grade</th>\n",
       "      <th>user</th>\n",
       "    </tr>\n",
       "  </thead>\n",
       "  <tbody>\n",
       "    <tr>\n",
       "      <th>0</th>\n",
       "      <td>12</td>\n",
       "      <td>2016</td>\n",
       "      <td>2015</td>\n",
       "      <td>ca114</td>\n",
       "      <td>40</td>\n",
       "      <td>e45f938b-9d5c-4838-86ce-0755e3c97053</td>\n",
       "    </tr>\n",
       "    <tr>\n",
       "      <th>70</th>\n",
       "      <td>6</td>\n",
       "      <td>2016</td>\n",
       "      <td>2015</td>\n",
       "      <td>ca114</td>\n",
       "      <td>20</td>\n",
       "      <td>e45f938b-9d5c-4838-86ce-0755e3c97053</td>\n",
       "    </tr>\n",
       "    <tr>\n",
       "      <th>2321</th>\n",
       "      <td>12</td>\n",
       "      <td>2017</td>\n",
       "      <td>2016</td>\n",
       "      <td>ca277</td>\n",
       "      <td>10</td>\n",
       "      <td>e45f938b-9d5c-4838-86ce-0755e3c97053</td>\n",
       "    </tr>\n",
       "    <tr>\n",
       "      <th>2580</th>\n",
       "      <td>6</td>\n",
       "      <td>2017</td>\n",
       "      <td>2016</td>\n",
       "      <td>ca278</td>\n",
       "      <td>26</td>\n",
       "      <td>e45f938b-9d5c-4838-86ce-0755e3c97053</td>\n",
       "    </tr>\n",
       "    <tr>\n",
       "      <th>2636</th>\n",
       "      <td>12</td>\n",
       "      <td>2017</td>\n",
       "      <td>2016</td>\n",
       "      <td>ca278</td>\n",
       "      <td>67</td>\n",
       "      <td>e45f938b-9d5c-4838-86ce-0755e3c97053</td>\n",
       "    </tr>\n",
       "  </tbody>\n",
       "</table>\n",
       "</div>"
      ],
      "text/plain": [
       "      exam_week  academic_year_1  academic_year_0 module  grade  \\\n",
       "0            12             2016             2015  ca114     40   \n",
       "70            6             2016             2015  ca114     20   \n",
       "2321         12             2017             2016  ca277     10   \n",
       "2580          6             2017             2016  ca278     26   \n",
       "2636         12             2017             2016  ca278     67   \n",
       "\n",
       "                                      user  \n",
       "0     e45f938b-9d5c-4838-86ce-0755e3c97053  \n",
       "70    e45f938b-9d5c-4838-86ce-0755e3c97053  \n",
       "2321  e45f938b-9d5c-4838-86ce-0755e3c97053  \n",
       "2580  e45f938b-9d5c-4838-86ce-0755e3c97053  \n",
       "2636  e45f938b-9d5c-4838-86ce-0755e3c97053  "
      ]
     },
     "execution_count": 23,
     "metadata": {},
     "output_type": "execute_result"
    }
   ],
   "source": [
    "df_grades[df_grades[\"user\"]==\"e45f938b-9d5c-4838-86ce-0755e3c97053\"]"
   ]
  },
  {
   "cell_type": "code",
   "execution_count": 24,
   "metadata": {},
   "outputs": [
    {
     "data": {
      "text/html": [
       "<div>\n",
       "<style scoped>\n",
       "    .dataframe tbody tr th:only-of-type {\n",
       "        vertical-align: middle;\n",
       "    }\n",
       "\n",
       "    .dataframe tbody tr th {\n",
       "        vertical-align: top;\n",
       "    }\n",
       "\n",
       "    .dataframe thead th {\n",
       "        text-align: right;\n",
       "    }\n",
       "</style>\n",
       "<table border=\"1\" class=\"dataframe\">\n",
       "  <thead>\n",
       "    <tr style=\"text-align: right;\">\n",
       "      <th></th>\n",
       "      <th>exam_week</th>\n",
       "      <th>academic_year_1</th>\n",
       "      <th>academic_year_0</th>\n",
       "      <th>module</th>\n",
       "      <th>grade</th>\n",
       "      <th>user</th>\n",
       "    </tr>\n",
       "  </thead>\n",
       "  <tbody>\n",
       "    <tr>\n",
       "      <th>1</th>\n",
       "      <td>12</td>\n",
       "      <td>2016</td>\n",
       "      <td>2015</td>\n",
       "      <td>ca114</td>\n",
       "      <td>60</td>\n",
       "      <td>91b06877-f0e0-4af9-bbd4-b20ffa90e36b</td>\n",
       "    </tr>\n",
       "    <tr>\n",
       "      <th>71</th>\n",
       "      <td>6</td>\n",
       "      <td>2016</td>\n",
       "      <td>2015</td>\n",
       "      <td>ca114</td>\n",
       "      <td>20</td>\n",
       "      <td>91b06877-f0e0-4af9-bbd4-b20ffa90e36b</td>\n",
       "    </tr>\n",
       "  </tbody>\n",
       "</table>\n",
       "</div>"
      ],
      "text/plain": [
       "    exam_week  academic_year_1  academic_year_0 module  grade  \\\n",
       "1          12             2016             2015  ca114     60   \n",
       "71          6             2016             2015  ca114     20   \n",
       "\n",
       "                                    user  \n",
       "1   91b06877-f0e0-4af9-bbd4-b20ffa90e36b  \n",
       "71  91b06877-f0e0-4af9-bbd4-b20ffa90e36b  "
      ]
     },
     "execution_count": 24,
     "metadata": {},
     "output_type": "execute_result"
    }
   ],
   "source": [
    "df_grades[df_grades[\"user\"]==\"91b06877-f0e0-4af9-bbd4-b20ffa90e36b\"]"
   ]
  },
  {
   "cell_type": "code",
   "execution_count": 25,
   "metadata": {},
   "outputs": [
    {
     "data": {
      "text/html": [
       "<div>\n",
       "<style scoped>\n",
       "    .dataframe tbody tr th:only-of-type {\n",
       "        vertical-align: middle;\n",
       "    }\n",
       "\n",
       "    .dataframe tbody tr th {\n",
       "        vertical-align: top;\n",
       "    }\n",
       "\n",
       "    .dataframe thead th {\n",
       "        text-align: right;\n",
       "    }\n",
       "</style>\n",
       "<table border=\"1\" class=\"dataframe\">\n",
       "  <thead>\n",
       "    <tr style=\"text-align: right;\">\n",
       "      <th></th>\n",
       "      <th>exam_week</th>\n",
       "      <th>academic_year_1</th>\n",
       "      <th>academic_year_0</th>\n",
       "      <th>module</th>\n",
       "      <th>grade</th>\n",
       "      <th>user</th>\n",
       "    </tr>\n",
       "  </thead>\n",
       "  <tbody>\n",
       "    <tr>\n",
       "      <th>3</th>\n",
       "      <td>12</td>\n",
       "      <td>2016</td>\n",
       "      <td>2015</td>\n",
       "      <td>ca114</td>\n",
       "      <td>100</td>\n",
       "      <td>78cd7f00-c86a-46a4-ab20-040f317a60ca</td>\n",
       "    </tr>\n",
       "    <tr>\n",
       "      <th>73</th>\n",
       "      <td>6</td>\n",
       "      <td>2016</td>\n",
       "      <td>2015</td>\n",
       "      <td>ca114</td>\n",
       "      <td>0</td>\n",
       "      <td>78cd7f00-c86a-46a4-ab20-040f317a60ca</td>\n",
       "    </tr>\n",
       "  </tbody>\n",
       "</table>\n",
       "</div>"
      ],
      "text/plain": [
       "    exam_week  academic_year_1  academic_year_0 module  grade  \\\n",
       "3          12             2016             2015  ca114    100   \n",
       "73          6             2016             2015  ca114      0   \n",
       "\n",
       "                                    user  \n",
       "3   78cd7f00-c86a-46a4-ab20-040f317a60ca  \n",
       "73  78cd7f00-c86a-46a4-ab20-040f317a60ca  "
      ]
     },
     "execution_count": 25,
     "metadata": {},
     "output_type": "execute_result"
    }
   ],
   "source": [
    "df_grades[df_grades[\"user\"]==\"78cd7f00-c86a-46a4-ab20-040f317a60ca\"]"
   ]
  },
  {
   "cell_type": "code",
   "execution_count": 26,
   "metadata": {},
   "outputs": [
    {
     "data": {
      "text/plain": [
       "'#!/usr/bin/env python\\n\\na = int(raw_input())\\nb = int(raw_input())\\n\\nprint a + b\\n\\n\\n'"
      ]
     },
     "execution_count": 26,
     "metadata": {},
     "output_type": "execute_result"
    }
   ],
   "source": [
    "df_code_py.iloc[0][\"upload\"]"
   ]
  },
  {
   "cell_type": "code",
   "execution_count": 27,
   "metadata": {},
   "outputs": [
    {
     "data": {
      "text/plain": [
       "stableford_122.py               3721\n",
       "ex3-strip-zeros.py              2830\n",
       "small-primes.py                 2414\n",
       "ex2-third-words.py              2399\n",
       "wordcomps_031.py                2204\n",
       "                                ... \n",
       "copy-from-file-2.py                1\n",
       "ex2-primes-1.py                    1\n",
       "german-words.py                    1\n",
       "bc-reverse-lines-and-text.py       1\n",
       "bc-copy-lines.py                   1\n",
       "Name: task, Length: 909, dtype: int64"
      ]
     },
     "execution_count": 27,
     "metadata": {},
     "output_type": "execute_result"
    }
   ],
   "source": [
    "df_code_py[\"task\"].value_counts()"
   ]
  },
  {
   "cell_type": "code",
   "execution_count": 28,
   "metadata": {},
   "outputs": [
    {
     "data": {
      "text/plain": [
       "\"import sys\\n\\n# Careful here: return in a finally eats the exception\\ndef calc_points(par, net_strokes):\\n    try:\\n        points = par - int(net_strokes) + 2\\n        return (points > 0) * points\\n    except ValueError:\\n        if net_strokes == 'X':\\n            return 0\\n        raise\\n\\ndef print_results(results, maxwidth):\\n    if not results:\\n        return\\n    sorted_results = sorted(results, key=lambda x:x[-1], reverse=True)\\n    for (n, p) in sorted_results:\\n        print('{:>{:d}s} : {:2d}'.format(n, maxwidth, p))\\n\\ndef print_disqualified(disqualified, maxwidth):\\n    for (n, p) in disqualified:\\n        print('{:>{:d}s} : Disqualified'.format(n, maxwidth))\\n\\ndef main():\\n\\n    # List of results\\n    results = []\\n    disqualified = []\\n\\n    # Grab pars and indices\\n    pars = [int(x) for x in sys.stdin.readline().strip().split()]\\n    indices = [int(x) for x in sys.stdin.readline().strip().split()]\\n\\n    # Go through remaining lines    \\n    for line in sys.stdin:\\n        tokens = line.split()\\n        scores = tokens[-18:]\\n        hcap = int(tokens[-19])\\n        name = ' '.join(tokens[:-19])\\n        # print('{} : {}'.format(name, hcap))\\n\\n        # Increment par on each hole where strokes received\\n        hpars = pars[:]\\n        for i in range(1, hcap+1):\\n            # Handling mod 18\\n            idx = i % 18\\n            if not idx:\\n                idx = 18\\n            hpars[indices.index(idx)] += 1\\n\\n        # print(pars)\\n        # print(hpars)\\n        # print([calc_points(p, s) for (p, s) in zip(hpars, scores)])\\n\\n        try:\\n            points = sum([calc_points(p, s) for (p, s) in zip(hpars, scores)])\\n        except ValueError:\\n            disqualified.append((name, 0))\\n        else:\\n            results.append((name, points))\\n\\n    # Present results\\n    maxwidth = len(max(results+disqualified, key=lambda x:len(x[0]))[0])\\n    print_results(results, maxwidth)\\n    print_disqualified(disqualified, maxwidth)         \\n\\nif __name__ == '__main__':\\n    main()\\n\""
      ]
     },
     "execution_count": 28,
     "metadata": {},
     "output_type": "execute_result"
    }
   ],
   "source": [
    "df_code_py[df_code_py[\"task\"]==\"stableford_122.py\"].iloc[0][\"upload\"]"
   ]
  },
  {
   "cell_type": "code",
   "execution_count": 29,
   "metadata": {},
   "outputs": [
    {
     "data": {
      "text/plain": [
       "'import sys\\n\\nd = {}\\n\\ndef longest_name(d):\\n  longest = [n for n in d.keys()]\\n  biggest = max(longest, key=len)\\n  return len(biggest)\\n\\ndef point_calc(s):\\n  if s <= -4:\\n      return 6\\n  elif s == -3:\\n      return 5\\n  elif s == -2:\\n      return 4\\n  elif s == -1:\\n      return 3\\n  elif s == 0:\\n      return 2\\n  elif s == 1:\\n      return 1\\n  else:\\n      return 0\\n\\ndef score_calc(par, index, name, handicap, stroke):\\n  h = int(handicap)\\n  l = h + 1\\n  n = list(range(1, 101))\\n  total = 0\\n  i = 0\\n  while i < len(stroke):\\n    try:\\n      num = int(stroke[i])\\n      if num not in n:\\n        total = \\'Disqualified\\'\\n     \\n      if h >= 1 and h <=18 and int(index[i]) in range(1, l):\\n        net_stroke = num - 1\\n        score_to_par = net_stroke - par[i]\\n        p = point_calc(score_to_par)\\n        total += p\\n\\n      elif h >= 19 and h <= 36:\\n        c = h - 18\\n        if int(index[i]) in range(1, c + 1):\\n          net_stroke = num - 2\\n          score_to_par = net_stroke - par[i]\\n          p = point_calc(score_to_par)\\n          total += p\\n\\n        else:\\n          net_stroke = num - 1\\n          score_to_par = net_stroke - par[i]\\n          p = point_calc(score_to_par)\\n          total += p\\n\\n      elif h >= 37 and h <= 54:\\n        c = h - 36\\n        if int(index[i]) in range(1, c + 1):\\n          net_stroke = num - 3\\n          score_to_par = net_stroke - par[i]\\n          p = point_calc(score_to_par)\\n          total += p\\n\\n        else:\\n          net_stroke = num - 2\\n          score_to_par = net_stroke - par[i]\\n          p = point_calc(score_to_par)\\n          total += p\\n        \\n      else:\\n        score_to_par = num - par[i]\\n        p = point_calc(score_to_par)\\n        total += p\\n\\n    except ValueError:\\n      pass\\n\\n    i += 1\\n\\n    d[name] = total\\n\\ndef sortfunc(t):\\n  return t[1]\\n\\ndef main():\\n  par = []\\n  index = []\\n  for i, line in enumerate(sys.stdin):\\n    l = line.strip(\"\\\\n\")\\n    details = l.split(\" \")\\n    if i == 0:\\n      par = [int(n) for n in details if i == 0]\\n\\n    elif i == 1:\\n      index = [int(n) for n in details]\\n\\n    else:\\n      stroke = details[-18:]\\n      handicap = details[-19]\\n      name = \" \".join(details[:-19])\\n      score_calc(par, index, name, handicap, stroke)\\n\\n\\n  length = longest_name(d)\\n\\n  for (k, v) in sorted(d.items(), key=sortfunc, reverse=True):\\n    print (\"{:>{}s} : {:>2d}\".format(k, length, v))\\n\\nif __name__ == \"__main__\":\\n  main()\\n'"
      ]
     },
     "execution_count": 29,
     "metadata": {},
     "output_type": "execute_result"
    }
   ],
   "source": [
    "df_code_py[df_code_py[\"task\"]==\"stableford_122.py\"].iloc[100][\"upload\"]"
   ]
  },
  {
   "cell_type": "code",
   "execution_count": 30,
   "metadata": {},
   "outputs": [],
   "source": [
    "import tokenize"
   ]
  },
  {
   "cell_type": "code",
   "execution_count": 31,
   "metadata": {},
   "outputs": [],
   "source": [
    "import io"
   ]
  },
  {
   "cell_type": "code",
   "execution_count": 34,
   "metadata": {},
   "outputs": [],
   "source": [
    "df_small = df_code_py[df_code_py[\"task\"]==\"stableford_122.py\"]"
   ]
  },
  {
   "cell_type": "code",
   "execution_count": 35,
   "metadata": {},
   "outputs": [],
   "source": [
    "tokens = []\n",
    "errors = 0\n",
    "for index, row in df_small.iterrows():\n",
    "    temp_tokens = []\n",
    "    with io.StringIO(row[\"upload\"]) as f:\n",
    "        temp_tokens = tokenize.generate_tokens(f.readline)\n",
    "        t_dict = []\n",
    "        try:\n",
    "            for token in temp_tokens:\n",
    "                t_dict.append(token._asdict())\n",
    "        except:\n",
    "            errors += 1\n",
    "            pass\n",
    "    tokens.append(t_dict)\n"
   ]
  },
  {
   "cell_type": "code",
   "execution_count": 36,
   "metadata": {},
   "outputs": [
    {
     "name": "stdout",
     "output_type": "stream",
     "text": [
      "104\n"
     ]
    }
   ],
   "source": [
    "print(errors)"
   ]
  },
  {
   "cell_type": "code",
   "execution_count": 38,
   "metadata": {},
   "outputs": [
    {
     "name": "stdout",
     "output_type": "stream",
     "text": [
      "[{'type': 1, 'string': 'import', 'start': (1, 0), 'end': (1, 6), 'line': 'import sys\\n'}, {'type': 1, 'string': 'sys', 'start': (1, 7), 'end': (1, 10), 'line': 'import sys\\n'}, {'type': 4, 'string': '\\n', 'start': (1, 10), 'end': (1, 11), 'line': 'import sys\\n'}, {'type': 62, 'string': '\\n', 'start': (2, 0), 'end': (2, 1), 'line': '\\n'}, {'type': 61, 'string': '# Careful here: return in a finally eats the exception', 'start': (3, 0), 'end': (3, 54), 'line': '# Careful here: return in a finally eats the exception\\n'}, {'type': 62, 'string': '\\n', 'start': (3, 54), 'end': (3, 55), 'line': '# Careful here: return in a finally eats the exception\\n'}, {'type': 1, 'string': 'def', 'start': (4, 0), 'end': (4, 3), 'line': 'def calc_points(par, net_strokes):\\n'}, {'type': 1, 'string': 'calc_points', 'start': (4, 4), 'end': (4, 15), 'line': 'def calc_points(par, net_strokes):\\n'}, {'type': 54, 'string': '(', 'start': (4, 15), 'end': (4, 16), 'line': 'def calc_points(par, net_strokes):\\n'}, {'type': 1, 'string': 'par', 'start': (4, 16), 'end': (4, 19), 'line': 'def calc_points(par, net_strokes):\\n'}, {'type': 54, 'string': ',', 'start': (4, 19), 'end': (4, 20), 'line': 'def calc_points(par, net_strokes):\\n'}, {'type': 1, 'string': 'net_strokes', 'start': (4, 21), 'end': (4, 32), 'line': 'def calc_points(par, net_strokes):\\n'}, {'type': 54, 'string': ')', 'start': (4, 32), 'end': (4, 33), 'line': 'def calc_points(par, net_strokes):\\n'}, {'type': 54, 'string': ':', 'start': (4, 33), 'end': (4, 34), 'line': 'def calc_points(par, net_strokes):\\n'}, {'type': 4, 'string': '\\n', 'start': (4, 34), 'end': (4, 35), 'line': 'def calc_points(par, net_strokes):\\n'}, {'type': 5, 'string': '    ', 'start': (5, 0), 'end': (5, 4), 'line': '    try:\\n'}, {'type': 1, 'string': 'try', 'start': (5, 4), 'end': (5, 7), 'line': '    try:\\n'}, {'type': 54, 'string': ':', 'start': (5, 7), 'end': (5, 8), 'line': '    try:\\n'}, {'type': 4, 'string': '\\n', 'start': (5, 8), 'end': (5, 9), 'line': '    try:\\n'}, {'type': 5, 'string': '        ', 'start': (6, 0), 'end': (6, 8), 'line': '        points = par - int(net_strokes) + 2\\n'}, {'type': 1, 'string': 'points', 'start': (6, 8), 'end': (6, 14), 'line': '        points = par - int(net_strokes) + 2\\n'}, {'type': 54, 'string': '=', 'start': (6, 15), 'end': (6, 16), 'line': '        points = par - int(net_strokes) + 2\\n'}, {'type': 1, 'string': 'par', 'start': (6, 17), 'end': (6, 20), 'line': '        points = par - int(net_strokes) + 2\\n'}, {'type': 54, 'string': '-', 'start': (6, 21), 'end': (6, 22), 'line': '        points = par - int(net_strokes) + 2\\n'}, {'type': 1, 'string': 'int', 'start': (6, 23), 'end': (6, 26), 'line': '        points = par - int(net_strokes) + 2\\n'}, {'type': 54, 'string': '(', 'start': (6, 26), 'end': (6, 27), 'line': '        points = par - int(net_strokes) + 2\\n'}, {'type': 1, 'string': 'net_strokes', 'start': (6, 27), 'end': (6, 38), 'line': '        points = par - int(net_strokes) + 2\\n'}, {'type': 54, 'string': ')', 'start': (6, 38), 'end': (6, 39), 'line': '        points = par - int(net_strokes) + 2\\n'}, {'type': 54, 'string': '+', 'start': (6, 40), 'end': (6, 41), 'line': '        points = par - int(net_strokes) + 2\\n'}, {'type': 2, 'string': '2', 'start': (6, 42), 'end': (6, 43), 'line': '        points = par - int(net_strokes) + 2\\n'}, {'type': 4, 'string': '\\n', 'start': (6, 43), 'end': (6, 44), 'line': '        points = par - int(net_strokes) + 2\\n'}, {'type': 1, 'string': 'return', 'start': (7, 8), 'end': (7, 14), 'line': '        return (points > 0) * points\\n'}, {'type': 54, 'string': '(', 'start': (7, 15), 'end': (7, 16), 'line': '        return (points > 0) * points\\n'}, {'type': 1, 'string': 'points', 'start': (7, 16), 'end': (7, 22), 'line': '        return (points > 0) * points\\n'}, {'type': 54, 'string': '>', 'start': (7, 23), 'end': (7, 24), 'line': '        return (points > 0) * points\\n'}, {'type': 2, 'string': '0', 'start': (7, 25), 'end': (7, 26), 'line': '        return (points > 0) * points\\n'}, {'type': 54, 'string': ')', 'start': (7, 26), 'end': (7, 27), 'line': '        return (points > 0) * points\\n'}, {'type': 54, 'string': '*', 'start': (7, 28), 'end': (7, 29), 'line': '        return (points > 0) * points\\n'}, {'type': 1, 'string': 'points', 'start': (7, 30), 'end': (7, 36), 'line': '        return (points > 0) * points\\n'}, {'type': 4, 'string': '\\n', 'start': (7, 36), 'end': (7, 37), 'line': '        return (points > 0) * points\\n'}, {'type': 6, 'string': '', 'start': (8, 4), 'end': (8, 4), 'line': '    except ValueError:\\n'}, {'type': 1, 'string': 'except', 'start': (8, 4), 'end': (8, 10), 'line': '    except ValueError:\\n'}, {'type': 1, 'string': 'ValueError', 'start': (8, 11), 'end': (8, 21), 'line': '    except ValueError:\\n'}, {'type': 54, 'string': ':', 'start': (8, 21), 'end': (8, 22), 'line': '    except ValueError:\\n'}, {'type': 4, 'string': '\\n', 'start': (8, 22), 'end': (8, 23), 'line': '    except ValueError:\\n'}, {'type': 5, 'string': '        ', 'start': (9, 0), 'end': (9, 8), 'line': \"        if net_strokes == 'X':\\n\"}, {'type': 1, 'string': 'if', 'start': (9, 8), 'end': (9, 10), 'line': \"        if net_strokes == 'X':\\n\"}, {'type': 1, 'string': 'net_strokes', 'start': (9, 11), 'end': (9, 22), 'line': \"        if net_strokes == 'X':\\n\"}, {'type': 54, 'string': '==', 'start': (9, 23), 'end': (9, 25), 'line': \"        if net_strokes == 'X':\\n\"}, {'type': 3, 'string': \"'X'\", 'start': (9, 26), 'end': (9, 29), 'line': \"        if net_strokes == 'X':\\n\"}, {'type': 54, 'string': ':', 'start': (9, 29), 'end': (9, 30), 'line': \"        if net_strokes == 'X':\\n\"}, {'type': 4, 'string': '\\n', 'start': (9, 30), 'end': (9, 31), 'line': \"        if net_strokes == 'X':\\n\"}, {'type': 5, 'string': '            ', 'start': (10, 0), 'end': (10, 12), 'line': '            return 0\\n'}, {'type': 1, 'string': 'return', 'start': (10, 12), 'end': (10, 18), 'line': '            return 0\\n'}, {'type': 2, 'string': '0', 'start': (10, 19), 'end': (10, 20), 'line': '            return 0\\n'}, {'type': 4, 'string': '\\n', 'start': (10, 20), 'end': (10, 21), 'line': '            return 0\\n'}, {'type': 6, 'string': '', 'start': (11, 8), 'end': (11, 8), 'line': '        raise\\n'}, {'type': 1, 'string': 'raise', 'start': (11, 8), 'end': (11, 13), 'line': '        raise\\n'}, {'type': 4, 'string': '\\n', 'start': (11, 13), 'end': (11, 14), 'line': '        raise\\n'}, {'type': 62, 'string': '\\n', 'start': (12, 0), 'end': (12, 1), 'line': '\\n'}, {'type': 6, 'string': '', 'start': (13, 0), 'end': (13, 0), 'line': 'def print_results(results, maxwidth):\\n'}, {'type': 6, 'string': '', 'start': (13, 0), 'end': (13, 0), 'line': 'def print_results(results, maxwidth):\\n'}, {'type': 1, 'string': 'def', 'start': (13, 0), 'end': (13, 3), 'line': 'def print_results(results, maxwidth):\\n'}, {'type': 1, 'string': 'print_results', 'start': (13, 4), 'end': (13, 17), 'line': 'def print_results(results, maxwidth):\\n'}, {'type': 54, 'string': '(', 'start': (13, 17), 'end': (13, 18), 'line': 'def print_results(results, maxwidth):\\n'}, {'type': 1, 'string': 'results', 'start': (13, 18), 'end': (13, 25), 'line': 'def print_results(results, maxwidth):\\n'}, {'type': 54, 'string': ',', 'start': (13, 25), 'end': (13, 26), 'line': 'def print_results(results, maxwidth):\\n'}, {'type': 1, 'string': 'maxwidth', 'start': (13, 27), 'end': (13, 35), 'line': 'def print_results(results, maxwidth):\\n'}, {'type': 54, 'string': ')', 'start': (13, 35), 'end': (13, 36), 'line': 'def print_results(results, maxwidth):\\n'}, {'type': 54, 'string': ':', 'start': (13, 36), 'end': (13, 37), 'line': 'def print_results(results, maxwidth):\\n'}, {'type': 4, 'string': '\\n', 'start': (13, 37), 'end': (13, 38), 'line': 'def print_results(results, maxwidth):\\n'}, {'type': 5, 'string': '    ', 'start': (14, 0), 'end': (14, 4), 'line': '    if not results:\\n'}, {'type': 1, 'string': 'if', 'start': (14, 4), 'end': (14, 6), 'line': '    if not results:\\n'}, {'type': 1, 'string': 'not', 'start': (14, 7), 'end': (14, 10), 'line': '    if not results:\\n'}, {'type': 1, 'string': 'results', 'start': (14, 11), 'end': (14, 18), 'line': '    if not results:\\n'}, {'type': 54, 'string': ':', 'start': (14, 18), 'end': (14, 19), 'line': '    if not results:\\n'}, {'type': 4, 'string': '\\n', 'start': (14, 19), 'end': (14, 20), 'line': '    if not results:\\n'}, {'type': 5, 'string': '        ', 'start': (15, 0), 'end': (15, 8), 'line': '        return\\n'}, {'type': 1, 'string': 'return', 'start': (15, 8), 'end': (15, 14), 'line': '        return\\n'}, {'type': 4, 'string': '\\n', 'start': (15, 14), 'end': (15, 15), 'line': '        return\\n'}, {'type': 6, 'string': '', 'start': (16, 4), 'end': (16, 4), 'line': '    sorted_results = sorted(results, key=lambda x:x[-1], reverse=True)\\n'}, {'type': 1, 'string': 'sorted_results', 'start': (16, 4), 'end': (16, 18), 'line': '    sorted_results = sorted(results, key=lambda x:x[-1], reverse=True)\\n'}, {'type': 54, 'string': '=', 'start': (16, 19), 'end': (16, 20), 'line': '    sorted_results = sorted(results, key=lambda x:x[-1], reverse=True)\\n'}, {'type': 1, 'string': 'sorted', 'start': (16, 21), 'end': (16, 27), 'line': '    sorted_results = sorted(results, key=lambda x:x[-1], reverse=True)\\n'}, {'type': 54, 'string': '(', 'start': (16, 27), 'end': (16, 28), 'line': '    sorted_results = sorted(results, key=lambda x:x[-1], reverse=True)\\n'}, {'type': 1, 'string': 'results', 'start': (16, 28), 'end': (16, 35), 'line': '    sorted_results = sorted(results, key=lambda x:x[-1], reverse=True)\\n'}, {'type': 54, 'string': ',', 'start': (16, 35), 'end': (16, 36), 'line': '    sorted_results = sorted(results, key=lambda x:x[-1], reverse=True)\\n'}, {'type': 1, 'string': 'key', 'start': (16, 37), 'end': (16, 40), 'line': '    sorted_results = sorted(results, key=lambda x:x[-1], reverse=True)\\n'}, {'type': 54, 'string': '=', 'start': (16, 40), 'end': (16, 41), 'line': '    sorted_results = sorted(results, key=lambda x:x[-1], reverse=True)\\n'}, {'type': 1, 'string': 'lambda', 'start': (16, 41), 'end': (16, 47), 'line': '    sorted_results = sorted(results, key=lambda x:x[-1], reverse=True)\\n'}, {'type': 1, 'string': 'x', 'start': (16, 48), 'end': (16, 49), 'line': '    sorted_results = sorted(results, key=lambda x:x[-1], reverse=True)\\n'}, {'type': 54, 'string': ':', 'start': (16, 49), 'end': (16, 50), 'line': '    sorted_results = sorted(results, key=lambda x:x[-1], reverse=True)\\n'}, {'type': 1, 'string': 'x', 'start': (16, 50), 'end': (16, 51), 'line': '    sorted_results = sorted(results, key=lambda x:x[-1], reverse=True)\\n'}, {'type': 54, 'string': '[', 'start': (16, 51), 'end': (16, 52), 'line': '    sorted_results = sorted(results, key=lambda x:x[-1], reverse=True)\\n'}, {'type': 54, 'string': '-', 'start': (16, 52), 'end': (16, 53), 'line': '    sorted_results = sorted(results, key=lambda x:x[-1], reverse=True)\\n'}, {'type': 2, 'string': '1', 'start': (16, 53), 'end': (16, 54), 'line': '    sorted_results = sorted(results, key=lambda x:x[-1], reverse=True)\\n'}, {'type': 54, 'string': ']', 'start': (16, 54), 'end': (16, 55), 'line': '    sorted_results = sorted(results, key=lambda x:x[-1], reverse=True)\\n'}, {'type': 54, 'string': ',', 'start': (16, 55), 'end': (16, 56), 'line': '    sorted_results = sorted(results, key=lambda x:x[-1], reverse=True)\\n'}, {'type': 1, 'string': 'reverse', 'start': (16, 57), 'end': (16, 64), 'line': '    sorted_results = sorted(results, key=lambda x:x[-1], reverse=True)\\n'}, {'type': 54, 'string': '=', 'start': (16, 64), 'end': (16, 65), 'line': '    sorted_results = sorted(results, key=lambda x:x[-1], reverse=True)\\n'}, {'type': 1, 'string': 'True', 'start': (16, 65), 'end': (16, 69), 'line': '    sorted_results = sorted(results, key=lambda x:x[-1], reverse=True)\\n'}, {'type': 54, 'string': ')', 'start': (16, 69), 'end': (16, 70), 'line': '    sorted_results = sorted(results, key=lambda x:x[-1], reverse=True)\\n'}, {'type': 4, 'string': '\\n', 'start': (16, 70), 'end': (16, 71), 'line': '    sorted_results = sorted(results, key=lambda x:x[-1], reverse=True)\\n'}, {'type': 1, 'string': 'for', 'start': (17, 4), 'end': (17, 7), 'line': '    for (n, p) in sorted_results:\\n'}, {'type': 54, 'string': '(', 'start': (17, 8), 'end': (17, 9), 'line': '    for (n, p) in sorted_results:\\n'}, {'type': 1, 'string': 'n', 'start': (17, 9), 'end': (17, 10), 'line': '    for (n, p) in sorted_results:\\n'}, {'type': 54, 'string': ',', 'start': (17, 10), 'end': (17, 11), 'line': '    for (n, p) in sorted_results:\\n'}, {'type': 1, 'string': 'p', 'start': (17, 12), 'end': (17, 13), 'line': '    for (n, p) in sorted_results:\\n'}, {'type': 54, 'string': ')', 'start': (17, 13), 'end': (17, 14), 'line': '    for (n, p) in sorted_results:\\n'}, {'type': 1, 'string': 'in', 'start': (17, 15), 'end': (17, 17), 'line': '    for (n, p) in sorted_results:\\n'}, {'type': 1, 'string': 'sorted_results', 'start': (17, 18), 'end': (17, 32), 'line': '    for (n, p) in sorted_results:\\n'}, {'type': 54, 'string': ':', 'start': (17, 32), 'end': (17, 33), 'line': '    for (n, p) in sorted_results:\\n'}, {'type': 4, 'string': '\\n', 'start': (17, 33), 'end': (17, 34), 'line': '    for (n, p) in sorted_results:\\n'}, {'type': 5, 'string': '        ', 'start': (18, 0), 'end': (18, 8), 'line': \"        print('{:>{:d}s} : {:2d}'.format(n, maxwidth, p))\\n\"}, {'type': 1, 'string': 'print', 'start': (18, 8), 'end': (18, 13), 'line': \"        print('{:>{:d}s} : {:2d}'.format(n, maxwidth, p))\\n\"}, {'type': 54, 'string': '(', 'start': (18, 13), 'end': (18, 14), 'line': \"        print('{:>{:d}s} : {:2d}'.format(n, maxwidth, p))\\n\"}, {'type': 3, 'string': \"'{:>{:d}s} : {:2d}'\", 'start': (18, 14), 'end': (18, 33), 'line': \"        print('{:>{:d}s} : {:2d}'.format(n, maxwidth, p))\\n\"}, {'type': 54, 'string': '.', 'start': (18, 33), 'end': (18, 34), 'line': \"        print('{:>{:d}s} : {:2d}'.format(n, maxwidth, p))\\n\"}, {'type': 1, 'string': 'format', 'start': (18, 34), 'end': (18, 40), 'line': \"        print('{:>{:d}s} : {:2d}'.format(n, maxwidth, p))\\n\"}, {'type': 54, 'string': '(', 'start': (18, 40), 'end': (18, 41), 'line': \"        print('{:>{:d}s} : {:2d}'.format(n, maxwidth, p))\\n\"}, {'type': 1, 'string': 'n', 'start': (18, 41), 'end': (18, 42), 'line': \"        print('{:>{:d}s} : {:2d}'.format(n, maxwidth, p))\\n\"}, {'type': 54, 'string': ',', 'start': (18, 42), 'end': (18, 43), 'line': \"        print('{:>{:d}s} : {:2d}'.format(n, maxwidth, p))\\n\"}, {'type': 1, 'string': 'maxwidth', 'start': (18, 44), 'end': (18, 52), 'line': \"        print('{:>{:d}s} : {:2d}'.format(n, maxwidth, p))\\n\"}, {'type': 54, 'string': ',', 'start': (18, 52), 'end': (18, 53), 'line': \"        print('{:>{:d}s} : {:2d}'.format(n, maxwidth, p))\\n\"}, {'type': 1, 'string': 'p', 'start': (18, 54), 'end': (18, 55), 'line': \"        print('{:>{:d}s} : {:2d}'.format(n, maxwidth, p))\\n\"}, {'type': 54, 'string': ')', 'start': (18, 55), 'end': (18, 56), 'line': \"        print('{:>{:d}s} : {:2d}'.format(n, maxwidth, p))\\n\"}, {'type': 54, 'string': ')', 'start': (18, 56), 'end': (18, 57), 'line': \"        print('{:>{:d}s} : {:2d}'.format(n, maxwidth, p))\\n\"}, {'type': 4, 'string': '\\n', 'start': (18, 57), 'end': (18, 58), 'line': \"        print('{:>{:d}s} : {:2d}'.format(n, maxwidth, p))\\n\"}, {'type': 62, 'string': '\\n', 'start': (19, 0), 'end': (19, 1), 'line': '\\n'}, {'type': 6, 'string': '', 'start': (20, 0), 'end': (20, 0), 'line': 'def print_disqualified(disqualified, maxwidth):\\n'}, {'type': 6, 'string': '', 'start': (20, 0), 'end': (20, 0), 'line': 'def print_disqualified(disqualified, maxwidth):\\n'}, {'type': 1, 'string': 'def', 'start': (20, 0), 'end': (20, 3), 'line': 'def print_disqualified(disqualified, maxwidth):\\n'}, {'type': 1, 'string': 'print_disqualified', 'start': (20, 4), 'end': (20, 22), 'line': 'def print_disqualified(disqualified, maxwidth):\\n'}, {'type': 54, 'string': '(', 'start': (20, 22), 'end': (20, 23), 'line': 'def print_disqualified(disqualified, maxwidth):\\n'}, {'type': 1, 'string': 'disqualified', 'start': (20, 23), 'end': (20, 35), 'line': 'def print_disqualified(disqualified, maxwidth):\\n'}, {'type': 54, 'string': ',', 'start': (20, 35), 'end': (20, 36), 'line': 'def print_disqualified(disqualified, maxwidth):\\n'}, {'type': 1, 'string': 'maxwidth', 'start': (20, 37), 'end': (20, 45), 'line': 'def print_disqualified(disqualified, maxwidth):\\n'}, {'type': 54, 'string': ')', 'start': (20, 45), 'end': (20, 46), 'line': 'def print_disqualified(disqualified, maxwidth):\\n'}, {'type': 54, 'string': ':', 'start': (20, 46), 'end': (20, 47), 'line': 'def print_disqualified(disqualified, maxwidth):\\n'}, {'type': 4, 'string': '\\n', 'start': (20, 47), 'end': (20, 48), 'line': 'def print_disqualified(disqualified, maxwidth):\\n'}, {'type': 5, 'string': '    ', 'start': (21, 0), 'end': (21, 4), 'line': '    for (n, p) in disqualified:\\n'}, {'type': 1, 'string': 'for', 'start': (21, 4), 'end': (21, 7), 'line': '    for (n, p) in disqualified:\\n'}, {'type': 54, 'string': '(', 'start': (21, 8), 'end': (21, 9), 'line': '    for (n, p) in disqualified:\\n'}, {'type': 1, 'string': 'n', 'start': (21, 9), 'end': (21, 10), 'line': '    for (n, p) in disqualified:\\n'}, {'type': 54, 'string': ',', 'start': (21, 10), 'end': (21, 11), 'line': '    for (n, p) in disqualified:\\n'}, {'type': 1, 'string': 'p', 'start': (21, 12), 'end': (21, 13), 'line': '    for (n, p) in disqualified:\\n'}, {'type': 54, 'string': ')', 'start': (21, 13), 'end': (21, 14), 'line': '    for (n, p) in disqualified:\\n'}, {'type': 1, 'string': 'in', 'start': (21, 15), 'end': (21, 17), 'line': '    for (n, p) in disqualified:\\n'}, {'type': 1, 'string': 'disqualified', 'start': (21, 18), 'end': (21, 30), 'line': '    for (n, p) in disqualified:\\n'}, {'type': 54, 'string': ':', 'start': (21, 30), 'end': (21, 31), 'line': '    for (n, p) in disqualified:\\n'}, {'type': 4, 'string': '\\n', 'start': (21, 31), 'end': (21, 32), 'line': '    for (n, p) in disqualified:\\n'}, {'type': 5, 'string': '        ', 'start': (22, 0), 'end': (22, 8), 'line': \"        print('{:>{:d}s} : Disqualified'.format(n, maxwidth))\\n\"}, {'type': 1, 'string': 'print', 'start': (22, 8), 'end': (22, 13), 'line': \"        print('{:>{:d}s} : Disqualified'.format(n, maxwidth))\\n\"}, {'type': 54, 'string': '(', 'start': (22, 13), 'end': (22, 14), 'line': \"        print('{:>{:d}s} : Disqualified'.format(n, maxwidth))\\n\"}, {'type': 3, 'string': \"'{:>{:d}s} : Disqualified'\", 'start': (22, 14), 'end': (22, 40), 'line': \"        print('{:>{:d}s} : Disqualified'.format(n, maxwidth))\\n\"}, {'type': 54, 'string': '.', 'start': (22, 40), 'end': (22, 41), 'line': \"        print('{:>{:d}s} : Disqualified'.format(n, maxwidth))\\n\"}, {'type': 1, 'string': 'format', 'start': (22, 41), 'end': (22, 47), 'line': \"        print('{:>{:d}s} : Disqualified'.format(n, maxwidth))\\n\"}, {'type': 54, 'string': '(', 'start': (22, 47), 'end': (22, 48), 'line': \"        print('{:>{:d}s} : Disqualified'.format(n, maxwidth))\\n\"}, {'type': 1, 'string': 'n', 'start': (22, 48), 'end': (22, 49), 'line': \"        print('{:>{:d}s} : Disqualified'.format(n, maxwidth))\\n\"}, {'type': 54, 'string': ',', 'start': (22, 49), 'end': (22, 50), 'line': \"        print('{:>{:d}s} : Disqualified'.format(n, maxwidth))\\n\"}, {'type': 1, 'string': 'maxwidth', 'start': (22, 51), 'end': (22, 59), 'line': \"        print('{:>{:d}s} : Disqualified'.format(n, maxwidth))\\n\"}, {'type': 54, 'string': ')', 'start': (22, 59), 'end': (22, 60), 'line': \"        print('{:>{:d}s} : Disqualified'.format(n, maxwidth))\\n\"}, {'type': 54, 'string': ')', 'start': (22, 60), 'end': (22, 61), 'line': \"        print('{:>{:d}s} : Disqualified'.format(n, maxwidth))\\n\"}, {'type': 4, 'string': '\\n', 'start': (22, 61), 'end': (22, 62), 'line': \"        print('{:>{:d}s} : Disqualified'.format(n, maxwidth))\\n\"}, {'type': 62, 'string': '\\n', 'start': (23, 0), 'end': (23, 1), 'line': '\\n'}, {'type': 6, 'string': '', 'start': (24, 0), 'end': (24, 0), 'line': 'def main():\\n'}, {'type': 6, 'string': '', 'start': (24, 0), 'end': (24, 0), 'line': 'def main():\\n'}, {'type': 1, 'string': 'def', 'start': (24, 0), 'end': (24, 3), 'line': 'def main():\\n'}, {'type': 1, 'string': 'main', 'start': (24, 4), 'end': (24, 8), 'line': 'def main():\\n'}, {'type': 54, 'string': '(', 'start': (24, 8), 'end': (24, 9), 'line': 'def main():\\n'}, {'type': 54, 'string': ')', 'start': (24, 9), 'end': (24, 10), 'line': 'def main():\\n'}, {'type': 54, 'string': ':', 'start': (24, 10), 'end': (24, 11), 'line': 'def main():\\n'}, {'type': 4, 'string': '\\n', 'start': (24, 11), 'end': (24, 12), 'line': 'def main():\\n'}, {'type': 62, 'string': '\\n', 'start': (25, 0), 'end': (25, 1), 'line': '\\n'}, {'type': 61, 'string': '# List of results', 'start': (26, 4), 'end': (26, 21), 'line': '    # List of results\\n'}, {'type': 62, 'string': '\\n', 'start': (26, 21), 'end': (26, 22), 'line': '    # List of results\\n'}, {'type': 5, 'string': '    ', 'start': (27, 0), 'end': (27, 4), 'line': '    results = []\\n'}, {'type': 1, 'string': 'results', 'start': (27, 4), 'end': (27, 11), 'line': '    results = []\\n'}, {'type': 54, 'string': '=', 'start': (27, 12), 'end': (27, 13), 'line': '    results = []\\n'}, {'type': 54, 'string': '[', 'start': (27, 14), 'end': (27, 15), 'line': '    results = []\\n'}, {'type': 54, 'string': ']', 'start': (27, 15), 'end': (27, 16), 'line': '    results = []\\n'}, {'type': 4, 'string': '\\n', 'start': (27, 16), 'end': (27, 17), 'line': '    results = []\\n'}, {'type': 1, 'string': 'disqualified', 'start': (28, 4), 'end': (28, 16), 'line': '    disqualified = []\\n'}, {'type': 54, 'string': '=', 'start': (28, 17), 'end': (28, 18), 'line': '    disqualified = []\\n'}, {'type': 54, 'string': '[', 'start': (28, 19), 'end': (28, 20), 'line': '    disqualified = []\\n'}, {'type': 54, 'string': ']', 'start': (28, 20), 'end': (28, 21), 'line': '    disqualified = []\\n'}, {'type': 4, 'string': '\\n', 'start': (28, 21), 'end': (28, 22), 'line': '    disqualified = []\\n'}, {'type': 62, 'string': '\\n', 'start': (29, 0), 'end': (29, 1), 'line': '\\n'}, {'type': 61, 'string': '# Grab pars and indices', 'start': (30, 4), 'end': (30, 27), 'line': '    # Grab pars and indices\\n'}, {'type': 62, 'string': '\\n', 'start': (30, 27), 'end': (30, 28), 'line': '    # Grab pars and indices\\n'}, {'type': 1, 'string': 'pars', 'start': (31, 4), 'end': (31, 8), 'line': '    pars = [int(x) for x in sys.stdin.readline().strip().split()]\\n'}, {'type': 54, 'string': '=', 'start': (31, 9), 'end': (31, 10), 'line': '    pars = [int(x) for x in sys.stdin.readline().strip().split()]\\n'}, {'type': 54, 'string': '[', 'start': (31, 11), 'end': (31, 12), 'line': '    pars = [int(x) for x in sys.stdin.readline().strip().split()]\\n'}, {'type': 1, 'string': 'int', 'start': (31, 12), 'end': (31, 15), 'line': '    pars = [int(x) for x in sys.stdin.readline().strip().split()]\\n'}, {'type': 54, 'string': '(', 'start': (31, 15), 'end': (31, 16), 'line': '    pars = [int(x) for x in sys.stdin.readline().strip().split()]\\n'}, {'type': 1, 'string': 'x', 'start': (31, 16), 'end': (31, 17), 'line': '    pars = [int(x) for x in sys.stdin.readline().strip().split()]\\n'}, {'type': 54, 'string': ')', 'start': (31, 17), 'end': (31, 18), 'line': '    pars = [int(x) for x in sys.stdin.readline().strip().split()]\\n'}, {'type': 1, 'string': 'for', 'start': (31, 19), 'end': (31, 22), 'line': '    pars = [int(x) for x in sys.stdin.readline().strip().split()]\\n'}, {'type': 1, 'string': 'x', 'start': (31, 23), 'end': (31, 24), 'line': '    pars = [int(x) for x in sys.stdin.readline().strip().split()]\\n'}, {'type': 1, 'string': 'in', 'start': (31, 25), 'end': (31, 27), 'line': '    pars = [int(x) for x in sys.stdin.readline().strip().split()]\\n'}, {'type': 1, 'string': 'sys', 'start': (31, 28), 'end': (31, 31), 'line': '    pars = [int(x) for x in sys.stdin.readline().strip().split()]\\n'}, {'type': 54, 'string': '.', 'start': (31, 31), 'end': (31, 32), 'line': '    pars = [int(x) for x in sys.stdin.readline().strip().split()]\\n'}, {'type': 1, 'string': 'stdin', 'start': (31, 32), 'end': (31, 37), 'line': '    pars = [int(x) for x in sys.stdin.readline().strip().split()]\\n'}, {'type': 54, 'string': '.', 'start': (31, 37), 'end': (31, 38), 'line': '    pars = [int(x) for x in sys.stdin.readline().strip().split()]\\n'}, {'type': 1, 'string': 'readline', 'start': (31, 38), 'end': (31, 46), 'line': '    pars = [int(x) for x in sys.stdin.readline().strip().split()]\\n'}, {'type': 54, 'string': '(', 'start': (31, 46), 'end': (31, 47), 'line': '    pars = [int(x) for x in sys.stdin.readline().strip().split()]\\n'}, {'type': 54, 'string': ')', 'start': (31, 47), 'end': (31, 48), 'line': '    pars = [int(x) for x in sys.stdin.readline().strip().split()]\\n'}, {'type': 54, 'string': '.', 'start': (31, 48), 'end': (31, 49), 'line': '    pars = [int(x) for x in sys.stdin.readline().strip().split()]\\n'}, {'type': 1, 'string': 'strip', 'start': (31, 49), 'end': (31, 54), 'line': '    pars = [int(x) for x in sys.stdin.readline().strip().split()]\\n'}, {'type': 54, 'string': '(', 'start': (31, 54), 'end': (31, 55), 'line': '    pars = [int(x) for x in sys.stdin.readline().strip().split()]\\n'}, {'type': 54, 'string': ')', 'start': (31, 55), 'end': (31, 56), 'line': '    pars = [int(x) for x in sys.stdin.readline().strip().split()]\\n'}, {'type': 54, 'string': '.', 'start': (31, 56), 'end': (31, 57), 'line': '    pars = [int(x) for x in sys.stdin.readline().strip().split()]\\n'}, {'type': 1, 'string': 'split', 'start': (31, 57), 'end': (31, 62), 'line': '    pars = [int(x) for x in sys.stdin.readline().strip().split()]\\n'}, {'type': 54, 'string': '(', 'start': (31, 62), 'end': (31, 63), 'line': '    pars = [int(x) for x in sys.stdin.readline().strip().split()]\\n'}, {'type': 54, 'string': ')', 'start': (31, 63), 'end': (31, 64), 'line': '    pars = [int(x) for x in sys.stdin.readline().strip().split()]\\n'}, {'type': 54, 'string': ']', 'start': (31, 64), 'end': (31, 65), 'line': '    pars = [int(x) for x in sys.stdin.readline().strip().split()]\\n'}, {'type': 4, 'string': '\\n', 'start': (31, 65), 'end': (31, 66), 'line': '    pars = [int(x) for x in sys.stdin.readline().strip().split()]\\n'}, {'type': 1, 'string': 'indices', 'start': (32, 4), 'end': (32, 11), 'line': '    indices = [int(x) for x in sys.stdin.readline().strip().split()]\\n'}, {'type': 54, 'string': '=', 'start': (32, 12), 'end': (32, 13), 'line': '    indices = [int(x) for x in sys.stdin.readline().strip().split()]\\n'}, {'type': 54, 'string': '[', 'start': (32, 14), 'end': (32, 15), 'line': '    indices = [int(x) for x in sys.stdin.readline().strip().split()]\\n'}, {'type': 1, 'string': 'int', 'start': (32, 15), 'end': (32, 18), 'line': '    indices = [int(x) for x in sys.stdin.readline().strip().split()]\\n'}, {'type': 54, 'string': '(', 'start': (32, 18), 'end': (32, 19), 'line': '    indices = [int(x) for x in sys.stdin.readline().strip().split()]\\n'}, {'type': 1, 'string': 'x', 'start': (32, 19), 'end': (32, 20), 'line': '    indices = [int(x) for x in sys.stdin.readline().strip().split()]\\n'}, {'type': 54, 'string': ')', 'start': (32, 20), 'end': (32, 21), 'line': '    indices = [int(x) for x in sys.stdin.readline().strip().split()]\\n'}, {'type': 1, 'string': 'for', 'start': (32, 22), 'end': (32, 25), 'line': '    indices = [int(x) for x in sys.stdin.readline().strip().split()]\\n'}, {'type': 1, 'string': 'x', 'start': (32, 26), 'end': (32, 27), 'line': '    indices = [int(x) for x in sys.stdin.readline().strip().split()]\\n'}, {'type': 1, 'string': 'in', 'start': (32, 28), 'end': (32, 30), 'line': '    indices = [int(x) for x in sys.stdin.readline().strip().split()]\\n'}, {'type': 1, 'string': 'sys', 'start': (32, 31), 'end': (32, 34), 'line': '    indices = [int(x) for x in sys.stdin.readline().strip().split()]\\n'}, {'type': 54, 'string': '.', 'start': (32, 34), 'end': (32, 35), 'line': '    indices = [int(x) for x in sys.stdin.readline().strip().split()]\\n'}, {'type': 1, 'string': 'stdin', 'start': (32, 35), 'end': (32, 40), 'line': '    indices = [int(x) for x in sys.stdin.readline().strip().split()]\\n'}, {'type': 54, 'string': '.', 'start': (32, 40), 'end': (32, 41), 'line': '    indices = [int(x) for x in sys.stdin.readline().strip().split()]\\n'}, {'type': 1, 'string': 'readline', 'start': (32, 41), 'end': (32, 49), 'line': '    indices = [int(x) for x in sys.stdin.readline().strip().split()]\\n'}, {'type': 54, 'string': '(', 'start': (32, 49), 'end': (32, 50), 'line': '    indices = [int(x) for x in sys.stdin.readline().strip().split()]\\n'}, {'type': 54, 'string': ')', 'start': (32, 50), 'end': (32, 51), 'line': '    indices = [int(x) for x in sys.stdin.readline().strip().split()]\\n'}, {'type': 54, 'string': '.', 'start': (32, 51), 'end': (32, 52), 'line': '    indices = [int(x) for x in sys.stdin.readline().strip().split()]\\n'}, {'type': 1, 'string': 'strip', 'start': (32, 52), 'end': (32, 57), 'line': '    indices = [int(x) for x in sys.stdin.readline().strip().split()]\\n'}, {'type': 54, 'string': '(', 'start': (32, 57), 'end': (32, 58), 'line': '    indices = [int(x) for x in sys.stdin.readline().strip().split()]\\n'}, {'type': 54, 'string': ')', 'start': (32, 58), 'end': (32, 59), 'line': '    indices = [int(x) for x in sys.stdin.readline().strip().split()]\\n'}, {'type': 54, 'string': '.', 'start': (32, 59), 'end': (32, 60), 'line': '    indices = [int(x) for x in sys.stdin.readline().strip().split()]\\n'}, {'type': 1, 'string': 'split', 'start': (32, 60), 'end': (32, 65), 'line': '    indices = [int(x) for x in sys.stdin.readline().strip().split()]\\n'}, {'type': 54, 'string': '(', 'start': (32, 65), 'end': (32, 66), 'line': '    indices = [int(x) for x in sys.stdin.readline().strip().split()]\\n'}, {'type': 54, 'string': ')', 'start': (32, 66), 'end': (32, 67), 'line': '    indices = [int(x) for x in sys.stdin.readline().strip().split()]\\n'}, {'type': 54, 'string': ']', 'start': (32, 67), 'end': (32, 68), 'line': '    indices = [int(x) for x in sys.stdin.readline().strip().split()]\\n'}, {'type': 4, 'string': '\\n', 'start': (32, 68), 'end': (32, 69), 'line': '    indices = [int(x) for x in sys.stdin.readline().strip().split()]\\n'}, {'type': 62, 'string': '\\n', 'start': (33, 0), 'end': (33, 1), 'line': '\\n'}, {'type': 61, 'string': '# Go through remaining lines    ', 'start': (34, 4), 'end': (34, 36), 'line': '    # Go through remaining lines    \\n'}, {'type': 62, 'string': '\\n', 'start': (34, 36), 'end': (34, 37), 'line': '    # Go through remaining lines    \\n'}, {'type': 1, 'string': 'for', 'start': (35, 4), 'end': (35, 7), 'line': '    for line in sys.stdin:\\n'}, {'type': 1, 'string': 'line', 'start': (35, 8), 'end': (35, 12), 'line': '    for line in sys.stdin:\\n'}, {'type': 1, 'string': 'in', 'start': (35, 13), 'end': (35, 15), 'line': '    for line in sys.stdin:\\n'}, {'type': 1, 'string': 'sys', 'start': (35, 16), 'end': (35, 19), 'line': '    for line in sys.stdin:\\n'}, {'type': 54, 'string': '.', 'start': (35, 19), 'end': (35, 20), 'line': '    for line in sys.stdin:\\n'}, {'type': 1, 'string': 'stdin', 'start': (35, 20), 'end': (35, 25), 'line': '    for line in sys.stdin:\\n'}, {'type': 54, 'string': ':', 'start': (35, 25), 'end': (35, 26), 'line': '    for line in sys.stdin:\\n'}, {'type': 4, 'string': '\\n', 'start': (35, 26), 'end': (35, 27), 'line': '    for line in sys.stdin:\\n'}, {'type': 5, 'string': '        ', 'start': (36, 0), 'end': (36, 8), 'line': '        tokens = line.split()\\n'}, {'type': 1, 'string': 'tokens', 'start': (36, 8), 'end': (36, 14), 'line': '        tokens = line.split()\\n'}, {'type': 54, 'string': '=', 'start': (36, 15), 'end': (36, 16), 'line': '        tokens = line.split()\\n'}, {'type': 1, 'string': 'line', 'start': (36, 17), 'end': (36, 21), 'line': '        tokens = line.split()\\n'}, {'type': 54, 'string': '.', 'start': (36, 21), 'end': (36, 22), 'line': '        tokens = line.split()\\n'}, {'type': 1, 'string': 'split', 'start': (36, 22), 'end': (36, 27), 'line': '        tokens = line.split()\\n'}, {'type': 54, 'string': '(', 'start': (36, 27), 'end': (36, 28), 'line': '        tokens = line.split()\\n'}, {'type': 54, 'string': ')', 'start': (36, 28), 'end': (36, 29), 'line': '        tokens = line.split()\\n'}, {'type': 4, 'string': '\\n', 'start': (36, 29), 'end': (36, 30), 'line': '        tokens = line.split()\\n'}, {'type': 1, 'string': 'scores', 'start': (37, 8), 'end': (37, 14), 'line': '        scores = tokens[-18:]\\n'}, {'type': 54, 'string': '=', 'start': (37, 15), 'end': (37, 16), 'line': '        scores = tokens[-18:]\\n'}, {'type': 1, 'string': 'tokens', 'start': (37, 17), 'end': (37, 23), 'line': '        scores = tokens[-18:]\\n'}, {'type': 54, 'string': '[', 'start': (37, 23), 'end': (37, 24), 'line': '        scores = tokens[-18:]\\n'}, {'type': 54, 'string': '-', 'start': (37, 24), 'end': (37, 25), 'line': '        scores = tokens[-18:]\\n'}, {'type': 2, 'string': '18', 'start': (37, 25), 'end': (37, 27), 'line': '        scores = tokens[-18:]\\n'}, {'type': 54, 'string': ':', 'start': (37, 27), 'end': (37, 28), 'line': '        scores = tokens[-18:]\\n'}, {'type': 54, 'string': ']', 'start': (37, 28), 'end': (37, 29), 'line': '        scores = tokens[-18:]\\n'}, {'type': 4, 'string': '\\n', 'start': (37, 29), 'end': (37, 30), 'line': '        scores = tokens[-18:]\\n'}, {'type': 1, 'string': 'hcap', 'start': (38, 8), 'end': (38, 12), 'line': '        hcap = int(tokens[-19])\\n'}, {'type': 54, 'string': '=', 'start': (38, 13), 'end': (38, 14), 'line': '        hcap = int(tokens[-19])\\n'}, {'type': 1, 'string': 'int', 'start': (38, 15), 'end': (38, 18), 'line': '        hcap = int(tokens[-19])\\n'}, {'type': 54, 'string': '(', 'start': (38, 18), 'end': (38, 19), 'line': '        hcap = int(tokens[-19])\\n'}, {'type': 1, 'string': 'tokens', 'start': (38, 19), 'end': (38, 25), 'line': '        hcap = int(tokens[-19])\\n'}, {'type': 54, 'string': '[', 'start': (38, 25), 'end': (38, 26), 'line': '        hcap = int(tokens[-19])\\n'}, {'type': 54, 'string': '-', 'start': (38, 26), 'end': (38, 27), 'line': '        hcap = int(tokens[-19])\\n'}, {'type': 2, 'string': '19', 'start': (38, 27), 'end': (38, 29), 'line': '        hcap = int(tokens[-19])\\n'}, {'type': 54, 'string': ']', 'start': (38, 29), 'end': (38, 30), 'line': '        hcap = int(tokens[-19])\\n'}, {'type': 54, 'string': ')', 'start': (38, 30), 'end': (38, 31), 'line': '        hcap = int(tokens[-19])\\n'}, {'type': 4, 'string': '\\n', 'start': (38, 31), 'end': (38, 32), 'line': '        hcap = int(tokens[-19])\\n'}, {'type': 1, 'string': 'name', 'start': (39, 8), 'end': (39, 12), 'line': \"        name = ' '.join(tokens[:-19])\\n\"}, {'type': 54, 'string': '=', 'start': (39, 13), 'end': (39, 14), 'line': \"        name = ' '.join(tokens[:-19])\\n\"}, {'type': 3, 'string': \"' '\", 'start': (39, 15), 'end': (39, 18), 'line': \"        name = ' '.join(tokens[:-19])\\n\"}, {'type': 54, 'string': '.', 'start': (39, 18), 'end': (39, 19), 'line': \"        name = ' '.join(tokens[:-19])\\n\"}, {'type': 1, 'string': 'join', 'start': (39, 19), 'end': (39, 23), 'line': \"        name = ' '.join(tokens[:-19])\\n\"}, {'type': 54, 'string': '(', 'start': (39, 23), 'end': (39, 24), 'line': \"        name = ' '.join(tokens[:-19])\\n\"}, {'type': 1, 'string': 'tokens', 'start': (39, 24), 'end': (39, 30), 'line': \"        name = ' '.join(tokens[:-19])\\n\"}, {'type': 54, 'string': '[', 'start': (39, 30), 'end': (39, 31), 'line': \"        name = ' '.join(tokens[:-19])\\n\"}, {'type': 54, 'string': ':', 'start': (39, 31), 'end': (39, 32), 'line': \"        name = ' '.join(tokens[:-19])\\n\"}, {'type': 54, 'string': '-', 'start': (39, 32), 'end': (39, 33), 'line': \"        name = ' '.join(tokens[:-19])\\n\"}, {'type': 2, 'string': '19', 'start': (39, 33), 'end': (39, 35), 'line': \"        name = ' '.join(tokens[:-19])\\n\"}, {'type': 54, 'string': ']', 'start': (39, 35), 'end': (39, 36), 'line': \"        name = ' '.join(tokens[:-19])\\n\"}, {'type': 54, 'string': ')', 'start': (39, 36), 'end': (39, 37), 'line': \"        name = ' '.join(tokens[:-19])\\n\"}, {'type': 4, 'string': '\\n', 'start': (39, 37), 'end': (39, 38), 'line': \"        name = ' '.join(tokens[:-19])\\n\"}, {'type': 61, 'string': \"# print('{} : {}'.format(name, hcap))\", 'start': (40, 8), 'end': (40, 45), 'line': \"        # print('{} : {}'.format(name, hcap))\\n\"}, {'type': 62, 'string': '\\n', 'start': (40, 45), 'end': (40, 46), 'line': \"        # print('{} : {}'.format(name, hcap))\\n\"}, {'type': 62, 'string': '\\n', 'start': (41, 0), 'end': (41, 1), 'line': '\\n'}, {'type': 61, 'string': '# Increment par on each hole where strokes received', 'start': (42, 8), 'end': (42, 59), 'line': '        # Increment par on each hole where strokes received\\n'}, {'type': 62, 'string': '\\n', 'start': (42, 59), 'end': (42, 60), 'line': '        # Increment par on each hole where strokes received\\n'}, {'type': 1, 'string': 'hpars', 'start': (43, 8), 'end': (43, 13), 'line': '        hpars = pars[:]\\n'}, {'type': 54, 'string': '=', 'start': (43, 14), 'end': (43, 15), 'line': '        hpars = pars[:]\\n'}, {'type': 1, 'string': 'pars', 'start': (43, 16), 'end': (43, 20), 'line': '        hpars = pars[:]\\n'}, {'type': 54, 'string': '[', 'start': (43, 20), 'end': (43, 21), 'line': '        hpars = pars[:]\\n'}, {'type': 54, 'string': ':', 'start': (43, 21), 'end': (43, 22), 'line': '        hpars = pars[:]\\n'}, {'type': 54, 'string': ']', 'start': (43, 22), 'end': (43, 23), 'line': '        hpars = pars[:]\\n'}, {'type': 4, 'string': '\\n', 'start': (43, 23), 'end': (43, 24), 'line': '        hpars = pars[:]\\n'}, {'type': 1, 'string': 'for', 'start': (44, 8), 'end': (44, 11), 'line': '        for i in range(1, hcap+1):\\n'}, {'type': 1, 'string': 'i', 'start': (44, 12), 'end': (44, 13), 'line': '        for i in range(1, hcap+1):\\n'}, {'type': 1, 'string': 'in', 'start': (44, 14), 'end': (44, 16), 'line': '        for i in range(1, hcap+1):\\n'}, {'type': 1, 'string': 'range', 'start': (44, 17), 'end': (44, 22), 'line': '        for i in range(1, hcap+1):\\n'}, {'type': 54, 'string': '(', 'start': (44, 22), 'end': (44, 23), 'line': '        for i in range(1, hcap+1):\\n'}, {'type': 2, 'string': '1', 'start': (44, 23), 'end': (44, 24), 'line': '        for i in range(1, hcap+1):\\n'}, {'type': 54, 'string': ',', 'start': (44, 24), 'end': (44, 25), 'line': '        for i in range(1, hcap+1):\\n'}, {'type': 1, 'string': 'hcap', 'start': (44, 26), 'end': (44, 30), 'line': '        for i in range(1, hcap+1):\\n'}, {'type': 54, 'string': '+', 'start': (44, 30), 'end': (44, 31), 'line': '        for i in range(1, hcap+1):\\n'}, {'type': 2, 'string': '1', 'start': (44, 31), 'end': (44, 32), 'line': '        for i in range(1, hcap+1):\\n'}, {'type': 54, 'string': ')', 'start': (44, 32), 'end': (44, 33), 'line': '        for i in range(1, hcap+1):\\n'}, {'type': 54, 'string': ':', 'start': (44, 33), 'end': (44, 34), 'line': '        for i in range(1, hcap+1):\\n'}, {'type': 4, 'string': '\\n', 'start': (44, 34), 'end': (44, 35), 'line': '        for i in range(1, hcap+1):\\n'}, {'type': 61, 'string': '# Handling mod 18', 'start': (45, 12), 'end': (45, 29), 'line': '            # Handling mod 18\\n'}, {'type': 62, 'string': '\\n', 'start': (45, 29), 'end': (45, 30), 'line': '            # Handling mod 18\\n'}, {'type': 5, 'string': '            ', 'start': (46, 0), 'end': (46, 12), 'line': '            idx = i % 18\\n'}, {'type': 1, 'string': 'idx', 'start': (46, 12), 'end': (46, 15), 'line': '            idx = i % 18\\n'}, {'type': 54, 'string': '=', 'start': (46, 16), 'end': (46, 17), 'line': '            idx = i % 18\\n'}, {'type': 1, 'string': 'i', 'start': (46, 18), 'end': (46, 19), 'line': '            idx = i % 18\\n'}, {'type': 54, 'string': '%', 'start': (46, 20), 'end': (46, 21), 'line': '            idx = i % 18\\n'}, {'type': 2, 'string': '18', 'start': (46, 22), 'end': (46, 24), 'line': '            idx = i % 18\\n'}, {'type': 4, 'string': '\\n', 'start': (46, 24), 'end': (46, 25), 'line': '            idx = i % 18\\n'}, {'type': 1, 'string': 'if', 'start': (47, 12), 'end': (47, 14), 'line': '            if not idx:\\n'}, {'type': 1, 'string': 'not', 'start': (47, 15), 'end': (47, 18), 'line': '            if not idx:\\n'}, {'type': 1, 'string': 'idx', 'start': (47, 19), 'end': (47, 22), 'line': '            if not idx:\\n'}, {'type': 54, 'string': ':', 'start': (47, 22), 'end': (47, 23), 'line': '            if not idx:\\n'}, {'type': 4, 'string': '\\n', 'start': (47, 23), 'end': (47, 24), 'line': '            if not idx:\\n'}, {'type': 5, 'string': '                ', 'start': (48, 0), 'end': (48, 16), 'line': '                idx = 18\\n'}, {'type': 1, 'string': 'idx', 'start': (48, 16), 'end': (48, 19), 'line': '                idx = 18\\n'}, {'type': 54, 'string': '=', 'start': (48, 20), 'end': (48, 21), 'line': '                idx = 18\\n'}, {'type': 2, 'string': '18', 'start': (48, 22), 'end': (48, 24), 'line': '                idx = 18\\n'}, {'type': 4, 'string': '\\n', 'start': (48, 24), 'end': (48, 25), 'line': '                idx = 18\\n'}, {'type': 6, 'string': '', 'start': (49, 12), 'end': (49, 12), 'line': '            hpars[indices.index(idx)] += 1\\n'}, {'type': 1, 'string': 'hpars', 'start': (49, 12), 'end': (49, 17), 'line': '            hpars[indices.index(idx)] += 1\\n'}, {'type': 54, 'string': '[', 'start': (49, 17), 'end': (49, 18), 'line': '            hpars[indices.index(idx)] += 1\\n'}, {'type': 1, 'string': 'indices', 'start': (49, 18), 'end': (49, 25), 'line': '            hpars[indices.index(idx)] += 1\\n'}, {'type': 54, 'string': '.', 'start': (49, 25), 'end': (49, 26), 'line': '            hpars[indices.index(idx)] += 1\\n'}, {'type': 1, 'string': 'index', 'start': (49, 26), 'end': (49, 31), 'line': '            hpars[indices.index(idx)] += 1\\n'}, {'type': 54, 'string': '(', 'start': (49, 31), 'end': (49, 32), 'line': '            hpars[indices.index(idx)] += 1\\n'}, {'type': 1, 'string': 'idx', 'start': (49, 32), 'end': (49, 35), 'line': '            hpars[indices.index(idx)] += 1\\n'}, {'type': 54, 'string': ')', 'start': (49, 35), 'end': (49, 36), 'line': '            hpars[indices.index(idx)] += 1\\n'}, {'type': 54, 'string': ']', 'start': (49, 36), 'end': (49, 37), 'line': '            hpars[indices.index(idx)] += 1\\n'}, {'type': 54, 'string': '+=', 'start': (49, 38), 'end': (49, 40), 'line': '            hpars[indices.index(idx)] += 1\\n'}, {'type': 2, 'string': '1', 'start': (49, 41), 'end': (49, 42), 'line': '            hpars[indices.index(idx)] += 1\\n'}, {'type': 4, 'string': '\\n', 'start': (49, 42), 'end': (49, 43), 'line': '            hpars[indices.index(idx)] += 1\\n'}, {'type': 62, 'string': '\\n', 'start': (50, 0), 'end': (50, 1), 'line': '\\n'}, {'type': 61, 'string': '# print(pars)', 'start': (51, 8), 'end': (51, 21), 'line': '        # print(pars)\\n'}, {'type': 62, 'string': '\\n', 'start': (51, 21), 'end': (51, 22), 'line': '        # print(pars)\\n'}, {'type': 61, 'string': '# print(hpars)', 'start': (52, 8), 'end': (52, 22), 'line': '        # print(hpars)\\n'}, {'type': 62, 'string': '\\n', 'start': (52, 22), 'end': (52, 23), 'line': '        # print(hpars)\\n'}, {'type': 61, 'string': '# print([calc_points(p, s) for (p, s) in zip(hpars, scores)])', 'start': (53, 8), 'end': (53, 69), 'line': '        # print([calc_points(p, s) for (p, s) in zip(hpars, scores)])\\n'}, {'type': 62, 'string': '\\n', 'start': (53, 69), 'end': (53, 70), 'line': '        # print([calc_points(p, s) for (p, s) in zip(hpars, scores)])\\n'}, {'type': 62, 'string': '\\n', 'start': (54, 0), 'end': (54, 1), 'line': '\\n'}, {'type': 6, 'string': '', 'start': (55, 8), 'end': (55, 8), 'line': '        try:\\n'}, {'type': 1, 'string': 'try', 'start': (55, 8), 'end': (55, 11), 'line': '        try:\\n'}, {'type': 54, 'string': ':', 'start': (55, 11), 'end': (55, 12), 'line': '        try:\\n'}, {'type': 4, 'string': '\\n', 'start': (55, 12), 'end': (55, 13), 'line': '        try:\\n'}, {'type': 5, 'string': '            ', 'start': (56, 0), 'end': (56, 12), 'line': '            points = sum([calc_points(p, s) for (p, s) in zip(hpars, scores)])\\n'}, {'type': 1, 'string': 'points', 'start': (56, 12), 'end': (56, 18), 'line': '            points = sum([calc_points(p, s) for (p, s) in zip(hpars, scores)])\\n'}, {'type': 54, 'string': '=', 'start': (56, 19), 'end': (56, 20), 'line': '            points = sum([calc_points(p, s) for (p, s) in zip(hpars, scores)])\\n'}, {'type': 1, 'string': 'sum', 'start': (56, 21), 'end': (56, 24), 'line': '            points = sum([calc_points(p, s) for (p, s) in zip(hpars, scores)])\\n'}, {'type': 54, 'string': '(', 'start': (56, 24), 'end': (56, 25), 'line': '            points = sum([calc_points(p, s) for (p, s) in zip(hpars, scores)])\\n'}, {'type': 54, 'string': '[', 'start': (56, 25), 'end': (56, 26), 'line': '            points = sum([calc_points(p, s) for (p, s) in zip(hpars, scores)])\\n'}, {'type': 1, 'string': 'calc_points', 'start': (56, 26), 'end': (56, 37), 'line': '            points = sum([calc_points(p, s) for (p, s) in zip(hpars, scores)])\\n'}, {'type': 54, 'string': '(', 'start': (56, 37), 'end': (56, 38), 'line': '            points = sum([calc_points(p, s) for (p, s) in zip(hpars, scores)])\\n'}, {'type': 1, 'string': 'p', 'start': (56, 38), 'end': (56, 39), 'line': '            points = sum([calc_points(p, s) for (p, s) in zip(hpars, scores)])\\n'}, {'type': 54, 'string': ',', 'start': (56, 39), 'end': (56, 40), 'line': '            points = sum([calc_points(p, s) for (p, s) in zip(hpars, scores)])\\n'}, {'type': 1, 'string': 's', 'start': (56, 41), 'end': (56, 42), 'line': '            points = sum([calc_points(p, s) for (p, s) in zip(hpars, scores)])\\n'}, {'type': 54, 'string': ')', 'start': (56, 42), 'end': (56, 43), 'line': '            points = sum([calc_points(p, s) for (p, s) in zip(hpars, scores)])\\n'}, {'type': 1, 'string': 'for', 'start': (56, 44), 'end': (56, 47), 'line': '            points = sum([calc_points(p, s) for (p, s) in zip(hpars, scores)])\\n'}, {'type': 54, 'string': '(', 'start': (56, 48), 'end': (56, 49), 'line': '            points = sum([calc_points(p, s) for (p, s) in zip(hpars, scores)])\\n'}, {'type': 1, 'string': 'p', 'start': (56, 49), 'end': (56, 50), 'line': '            points = sum([calc_points(p, s) for (p, s) in zip(hpars, scores)])\\n'}, {'type': 54, 'string': ',', 'start': (56, 50), 'end': (56, 51), 'line': '            points = sum([calc_points(p, s) for (p, s) in zip(hpars, scores)])\\n'}, {'type': 1, 'string': 's', 'start': (56, 52), 'end': (56, 53), 'line': '            points = sum([calc_points(p, s) for (p, s) in zip(hpars, scores)])\\n'}, {'type': 54, 'string': ')', 'start': (56, 53), 'end': (56, 54), 'line': '            points = sum([calc_points(p, s) for (p, s) in zip(hpars, scores)])\\n'}, {'type': 1, 'string': 'in', 'start': (56, 55), 'end': (56, 57), 'line': '            points = sum([calc_points(p, s) for (p, s) in zip(hpars, scores)])\\n'}, {'type': 1, 'string': 'zip', 'start': (56, 58), 'end': (56, 61), 'line': '            points = sum([calc_points(p, s) for (p, s) in zip(hpars, scores)])\\n'}, {'type': 54, 'string': '(', 'start': (56, 61), 'end': (56, 62), 'line': '            points = sum([calc_points(p, s) for (p, s) in zip(hpars, scores)])\\n'}, {'type': 1, 'string': 'hpars', 'start': (56, 62), 'end': (56, 67), 'line': '            points = sum([calc_points(p, s) for (p, s) in zip(hpars, scores)])\\n'}, {'type': 54, 'string': ',', 'start': (56, 67), 'end': (56, 68), 'line': '            points = sum([calc_points(p, s) for (p, s) in zip(hpars, scores)])\\n'}, {'type': 1, 'string': 'scores', 'start': (56, 69), 'end': (56, 75), 'line': '            points = sum([calc_points(p, s) for (p, s) in zip(hpars, scores)])\\n'}, {'type': 54, 'string': ')', 'start': (56, 75), 'end': (56, 76), 'line': '            points = sum([calc_points(p, s) for (p, s) in zip(hpars, scores)])\\n'}, {'type': 54, 'string': ']', 'start': (56, 76), 'end': (56, 77), 'line': '            points = sum([calc_points(p, s) for (p, s) in zip(hpars, scores)])\\n'}, {'type': 54, 'string': ')', 'start': (56, 77), 'end': (56, 78), 'line': '            points = sum([calc_points(p, s) for (p, s) in zip(hpars, scores)])\\n'}, {'type': 4, 'string': '\\n', 'start': (56, 78), 'end': (56, 79), 'line': '            points = sum([calc_points(p, s) for (p, s) in zip(hpars, scores)])\\n'}, {'type': 6, 'string': '', 'start': (57, 8), 'end': (57, 8), 'line': '        except ValueError:\\n'}, {'type': 1, 'string': 'except', 'start': (57, 8), 'end': (57, 14), 'line': '        except ValueError:\\n'}, {'type': 1, 'string': 'ValueError', 'start': (57, 15), 'end': (57, 25), 'line': '        except ValueError:\\n'}, {'type': 54, 'string': ':', 'start': (57, 25), 'end': (57, 26), 'line': '        except ValueError:\\n'}, {'type': 4, 'string': '\\n', 'start': (57, 26), 'end': (57, 27), 'line': '        except ValueError:\\n'}, {'type': 5, 'string': '            ', 'start': (58, 0), 'end': (58, 12), 'line': '            disqualified.append((name, 0))\\n'}, {'type': 1, 'string': 'disqualified', 'start': (58, 12), 'end': (58, 24), 'line': '            disqualified.append((name, 0))\\n'}, {'type': 54, 'string': '.', 'start': (58, 24), 'end': (58, 25), 'line': '            disqualified.append((name, 0))\\n'}, {'type': 1, 'string': 'append', 'start': (58, 25), 'end': (58, 31), 'line': '            disqualified.append((name, 0))\\n'}, {'type': 54, 'string': '(', 'start': (58, 31), 'end': (58, 32), 'line': '            disqualified.append((name, 0))\\n'}, {'type': 54, 'string': '(', 'start': (58, 32), 'end': (58, 33), 'line': '            disqualified.append((name, 0))\\n'}, {'type': 1, 'string': 'name', 'start': (58, 33), 'end': (58, 37), 'line': '            disqualified.append((name, 0))\\n'}, {'type': 54, 'string': ',', 'start': (58, 37), 'end': (58, 38), 'line': '            disqualified.append((name, 0))\\n'}, {'type': 2, 'string': '0', 'start': (58, 39), 'end': (58, 40), 'line': '            disqualified.append((name, 0))\\n'}, {'type': 54, 'string': ')', 'start': (58, 40), 'end': (58, 41), 'line': '            disqualified.append((name, 0))\\n'}, {'type': 54, 'string': ')', 'start': (58, 41), 'end': (58, 42), 'line': '            disqualified.append((name, 0))\\n'}, {'type': 4, 'string': '\\n', 'start': (58, 42), 'end': (58, 43), 'line': '            disqualified.append((name, 0))\\n'}, {'type': 6, 'string': '', 'start': (59, 8), 'end': (59, 8), 'line': '        else:\\n'}, {'type': 1, 'string': 'else', 'start': (59, 8), 'end': (59, 12), 'line': '        else:\\n'}, {'type': 54, 'string': ':', 'start': (59, 12), 'end': (59, 13), 'line': '        else:\\n'}, {'type': 4, 'string': '\\n', 'start': (59, 13), 'end': (59, 14), 'line': '        else:\\n'}, {'type': 5, 'string': '            ', 'start': (60, 0), 'end': (60, 12), 'line': '            results.append((name, points))\\n'}, {'type': 1, 'string': 'results', 'start': (60, 12), 'end': (60, 19), 'line': '            results.append((name, points))\\n'}, {'type': 54, 'string': '.', 'start': (60, 19), 'end': (60, 20), 'line': '            results.append((name, points))\\n'}, {'type': 1, 'string': 'append', 'start': (60, 20), 'end': (60, 26), 'line': '            results.append((name, points))\\n'}, {'type': 54, 'string': '(', 'start': (60, 26), 'end': (60, 27), 'line': '            results.append((name, points))\\n'}, {'type': 54, 'string': '(', 'start': (60, 27), 'end': (60, 28), 'line': '            results.append((name, points))\\n'}, {'type': 1, 'string': 'name', 'start': (60, 28), 'end': (60, 32), 'line': '            results.append((name, points))\\n'}, {'type': 54, 'string': ',', 'start': (60, 32), 'end': (60, 33), 'line': '            results.append((name, points))\\n'}, {'type': 1, 'string': 'points', 'start': (60, 34), 'end': (60, 40), 'line': '            results.append((name, points))\\n'}, {'type': 54, 'string': ')', 'start': (60, 40), 'end': (60, 41), 'line': '            results.append((name, points))\\n'}, {'type': 54, 'string': ')', 'start': (60, 41), 'end': (60, 42), 'line': '            results.append((name, points))\\n'}, {'type': 4, 'string': '\\n', 'start': (60, 42), 'end': (60, 43), 'line': '            results.append((name, points))\\n'}, {'type': 62, 'string': '\\n', 'start': (61, 0), 'end': (61, 1), 'line': '\\n'}, {'type': 61, 'string': '# Present results', 'start': (62, 4), 'end': (62, 21), 'line': '    # Present results\\n'}, {'type': 62, 'string': '\\n', 'start': (62, 21), 'end': (62, 22), 'line': '    # Present results\\n'}, {'type': 6, 'string': '', 'start': (63, 4), 'end': (63, 4), 'line': '    maxwidth = len(max(results+disqualified, key=lambda x:len(x[0]))[0])\\n'}, {'type': 6, 'string': '', 'start': (63, 4), 'end': (63, 4), 'line': '    maxwidth = len(max(results+disqualified, key=lambda x:len(x[0]))[0])\\n'}, {'type': 1, 'string': 'maxwidth', 'start': (63, 4), 'end': (63, 12), 'line': '    maxwidth = len(max(results+disqualified, key=lambda x:len(x[0]))[0])\\n'}, {'type': 54, 'string': '=', 'start': (63, 13), 'end': (63, 14), 'line': '    maxwidth = len(max(results+disqualified, key=lambda x:len(x[0]))[0])\\n'}, {'type': 1, 'string': 'len', 'start': (63, 15), 'end': (63, 18), 'line': '    maxwidth = len(max(results+disqualified, key=lambda x:len(x[0]))[0])\\n'}, {'type': 54, 'string': '(', 'start': (63, 18), 'end': (63, 19), 'line': '    maxwidth = len(max(results+disqualified, key=lambda x:len(x[0]))[0])\\n'}, {'type': 1, 'string': 'max', 'start': (63, 19), 'end': (63, 22), 'line': '    maxwidth = len(max(results+disqualified, key=lambda x:len(x[0]))[0])\\n'}, {'type': 54, 'string': '(', 'start': (63, 22), 'end': (63, 23), 'line': '    maxwidth = len(max(results+disqualified, key=lambda x:len(x[0]))[0])\\n'}, {'type': 1, 'string': 'results', 'start': (63, 23), 'end': (63, 30), 'line': '    maxwidth = len(max(results+disqualified, key=lambda x:len(x[0]))[0])\\n'}, {'type': 54, 'string': '+', 'start': (63, 30), 'end': (63, 31), 'line': '    maxwidth = len(max(results+disqualified, key=lambda x:len(x[0]))[0])\\n'}, {'type': 1, 'string': 'disqualified', 'start': (63, 31), 'end': (63, 43), 'line': '    maxwidth = len(max(results+disqualified, key=lambda x:len(x[0]))[0])\\n'}, {'type': 54, 'string': ',', 'start': (63, 43), 'end': (63, 44), 'line': '    maxwidth = len(max(results+disqualified, key=lambda x:len(x[0]))[0])\\n'}, {'type': 1, 'string': 'key', 'start': (63, 45), 'end': (63, 48), 'line': '    maxwidth = len(max(results+disqualified, key=lambda x:len(x[0]))[0])\\n'}, {'type': 54, 'string': '=', 'start': (63, 48), 'end': (63, 49), 'line': '    maxwidth = len(max(results+disqualified, key=lambda x:len(x[0]))[0])\\n'}, {'type': 1, 'string': 'lambda', 'start': (63, 49), 'end': (63, 55), 'line': '    maxwidth = len(max(results+disqualified, key=lambda x:len(x[0]))[0])\\n'}, {'type': 1, 'string': 'x', 'start': (63, 56), 'end': (63, 57), 'line': '    maxwidth = len(max(results+disqualified, key=lambda x:len(x[0]))[0])\\n'}, {'type': 54, 'string': ':', 'start': (63, 57), 'end': (63, 58), 'line': '    maxwidth = len(max(results+disqualified, key=lambda x:len(x[0]))[0])\\n'}, {'type': 1, 'string': 'len', 'start': (63, 58), 'end': (63, 61), 'line': '    maxwidth = len(max(results+disqualified, key=lambda x:len(x[0]))[0])\\n'}, {'type': 54, 'string': '(', 'start': (63, 61), 'end': (63, 62), 'line': '    maxwidth = len(max(results+disqualified, key=lambda x:len(x[0]))[0])\\n'}, {'type': 1, 'string': 'x', 'start': (63, 62), 'end': (63, 63), 'line': '    maxwidth = len(max(results+disqualified, key=lambda x:len(x[0]))[0])\\n'}, {'type': 54, 'string': '[', 'start': (63, 63), 'end': (63, 64), 'line': '    maxwidth = len(max(results+disqualified, key=lambda x:len(x[0]))[0])\\n'}, {'type': 2, 'string': '0', 'start': (63, 64), 'end': (63, 65), 'line': '    maxwidth = len(max(results+disqualified, key=lambda x:len(x[0]))[0])\\n'}, {'type': 54, 'string': ']', 'start': (63, 65), 'end': (63, 66), 'line': '    maxwidth = len(max(results+disqualified, key=lambda x:len(x[0]))[0])\\n'}, {'type': 54, 'string': ')', 'start': (63, 66), 'end': (63, 67), 'line': '    maxwidth = len(max(results+disqualified, key=lambda x:len(x[0]))[0])\\n'}, {'type': 54, 'string': ')', 'start': (63, 67), 'end': (63, 68), 'line': '    maxwidth = len(max(results+disqualified, key=lambda x:len(x[0]))[0])\\n'}, {'type': 54, 'string': '[', 'start': (63, 68), 'end': (63, 69), 'line': '    maxwidth = len(max(results+disqualified, key=lambda x:len(x[0]))[0])\\n'}, {'type': 2, 'string': '0', 'start': (63, 69), 'end': (63, 70), 'line': '    maxwidth = len(max(results+disqualified, key=lambda x:len(x[0]))[0])\\n'}, {'type': 54, 'string': ']', 'start': (63, 70), 'end': (63, 71), 'line': '    maxwidth = len(max(results+disqualified, key=lambda x:len(x[0]))[0])\\n'}, {'type': 54, 'string': ')', 'start': (63, 71), 'end': (63, 72), 'line': '    maxwidth = len(max(results+disqualified, key=lambda x:len(x[0]))[0])\\n'}, {'type': 4, 'string': '\\n', 'start': (63, 72), 'end': (63, 73), 'line': '    maxwidth = len(max(results+disqualified, key=lambda x:len(x[0]))[0])\\n'}, {'type': 1, 'string': 'print_results', 'start': (64, 4), 'end': (64, 17), 'line': '    print_results(results, maxwidth)\\n'}, {'type': 54, 'string': '(', 'start': (64, 17), 'end': (64, 18), 'line': '    print_results(results, maxwidth)\\n'}, {'type': 1, 'string': 'results', 'start': (64, 18), 'end': (64, 25), 'line': '    print_results(results, maxwidth)\\n'}, {'type': 54, 'string': ',', 'start': (64, 25), 'end': (64, 26), 'line': '    print_results(results, maxwidth)\\n'}, {'type': 1, 'string': 'maxwidth', 'start': (64, 27), 'end': (64, 35), 'line': '    print_results(results, maxwidth)\\n'}, {'type': 54, 'string': ')', 'start': (64, 35), 'end': (64, 36), 'line': '    print_results(results, maxwidth)\\n'}, {'type': 4, 'string': '\\n', 'start': (64, 36), 'end': (64, 37), 'line': '    print_results(results, maxwidth)\\n'}, {'type': 1, 'string': 'print_disqualified', 'start': (65, 4), 'end': (65, 22), 'line': '    print_disqualified(disqualified, maxwidth)         \\n'}, {'type': 54, 'string': '(', 'start': (65, 22), 'end': (65, 23), 'line': '    print_disqualified(disqualified, maxwidth)         \\n'}, {'type': 1, 'string': 'disqualified', 'start': (65, 23), 'end': (65, 35), 'line': '    print_disqualified(disqualified, maxwidth)         \\n'}, {'type': 54, 'string': ',', 'start': (65, 35), 'end': (65, 36), 'line': '    print_disqualified(disqualified, maxwidth)         \\n'}, {'type': 1, 'string': 'maxwidth', 'start': (65, 37), 'end': (65, 45), 'line': '    print_disqualified(disqualified, maxwidth)         \\n'}, {'type': 54, 'string': ')', 'start': (65, 45), 'end': (65, 46), 'line': '    print_disqualified(disqualified, maxwidth)         \\n'}, {'type': 4, 'string': '\\n', 'start': (65, 55), 'end': (65, 56), 'line': '    print_disqualified(disqualified, maxwidth)         \\n'}, {'type': 62, 'string': '\\n', 'start': (66, 0), 'end': (66, 1), 'line': '\\n'}, {'type': 6, 'string': '', 'start': (67, 0), 'end': (67, 0), 'line': \"if __name__ == '__main__':\\n\"}, {'type': 1, 'string': 'if', 'start': (67, 0), 'end': (67, 2), 'line': \"if __name__ == '__main__':\\n\"}, {'type': 1, 'string': '__name__', 'start': (67, 3), 'end': (67, 11), 'line': \"if __name__ == '__main__':\\n\"}, {'type': 54, 'string': '==', 'start': (67, 12), 'end': (67, 14), 'line': \"if __name__ == '__main__':\\n\"}, {'type': 3, 'string': \"'__main__'\", 'start': (67, 15), 'end': (67, 25), 'line': \"if __name__ == '__main__':\\n\"}, {'type': 54, 'string': ':', 'start': (67, 25), 'end': (67, 26), 'line': \"if __name__ == '__main__':\\n\"}, {'type': 4, 'string': '\\n', 'start': (67, 26), 'end': (67, 27), 'line': \"if __name__ == '__main__':\\n\"}, {'type': 5, 'string': '    ', 'start': (68, 0), 'end': (68, 4), 'line': '    main()\\n'}, {'type': 1, 'string': 'main', 'start': (68, 4), 'end': (68, 8), 'line': '    main()\\n'}, {'type': 54, 'string': '(', 'start': (68, 8), 'end': (68, 9), 'line': '    main()\\n'}, {'type': 54, 'string': ')', 'start': (68, 9), 'end': (68, 10), 'line': '    main()\\n'}, {'type': 4, 'string': '\\n', 'start': (68, 10), 'end': (68, 11), 'line': '    main()\\n'}, {'type': 6, 'string': '', 'start': (69, 0), 'end': (69, 0), 'line': ''}, {'type': 0, 'string': '', 'start': (69, 0), 'end': (69, 0), 'line': ''}]\n"
     ]
    }
   ],
   "source": [
    "print(tokens[0])"
   ]
  }
 ],
 "metadata": {
  "kernelspec": {
   "display_name": "base",
   "language": "python",
   "name": "python3"
  },
  "language_info": {
   "codemirror_mode": {
    "name": "ipython",
    "version": 3
   },
   "file_extension": ".py",
   "mimetype": "text/x-python",
   "name": "python",
   "nbconvert_exporter": "python",
   "pygments_lexer": "ipython3",
   "version": "3.10.9"
  },
  "orig_nbformat": 4
 },
 "nbformat": 4,
 "nbformat_minor": 2
}
