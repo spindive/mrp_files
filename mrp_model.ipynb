{
 "cells": [
  {
   "cell_type": "markdown",
   "metadata": {},
   "source": [
    "Experiment 1A - Full Dataset Experiment\n",
    "1) Hyperparameters tuned with Hyperband\n",
    "2) Use full set of dataset for training, validation, and testing (randomized)"
   ]
  },
  {
   "cell_type": "code",
   "execution_count": 1,
   "metadata": {},
   "outputs": [],
   "source": [
    "import pandas as pd\n",
    "import numpy as np\n",
    "from sklearn.model_selection import train_test_split\n",
    "import tensorflow as tf\n",
    "from tensorflow import keras\n",
    "from matplotlib import pyplot as plt\n",
    "import tokenize\n",
    "import io\n",
    "import matplotlib\n",
    "import matplotlib.pyplot as plt\n",
    "from IPython.display import display, HTML\n",
    "import lime\n",
    "from lime.lime_text import LimeTextExplainer\n",
    "from sklearn.pipeline import make_pipeline\n",
    "from sklearn.metrics import accuracy_score, classification_report, confusion_matrix\n",
    "import keras_tuner as kt\n",
    "import json\n",
    "import pickle\n",
    "from tensorflow.keras.utils import plot_model"
   ]
  },
  {
   "cell_type": "code",
   "execution_count": 2,
   "metadata": {},
   "outputs": [],
   "source": [
    "from tensorflow.keras.preprocessing import sequence\n",
    "from tensorflow.keras.models import Sequential\n",
    "from tensorflow.keras.layers import Dense, Dropout, Activation, Flatten, Embedding, Conv1D, GlobalMaxPooling1D, GlobalAveragePooling1D, LSTM, SimpleRNN, SpatialDropout1D, Attention, MaxPooling1D\n",
    "from tensorflow.keras.callbacks import EarlyStopping , ModelCheckpoint\n",
    "from tensorflow.keras.preprocessing.text import Tokenizer\n",
    "from tensorflow.keras.preprocessing.sequence import pad_sequences"
   ]
  },
  {
   "cell_type": "code",
   "execution_count": 3,
   "metadata": {},
   "outputs": [
    {
     "data": {
      "text/plain": [
       "[PhysicalDevice(name='/physical_device:GPU:0', device_type='GPU')]"
      ]
     },
     "execution_count": 3,
     "metadata": {},
     "output_type": "execute_result"
    }
   ],
   "source": [
    "tf.config.list_physical_devices(\"GPU\")"
   ]
  },
  {
   "cell_type": "code",
   "execution_count": 4,
   "metadata": {},
   "outputs": [
    {
     "ename": "ArrowMemoryError",
     "evalue": "realloc of size 2147483648 failed",
     "output_type": "error",
     "traceback": [
      "\u001b[1;31m---------------------------------------------------------------------------\u001b[0m",
      "\u001b[1;31mArrowMemoryError\u001b[0m                          Traceback (most recent call last)",
      "Cell \u001b[1;32mIn[4], line 1\u001b[0m\n\u001b[1;32m----> 1\u001b[0m df_code_py \u001b[39m=\u001b[39m pd\u001b[39m.\u001b[39;49mread_parquet(\u001b[39m'\u001b[39;49m\u001b[39mdf_code_py.gzip\u001b[39;49m\u001b[39m'\u001b[39;49m)\n",
      "File \u001b[1;32mc:\\ProgramData\\anaconda3\\lib\\site-packages\\pandas\\io\\parquet.py:503\u001b[0m, in \u001b[0;36mread_parquet\u001b[1;34m(path, engine, columns, storage_options, use_nullable_dtypes, **kwargs)\u001b[0m\n\u001b[0;32m    456\u001b[0m \u001b[39m\"\"\"\u001b[39;00m\n\u001b[0;32m    457\u001b[0m \u001b[39mLoad a parquet object from the file path, returning a DataFrame.\u001b[39;00m\n\u001b[0;32m    458\u001b[0m \n\u001b[1;32m   (...)\u001b[0m\n\u001b[0;32m    499\u001b[0m \u001b[39mDataFrame\u001b[39;00m\n\u001b[0;32m    500\u001b[0m \u001b[39m\"\"\"\u001b[39;00m\n\u001b[0;32m    501\u001b[0m impl \u001b[39m=\u001b[39m get_engine(engine)\n\u001b[1;32m--> 503\u001b[0m \u001b[39mreturn\u001b[39;00m impl\u001b[39m.\u001b[39mread(\n\u001b[0;32m    504\u001b[0m     path,\n\u001b[0;32m    505\u001b[0m     columns\u001b[39m=\u001b[39mcolumns,\n\u001b[0;32m    506\u001b[0m     storage_options\u001b[39m=\u001b[39mstorage_options,\n\u001b[0;32m    507\u001b[0m     use_nullable_dtypes\u001b[39m=\u001b[39muse_nullable_dtypes,\n\u001b[0;32m    508\u001b[0m     \u001b[39m*\u001b[39m\u001b[39m*\u001b[39mkwargs,\n\u001b[0;32m    509\u001b[0m )\n",
      "File \u001b[1;32mc:\\ProgramData\\anaconda3\\lib\\site-packages\\pandas\\io\\parquet.py:251\u001b[0m, in \u001b[0;36mPyArrowImpl.read\u001b[1;34m(self, path, columns, use_nullable_dtypes, storage_options, **kwargs)\u001b[0m\n\u001b[0;32m    244\u001b[0m path_or_handle, handles, kwargs[\u001b[39m\"\u001b[39m\u001b[39mfilesystem\u001b[39m\u001b[39m\"\u001b[39m] \u001b[39m=\u001b[39m _get_path_or_handle(\n\u001b[0;32m    245\u001b[0m     path,\n\u001b[0;32m    246\u001b[0m     kwargs\u001b[39m.\u001b[39mpop(\u001b[39m\"\u001b[39m\u001b[39mfilesystem\u001b[39m\u001b[39m\"\u001b[39m, \u001b[39mNone\u001b[39;00m),\n\u001b[0;32m    247\u001b[0m     storage_options\u001b[39m=\u001b[39mstorage_options,\n\u001b[0;32m    248\u001b[0m     mode\u001b[39m=\u001b[39m\u001b[39m\"\u001b[39m\u001b[39mrb\u001b[39m\u001b[39m\"\u001b[39m,\n\u001b[0;32m    249\u001b[0m )\n\u001b[0;32m    250\u001b[0m \u001b[39mtry\u001b[39;00m:\n\u001b[1;32m--> 251\u001b[0m     result \u001b[39m=\u001b[39m \u001b[39mself\u001b[39m\u001b[39m.\u001b[39mapi\u001b[39m.\u001b[39mparquet\u001b[39m.\u001b[39mread_table(\n\u001b[0;32m    252\u001b[0m         path_or_handle, columns\u001b[39m=\u001b[39mcolumns, \u001b[39m*\u001b[39m\u001b[39m*\u001b[39mkwargs\n\u001b[0;32m    253\u001b[0m     )\u001b[39m.\u001b[39mto_pandas(\u001b[39m*\u001b[39m\u001b[39m*\u001b[39mto_pandas_kwargs)\n\u001b[0;32m    254\u001b[0m     \u001b[39mif\u001b[39;00m manager \u001b[39m==\u001b[39m \u001b[39m\"\u001b[39m\u001b[39marray\u001b[39m\u001b[39m\"\u001b[39m:\n\u001b[0;32m    255\u001b[0m         result \u001b[39m=\u001b[39m result\u001b[39m.\u001b[39m_as_manager(\u001b[39m\"\u001b[39m\u001b[39marray\u001b[39m\u001b[39m\"\u001b[39m, copy\u001b[39m=\u001b[39m\u001b[39mFalse\u001b[39;00m)\n",
      "File \u001b[1;32mc:\\ProgramData\\anaconda3\\lib\\site-packages\\pyarrow\\parquet\\core.py:2986\u001b[0m, in \u001b[0;36mread_table\u001b[1;34m(source, columns, use_threads, metadata, schema, use_pandas_metadata, read_dictionary, memory_map, buffer_size, partitioning, filesystem, filters, use_legacy_dataset, ignore_prefixes, pre_buffer, coerce_int96_timestamp_unit, decryption_properties, thrift_string_size_limit, thrift_container_size_limit)\u001b[0m\n\u001b[0;32m   2975\u001b[0m         \u001b[39m# TODO test that source is not a directory or a list\u001b[39;00m\n\u001b[0;32m   2976\u001b[0m         dataset \u001b[39m=\u001b[39m ParquetFile(\n\u001b[0;32m   2977\u001b[0m             source, metadata\u001b[39m=\u001b[39mmetadata, read_dictionary\u001b[39m=\u001b[39mread_dictionary,\n\u001b[0;32m   2978\u001b[0m             memory_map\u001b[39m=\u001b[39mmemory_map, buffer_size\u001b[39m=\u001b[39mbuffer_size,\n\u001b[1;32m   (...)\u001b[0m\n\u001b[0;32m   2983\u001b[0m             thrift_container_size_limit\u001b[39m=\u001b[39mthrift_container_size_limit,\n\u001b[0;32m   2984\u001b[0m         )\n\u001b[1;32m-> 2986\u001b[0m     \u001b[39mreturn\u001b[39;00m dataset\u001b[39m.\u001b[39;49mread(columns\u001b[39m=\u001b[39;49mcolumns, use_threads\u001b[39m=\u001b[39;49muse_threads,\n\u001b[0;32m   2987\u001b[0m                         use_pandas_metadata\u001b[39m=\u001b[39;49muse_pandas_metadata)\n\u001b[0;32m   2989\u001b[0m warnings\u001b[39m.\u001b[39mwarn(\n\u001b[0;32m   2990\u001b[0m     \u001b[39m\"\u001b[39m\u001b[39mPassing \u001b[39m\u001b[39m'\u001b[39m\u001b[39muse_legacy_dataset=True\u001b[39m\u001b[39m'\u001b[39m\u001b[39m to get the legacy behaviour is \u001b[39m\u001b[39m\"\u001b[39m\n\u001b[0;32m   2991\u001b[0m     \u001b[39m\"\u001b[39m\u001b[39mdeprecated as of pyarrow 8.0.0, and the legacy implementation will \u001b[39m\u001b[39m\"\u001b[39m\n\u001b[0;32m   2992\u001b[0m     \u001b[39m\"\u001b[39m\u001b[39mbe removed in a future version.\u001b[39m\u001b[39m\"\u001b[39m,\n\u001b[0;32m   2993\u001b[0m     \u001b[39mFutureWarning\u001b[39;00m, stacklevel\u001b[39m=\u001b[39m\u001b[39m2\u001b[39m)\n\u001b[0;32m   2995\u001b[0m \u001b[39mif\u001b[39;00m ignore_prefixes \u001b[39mis\u001b[39;00m \u001b[39mnot\u001b[39;00m \u001b[39mNone\u001b[39;00m:\n",
      "File \u001b[1;32mc:\\ProgramData\\anaconda3\\lib\\site-packages\\pyarrow\\parquet\\core.py:2614\u001b[0m, in \u001b[0;36m_ParquetDatasetV2.read\u001b[1;34m(self, columns, use_threads, use_pandas_metadata)\u001b[0m\n\u001b[0;32m   2606\u001b[0m         index_columns \u001b[39m=\u001b[39m [\n\u001b[0;32m   2607\u001b[0m             col \u001b[39mfor\u001b[39;00m col \u001b[39min\u001b[39;00m _get_pandas_index_columns(metadata)\n\u001b[0;32m   2608\u001b[0m             \u001b[39mif\u001b[39;00m \u001b[39mnot\u001b[39;00m \u001b[39misinstance\u001b[39m(col, \u001b[39mdict\u001b[39m)\n\u001b[0;32m   2609\u001b[0m         ]\n\u001b[0;32m   2610\u001b[0m         columns \u001b[39m=\u001b[39m (\n\u001b[0;32m   2611\u001b[0m             \u001b[39mlist\u001b[39m(columns) \u001b[39m+\u001b[39m \u001b[39mlist\u001b[39m(\u001b[39mset\u001b[39m(index_columns) \u001b[39m-\u001b[39m \u001b[39mset\u001b[39m(columns))\n\u001b[0;32m   2612\u001b[0m         )\n\u001b[1;32m-> 2614\u001b[0m table \u001b[39m=\u001b[39m \u001b[39mself\u001b[39;49m\u001b[39m.\u001b[39;49m_dataset\u001b[39m.\u001b[39;49mto_table(\n\u001b[0;32m   2615\u001b[0m     columns\u001b[39m=\u001b[39;49mcolumns, \u001b[39mfilter\u001b[39;49m\u001b[39m=\u001b[39;49m\u001b[39mself\u001b[39;49m\u001b[39m.\u001b[39;49m_filter_expression,\n\u001b[0;32m   2616\u001b[0m     use_threads\u001b[39m=\u001b[39;49muse_threads\n\u001b[0;32m   2617\u001b[0m )\n\u001b[0;32m   2619\u001b[0m \u001b[39m# if use_pandas_metadata, restore the pandas metadata (which gets\u001b[39;00m\n\u001b[0;32m   2620\u001b[0m \u001b[39m# lost if doing a specific `columns` selection in to_table)\u001b[39;00m\n\u001b[0;32m   2621\u001b[0m \u001b[39mif\u001b[39;00m use_pandas_metadata:\n",
      "File \u001b[1;32mc:\\ProgramData\\anaconda3\\lib\\site-packages\\pyarrow\\_dataset.pyx:546\u001b[0m, in \u001b[0;36mpyarrow._dataset.Dataset.to_table\u001b[1;34m()\u001b[0m\n",
      "File \u001b[1;32mc:\\ProgramData\\anaconda3\\lib\\site-packages\\pyarrow\\_dataset.pyx:3449\u001b[0m, in \u001b[0;36mpyarrow._dataset.Scanner.to_table\u001b[1;34m()\u001b[0m\n",
      "File \u001b[1;32mc:\\ProgramData\\anaconda3\\lib\\site-packages\\pyarrow\\error.pxi:144\u001b[0m, in \u001b[0;36mpyarrow.lib.pyarrow_internal_check_status\u001b[1;34m()\u001b[0m\n",
      "File \u001b[1;32mc:\\ProgramData\\anaconda3\\lib\\site-packages\\pyarrow\\error.pxi:117\u001b[0m, in \u001b[0;36mpyarrow.lib.check_status\u001b[1;34m()\u001b[0m\n",
      "\u001b[1;31mArrowMemoryError\u001b[0m: realloc of size 2147483648 failed"
     ]
    }
   ],
   "source": [
    "df_code_py = pd.read_parquet('df_code_py.gzip')"
   ]
  },
  {
   "cell_type": "code",
   "execution_count": null,
   "metadata": {},
   "outputs": [
    {
     "data": {
      "text/html": [
       "<div>\n",
       "<style scoped>\n",
       "    .dataframe tbody tr th:only-of-type {\n",
       "        vertical-align: middle;\n",
       "    }\n",
       "\n",
       "    .dataframe tbody tr th {\n",
       "        vertical-align: top;\n",
       "    }\n",
       "\n",
       "    .dataframe thead th {\n",
       "        text-align: right;\n",
       "    }\n",
       "</style>\n",
       "<table border=\"1\" class=\"dataframe\">\n",
       "  <thead>\n",
       "    <tr style=\"text-align: right;\">\n",
       "      <th></th>\n",
       "      <th>academic_year_1</th>\n",
       "      <th>task</th>\n",
       "      <th>user</th>\n",
       "      <th>date</th>\n",
       "      <th>academic_year_0</th>\n",
       "      <th>upload</th>\n",
       "      <th>module</th>\n",
       "      <th>correct</th>\n",
       "      <th>hour_submitted</th>\n",
       "      <th>tokens</th>\n",
       "      <th>token_count</th>\n",
       "      <th>line_count</th>\n",
       "      <th>token_code_only</th>\n",
       "      <th>token_per_line</th>\n",
       "    </tr>\n",
       "  </thead>\n",
       "  <tbody>\n",
       "    <tr>\n",
       "      <th>0</th>\n",
       "      <td>2017</td>\n",
       "      <td>add.py</td>\n",
       "      <td>b9e7e608-6036-4d44-8770-a7036176b53c</td>\n",
       "      <td>2016-09-19 14:11:41</td>\n",
       "      <td>2016</td>\n",
       "      <td>#!/usr/bin/env python\\n\\na = int(raw_input())\\...</td>\n",
       "      <td>ca277</td>\n",
       "      <td>True</td>\n",
       "      <td>14</td>\n",
       "      <td>[{'end': [1, 21], 'line': '#!/usr/bin/env pyth...</td>\n",
       "      <td>30</td>\n",
       "      <td>4</td>\n",
       "      <td>[\\n, a, =, int, (, raw_input, (, ), ), \\n, b, ...</td>\n",
       "      <td>7.5</td>\n",
       "    </tr>\n",
       "    <tr>\n",
       "      <th>1</th>\n",
       "      <td>2017</td>\n",
       "      <td>concat-lines.py</td>\n",
       "      <td>b9e7e608-6036-4d44-8770-a7036176b53c</td>\n",
       "      <td>2016-09-19 14:17:33</td>\n",
       "      <td>2016</td>\n",
       "      <td>#!/usr/bin/env python\\n\\na = str(raw_input())\\...</td>\n",
       "      <td>ca277</td>\n",
       "      <td>True</td>\n",
       "      <td>14</td>\n",
       "      <td>[{'end': [1, 21], 'line': '#!/usr/bin/env pyth...</td>\n",
       "      <td>30</td>\n",
       "      <td>4</td>\n",
       "      <td>[\\n, a, =, str, (, raw_input, (, ), ), \\n, b, ...</td>\n",
       "      <td>7.5</td>\n",
       "    </tr>\n",
       "    <tr>\n",
       "      <th>2</th>\n",
       "      <td>2017</td>\n",
       "      <td>goodbye.py</td>\n",
       "      <td>b9e7e608-6036-4d44-8770-a7036176b53c</td>\n",
       "      <td>2016-09-19 10:15:59</td>\n",
       "      <td>2016</td>\n",
       "      <td>#!/usr/bin/env python\\n\\nprint \"Goodbye\"\\n</td>\n",
       "      <td>ca277</td>\n",
       "      <td>True</td>\n",
       "      <td>10</td>\n",
       "      <td>[{'end': [1, 21], 'line': '#!/usr/bin/env pyth...</td>\n",
       "      <td>7</td>\n",
       "      <td>2</td>\n",
       "      <td>[\\n, print, \"Goodbye\", \\n]</td>\n",
       "      <td>3.5</td>\n",
       "    </tr>\n",
       "    <tr>\n",
       "      <th>3</th>\n",
       "      <td>2017</td>\n",
       "      <td>less-than.py</td>\n",
       "      <td>b9e7e608-6036-4d44-8770-a7036176b53c</td>\n",
       "      <td>2016-09-19 14:14:22</td>\n",
       "      <td>2016</td>\n",
       "      <td>#!/usr/bin/env python\\n\\na = int(raw_input())\\...</td>\n",
       "      <td>ca277</td>\n",
       "      <td>True</td>\n",
       "      <td>14</td>\n",
       "      <td>[{'end': [1, 21], 'line': '#!/usr/bin/env pyth...</td>\n",
       "      <td>30</td>\n",
       "      <td>4</td>\n",
       "      <td>[\\n, a, =, int, (, raw_input, (, ), ), \\n, b, ...</td>\n",
       "      <td>7.5</td>\n",
       "    </tr>\n",
       "    <tr>\n",
       "      <th>4</th>\n",
       "      <td>2017</td>\n",
       "      <td>longest-line.py</td>\n",
       "      <td>b9e7e608-6036-4d44-8770-a7036176b53c</td>\n",
       "      <td>2016-09-19 14:51:28</td>\n",
       "      <td>2016</td>\n",
       "      <td>#!usr/bin/evn python\\n\\na = raw_input()\\nb = r...</td>\n",
       "      <td>ca277</td>\n",
       "      <td>True</td>\n",
       "      <td>14</td>\n",
       "      <td>[{'end': [1, 20], 'line': '#!usr/bin/evn pytho...</td>\n",
       "      <td>42</td>\n",
       "      <td>7</td>\n",
       "      <td>[\\n, a, =, raw_input, (, ), \\n, b, =, raw_inpu...</td>\n",
       "      <td>6.0</td>\n",
       "    </tr>\n",
       "  </tbody>\n",
       "</table>\n",
       "</div>"
      ],
      "text/plain": [
       "   academic_year_1             task                                  user  \\\n",
       "0             2017           add.py  b9e7e608-6036-4d44-8770-a7036176b53c   \n",
       "1             2017  concat-lines.py  b9e7e608-6036-4d44-8770-a7036176b53c   \n",
       "2             2017       goodbye.py  b9e7e608-6036-4d44-8770-a7036176b53c   \n",
       "3             2017     less-than.py  b9e7e608-6036-4d44-8770-a7036176b53c   \n",
       "4             2017  longest-line.py  b9e7e608-6036-4d44-8770-a7036176b53c   \n",
       "\n",
       "                 date  academic_year_0  \\\n",
       "0 2016-09-19 14:11:41             2016   \n",
       "1 2016-09-19 14:17:33             2016   \n",
       "2 2016-09-19 10:15:59             2016   \n",
       "3 2016-09-19 14:14:22             2016   \n",
       "4 2016-09-19 14:51:28             2016   \n",
       "\n",
       "                                              upload module  correct  \\\n",
       "0  #!/usr/bin/env python\\n\\na = int(raw_input())\\...  ca277     True   \n",
       "1  #!/usr/bin/env python\\n\\na = str(raw_input())\\...  ca277     True   \n",
       "2         #!/usr/bin/env python\\n\\nprint \"Goodbye\"\\n  ca277     True   \n",
       "3  #!/usr/bin/env python\\n\\na = int(raw_input())\\...  ca277     True   \n",
       "4  #!usr/bin/evn python\\n\\na = raw_input()\\nb = r...  ca277     True   \n",
       "\n",
       "   hour_submitted                                             tokens  \\\n",
       "0              14  [{'end': [1, 21], 'line': '#!/usr/bin/env pyth...   \n",
       "1              14  [{'end': [1, 21], 'line': '#!/usr/bin/env pyth...   \n",
       "2              10  [{'end': [1, 21], 'line': '#!/usr/bin/env pyth...   \n",
       "3              14  [{'end': [1, 21], 'line': '#!/usr/bin/env pyth...   \n",
       "4              14  [{'end': [1, 20], 'line': '#!usr/bin/evn pytho...   \n",
       "\n",
       "   token_count  line_count                                    token_code_only  \\\n",
       "0           30           4  [\\n, a, =, int, (, raw_input, (, ), ), \\n, b, ...   \n",
       "1           30           4  [\\n, a, =, str, (, raw_input, (, ), ), \\n, b, ...   \n",
       "2            7           2                         [\\n, print, \"Goodbye\", \\n]   \n",
       "3           30           4  [\\n, a, =, int, (, raw_input, (, ), ), \\n, b, ...   \n",
       "4           42           7  [\\n, a, =, raw_input, (, ), \\n, b, =, raw_inpu...   \n",
       "\n",
       "   token_per_line  \n",
       "0             7.5  \n",
       "1             7.5  \n",
       "2             3.5  \n",
       "3             7.5  \n",
       "4             6.0  "
      ]
     },
     "execution_count": 140,
     "metadata": {},
     "output_type": "execute_result"
    }
   ],
   "source": [
    "df_code_py.head()"
   ]
  },
  {
   "cell_type": "code",
   "execution_count": null,
   "metadata": {},
   "outputs": [
    {
     "data": {
      "text/plain": [
       "(378455, 14)"
      ]
     },
     "execution_count": 141,
     "metadata": {},
     "output_type": "execute_result"
    }
   ],
   "source": [
    "df_code_py.shape"
   ]
  },
  {
   "cell_type": "code",
   "execution_count": null,
   "metadata": {},
   "outputs": [],
   "source": [
    "df_code_py_exp = df_code_py\n",
    "#df_code_py_exp = df_code_py[df_code_py[\"task\"]==\"ex3-first-long-word.py\"]"
   ]
  },
  {
   "cell_type": "code",
   "execution_count": null,
   "metadata": {},
   "outputs": [
    {
     "data": {
      "text/plain": [
       "array([{'end': array([ 1, 21], dtype=int64), 'line': '#!/usr/bin/env python\\n', 'start': array([1, 0], dtype=int64), 'string': '#!/usr/bin/env python', 'type': 61},\n",
       "       {'end': array([ 1, 22], dtype=int64), 'line': '#!/usr/bin/env python\\n', 'start': array([ 1, 21], dtype=int64), 'string': '\\n', 'type': 62},\n",
       "       {'end': array([2, 1], dtype=int64), 'line': '\\n', 'start': array([2, 0], dtype=int64), 'string': '\\n', 'type': 62},\n",
       "       {'end': array([3, 1], dtype=int64), 'line': 'a = int(raw_input())\\n', 'start': array([3, 0], dtype=int64), 'string': 'a', 'type': 1},\n",
       "       {'end': array([3, 3], dtype=int64), 'line': 'a = int(raw_input())\\n', 'start': array([3, 2], dtype=int64), 'string': '=', 'type': 54},\n",
       "       {'end': array([3, 7], dtype=int64), 'line': 'a = int(raw_input())\\n', 'start': array([3, 4], dtype=int64), 'string': 'int', 'type': 1},\n",
       "       {'end': array([3, 8], dtype=int64), 'line': 'a = int(raw_input())\\n', 'start': array([3, 7], dtype=int64), 'string': '(', 'type': 54},\n",
       "       {'end': array([ 3, 17], dtype=int64), 'line': 'a = int(raw_input())\\n', 'start': array([3, 8], dtype=int64), 'string': 'raw_input', 'type': 1},\n",
       "       {'end': array([ 3, 18], dtype=int64), 'line': 'a = int(raw_input())\\n', 'start': array([ 3, 17], dtype=int64), 'string': '(', 'type': 54},\n",
       "       {'end': array([ 3, 19], dtype=int64), 'line': 'a = int(raw_input())\\n', 'start': array([ 3, 18], dtype=int64), 'string': ')', 'type': 54},\n",
       "       {'end': array([ 3, 20], dtype=int64), 'line': 'a = int(raw_input())\\n', 'start': array([ 3, 19], dtype=int64), 'string': ')', 'type': 54},\n",
       "       {'end': array([ 3, 21], dtype=int64), 'line': 'a = int(raw_input())\\n', 'start': array([ 3, 20], dtype=int64), 'string': '\\n', 'type': 4},\n",
       "       {'end': array([4, 1], dtype=int64), 'line': 'b = int(raw_input())\\n', 'start': array([4, 0], dtype=int64), 'string': 'b', 'type': 1},\n",
       "       {'end': array([4, 3], dtype=int64), 'line': 'b = int(raw_input())\\n', 'start': array([4, 2], dtype=int64), 'string': '=', 'type': 54},\n",
       "       {'end': array([4, 7], dtype=int64), 'line': 'b = int(raw_input())\\n', 'start': array([4, 4], dtype=int64), 'string': 'int', 'type': 1},\n",
       "       {'end': array([4, 8], dtype=int64), 'line': 'b = int(raw_input())\\n', 'start': array([4, 7], dtype=int64), 'string': '(', 'type': 54},\n",
       "       {'end': array([ 4, 17], dtype=int64), 'line': 'b = int(raw_input())\\n', 'start': array([4, 8], dtype=int64), 'string': 'raw_input', 'type': 1},\n",
       "       {'end': array([ 4, 18], dtype=int64), 'line': 'b = int(raw_input())\\n', 'start': array([ 4, 17], dtype=int64), 'string': '(', 'type': 54},\n",
       "       {'end': array([ 4, 19], dtype=int64), 'line': 'b = int(raw_input())\\n', 'start': array([ 4, 18], dtype=int64), 'string': ')', 'type': 54},\n",
       "       {'end': array([ 4, 20], dtype=int64), 'line': 'b = int(raw_input())\\n', 'start': array([ 4, 19], dtype=int64), 'string': ')', 'type': 54},\n",
       "       {'end': array([ 4, 21], dtype=int64), 'line': 'b = int(raw_input())\\n', 'start': array([ 4, 20], dtype=int64), 'string': '\\n', 'type': 4},\n",
       "       {'end': array([5, 1], dtype=int64), 'line': '\\n', 'start': array([5, 0], dtype=int64), 'string': '\\n', 'type': 62},\n",
       "       {'end': array([6, 5], dtype=int64), 'line': 'print a + b\\n', 'start': array([6, 0], dtype=int64), 'string': 'print', 'type': 1},\n",
       "       {'end': array([6, 7], dtype=int64), 'line': 'print a + b\\n', 'start': array([6, 6], dtype=int64), 'string': 'a', 'type': 1},\n",
       "       {'end': array([6, 9], dtype=int64), 'line': 'print a + b\\n', 'start': array([6, 8], dtype=int64), 'string': '+', 'type': 54},\n",
       "       {'end': array([ 6, 11], dtype=int64), 'line': 'print a + b\\n', 'start': array([ 6, 10], dtype=int64), 'string': 'b', 'type': 1},\n",
       "       {'end': array([ 6, 12], dtype=int64), 'line': 'print a + b\\n', 'start': array([ 6, 11], dtype=int64), 'string': '\\n', 'type': 4},\n",
       "       {'end': array([7, 1], dtype=int64), 'line': '\\n', 'start': array([7, 0], dtype=int64), 'string': '\\n', 'type': 62},\n",
       "       {'end': array([8, 1], dtype=int64), 'line': '\\n', 'start': array([8, 0], dtype=int64), 'string': '\\n', 'type': 62},\n",
       "       {'end': array([9, 0], dtype=int64), 'line': '', 'start': array([9, 0], dtype=int64), 'string': '', 'type': 0}],\n",
       "      dtype=object)"
      ]
     },
     "execution_count": 143,
     "metadata": {},
     "output_type": "execute_result"
    }
   ],
   "source": [
    "df_code_py_exp.iloc[0].tokens"
   ]
  },
  {
   "cell_type": "code",
   "execution_count": null,
   "metadata": {},
   "outputs": [],
   "source": [
    "MAX_NUM_WORDS = 100\n",
    "MAX_SEQUENCE_LENGTH = 100\n",
    "EMBEDDING_DIM = 50"
   ]
  },
  {
   "cell_type": "code",
   "execution_count": null,
   "metadata": {},
   "outputs": [],
   "source": [
    "def tokenizer_custom(t_list):    \n",
    "    \n",
    "    if isinstance(t_list, np.ndarray):\n",
    "        #print(t_list)\n",
    "        return t_list\n",
    "    else:\n",
    "        temp_tokens = None\n",
    "        t_dict = None\n",
    "        t_code_only = []\n",
    "        with io.StringIO(t_list) as f:\n",
    "            line = f.readline\n",
    "            temp_tokens = tokenize.generate_tokens(line)\n",
    "            try:\n",
    "                for token in temp_tokens:\n",
    "                    t_dict = token._asdict()\n",
    "                    #print(t_dict)\n",
    "                    #print(t_dict[\"string\"])\n",
    "                    if t_dict[\"line\"] == \"\\n\" or t_dict[\"type\"] == 0:\n",
    "                        pass\n",
    "                    elif t_dict[\"type\"] != 61:\n",
    "                        # tokenize only the code not comments\n",
    "                        t_code_only.append(t_dict[\"string\"])\n",
    "            except:\n",
    "                pass\n",
    "        return np.array(t_code_only)"
   ]
  },
  {
   "cell_type": "code",
   "execution_count": null,
   "metadata": {},
   "outputs": [],
   "source": [
    "tokenizer = Tokenizer(num_words = MAX_NUM_WORDS, filters=None, lower=True, analyzer=tokenizer_custom)"
   ]
  },
  {
   "cell_type": "code",
   "execution_count": null,
   "metadata": {},
   "outputs": [],
   "source": [
    "tokenizer.fit_on_texts(df_code_py_exp[\"token_code_only\"].values)\n",
    "word_index = tokenizer.word_index"
   ]
  },
  {
   "cell_type": "code",
   "execution_count": null,
   "metadata": {},
   "outputs": [],
   "source": [
    "X_values = tokenizer.texts_to_sequences(df_code_py_exp[\"token_code_only\"].values)\n",
    "X_values = pad_sequences(X_values, maxlen=MAX_SEQUENCE_LENGTH)\n"
   ]
  },
  {
   "cell_type": "code",
   "execution_count": null,
   "metadata": {},
   "outputs": [],
   "source": [
    "Y_values = df_code_py_exp[\"correct\"].astype(int).values"
   ]
  },
  {
   "cell_type": "code",
   "execution_count": null,
   "metadata": {},
   "outputs": [
    {
     "name": "stdout",
     "output_type": "stream",
     "text": [
      "[ 0  0  0  0  0  0  0  0  0  0  0  0  0  0  0  0  0  0  0  0  0  0  0  0\n",
      "  0  0  0  0  0  0  0  0  0  0  0  0  0  0  0  0  0  0  0  0  0  0  0  0\n",
      "  0  0  0  0  0  0  0  0  0  0  0  0  0  0  0  0  0  0  0  0  0  0  0  0\n",
      "  0  0  0  0  1 18  4 47  2 51  2  3  3  1 61  4 47  2 51  2  3  3  1 16\n",
      " 18 17 61  1] 1\n"
     ]
    }
   ],
   "source": [
    "print(X_values[0], Y_values[0])"
   ]
  },
  {
   "cell_type": "code",
   "execution_count": null,
   "metadata": {},
   "outputs": [
    {
     "name": "stdout",
     "output_type": "stream",
     "text": [
      "['\\n' 'a' '=' 'int' '(' 'raw_input' '(' ')' ')' '\\n' 'b' '=' 'int' '('\n",
      " 'raw_input' '(' ')' ')' '\\n' 'print' 'a' '+' 'b' '\\n'] True\n"
     ]
    }
   ],
   "source": [
    "print(df_code_py_exp.iloc[0].token_code_only, df_code_py_exp.iloc[0].correct)"
   ]
  },
  {
   "cell_type": "code",
   "execution_count": null,
   "metadata": {},
   "outputs": [],
   "source": [
    "X_train, X_test, Y_train, Y_test, I_train, I_test  = train_test_split(X_values, Y_values, df_code_py_exp.index, test_size = 0.1, random_state=42)"
   ]
  },
  {
   "cell_type": "code",
   "execution_count": null,
   "metadata": {},
   "outputs": [
    {
     "name": "stdout",
     "output_type": "stream",
     "text": [
      "X_train:  (340609, 100) Y_train:  (340609,)\n",
      "X_test:  (37846, 100) Y_test:  (37846,)\n"
     ]
    }
   ],
   "source": [
    "print(\"X_train: \", X_train.shape, \"Y_train: \", Y_train.shape)\n",
    "print(\"X_test: \", X_test.shape, \"Y_test: \", Y_test.shape)"
   ]
  },
  {
   "cell_type": "code",
   "execution_count": null,
   "metadata": {},
   "outputs": [
    {
     "name": "stdout",
     "output_type": "stream",
     "text": [
      "[15 14  1  5 79 32 15 14  5  1 32  5 79  1  5 79 79 79  5 18  1 32  5 79\n",
      "  1 32  5  1 32  5 79 79 32 15 14  1  5 79 32 15 14  5  1 32  5 79  1 32\n",
      "  5 79 32 15 14  1 32  5 79 32 15 14  1 32  5 79 79 32 15 14  1 79 79 79\n",
      " 79 79 32 15 14  1 32  5 79 79 32 15 14  6  1 10 14 11  1 32  5 79 79 32\n",
      " 15 14  6  1] 0\n"
     ]
    }
   ],
   "source": [
    "print(X_train[0], Y_train[0])"
   ]
  },
  {
   "cell_type": "code",
   "execution_count": null,
   "metadata": {},
   "outputs": [
    {
     "name": "stdout",
     "output_type": "stream",
     "text": [
      "['\\n' 'print' '\"hello\"' ... '.' 'py' '\\n']\n"
     ]
    }
   ],
   "source": [
    "print(df_code_py_exp.loc[I_train[0], \"token_code_only\"])"
   ]
  },
  {
   "cell_type": "code",
   "execution_count": null,
   "metadata": {},
   "outputs": [],
   "source": [
    "callback = tf.keras.callbacks.EarlyStopping(monitor=\"val_loss\", patience=5)"
   ]
  },
  {
   "cell_type": "code",
   "execution_count": null,
   "metadata": {},
   "outputs": [],
   "source": [
    "def model_builder(hp):    \n",
    "    model_input = keras.Input(shape=(X_train.shape[1],))\n",
    "    #attention = Activation(activation = 'softmax', name='attention_vec')(model_input)\n",
    "    x = Embedding(MAX_NUM_WORDS, EMBEDDING_DIM, input_length=X_train.shape[1])(model_input)\n",
    "    hp_conv = hp.Int(\"units\", min_value=3, max_value=7, step=1)\n",
    "    hp_stride = hp.Int(\"stride\", min_value=1, max_value=3, step=1)\n",
    "    x = Conv1D(50, hp_conv, padding =\"valid\", activation =\"relu\", strides=hp_stride)(x)\n",
    "    x = MaxPooling1D()(x)\n",
    "    hp_do = hp.Choice(\"dropout\", values = [0.05, 0.1, 0.15, 0.2])\n",
    "    x = LSTM(50, activation=\"tanh\", return_sequences=True, dropout=hp_do)(x)\n",
    "    x = LSTM(25, activation=\"tanh\", dropout=hp_do)(x)\n",
    "    #model.add(GlobalMaxPooling1D())\n",
    "    #model.add(Dense(25, activation=\"relu\"))\n",
    "    model_output = Dense(1, activation=\"sigmoid\")(x)\n",
    "    model = keras.Model(inputs=model_input, outputs=model_output)\n",
    "    #hp_learning_rate = hp.Choice(\"learning_rate\", values = [1e-2, 1e-3, 1e-4])\n",
    "    hp_opt = hp.Choice(\"optimizer\", values=[\"adam\", \"adafactor\", \"sgd\"])\n",
    "    #model.summary()\n",
    "    model.compile(\n",
    "    loss = \"binary_crossentropy\", \n",
    "    optimizer= hp_opt,\n",
    "    metrics =[\"accuracy\"],\n",
    "    )\n",
    "    return model"
   ]
  },
  {
   "cell_type": "code",
   "execution_count": null,
   "metadata": {},
   "outputs": [],
   "source": [
    "#plot_model(model, to_file=\"model_design.png\", show_shapes=True, show_layer_names=True)"
   ]
  },
  {
   "cell_type": "code",
   "execution_count": null,
   "metadata": {},
   "outputs": [],
   "source": [
    "tuner = kt.Hyperband(model_builder,\n",
    "                     objective='val_accuracy',\n",
    "                     max_epochs=10,\n",
    "                     factor=3,\n",
    "                     project_name=\"adaptive_lms\")\n"
   ]
  },
  {
   "cell_type": "code",
   "execution_count": null,
   "metadata": {},
   "outputs": [
    {
     "name": "stdout",
     "output_type": "stream",
     "text": [
      "Trial 25 Complete [00h 18m 35s]\n",
      "val_accuracy: 0.7872933745384216\n",
      "\n",
      "Best val_accuracy So Far: 0.8085493445396423\n",
      "Total elapsed time: 03h 22m 49s\n",
      "INFO:tensorflow:Oracle triggered exit\n"
     ]
    }
   ],
   "source": [
    "tuner.search(X_train, Y_train, epochs=50, validation_split=0.2, callbacks=[callback])"
   ]
  },
  {
   "cell_type": "code",
   "execution_count": null,
   "metadata": {},
   "outputs": [],
   "source": [
    "best_hps=tuner.get_best_hyperparameters(num_trials=1)[0]\n"
   ]
  },
  {
   "cell_type": "code",
   "execution_count": null,
   "metadata": {},
   "outputs": [
    {
     "data": {
      "text/plain": [
       "3"
      ]
     },
     "execution_count": 170,
     "metadata": {},
     "output_type": "execute_result"
    }
   ],
   "source": [
    "best_hps.get(\"units\")"
   ]
  },
  {
   "cell_type": "code",
   "execution_count": null,
   "metadata": {},
   "outputs": [
    {
     "data": {
      "text/plain": [
       "'adam'"
      ]
     },
     "execution_count": 171,
     "metadata": {},
     "output_type": "execute_result"
    }
   ],
   "source": [
    "best_hps.get(\"optimizer\")"
   ]
  },
  {
   "cell_type": "code",
   "execution_count": null,
   "metadata": {},
   "outputs": [
    {
     "data": {
      "text/plain": [
       "1"
      ]
     },
     "execution_count": 172,
     "metadata": {},
     "output_type": "execute_result"
    }
   ],
   "source": [
    "best_hps.get(\"stride\")"
   ]
  },
  {
   "cell_type": "code",
   "execution_count": null,
   "metadata": {},
   "outputs": [
    {
     "data": {
      "text/plain": [
       "0.05"
      ]
     },
     "execution_count": 173,
     "metadata": {},
     "output_type": "execute_result"
    }
   ],
   "source": [
    "best_hps.get(\"dropout\")"
   ]
  },
  {
   "cell_type": "code",
   "execution_count": null,
   "metadata": {},
   "outputs": [],
   "source": [
    "model = tuner.hypermodel.build(best_hps)"
   ]
  },
  {
   "cell_type": "code",
   "execution_count": null,
   "metadata": {},
   "outputs": [],
   "source": [
    "epochs = 100\n",
    "batch_size = 128"
   ]
  },
  {
   "cell_type": "code",
   "execution_count": null,
   "metadata": {},
   "outputs": [
    {
     "name": "stdout",
     "output_type": "stream",
     "text": [
      "Epoch 1/100\n",
      "2129/2129 [==============================] - 47s 20ms/step - loss: 0.5558 - accuracy: 0.7351 - val_loss: 0.5354 - val_accuracy: 0.7434\n",
      "Epoch 2/100\n",
      "2129/2129 [==============================] - 41s 19ms/step - loss: 0.5221 - accuracy: 0.7486 - val_loss: 0.5069 - val_accuracy: 0.7544\n",
      "Epoch 3/100\n",
      "2129/2129 [==============================] - 42s 20ms/step - loss: 0.4994 - accuracy: 0.7587 - val_loss: 0.4960 - val_accuracy: 0.7558\n",
      "Epoch 4/100\n",
      "2129/2129 [==============================] - 41s 19ms/step - loss: 0.4825 - accuracy: 0.7661 - val_loss: 0.4785 - val_accuracy: 0.7694\n",
      "Epoch 5/100\n",
      "2129/2129 [==============================] - 39s 18ms/step - loss: 0.4690 - accuracy: 0.7741 - val_loss: 0.4612 - val_accuracy: 0.7778\n",
      "Epoch 6/100\n",
      "2129/2129 [==============================] - 40s 19ms/step - loss: 0.4554 - accuracy: 0.7810 - val_loss: 0.4547 - val_accuracy: 0.7828\n",
      "Epoch 7/100\n",
      "2129/2129 [==============================] - 41s 19ms/step - loss: 0.4445 - accuracy: 0.7873 - val_loss: 0.4425 - val_accuracy: 0.7906\n",
      "Epoch 8/100\n",
      "2129/2129 [==============================] - 41s 19ms/step - loss: 0.4349 - accuracy: 0.7926 - val_loss: 0.4366 - val_accuracy: 0.7909\n",
      "Epoch 9/100\n",
      "2129/2129 [==============================] - 40s 19ms/step - loss: 0.4266 - accuracy: 0.7971 - val_loss: 0.4312 - val_accuracy: 0.7935\n",
      "Epoch 10/100\n",
      "2129/2129 [==============================] - 40s 19ms/step - loss: 0.4188 - accuracy: 0.8009 - val_loss: 0.4220 - val_accuracy: 0.8010\n",
      "Epoch 11/100\n",
      "2129/2129 [==============================] - 41s 19ms/step - loss: 0.4121 - accuracy: 0.8046 - val_loss: 0.4191 - val_accuracy: 0.8042\n",
      "Epoch 12/100\n",
      "2129/2129 [==============================] - 42s 20ms/step - loss: 0.4066 - accuracy: 0.8069 - val_loss: 0.4122 - val_accuracy: 0.8061\n",
      "Epoch 13/100\n",
      "2129/2129 [==============================] - 41s 19ms/step - loss: 0.4003 - accuracy: 0.8104 - val_loss: 0.4112 - val_accuracy: 0.8070\n",
      "Epoch 14/100\n",
      "2129/2129 [==============================] - 40s 19ms/step - loss: 0.3960 - accuracy: 0.8125 - val_loss: 0.4082 - val_accuracy: 0.8063\n",
      "Epoch 15/100\n",
      "2129/2129 [==============================] - 42s 20ms/step - loss: 0.3916 - accuracy: 0.8149 - val_loss: 0.4065 - val_accuracy: 0.8104\n",
      "Epoch 16/100\n",
      "2129/2129 [==============================] - 40s 19ms/step - loss: 0.3865 - accuracy: 0.8180 - val_loss: 0.4112 - val_accuracy: 0.8052\n",
      "Epoch 17/100\n",
      "2129/2129 [==============================] - 41s 19ms/step - loss: 0.3833 - accuracy: 0.8193 - val_loss: 0.4037 - val_accuracy: 0.8110\n",
      "Epoch 18/100\n",
      "2129/2129 [==============================] - 41s 19ms/step - loss: 0.3795 - accuracy: 0.8215 - val_loss: 0.4079 - val_accuracy: 0.8076\n",
      "Epoch 19/100\n",
      "2129/2129 [==============================] - 42s 20ms/step - loss: 0.3762 - accuracy: 0.8225 - val_loss: 0.3966 - val_accuracy: 0.8147\n",
      "Epoch 20/100\n",
      "2129/2129 [==============================] - 41s 19ms/step - loss: 0.3735 - accuracy: 0.8248 - val_loss: 0.3963 - val_accuracy: 0.8142\n",
      "Epoch 21/100\n",
      "2129/2129 [==============================] - 42s 20ms/step - loss: 0.3709 - accuracy: 0.8258 - val_loss: 0.3938 - val_accuracy: 0.8174\n",
      "Epoch 22/100\n",
      "2129/2129 [==============================] - 42s 20ms/step - loss: 0.3679 - accuracy: 0.8274 - val_loss: 0.3941 - val_accuracy: 0.8169\n",
      "Epoch 23/100\n",
      "2129/2129 [==============================] - 42s 20ms/step - loss: 0.3658 - accuracy: 0.8280 - val_loss: 0.3895 - val_accuracy: 0.8196\n",
      "Epoch 24/100\n",
      "2129/2129 [==============================] - 44s 20ms/step - loss: 0.3637 - accuracy: 0.8296 - val_loss: 0.3950 - val_accuracy: 0.8188\n",
      "Epoch 25/100\n",
      "2129/2129 [==============================] - 43s 20ms/step - loss: 0.3614 - accuracy: 0.8308 - val_loss: 0.3925 - val_accuracy: 0.8198\n",
      "Epoch 26/100\n",
      "2129/2129 [==============================] - 44s 20ms/step - loss: 0.3589 - accuracy: 0.8314 - val_loss: 0.3957 - val_accuracy: 0.8140\n",
      "Epoch 27/100\n",
      "2129/2129 [==============================] - 44s 21ms/step - loss: 0.3573 - accuracy: 0.8333 - val_loss: 0.3885 - val_accuracy: 0.8189\n",
      "Epoch 28/100\n",
      "2129/2129 [==============================] - 41s 19ms/step - loss: 0.3556 - accuracy: 0.8333 - val_loss: 0.3885 - val_accuracy: 0.8221\n",
      "Epoch 29/100\n",
      "2129/2129 [==============================] - 42s 20ms/step - loss: 0.3545 - accuracy: 0.8349 - val_loss: 0.3877 - val_accuracy: 0.8209\n",
      "Epoch 30/100\n",
      "2129/2129 [==============================] - 42s 20ms/step - loss: 0.3523 - accuracy: 0.8357 - val_loss: 0.3887 - val_accuracy: 0.8220\n",
      "Epoch 31/100\n",
      "2129/2129 [==============================] - 43s 20ms/step - loss: 0.3506 - accuracy: 0.8365 - val_loss: 0.3871 - val_accuracy: 0.8232\n",
      "Epoch 32/100\n",
      "2129/2129 [==============================] - 42s 20ms/step - loss: 0.3495 - accuracy: 0.8364 - val_loss: 0.3886 - val_accuracy: 0.8175\n",
      "Epoch 33/100\n",
      "2129/2129 [==============================] - 42s 20ms/step - loss: 0.3489 - accuracy: 0.8370 - val_loss: 0.3844 - val_accuracy: 0.8245\n",
      "Epoch 34/100\n",
      "2129/2129 [==============================] - 41s 19ms/step - loss: 0.3470 - accuracy: 0.8379 - val_loss: 0.3876 - val_accuracy: 0.8215\n",
      "Epoch 35/100\n",
      "2129/2129 [==============================] - 42s 20ms/step - loss: 0.3463 - accuracy: 0.8385 - val_loss: 0.3875 - val_accuracy: 0.8197\n",
      "Epoch 36/100\n",
      "2129/2129 [==============================] - 43s 20ms/step - loss: 0.3440 - accuracy: 0.8394 - val_loss: 0.3880 - val_accuracy: 0.8188\n",
      "Epoch 37/100\n",
      "2129/2129 [==============================] - 41s 19ms/step - loss: 0.3436 - accuracy: 0.8399 - val_loss: 0.3839 - val_accuracy: 0.8242\n",
      "Epoch 38/100\n",
      "2129/2129 [==============================] - 43s 20ms/step - loss: 0.3423 - accuracy: 0.8399 - val_loss: 0.3833 - val_accuracy: 0.8229\n",
      "Epoch 39/100\n",
      "2129/2129 [==============================] - 42s 20ms/step - loss: 0.3414 - accuracy: 0.8403 - val_loss: 0.3867 - val_accuracy: 0.8209\n",
      "Epoch 40/100\n",
      "2129/2129 [==============================] - 41s 19ms/step - loss: 0.3406 - accuracy: 0.8413 - val_loss: 0.3817 - val_accuracy: 0.8252\n",
      "Epoch 41/100\n",
      "2129/2129 [==============================] - 42s 20ms/step - loss: 0.3397 - accuracy: 0.8418 - val_loss: 0.3812 - val_accuracy: 0.8268\n",
      "Epoch 42/100\n",
      "2129/2129 [==============================] - 43s 20ms/step - loss: 0.3394 - accuracy: 0.8420 - val_loss: 0.3861 - val_accuracy: 0.8250\n",
      "Epoch 43/100\n",
      "2129/2129 [==============================] - 45s 21ms/step - loss: 0.3372 - accuracy: 0.8433 - val_loss: 0.3858 - val_accuracy: 0.8200\n",
      "Epoch 44/100\n",
      "2129/2129 [==============================] - 44s 21ms/step - loss: 0.3373 - accuracy: 0.8434 - val_loss: 0.3805 - val_accuracy: 0.8257\n",
      "Epoch 45/100\n",
      "2129/2129 [==============================] - 44s 20ms/step - loss: 0.3357 - accuracy: 0.8431 - val_loss: 0.3828 - val_accuracy: 0.8230\n",
      "Epoch 46/100\n",
      "2129/2129 [==============================] - 43s 20ms/step - loss: 0.3363 - accuracy: 0.8443 - val_loss: 0.3811 - val_accuracy: 0.8257\n",
      "Epoch 47/100\n",
      "2129/2129 [==============================] - 44s 21ms/step - loss: 0.3349 - accuracy: 0.8445 - val_loss: 0.3816 - val_accuracy: 0.8245\n",
      "Epoch 48/100\n",
      "2129/2129 [==============================] - 44s 21ms/step - loss: 0.3342 - accuracy: 0.8446 - val_loss: 0.3820 - val_accuracy: 0.8252\n",
      "Epoch 49/100\n",
      "2129/2129 [==============================] - 43s 20ms/step - loss: 0.3334 - accuracy: 0.8455 - val_loss: 0.3801 - val_accuracy: 0.8270\n",
      "Epoch 50/100\n",
      "2129/2129 [==============================] - 44s 20ms/step - loss: 0.3323 - accuracy: 0.8458 - val_loss: 0.3822 - val_accuracy: 0.8240\n",
      "Epoch 51/100\n",
      "2129/2129 [==============================] - 43s 20ms/step - loss: 0.3320 - accuracy: 0.8455 - val_loss: 0.3803 - val_accuracy: 0.8250\n",
      "Epoch 52/100\n",
      "2129/2129 [==============================] - 45s 21ms/step - loss: 0.3320 - accuracy: 0.8450 - val_loss: 0.3774 - val_accuracy: 0.8267\n",
      "Epoch 53/100\n",
      "2129/2129 [==============================] - 44s 21ms/step - loss: 0.3305 - accuracy: 0.8467 - val_loss: 0.3823 - val_accuracy: 0.8268\n",
      "Epoch 54/100\n",
      "2129/2129 [==============================] - 43s 20ms/step - loss: 0.3312 - accuracy: 0.8461 - val_loss: 0.3790 - val_accuracy: 0.8268\n",
      "Epoch 55/100\n",
      "2129/2129 [==============================] - 43s 20ms/step - loss: 0.3299 - accuracy: 0.8465 - val_loss: 0.3810 - val_accuracy: 0.8262\n",
      "Epoch 56/100\n",
      "2129/2129 [==============================] - 43s 20ms/step - loss: 0.3298 - accuracy: 0.8470 - val_loss: 0.3791 - val_accuracy: 0.8256\n",
      "Epoch 57/100\n",
      "2129/2129 [==============================] - 44s 21ms/step - loss: 0.3286 - accuracy: 0.8472 - val_loss: 0.3801 - val_accuracy: 0.8264\n"
     ]
    }
   ],
   "source": [
    "history = model.fit(\n",
    "    X_train, \n",
    "    Y_train, \n",
    "    epochs=epochs, \n",
    "    batch_size=batch_size, \n",
    "    validation_split=0.2,\n",
    "    callbacks=[callback]\n",
    "    )"
   ]
  },
  {
   "cell_type": "code",
   "execution_count": null,
   "metadata": {},
   "outputs": [],
   "source": [
    "model.save(\"CNN-LSTM.h5\")"
   ]
  },
  {
   "cell_type": "code",
   "execution_count": null,
   "metadata": {},
   "outputs": [],
   "source": [
    "with open('tokenizer.pickle', 'wb') as handle:\n",
    "    pickle.dump(tokenizer, handle, protocol=pickle.HIGHEST_PROTOCOL)"
   ]
  },
  {
   "cell_type": "code",
   "execution_count": null,
   "metadata": {},
   "outputs": [
    {
     "name": "stdout",
     "output_type": "stream",
     "text": [
      "1183/1183 [==============================] - 10s 8ms/step - loss: 0.3760 - accuracy: 0.8271\n"
     ]
    }
   ],
   "source": [
    "test_accuracy = model.evaluate(X_test, Y_test)"
   ]
  },
  {
   "cell_type": "code",
   "execution_count": null,
   "metadata": {},
   "outputs": [
    {
     "name": "stdout",
     "output_type": "stream",
     "text": [
      "1183/1183 [==============================] - 9s 7ms/step\n"
     ]
    }
   ],
   "source": [
    "Y_pred = model.predict(X_test)"
   ]
  },
  {
   "cell_type": "code",
   "execution_count": null,
   "metadata": {},
   "outputs": [],
   "source": [
    "Y_pred = np.round(Y_pred, 0)"
   ]
  },
  {
   "cell_type": "code",
   "execution_count": null,
   "metadata": {},
   "outputs": [
    {
     "name": "stdout",
     "output_type": "stream",
     "text": [
      "              precision    recall  f1-score   support\n",
      "\n",
      "           0       0.88      0.89      0.88     27842\n",
      "           1       0.68      0.66      0.67     10004\n",
      "\n",
      "    accuracy                           0.83     37846\n",
      "   macro avg       0.78      0.77      0.78     37846\n",
      "weighted avg       0.83      0.83      0.83     37846\n",
      "\n"
     ]
    }
   ],
   "source": [
    "metric_report = classification_report(Y_test, Y_pred, output_dict=True)"
   ]
  },
  {
   "cell_type": "code",
   "execution_count": null,
   "metadata": {},
   "outputs": [],
   "source": [
    "print(classification_report(Y_test, Y_pred))"
   ]
  },
  {
   "cell_type": "code",
   "execution_count": null,
   "metadata": {},
   "outputs": [],
   "source": [
    "tarcsay_cnn = {\"precision\":[0.9, 0.71], \"recall\":[0.76, 0.88], \"f1-score\":[0.83, 0.79], \"accuracy\":[0.81, 0.81]}\n",
    "tarcsay_lstm = {\"precision\":[0.72, 0.66], \"recall\":[0.82, 0.53], \"f1-score\":[0.77, 0.59], \"accuracy\":[0.71, 0.71]}"
   ]
  },
  {
   "cell_type": "code",
   "execution_count": null,
   "metadata": {},
   "outputs": [],
   "source": [
    "for metric in tarcsay_cnn.keys():\n",
    "    for correct in [0, 1]:\n",
    "        plt.figure()\n",
    "        fig, ax = plt.subplots()\n",
    "        classification = \"Correct\" if correct == 1 else \"Incorrect\"\n",
    "        plt.title(str.capitalize(metric)+\n",
    "                    (\"\" if metric == \"accuracy\" else \" for Label = \"+classification))\n",
    "        plt.suptitle(\"Comparisons with Tarcsay's Experiment - Task Independent\")\n",
    "        plt.xlabel(\"Method\")\n",
    "        plt.ylabel(\"Score\")\n",
    "        y = [(metric_report[metric] if metric == \"accuracy\" else metric_report[str(correct)][metric]),\n",
    "                tarcsay_cnn[metric][correct], tarcsay_lstm[metric][correct]]\n",
    "        p = ax.bar([\"CNN-LSTM\", \"CNN (Tarcsay)\", \"LSTM (Tarcsay)\"], y, \n",
    "                   color=[\"tab:red\", \"tab:blue\", \"tab:blue\"])\n",
    "        ax.bar_label(p, labels= [round(i,2) for i in y], label_type = \"edge\")\n",
    "        plt.show()"
   ]
  },
  {
   "cell_type": "code",
   "execution_count": null,
   "metadata": {},
   "outputs": [
    {
     "name": "stdout",
     "output_type": "stream",
     "text": [
      "[[24701  3141]\n",
      " [ 3403  6601]]\n"
     ]
    }
   ],
   "source": [
    "print(confusion_matrix(Y_test, Y_pred))"
   ]
  },
  {
   "cell_type": "code",
   "execution_count": null,
   "metadata": {},
   "outputs": [
    {
     "ename": "NameError",
     "evalue": "name 'plt' is not defined",
     "output_type": "error",
     "traceback": [
      "\u001b[1;31m---------------------------------------------------------------------------\u001b[0m",
      "\u001b[1;31mNameError\u001b[0m                                 Traceback (most recent call last)",
      "Cell \u001b[1;32mIn[1], line 1\u001b[0m\n\u001b[1;32m----> 1\u001b[0m plt\u001b[39m.\u001b[39mtitle(\u001b[39m\"\u001b[39m\u001b[39mAccuracy and Validation Accuracy\u001b[39m\u001b[39m\"\u001b[39m)\n\u001b[0;32m      2\u001b[0m plt\u001b[39m.\u001b[39mxlabel(\u001b[39m\"\u001b[39m\u001b[39mEpochs\u001b[39m\u001b[39m\"\u001b[39m)\n\u001b[0;32m      3\u001b[0m plt\u001b[39m.\u001b[39mylabel(\u001b[39m\"\u001b[39m\u001b[39mAccuracy\u001b[39m\u001b[39m\"\u001b[39m)\n",
      "\u001b[1;31mNameError\u001b[0m: name 'plt' is not defined"
     ]
    }
   ],
   "source": [
    "plt.title(\"Accuracy and Validation Accuracy\")\n",
    "plt.xlabel(\"Epochs\")\n",
    "plt.ylabel(\"Accuracy\")\n",
    "plt.legend()\n",
    "plt.plot(history.history[\"accuracy\"])\n",
    "plt.plot(history.history[\"val_accuracy\"])\n",
    "plt.show()"
   ]
  },
  {
   "cell_type": "code",
   "execution_count": null,
   "metadata": {},
   "outputs": [
    {
     "data": {
      "image/png": "[encoded data removed]",
      "text/plain": [
       "<Figure size 640x480 with 1 Axes>"
      ]
     },
     "metadata": {},
     "output_type": "display_data"
    }
   ],
   "source": [
    "plt.title(\"Accuracy and Validation Loss\")\n",
    "plt.xlabel(\"Epochs\")\n",
    "plt.ylabel(\"Loss\")\n",
    "plt.plot(history.history[\"loss\"], label=\"Loss\")\n",
    "plt.plot(history.history[\"val_loss\"], label=\"Validation Loss\")\n",
    "plt.legend()\n",
    "plt.show()"
   ]
  },
  {
   "cell_type": "code",
   "execution_count": null,
   "metadata": {},
   "outputs": [],
   "source": [
    "#model = keras.Model(inputs=model.input, outputs=[model.output, model.get_layer('attention_vec').output])"
   ]
  },
  {
   "cell_type": "code",
   "execution_count": null,
   "metadata": {},
   "outputs": [],
   "source": [
    "test_case_raw = 'print \"Hello World\"'\n",
    "#test_case_raw = 'if 2==3: print \"true\" else: print \"false\"' "
   ]
  },
  {
   "cell_type": "code",
   "execution_count": null,
   "metadata": {},
   "outputs": [],
   "source": [
    "def predict_fn (code):\n",
    "    predictions = []\n",
    "    if isinstance(code, list) or isinstance(code, np.ndarray):\n",
    "        m_input = code\n",
    "    else:\n",
    "        m_input = [code]\n",
    "    \n",
    "    for m in m_input:\n",
    "        m_input = tokenizer.texts_to_sequences([m])\n",
    "        m_input = pad_sequences(m_input, maxlen=MAX_SEQUENCE_LENGTH)\n",
    "        prob = model.predict(m_input)\n",
    "        predictions.append([1-prob[0][0], prob[0][0]])\n",
    "    return np.array(predictions)\n",
    "\n"
   ]
  },
  {
   "cell_type": "code",
   "execution_count": null,
   "metadata": {},
   "outputs": [
    {
     "name": "stdout",
     "output_type": "stream",
     "text": [
      "1/1 [==============================] - 0s 69ms/step\n"
     ]
    },
    {
     "data": {
      "text/plain": [
       "array([[0.13029522, 0.86970478]])"
      ]
     },
     "execution_count": 189,
     "metadata": {},
     "output_type": "execute_result"
    }
   ],
   "source": [
    "predict_fn(test_case_raw)"
   ]
  },
  {
   "cell_type": "code",
   "execution_count": null,
   "metadata": {},
   "outputs": [
    {
     "name": "stdout",
     "output_type": "stream",
     "text": [
      "1/1 [==============================] - 0s 27ms/step\n"
     ]
    },
    {
     "data": {
      "text/plain": [
       "0.8697047829627991"
      ]
     },
     "execution_count": 190,
     "metadata": {},
     "output_type": "execute_result"
    }
   ],
   "source": [
    "predict_fn(test_case_raw)[0,1]"
   ]
  },
  {
   "cell_type": "code",
   "execution_count": null,
   "metadata": {},
   "outputs": [],
   "source": [
    "#int(pl.predict_proba([test_case_raw])[0,1])"
   ]
  },
  {
   "cell_type": "code",
   "execution_count": null,
   "metadata": {},
   "outputs": [],
   "source": [
    "#attention_outputs = outputs[1]"
   ]
  },
  {
   "cell_type": "code",
   "execution_count": null,
   "metadata": {},
   "outputs": [],
   "source": [
    "#print(attention_outputs)"
   ]
  }
 ],
 "metadata": {
  "kernelspec": {
   "display_name": "base",
   "language": "python",
   "name": "python3"
  },
  "language_info": {
   "codemirror_mode": {
    "name": "ipython",
    "version": 3
   },
   "file_extension": ".py",
   "mimetype": "text/x-python",
   "name": "python",
   "nbconvert_exporter": "python",
   "pygments_lexer": "ipython3",
   "version": "3.10.9"
  },
  "orig_nbformat": 4
 },
 "nbformat": 4,
 "nbformat_minor": 2
}
