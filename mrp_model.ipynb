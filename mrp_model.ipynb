{
 "cells": [
  {
   "cell_type": "code",
   "execution_count": 126,
   "metadata": {},
   "outputs": [],
   "source": [
    "import pandas as pd\n",
    "import numpy as np\n",
    "from sklearn.model_selection import train_test_split\n",
    "import tensorflow as tf\n",
    "from tensorflow import keras\n",
    "from matplotlib import pyplot as plt"
   ]
  },
  {
   "cell_type": "code",
   "execution_count": 14,
   "metadata": {},
   "outputs": [],
   "source": [
    "from tensorflow.keras.preprocessing import sequence\n",
    "from tensorflow.keras.models import Sequential\n",
    "from tensorflow.keras.layers import Dense, Dropout, Activation, Flatten, Embedding, Conv1D, GlobalMaxPooling1D, GlobalAveragePooling1D, LSTM, SimpleRNN, SpatialDropout1D\n",
    "from tensorflow.keras.callbacks import EarlyStopping , ModelCheckpoint\n",
    "from tensorflow.keras.preprocessing.text import Tokenizer\n",
    "from tensorflow.keras.preprocessing.sequence import pad_sequences"
   ]
  },
  {
   "cell_type": "code",
   "execution_count": 15,
   "metadata": {},
   "outputs": [
    {
     "data": {
      "text/plain": [
       "[PhysicalDevice(name='/physical_device:GPU:0', device_type='GPU')]"
      ]
     },
     "execution_count": 15,
     "metadata": {},
     "output_type": "execute_result"
    }
   ],
   "source": [
    "tf.config.list_physical_devices(\"GPU\")"
   ]
  },
  {
   "cell_type": "code",
   "execution_count": 16,
   "metadata": {},
   "outputs": [],
   "source": [
    "df_code_py = pd.read_parquet('df_code_py.gzip')"
   ]
  },
  {
   "cell_type": "code",
   "execution_count": 68,
   "metadata": {},
   "outputs": [
    {
     "data": {
      "text/html": [
       "<div>\n",
       "<style scoped>\n",
       "    .dataframe tbody tr th:only-of-type {\n",
       "        vertical-align: middle;\n",
       "    }\n",
       "\n",
       "    .dataframe tbody tr th {\n",
       "        vertical-align: top;\n",
       "    }\n",
       "\n",
       "    .dataframe thead th {\n",
       "        text-align: right;\n",
       "    }\n",
       "</style>\n",
       "<table border=\"1\" class=\"dataframe\">\n",
       "  <thead>\n",
       "    <tr style=\"text-align: right;\">\n",
       "      <th></th>\n",
       "      <th>academic_year_1</th>\n",
       "      <th>task</th>\n",
       "      <th>user</th>\n",
       "      <th>date</th>\n",
       "      <th>academic_year_0</th>\n",
       "      <th>upload</th>\n",
       "      <th>module</th>\n",
       "      <th>correct</th>\n",
       "      <th>hour_submitted</th>\n",
       "      <th>tokens</th>\n",
       "      <th>token_count</th>\n",
       "      <th>line_count</th>\n",
       "      <th>token_code_only</th>\n",
       "      <th>token_per_line</th>\n",
       "    </tr>\n",
       "  </thead>\n",
       "  <tbody>\n",
       "    <tr>\n",
       "      <th>0</th>\n",
       "      <td>2017</td>\n",
       "      <td>add.py</td>\n",
       "      <td>b9e7e608-6036-4d44-8770-a7036176b53c</td>\n",
       "      <td>2016-09-19 14:11:41</td>\n",
       "      <td>2016</td>\n",
       "      <td>#!/usr/bin/env python\\n\\na = int(raw_input())\\...</td>\n",
       "      <td>ca277</td>\n",
       "      <td>True</td>\n",
       "      <td>14</td>\n",
       "      <td>[{'end': [1, 21], 'line': '#!/usr/bin/env pyth...</td>\n",
       "      <td>30</td>\n",
       "      <td>4</td>\n",
       "      <td>[\\n, a, =, int, (, raw_input, (, ), ), \\n, b, ...</td>\n",
       "      <td>7.5</td>\n",
       "    </tr>\n",
       "    <tr>\n",
       "      <th>1</th>\n",
       "      <td>2017</td>\n",
       "      <td>concat-lines.py</td>\n",
       "      <td>b9e7e608-6036-4d44-8770-a7036176b53c</td>\n",
       "      <td>2016-09-19 14:17:33</td>\n",
       "      <td>2016</td>\n",
       "      <td>#!/usr/bin/env python\\n\\na = str(raw_input())\\...</td>\n",
       "      <td>ca277</td>\n",
       "      <td>True</td>\n",
       "      <td>14</td>\n",
       "      <td>[{'end': [1, 21], 'line': '#!/usr/bin/env pyth...</td>\n",
       "      <td>30</td>\n",
       "      <td>4</td>\n",
       "      <td>[\\n, a, =, str, (, raw_input, (, ), ), \\n, b, ...</td>\n",
       "      <td>7.5</td>\n",
       "    </tr>\n",
       "    <tr>\n",
       "      <th>2</th>\n",
       "      <td>2017</td>\n",
       "      <td>goodbye.py</td>\n",
       "      <td>b9e7e608-6036-4d44-8770-a7036176b53c</td>\n",
       "      <td>2016-09-19 10:15:59</td>\n",
       "      <td>2016</td>\n",
       "      <td>#!/usr/bin/env python\\n\\nprint \"Goodbye\"\\n</td>\n",
       "      <td>ca277</td>\n",
       "      <td>True</td>\n",
       "      <td>10</td>\n",
       "      <td>[{'end': [1, 21], 'line': '#!/usr/bin/env pyth...</td>\n",
       "      <td>7</td>\n",
       "      <td>2</td>\n",
       "      <td>[\\n, print, \"Goodbye\", \\n]</td>\n",
       "      <td>3.5</td>\n",
       "    </tr>\n",
       "    <tr>\n",
       "      <th>3</th>\n",
       "      <td>2017</td>\n",
       "      <td>less-than.py</td>\n",
       "      <td>b9e7e608-6036-4d44-8770-a7036176b53c</td>\n",
       "      <td>2016-09-19 14:14:22</td>\n",
       "      <td>2016</td>\n",
       "      <td>#!/usr/bin/env python\\n\\na = int(raw_input())\\...</td>\n",
       "      <td>ca277</td>\n",
       "      <td>True</td>\n",
       "      <td>14</td>\n",
       "      <td>[{'end': [1, 21], 'line': '#!/usr/bin/env pyth...</td>\n",
       "      <td>30</td>\n",
       "      <td>4</td>\n",
       "      <td>[\\n, a, =, int, (, raw_input, (, ), ), \\n, b, ...</td>\n",
       "      <td>7.5</td>\n",
       "    </tr>\n",
       "    <tr>\n",
       "      <th>4</th>\n",
       "      <td>2017</td>\n",
       "      <td>longest-line.py</td>\n",
       "      <td>b9e7e608-6036-4d44-8770-a7036176b53c</td>\n",
       "      <td>2016-09-19 14:51:28</td>\n",
       "      <td>2016</td>\n",
       "      <td>#!usr/bin/evn python\\n\\na = raw_input()\\nb = r...</td>\n",
       "      <td>ca277</td>\n",
       "      <td>True</td>\n",
       "      <td>14</td>\n",
       "      <td>[{'end': [1, 20], 'line': '#!usr/bin/evn pytho...</td>\n",
       "      <td>42</td>\n",
       "      <td>7</td>\n",
       "      <td>[\\n, a, =, raw_input, (, ), \\n, b, =, raw_inpu...</td>\n",
       "      <td>6.0</td>\n",
       "    </tr>\n",
       "  </tbody>\n",
       "</table>\n",
       "</div>"
      ],
      "text/plain": [
       "   academic_year_1             task                                  user  \\\n",
       "0             2017           add.py  b9e7e608-6036-4d44-8770-a7036176b53c   \n",
       "1             2017  concat-lines.py  b9e7e608-6036-4d44-8770-a7036176b53c   \n",
       "2             2017       goodbye.py  b9e7e608-6036-4d44-8770-a7036176b53c   \n",
       "3             2017     less-than.py  b9e7e608-6036-4d44-8770-a7036176b53c   \n",
       "4             2017  longest-line.py  b9e7e608-6036-4d44-8770-a7036176b53c   \n",
       "\n",
       "                 date  academic_year_0  \\\n",
       "0 2016-09-19 14:11:41             2016   \n",
       "1 2016-09-19 14:17:33             2016   \n",
       "2 2016-09-19 10:15:59             2016   \n",
       "3 2016-09-19 14:14:22             2016   \n",
       "4 2016-09-19 14:51:28             2016   \n",
       "\n",
       "                                              upload module  correct  \\\n",
       "0  #!/usr/bin/env python\\n\\na = int(raw_input())\\...  ca277     True   \n",
       "1  #!/usr/bin/env python\\n\\na = str(raw_input())\\...  ca277     True   \n",
       "2         #!/usr/bin/env python\\n\\nprint \"Goodbye\"\\n  ca277     True   \n",
       "3  #!/usr/bin/env python\\n\\na = int(raw_input())\\...  ca277     True   \n",
       "4  #!usr/bin/evn python\\n\\na = raw_input()\\nb = r...  ca277     True   \n",
       "\n",
       "   hour_submitted                                             tokens  \\\n",
       "0              14  [{'end': [1, 21], 'line': '#!/usr/bin/env pyth...   \n",
       "1              14  [{'end': [1, 21], 'line': '#!/usr/bin/env pyth...   \n",
       "2              10  [{'end': [1, 21], 'line': '#!/usr/bin/env pyth...   \n",
       "3              14  [{'end': [1, 21], 'line': '#!/usr/bin/env pyth...   \n",
       "4              14  [{'end': [1, 20], 'line': '#!usr/bin/evn pytho...   \n",
       "\n",
       "   token_count  line_count                                    token_code_only  \\\n",
       "0           30           4  [\\n, a, =, int, (, raw_input, (, ), ), \\n, b, ...   \n",
       "1           30           4  [\\n, a, =, str, (, raw_input, (, ), ), \\n, b, ...   \n",
       "2            7           2                         [\\n, print, \"Goodbye\", \\n]   \n",
       "3           30           4  [\\n, a, =, int, (, raw_input, (, ), ), \\n, b, ...   \n",
       "4           42           7  [\\n, a, =, raw_input, (, ), \\n, b, =, raw_inpu...   \n",
       "\n",
       "   token_per_line  \n",
       "0             7.5  \n",
       "1             7.5  \n",
       "2             3.5  \n",
       "3             7.5  \n",
       "4             6.0  "
      ]
     },
     "execution_count": 68,
     "metadata": {},
     "output_type": "execute_result"
    }
   ],
   "source": [
    "df_code_py.head()"
   ]
  },
  {
   "cell_type": "code",
   "execution_count": 69,
   "metadata": {},
   "outputs": [
    {
     "data": {
      "text/plain": [
       "array([{'end': array([ 1, 21], dtype=int64), 'line': '#!/usr/bin/env python\\n', 'start': array([1, 0], dtype=int64), 'string': '#!/usr/bin/env python', 'type': 61},\n",
       "       {'end': array([ 1, 22], dtype=int64), 'line': '#!/usr/bin/env python\\n', 'start': array([ 1, 21], dtype=int64), 'string': '\\n', 'type': 62},\n",
       "       {'end': array([2, 1], dtype=int64), 'line': '\\n', 'start': array([2, 0], dtype=int64), 'string': '\\n', 'type': 62},\n",
       "       {'end': array([3, 1], dtype=int64), 'line': 'a = int(raw_input())\\n', 'start': array([3, 0], dtype=int64), 'string': 'a', 'type': 1},\n",
       "       {'end': array([3, 3], dtype=int64), 'line': 'a = int(raw_input())\\n', 'start': array([3, 2], dtype=int64), 'string': '=', 'type': 54},\n",
       "       {'end': array([3, 7], dtype=int64), 'line': 'a = int(raw_input())\\n', 'start': array([3, 4], dtype=int64), 'string': 'int', 'type': 1},\n",
       "       {'end': array([3, 8], dtype=int64), 'line': 'a = int(raw_input())\\n', 'start': array([3, 7], dtype=int64), 'string': '(', 'type': 54},\n",
       "       {'end': array([ 3, 17], dtype=int64), 'line': 'a = int(raw_input())\\n', 'start': array([3, 8], dtype=int64), 'string': 'raw_input', 'type': 1},\n",
       "       {'end': array([ 3, 18], dtype=int64), 'line': 'a = int(raw_input())\\n', 'start': array([ 3, 17], dtype=int64), 'string': '(', 'type': 54},\n",
       "       {'end': array([ 3, 19], dtype=int64), 'line': 'a = int(raw_input())\\n', 'start': array([ 3, 18], dtype=int64), 'string': ')', 'type': 54},\n",
       "       {'end': array([ 3, 20], dtype=int64), 'line': 'a = int(raw_input())\\n', 'start': array([ 3, 19], dtype=int64), 'string': ')', 'type': 54},\n",
       "       {'end': array([ 3, 21], dtype=int64), 'line': 'a = int(raw_input())\\n', 'start': array([ 3, 20], dtype=int64), 'string': '\\n', 'type': 4},\n",
       "       {'end': array([4, 1], dtype=int64), 'line': 'b = int(raw_input())\\n', 'start': array([4, 0], dtype=int64), 'string': 'b', 'type': 1},\n",
       "       {'end': array([4, 3], dtype=int64), 'line': 'b = int(raw_input())\\n', 'start': array([4, 2], dtype=int64), 'string': '=', 'type': 54},\n",
       "       {'end': array([4, 7], dtype=int64), 'line': 'b = int(raw_input())\\n', 'start': array([4, 4], dtype=int64), 'string': 'int', 'type': 1},\n",
       "       {'end': array([4, 8], dtype=int64), 'line': 'b = int(raw_input())\\n', 'start': array([4, 7], dtype=int64), 'string': '(', 'type': 54},\n",
       "       {'end': array([ 4, 17], dtype=int64), 'line': 'b = int(raw_input())\\n', 'start': array([4, 8], dtype=int64), 'string': 'raw_input', 'type': 1},\n",
       "       {'end': array([ 4, 18], dtype=int64), 'line': 'b = int(raw_input())\\n', 'start': array([ 4, 17], dtype=int64), 'string': '(', 'type': 54},\n",
       "       {'end': array([ 4, 19], dtype=int64), 'line': 'b = int(raw_input())\\n', 'start': array([ 4, 18], dtype=int64), 'string': ')', 'type': 54},\n",
       "       {'end': array([ 4, 20], dtype=int64), 'line': 'b = int(raw_input())\\n', 'start': array([ 4, 19], dtype=int64), 'string': ')', 'type': 54},\n",
       "       {'end': array([ 4, 21], dtype=int64), 'line': 'b = int(raw_input())\\n', 'start': array([ 4, 20], dtype=int64), 'string': '\\n', 'type': 4},\n",
       "       {'end': array([5, 1], dtype=int64), 'line': '\\n', 'start': array([5, 0], dtype=int64), 'string': '\\n', 'type': 62},\n",
       "       {'end': array([6, 5], dtype=int64), 'line': 'print a + b\\n', 'start': array([6, 0], dtype=int64), 'string': 'print', 'type': 1},\n",
       "       {'end': array([6, 7], dtype=int64), 'line': 'print a + b\\n', 'start': array([6, 6], dtype=int64), 'string': 'a', 'type': 1},\n",
       "       {'end': array([6, 9], dtype=int64), 'line': 'print a + b\\n', 'start': array([6, 8], dtype=int64), 'string': '+', 'type': 54},\n",
       "       {'end': array([ 6, 11], dtype=int64), 'line': 'print a + b\\n', 'start': array([ 6, 10], dtype=int64), 'string': 'b', 'type': 1},\n",
       "       {'end': array([ 6, 12], dtype=int64), 'line': 'print a + b\\n', 'start': array([ 6, 11], dtype=int64), 'string': '\\n', 'type': 4},\n",
       "       {'end': array([7, 1], dtype=int64), 'line': '\\n', 'start': array([7, 0], dtype=int64), 'string': '\\n', 'type': 62},\n",
       "       {'end': array([8, 1], dtype=int64), 'line': '\\n', 'start': array([8, 0], dtype=int64), 'string': '\\n', 'type': 62},\n",
       "       {'end': array([9, 0], dtype=int64), 'line': '', 'start': array([9, 0], dtype=int64), 'string': '', 'type': 0}],\n",
       "      dtype=object)"
      ]
     },
     "execution_count": 69,
     "metadata": {},
     "output_type": "execute_result"
    }
   ],
   "source": [
    "df_code_py.loc[0, \"tokens\"]"
   ]
  },
  {
   "cell_type": "code",
   "execution_count": 70,
   "metadata": {},
   "outputs": [],
   "source": [
    "MAX_NUM_WORDS = 50\n",
    "MAX_SEQUENCE_LENGTH = 100\n",
    "EMBEDDING_DIM = 50"
   ]
  },
  {
   "cell_type": "code",
   "execution_count": 71,
   "metadata": {},
   "outputs": [],
   "source": [
    "def tokenizer_dummy(t_list):\n",
    "    return t_list"
   ]
  },
  {
   "cell_type": "code",
   "execution_count": 85,
   "metadata": {},
   "outputs": [],
   "source": [
    "tokenizer = Tokenizer(num_words = MAX_NUM_WORDS, lower=True, analyzer=tokenizer_dummy)"
   ]
  },
  {
   "cell_type": "code",
   "execution_count": 86,
   "metadata": {},
   "outputs": [],
   "source": [
    "tokenizer.fit_on_texts(df_code_py[\"token_code_only\"].values)\n",
    "word_index = tokenizer.word_index"
   ]
  },
  {
   "cell_type": "code",
   "execution_count": 87,
   "metadata": {},
   "outputs": [],
   "source": [
    "X_values = tokenizer.texts_to_sequences(df_code_py[\"token_code_only\"].values)\n",
    "X_values = pad_sequences(X_values, maxlen=MAX_SEQUENCE_LENGTH)\n"
   ]
  },
  {
   "cell_type": "code",
   "execution_count": 88,
   "metadata": {},
   "outputs": [],
   "source": [
    "Y_values = df_code_py[\"correct\"].astype(int).values"
   ]
  },
  {
   "cell_type": "code",
   "execution_count": 99,
   "metadata": {},
   "outputs": [
    {
     "name": "stdout",
     "output_type": "stream",
     "text": [
      "[ 0  0  0  0  0  0  0  0  0  0  0  0  0  0  0  0  0  0  0  0  0  0  0  0\n",
      "  0  0  0  0  0  0  0  0  0  0  0  0  0  0  0  0  0  0  0  0  0  0  0  0\n",
      "  0  0  0  0  0  0  0  0  0  0  0  0  0  0  0  0  0  0  0  0  0  0  0  0\n",
      "  0  0  0  0  0  0  0  0  1 18  4 47  2  2  3  3  1  4 47  2  2  3  3  1\n",
      " 16 18 17  1] 1\n"
     ]
    }
   ],
   "source": [
    "print(X_values[0], Y_values[0])"
   ]
  },
  {
   "cell_type": "code",
   "execution_count": 100,
   "metadata": {},
   "outputs": [
    {
     "name": "stdout",
     "output_type": "stream",
     "text": [
      "['\\n' 'a' '=' 'int' '(' 'raw_input' '(' ')' ')' '\\n' 'b' '=' 'int' '('\n",
      " 'raw_input' '(' ')' ')' '\\n' 'print' 'a' '+' 'b' '\\n'] True\n"
     ]
    }
   ],
   "source": [
    "print(df_code_py.loc[0, \"token_code_only\"], df_code_py.loc[0, \"correct\"])"
   ]
  },
  {
   "cell_type": "code",
   "execution_count": 101,
   "metadata": {},
   "outputs": [],
   "source": [
    "X_train, X_test, Y_train, Y_test, I_train, I_test  = train_test_split(X_values, Y_values, df_code_py.index, test_size = 0.1, random_state=42)"
   ]
  },
  {
   "cell_type": "code",
   "execution_count": 102,
   "metadata": {},
   "outputs": [
    {
     "name": "stdout",
     "output_type": "stream",
     "text": [
      "[ 1 32  5  1  5  5  5  1 32  5  1 32  5  1  5  5  1 32  5  1 32  5 32 15\n",
      " 14  1  5 32 15 14  5  1 32  5  1  5  5 18  1 32  5  1 32  5  1 32  5 32\n",
      " 15 14  1  5 32 15 14  5  1 32  5  1 32  5 32 15 14  1 32  5 32 15 14  1\n",
      " 32  5 32 15 14  1 32 15 14  1 32  5 32 15 14  6  1 10 14 11  1 32  5 32\n",
      " 15 14  6  1] 0\n"
     ]
    }
   ],
   "source": [
    "print(X_train[0], Y_train[0])"
   ]
  },
  {
   "cell_type": "code",
   "execution_count": 103,
   "metadata": {},
   "outputs": [
    {
     "name": "stdout",
     "output_type": "stream",
     "text": [
      "['\\n' 'print' '\"hello\"' ... '.' 'py' '\\n']\n"
     ]
    }
   ],
   "source": [
    "print(df_code_py.loc[I_train[0], \"token_code_only\"])"
   ]
  },
  {
   "cell_type": "code",
   "execution_count": 116,
   "metadata": {},
   "outputs": [],
   "source": [
    "callback = tf.keras.callbacks.EarlyStopping(monitor=\"val_loss\", patience=3)"
   ]
  },
  {
   "cell_type": "code",
   "execution_count": 119,
   "metadata": {},
   "outputs": [
    {
     "name": "stdout",
     "output_type": "stream",
     "text": [
      "Model: \"sequential_10\"\n",
      "_________________________________________________________________\n",
      " Layer (type)                Output Shape              Param #   \n",
      "=================================================================\n",
      " embedding_10 (Embedding)    (None, 100, 50)           2500      \n",
      "                                                                 \n",
      " conv1d_10 (Conv1D)          (None, 47, 50)            17550     \n",
      "                                                                 \n",
      " global_max_pooling1d_10 (Gl  (None, 50)               0         \n",
      " obalMaxPooling1D)                                               \n",
      "                                                                 \n",
      " dense_19 (Dense)            (None, 25)                1275      \n",
      "                                                                 \n",
      " dense_20 (Dense)            (None, 1)                 26        \n",
      "                                                                 \n",
      "=================================================================\n",
      "Total params: 21,351\n",
      "Trainable params: 21,351\n",
      "Non-trainable params: 0\n",
      "_________________________________________________________________\n"
     ]
    }
   ],
   "source": [
    "model = Sequential()\n",
    "model.add(Embedding(MAX_NUM_WORDS, EMBEDDING_DIM, input_length=X_train.shape[1]))\n",
    "model.add(Conv1D(50, 7, padding =\"valid\", activation =\"relu\", strides=2))\n",
    "model.add(GlobalMaxPooling1D())\n",
    "model.add(Dense(25, activation=\"relu\"))\n",
    "model.add(Dense(1, activation=\"sigmoid\"))\n",
    "model.summary()\n"
   ]
  },
  {
   "cell_type": "code",
   "execution_count": 120,
   "metadata": {},
   "outputs": [],
   "source": [
    "model.compile(\n",
    "    loss = \"binary_crossentropy\", \n",
    "    optimizer=\"adam\",\n",
    "    metrics =[\"accuracy\"],\n",
    "    )"
   ]
  },
  {
   "cell_type": "code",
   "execution_count": 121,
   "metadata": {},
   "outputs": [],
   "source": [
    "epochs = 20\n",
    "batch_size = 128"
   ]
  },
  {
   "cell_type": "code",
   "execution_count": 122,
   "metadata": {},
   "outputs": [
    {
     "name": "stdout",
     "output_type": "stream",
     "text": [
      "Epoch 1/20\n"
     ]
    },
    {
     "name": "stdout",
     "output_type": "stream",
     "text": [
      "2129/2129 [==============================] - 15s 7ms/step - loss: 0.5436 - accuracy: 0.7428 - val_loss: 0.5162 - val_accuracy: 0.7529\n",
      "Epoch 2/20\n",
      "2129/2129 [==============================] - 13s 6ms/step - loss: 0.5005 - accuracy: 0.7625 - val_loss: 0.4963 - val_accuracy: 0.7648\n",
      "Epoch 3/20\n",
      "2129/2129 [==============================] - 14s 7ms/step - loss: 0.4815 - accuracy: 0.7733 - val_loss: 0.4846 - val_accuracy: 0.7723\n",
      "Epoch 4/20\n",
      "2129/2129 [==============================] - 14s 6ms/step - loss: 0.4691 - accuracy: 0.7780 - val_loss: 0.4784 - val_accuracy: 0.7762\n",
      "Epoch 5/20\n",
      "2129/2129 [==============================] - 14s 7ms/step - loss: 0.4603 - accuracy: 0.7825 - val_loss: 0.4785 - val_accuracy: 0.7720\n",
      "Epoch 6/20\n",
      "2129/2129 [==============================] - 14s 7ms/step - loss: 0.4542 - accuracy: 0.7856 - val_loss: 0.4711 - val_accuracy: 0.7766\n",
      "Epoch 7/20\n",
      "2129/2129 [==============================] - 14s 7ms/step - loss: 0.4478 - accuracy: 0.7892 - val_loss: 0.4675 - val_accuracy: 0.7819\n",
      "Epoch 8/20\n",
      "2129/2129 [==============================] - 13s 6ms/step - loss: 0.4435 - accuracy: 0.7910 - val_loss: 0.4887 - val_accuracy: 0.7633\n",
      "Epoch 9/20\n",
      "2129/2129 [==============================] - 13s 6ms/step - loss: 0.4386 - accuracy: 0.7937 - val_loss: 0.4660 - val_accuracy: 0.7818\n",
      "Epoch 10/20\n",
      "2129/2129 [==============================] - 13s 6ms/step - loss: 0.4356 - accuracy: 0.7958 - val_loss: 0.4623 - val_accuracy: 0.7827\n",
      "Epoch 11/20\n",
      "2129/2129 [==============================] - 14s 6ms/step - loss: 0.4319 - accuracy: 0.7965 - val_loss: 0.4649 - val_accuracy: 0.7793\n",
      "Epoch 12/20\n",
      "2129/2129 [==============================] - 14s 7ms/step - loss: 0.4289 - accuracy: 0.7977 - val_loss: 0.4594 - val_accuracy: 0.7832\n",
      "Epoch 13/20\n",
      "2129/2129 [==============================] - 14s 7ms/step - loss: 0.4262 - accuracy: 0.7991 - val_loss: 0.4614 - val_accuracy: 0.7859\n",
      "Epoch 14/20\n",
      "2129/2129 [==============================] - 14s 7ms/step - loss: 0.4239 - accuracy: 0.8003 - val_loss: 0.4570 - val_accuracy: 0.7833\n",
      "Epoch 15/20\n",
      "2129/2129 [==============================] - 14s 6ms/step - loss: 0.4210 - accuracy: 0.8013 - val_loss: 0.4654 - val_accuracy: 0.7777\n",
      "Epoch 16/20\n",
      "2129/2129 [==============================] - 14s 7ms/step - loss: 0.4192 - accuracy: 0.8028 - val_loss: 0.4820 - val_accuracy: 0.7626\n",
      "Epoch 17/20\n",
      "2129/2129 [==============================] - 14s 6ms/step - loss: 0.4173 - accuracy: 0.8035 - val_loss: 0.4626 - val_accuracy: 0.7864\n"
     ]
    }
   ],
   "source": [
    "history = model.fit(\n",
    "    X_train, \n",
    "    Y_train, \n",
    "    epochs=epochs, \n",
    "    batch_size=batch_size, \n",
    "    validation_split=0.2,\n",
    "    callbacks=[callback]\n",
    "    )"
   ]
  },
  {
   "cell_type": "code",
   "execution_count": 123,
   "metadata": {},
   "outputs": [],
   "source": [
    "model.save(\"CNN.h5\")"
   ]
  },
  {
   "cell_type": "code",
   "execution_count": 124,
   "metadata": {},
   "outputs": [
    {
     "name": "stdout",
     "output_type": "stream",
     "text": [
      "1183/1183 [==============================] - 3s 3ms/step - loss: 0.4594 - accuracy: 0.7890\n"
     ]
    }
   ],
   "source": [
    "accuracy = model.evaluate(X_test, Y_test)"
   ]
  },
  {
   "cell_type": "code",
   "execution_count": 127,
   "metadata": {},
   "outputs": [
    {
     "data": {
      "image/png": "[encoded data removed]",
      "text/plain": [
       "<Figure size 640x480 with 1 Axes>"
      ]
     },
     "metadata": {},
     "output_type": "display_data"
    }
   ],
   "source": [
    "plt.plot(history.history[\"accuracy\"])\n",
    "plt.plot(history.history[\"val_accuracy\"])\n",
    "plt.show()"
   ]
  }
 ],
 "metadata": {
  "kernelspec": {
   "display_name": "base",
   "language": "python",
   "name": "python3"
  },
  "language_info": {
   "codemirror_mode": {
    "name": "ipython",
    "version": 3
   },
   "file_extension": ".py",
   "mimetype": "text/x-python",
   "name": "python",
   "nbconvert_exporter": "python",
   "pygments_lexer": "ipython3",
   "version": "3.10.9"
  },
  "orig_nbformat": 4
 },
 "nbformat": 4,
 "nbformat_minor": 2
}
