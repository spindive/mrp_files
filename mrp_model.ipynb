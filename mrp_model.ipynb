{
 "cells": [
  {
   "cell_type": "code",
   "execution_count": 80,
   "metadata": {},
   "outputs": [],
   "source": [
    "import pandas as pd\n",
    "import numpy as np\n",
    "from sklearn.model_selection import train_test_split\n",
    "import tensorflow as tf\n",
    "from tensorflow import keras\n",
    "from matplotlib import pyplot as plt\n",
    "import tokenize\n",
    "import io\n",
    "import matplotlib\n",
    "import matplotlib.pyplot as plt\n",
    "from IPython.display import display, HTML\n",
    "import lime\n",
    "from lime.lime_text import LimeTextExplainer\n",
    "from sklearn.pipeline import make_pipeline\n",
    "from sklearn.metrics import accuracy_score, classification_report, confusion_matrix\n",
    "import keras_tuner as kt\n",
    "import json\n",
    "import pickle\n",
    "from tensorflow.keras.utils import plot_model"
   ]
  },
  {
   "cell_type": "code",
   "execution_count": 81,
   "metadata": {},
   "outputs": [],
   "source": [
    "from tensorflow.keras.preprocessing import sequence\n",
    "from tensorflow.keras.models import Sequential\n",
    "from tensorflow.keras.layers import Dense, Dropout, Activation, Flatten, Embedding, Conv1D, GlobalMaxPooling1D, GlobalAveragePooling1D, LSTM, SimpleRNN, SpatialDropout1D, Attention, MaxPooling1D\n",
    "from tensorflow.keras.callbacks import EarlyStopping , ModelCheckpoint\n",
    "from tensorflow.keras.preprocessing.text import Tokenizer\n",
    "from tensorflow.keras.preprocessing.sequence import pad_sequences"
   ]
  },
  {
   "cell_type": "code",
   "execution_count": 82,
   "metadata": {},
   "outputs": [
    {
     "data": {
      "text/plain": [
       "[PhysicalDevice(name='/physical_device:GPU:0', device_type='GPU')]"
      ]
     },
     "execution_count": 82,
     "metadata": {},
     "output_type": "execute_result"
    }
   ],
   "source": [
    "tf.config.list_physical_devices(\"GPU\")"
   ]
  },
  {
   "cell_type": "code",
   "execution_count": 83,
   "metadata": {},
   "outputs": [],
   "source": [
    "df_code_py = pd.read_parquet('df_code_py.gzip')"
   ]
  },
  {
   "cell_type": "code",
   "execution_count": 84,
   "metadata": {},
   "outputs": [
    {
     "data": {
      "text/html": [
       "<div>\n",
       "<style scoped>\n",
       "    .dataframe tbody tr th:only-of-type {\n",
       "        vertical-align: middle;\n",
       "    }\n",
       "\n",
       "    .dataframe tbody tr th {\n",
       "        vertical-align: top;\n",
       "    }\n",
       "\n",
       "    .dataframe thead th {\n",
       "        text-align: right;\n",
       "    }\n",
       "</style>\n",
       "<table border=\"1\" class=\"dataframe\">\n",
       "  <thead>\n",
       "    <tr style=\"text-align: right;\">\n",
       "      <th></th>\n",
       "      <th>academic_year_1</th>\n",
       "      <th>task</th>\n",
       "      <th>user</th>\n",
       "      <th>date</th>\n",
       "      <th>academic_year_0</th>\n",
       "      <th>upload</th>\n",
       "      <th>module</th>\n",
       "      <th>correct</th>\n",
       "      <th>hour_submitted</th>\n",
       "      <th>tokens</th>\n",
       "      <th>token_count</th>\n",
       "      <th>line_count</th>\n",
       "      <th>token_code_only</th>\n",
       "      <th>token_per_line</th>\n",
       "    </tr>\n",
       "  </thead>\n",
       "  <tbody>\n",
       "    <tr>\n",
       "      <th>0</th>\n",
       "      <td>2017</td>\n",
       "      <td>add.py</td>\n",
       "      <td>b9e7e608-6036-4d44-8770-a7036176b53c</td>\n",
       "      <td>2016-09-19 14:11:41</td>\n",
       "      <td>2016</td>\n",
       "      <td>#!/usr/bin/env python\\n\\na = int(raw_input())\\...</td>\n",
       "      <td>ca277</td>\n",
       "      <td>True</td>\n",
       "      <td>14</td>\n",
       "      <td>[{'end': [1, 21], 'line': '#!/usr/bin/env pyth...</td>\n",
       "      <td>30</td>\n",
       "      <td>4</td>\n",
       "      <td>[\\n, a, =, int, (, raw_input, (, ), ), \\n, b, ...</td>\n",
       "      <td>7.5</td>\n",
       "    </tr>\n",
       "    <tr>\n",
       "      <th>1</th>\n",
       "      <td>2017</td>\n",
       "      <td>concat-lines.py</td>\n",
       "      <td>b9e7e608-6036-4d44-8770-a7036176b53c</td>\n",
       "      <td>2016-09-19 14:17:33</td>\n",
       "      <td>2016</td>\n",
       "      <td>#!/usr/bin/env python\\n\\na = str(raw_input())\\...</td>\n",
       "      <td>ca277</td>\n",
       "      <td>True</td>\n",
       "      <td>14</td>\n",
       "      <td>[{'end': [1, 21], 'line': '#!/usr/bin/env pyth...</td>\n",
       "      <td>30</td>\n",
       "      <td>4</td>\n",
       "      <td>[\\n, a, =, str, (, raw_input, (, ), ), \\n, b, ...</td>\n",
       "      <td>7.5</td>\n",
       "    </tr>\n",
       "    <tr>\n",
       "      <th>2</th>\n",
       "      <td>2017</td>\n",
       "      <td>goodbye.py</td>\n",
       "      <td>b9e7e608-6036-4d44-8770-a7036176b53c</td>\n",
       "      <td>2016-09-19 10:15:59</td>\n",
       "      <td>2016</td>\n",
       "      <td>#!/usr/bin/env python\\n\\nprint \"Goodbye\"\\n</td>\n",
       "      <td>ca277</td>\n",
       "      <td>True</td>\n",
       "      <td>10</td>\n",
       "      <td>[{'end': [1, 21], 'line': '#!/usr/bin/env pyth...</td>\n",
       "      <td>7</td>\n",
       "      <td>2</td>\n",
       "      <td>[\\n, print, \"Goodbye\", \\n]</td>\n",
       "      <td>3.5</td>\n",
       "    </tr>\n",
       "    <tr>\n",
       "      <th>3</th>\n",
       "      <td>2017</td>\n",
       "      <td>less-than.py</td>\n",
       "      <td>b9e7e608-6036-4d44-8770-a7036176b53c</td>\n",
       "      <td>2016-09-19 14:14:22</td>\n",
       "      <td>2016</td>\n",
       "      <td>#!/usr/bin/env python\\n\\na = int(raw_input())\\...</td>\n",
       "      <td>ca277</td>\n",
       "      <td>True</td>\n",
       "      <td>14</td>\n",
       "      <td>[{'end': [1, 21], 'line': '#!/usr/bin/env pyth...</td>\n",
       "      <td>30</td>\n",
       "      <td>4</td>\n",
       "      <td>[\\n, a, =, int, (, raw_input, (, ), ), \\n, b, ...</td>\n",
       "      <td>7.5</td>\n",
       "    </tr>\n",
       "    <tr>\n",
       "      <th>4</th>\n",
       "      <td>2017</td>\n",
       "      <td>longest-line.py</td>\n",
       "      <td>b9e7e608-6036-4d44-8770-a7036176b53c</td>\n",
       "      <td>2016-09-19 14:51:28</td>\n",
       "      <td>2016</td>\n",
       "      <td>#!usr/bin/evn python\\n\\na = raw_input()\\nb = r...</td>\n",
       "      <td>ca277</td>\n",
       "      <td>True</td>\n",
       "      <td>14</td>\n",
       "      <td>[{'end': [1, 20], 'line': '#!usr/bin/evn pytho...</td>\n",
       "      <td>42</td>\n",
       "      <td>7</td>\n",
       "      <td>[\\n, a, =, raw_input, (, ), \\n, b, =, raw_inpu...</td>\n",
       "      <td>6.0</td>\n",
       "    </tr>\n",
       "  </tbody>\n",
       "</table>\n",
       "</div>"
      ],
      "text/plain": [
       "   academic_year_1             task                                  user  \\\n",
       "0             2017           add.py  b9e7e608-6036-4d44-8770-a7036176b53c   \n",
       "1             2017  concat-lines.py  b9e7e608-6036-4d44-8770-a7036176b53c   \n",
       "2             2017       goodbye.py  b9e7e608-6036-4d44-8770-a7036176b53c   \n",
       "3             2017     less-than.py  b9e7e608-6036-4d44-8770-a7036176b53c   \n",
       "4             2017  longest-line.py  b9e7e608-6036-4d44-8770-a7036176b53c   \n",
       "\n",
       "                 date  academic_year_0  \\\n",
       "0 2016-09-19 14:11:41             2016   \n",
       "1 2016-09-19 14:17:33             2016   \n",
       "2 2016-09-19 10:15:59             2016   \n",
       "3 2016-09-19 14:14:22             2016   \n",
       "4 2016-09-19 14:51:28             2016   \n",
       "\n",
       "                                              upload module  correct  \\\n",
       "0  #!/usr/bin/env python\\n\\na = int(raw_input())\\...  ca277     True   \n",
       "1  #!/usr/bin/env python\\n\\na = str(raw_input())\\...  ca277     True   \n",
       "2         #!/usr/bin/env python\\n\\nprint \"Goodbye\"\\n  ca277     True   \n",
       "3  #!/usr/bin/env python\\n\\na = int(raw_input())\\...  ca277     True   \n",
       "4  #!usr/bin/evn python\\n\\na = raw_input()\\nb = r...  ca277     True   \n",
       "\n",
       "   hour_submitted                                             tokens  \\\n",
       "0              14  [{'end': [1, 21], 'line': '#!/usr/bin/env pyth...   \n",
       "1              14  [{'end': [1, 21], 'line': '#!/usr/bin/env pyth...   \n",
       "2              10  [{'end': [1, 21], 'line': '#!/usr/bin/env pyth...   \n",
       "3              14  [{'end': [1, 21], 'line': '#!/usr/bin/env pyth...   \n",
       "4              14  [{'end': [1, 20], 'line': '#!usr/bin/evn pytho...   \n",
       "\n",
       "   token_count  line_count                                    token_code_only  \\\n",
       "0           30           4  [\\n, a, =, int, (, raw_input, (, ), ), \\n, b, ...   \n",
       "1           30           4  [\\n, a, =, str, (, raw_input, (, ), ), \\n, b, ...   \n",
       "2            7           2                         [\\n, print, \"Goodbye\", \\n]   \n",
       "3           30           4  [\\n, a, =, int, (, raw_input, (, ), ), \\n, b, ...   \n",
       "4           42           7  [\\n, a, =, raw_input, (, ), \\n, b, =, raw_inpu...   \n",
       "\n",
       "   token_per_line  \n",
       "0             7.5  \n",
       "1             7.5  \n",
       "2             3.5  \n",
       "3             7.5  \n",
       "4             6.0  "
      ]
     },
     "execution_count": 84,
     "metadata": {},
     "output_type": "execute_result"
    }
   ],
   "source": [
    "df_code_py.head()"
   ]
  },
  {
   "cell_type": "code",
   "execution_count": 85,
   "metadata": {},
   "outputs": [
    {
     "data": {
      "text/plain": [
       "(378455, 14)"
      ]
     },
     "execution_count": 85,
     "metadata": {},
     "output_type": "execute_result"
    }
   ],
   "source": [
    "df_code_py.shape"
   ]
  },
  {
   "cell_type": "code",
   "execution_count": 86,
   "metadata": {},
   "outputs": [],
   "source": [
    "df_code_py_exp = df_code_py\n",
    "#df_code_py_exp = df_code_py[df_code_py[\"task\"]==\"ex3-first-long-word.py\"]"
   ]
  },
  {
   "cell_type": "code",
   "execution_count": 87,
   "metadata": {},
   "outputs": [
    {
     "data": {
      "text/plain": [
       "array([{'end': array([ 1, 21], dtype=int64), 'line': '#!/usr/bin/env python\\n', 'start': array([1, 0], dtype=int64), 'string': '#!/usr/bin/env python', 'type': 61},\n",
       "       {'end': array([ 1, 22], dtype=int64), 'line': '#!/usr/bin/env python\\n', 'start': array([ 1, 21], dtype=int64), 'string': '\\n', 'type': 62},\n",
       "       {'end': array([2, 1], dtype=int64), 'line': '\\n', 'start': array([2, 0], dtype=int64), 'string': '\\n', 'type': 62},\n",
       "       {'end': array([3, 1], dtype=int64), 'line': 'a = int(raw_input())\\n', 'start': array([3, 0], dtype=int64), 'string': 'a', 'type': 1},\n",
       "       {'end': array([3, 3], dtype=int64), 'line': 'a = int(raw_input())\\n', 'start': array([3, 2], dtype=int64), 'string': '=', 'type': 54},\n",
       "       {'end': array([3, 7], dtype=int64), 'line': 'a = int(raw_input())\\n', 'start': array([3, 4], dtype=int64), 'string': 'int', 'type': 1},\n",
       "       {'end': array([3, 8], dtype=int64), 'line': 'a = int(raw_input())\\n', 'start': array([3, 7], dtype=int64), 'string': '(', 'type': 54},\n",
       "       {'end': array([ 3, 17], dtype=int64), 'line': 'a = int(raw_input())\\n', 'start': array([3, 8], dtype=int64), 'string': 'raw_input', 'type': 1},\n",
       "       {'end': array([ 3, 18], dtype=int64), 'line': 'a = int(raw_input())\\n', 'start': array([ 3, 17], dtype=int64), 'string': '(', 'type': 54},\n",
       "       {'end': array([ 3, 19], dtype=int64), 'line': 'a = int(raw_input())\\n', 'start': array([ 3, 18], dtype=int64), 'string': ')', 'type': 54},\n",
       "       {'end': array([ 3, 20], dtype=int64), 'line': 'a = int(raw_input())\\n', 'start': array([ 3, 19], dtype=int64), 'string': ')', 'type': 54},\n",
       "       {'end': array([ 3, 21], dtype=int64), 'line': 'a = int(raw_input())\\n', 'start': array([ 3, 20], dtype=int64), 'string': '\\n', 'type': 4},\n",
       "       {'end': array([4, 1], dtype=int64), 'line': 'b = int(raw_input())\\n', 'start': array([4, 0], dtype=int64), 'string': 'b', 'type': 1},\n",
       "       {'end': array([4, 3], dtype=int64), 'line': 'b = int(raw_input())\\n', 'start': array([4, 2], dtype=int64), 'string': '=', 'type': 54},\n",
       "       {'end': array([4, 7], dtype=int64), 'line': 'b = int(raw_input())\\n', 'start': array([4, 4], dtype=int64), 'string': 'int', 'type': 1},\n",
       "       {'end': array([4, 8], dtype=int64), 'line': 'b = int(raw_input())\\n', 'start': array([4, 7], dtype=int64), 'string': '(', 'type': 54},\n",
       "       {'end': array([ 4, 17], dtype=int64), 'line': 'b = int(raw_input())\\n', 'start': array([4, 8], dtype=int64), 'string': 'raw_input', 'type': 1},\n",
       "       {'end': array([ 4, 18], dtype=int64), 'line': 'b = int(raw_input())\\n', 'start': array([ 4, 17], dtype=int64), 'string': '(', 'type': 54},\n",
       "       {'end': array([ 4, 19], dtype=int64), 'line': 'b = int(raw_input())\\n', 'start': array([ 4, 18], dtype=int64), 'string': ')', 'type': 54},\n",
       "       {'end': array([ 4, 20], dtype=int64), 'line': 'b = int(raw_input())\\n', 'start': array([ 4, 19], dtype=int64), 'string': ')', 'type': 54},\n",
       "       {'end': array([ 4, 21], dtype=int64), 'line': 'b = int(raw_input())\\n', 'start': array([ 4, 20], dtype=int64), 'string': '\\n', 'type': 4},\n",
       "       {'end': array([5, 1], dtype=int64), 'line': '\\n', 'start': array([5, 0], dtype=int64), 'string': '\\n', 'type': 62},\n",
       "       {'end': array([6, 5], dtype=int64), 'line': 'print a + b\\n', 'start': array([6, 0], dtype=int64), 'string': 'print', 'type': 1},\n",
       "       {'end': array([6, 7], dtype=int64), 'line': 'print a + b\\n', 'start': array([6, 6], dtype=int64), 'string': 'a', 'type': 1},\n",
       "       {'end': array([6, 9], dtype=int64), 'line': 'print a + b\\n', 'start': array([6, 8], dtype=int64), 'string': '+', 'type': 54},\n",
       "       {'end': array([ 6, 11], dtype=int64), 'line': 'print a + b\\n', 'start': array([ 6, 10], dtype=int64), 'string': 'b', 'type': 1},\n",
       "       {'end': array([ 6, 12], dtype=int64), 'line': 'print a + b\\n', 'start': array([ 6, 11], dtype=int64), 'string': '\\n', 'type': 4},\n",
       "       {'end': array([7, 1], dtype=int64), 'line': '\\n', 'start': array([7, 0], dtype=int64), 'string': '\\n', 'type': 62},\n",
       "       {'end': array([8, 1], dtype=int64), 'line': '\\n', 'start': array([8, 0], dtype=int64), 'string': '\\n', 'type': 62},\n",
       "       {'end': array([9, 0], dtype=int64), 'line': '', 'start': array([9, 0], dtype=int64), 'string': '', 'type': 0}],\n",
       "      dtype=object)"
      ]
     },
     "execution_count": 87,
     "metadata": {},
     "output_type": "execute_result"
    }
   ],
   "source": [
    "df_code_py_exp.iloc[0].tokens"
   ]
  },
  {
   "cell_type": "code",
   "execution_count": 88,
   "metadata": {},
   "outputs": [],
   "source": [
    "MAX_NUM_WORDS = 100\n",
    "MAX_SEQUENCE_LENGTH = 100\n",
    "EMBEDDING_DIM = 50"
   ]
  },
  {
   "cell_type": "code",
   "execution_count": 89,
   "metadata": {},
   "outputs": [],
   "source": [
    "def tokenizer_custom(t_list):    \n",
    "    \n",
    "    if isinstance(t_list, np.ndarray):\n",
    "        #print(t_list)\n",
    "        return t_list\n",
    "    else:\n",
    "        temp_tokens = None\n",
    "        t_dict = None\n",
    "        t_code_only = []\n",
    "        with io.StringIO(t_list) as f:\n",
    "            line = f.readline\n",
    "            temp_tokens = tokenize.generate_tokens(line)\n",
    "            try:\n",
    "                for token in temp_tokens:\n",
    "                    t_dict = token._asdict()\n",
    "                    #print(t_dict)\n",
    "                    #print(t_dict[\"string\"])\n",
    "                    if t_dict[\"line\"] == \"\\n\" or t_dict[\"type\"] == 0:\n",
    "                        pass\n",
    "                    elif t_dict[\"type\"] != 61:\n",
    "                        # tokenize only the code not comments\n",
    "                        t_code_only.append(t_dict[\"string\"])\n",
    "            except:\n",
    "                pass\n",
    "        return np.array(t_code_only)"
   ]
  },
  {
   "cell_type": "code",
   "execution_count": 90,
   "metadata": {},
   "outputs": [],
   "source": [
    "tokenizer = Tokenizer(num_words = MAX_NUM_WORDS, filters=None, lower=True, analyzer=tokenizer_custom)"
   ]
  },
  {
   "cell_type": "code",
   "execution_count": 91,
   "metadata": {},
   "outputs": [],
   "source": [
    "tokenizer.fit_on_texts(df_code_py_exp[\"token_code_only\"].values)\n",
    "word_index = tokenizer.word_index"
   ]
  },
  {
   "cell_type": "code",
   "execution_count": 92,
   "metadata": {},
   "outputs": [],
   "source": [
    "X_values = tokenizer.texts_to_sequences(df_code_py_exp[\"token_code_only\"].values)\n",
    "X_values = pad_sequences(X_values, maxlen=MAX_SEQUENCE_LENGTH)\n"
   ]
  },
  {
   "cell_type": "code",
   "execution_count": 93,
   "metadata": {},
   "outputs": [],
   "source": [
    "Y_values = df_code_py_exp[\"correct\"].astype(int).values"
   ]
  },
  {
   "cell_type": "code",
   "execution_count": 94,
   "metadata": {},
   "outputs": [
    {
     "name": "stdout",
     "output_type": "stream",
     "text": [
      "[ 0  0  0  0  0  0  0  0  0  0  0  0  0  0  0  0  0  0  0  0  0  0  0  0\n",
      "  0  0  0  0  0  0  0  0  0  0  0  0  0  0  0  0  0  0  0  0  0  0  0  0\n",
      "  0  0  0  0  0  0  0  0  0  0  0  0  0  0  0  0  0  0  0  0  0  0  0  0\n",
      "  0  0  0  0  1 18  4 47  2 51  2  3  3  1 61  4 47  2 51  2  3  3  1 16\n",
      " 18 17 61  1] 1\n"
     ]
    }
   ],
   "source": [
    "print(X_values[0], Y_values[0])"
   ]
  },
  {
   "cell_type": "code",
   "execution_count": 95,
   "metadata": {},
   "outputs": [
    {
     "name": "stdout",
     "output_type": "stream",
     "text": [
      "['\\n' 'a' '=' 'int' '(' 'raw_input' '(' ')' ')' '\\n' 'b' '=' 'int' '('\n",
      " 'raw_input' '(' ')' ')' '\\n' 'print' 'a' '+' 'b' '\\n'] True\n"
     ]
    }
   ],
   "source": [
    "print(df_code_py_exp.iloc[0].token_code_only, df_code_py_exp.iloc[0].correct)"
   ]
  },
  {
   "cell_type": "code",
   "execution_count": 96,
   "metadata": {},
   "outputs": [],
   "source": [
    "X_train, X_test, Y_train, Y_test, I_train, I_test  = train_test_split(X_values, Y_values, df_code_py_exp.index, test_size = 0.1, random_state=42)"
   ]
  },
  {
   "cell_type": "code",
   "execution_count": 97,
   "metadata": {},
   "outputs": [
    {
     "name": "stdout",
     "output_type": "stream",
     "text": [
      "X_train:  (340609, 100) Y_train:  (340609,)\n",
      "X_test:  (37846, 100) Y_test:  (37846,)\n"
     ]
    }
   ],
   "source": [
    "print(\"X_train: \", X_train.shape, \"Y_train: \", Y_train.shape)\n",
    "print(\"X_test: \", X_test.shape, \"Y_test: \", Y_test.shape)"
   ]
  },
  {
   "cell_type": "code",
   "execution_count": 98,
   "metadata": {},
   "outputs": [
    {
     "name": "stdout",
     "output_type": "stream",
     "text": [
      "[15 14  1  5 79 32 15 14  5  1 32  5 79  1  5 79 79 79  5 18  1 32  5 79\n",
      "  1 32  5  1 32  5 79 79 32 15 14  1  5 79 32 15 14  5  1 32  5 79  1 32\n",
      "  5 79 32 15 14  1 32  5 79 32 15 14  1 32  5 79 79 32 15 14  1 79 79 79\n",
      " 79 79 32 15 14  1 32  5 79 79 32 15 14  6  1 10 14 11  1 32  5 79 79 32\n",
      " 15 14  6  1] 0\n"
     ]
    }
   ],
   "source": [
    "print(X_train[0], Y_train[0])"
   ]
  },
  {
   "cell_type": "code",
   "execution_count": 99,
   "metadata": {},
   "outputs": [
    {
     "name": "stdout",
     "output_type": "stream",
     "text": [
      "['\\n' 'print' '\"hello\"' ... '.' 'py' '\\n']\n"
     ]
    }
   ],
   "source": [
    "print(df_code_py_exp.loc[I_train[0], \"token_code_only\"])"
   ]
  },
  {
   "cell_type": "code",
   "execution_count": 118,
   "metadata": {},
   "outputs": [],
   "source": [
    "callback = tf.keras.callbacks.EarlyStopping(monitor=\"val_loss\", patience=5)"
   ]
  },
  {
   "cell_type": "code",
   "execution_count": 119,
   "metadata": {},
   "outputs": [],
   "source": [
    "def model_builder(hp):    \n",
    "    model_input = keras.Input(shape=(X_train.shape[1],))\n",
    "    #attention = Activation(activation = 'softmax', name='attention_vec')(model_input)\n",
    "    x = Embedding(MAX_NUM_WORDS, EMBEDDING_DIM, input_length=X_train.shape[1])(model_input)\n",
    "    hp_conv = hp.Int(\"units\", min_value=3, max_value=7, step=1)\n",
    "    hp_stride = hp.Int(\"stride\", min_value=1, max_value=3, step=1)\n",
    "    x = Conv1D(50, hp_conv, padding =\"valid\", activation =\"relu\", strides=hp_stride)(x)\n",
    "    x = MaxPooling1D()(x)\n",
    "    hp_do = hp.Choice(\"dropout\", values = [0.05, 0.1, 0.15, 0.2])\n",
    "    x = LSTM(50, activation=\"tanh\", return_sequences=True, dropout=hp_do)(x)\n",
    "    x = LSTM(25, activation=\"tanh\", dropout=hp_do)(x)\n",
    "    #model.add(GlobalMaxPooling1D())\n",
    "    #model.add(Dense(25, activation=\"relu\"))\n",
    "    model_output = Dense(1, activation=\"sigmoid\")(x)\n",
    "    model = keras.Model(inputs=model_input, outputs=model_output)\n",
    "    hp_learning_rate = hp.Choice(\"learning_rate\", values = [1e-2, 1e-3, 1e-4])\n",
    "    hp_opt = hp.Choice(\"optimizer\", values=[\"adam\", \"adafactor\", \"sgd\"])\n",
    "    #model.summary()\n",
    "    model.compile(\n",
    "    loss = \"binary_crossentropy\", \n",
    "    optimizer= hp_opt,\n",
    "    metrics =[\"accuracy\"],\n",
    "    )\n",
    "    return model"
   ]
  },
  {
   "cell_type": "code",
   "execution_count": 120,
   "metadata": {},
   "outputs": [],
   "source": [
    "#plot_model(model, to_file=\"model_design.png\", show_shapes=True, show_layer_names=True)"
   ]
  },
  {
   "cell_type": "code",
   "execution_count": 121,
   "metadata": {},
   "outputs": [
    {
     "name": "stdout",
     "output_type": "stream",
     "text": [
      "INFO:tensorflow:Reloading Tuner from .\\adaptive_lms\\tuner0.json\n"
     ]
    }
   ],
   "source": [
    "tuner = kt.Hyperband(model_builder,\n",
    "                     objective='val_accuracy',\n",
    "                     max_epochs=10,\n",
    "                     factor=3,\n",
    "                     project_name=\"adaptive_lms\")\n"
   ]
  },
  {
   "cell_type": "code",
   "execution_count": 122,
   "metadata": {},
   "outputs": [
    {
     "name": "stdout",
     "output_type": "stream",
     "text": [
      "INFO:tensorflow:Oracle triggered exit\n"
     ]
    }
   ],
   "source": [
    "tuner.search(X_train, Y_train, epochs=50, validation_split=0.2, callbacks=[callback])"
   ]
  },
  {
   "cell_type": "code",
   "execution_count": 123,
   "metadata": {},
   "outputs": [],
   "source": [
    "best_hps=tuner.get_best_hyperparameters(num_trials=1)[0]\n"
   ]
  },
  {
   "cell_type": "code",
   "execution_count": 124,
   "metadata": {},
   "outputs": [
    {
     "data": {
      "text/plain": [
       "7"
      ]
     },
     "execution_count": 124,
     "metadata": {},
     "output_type": "execute_result"
    }
   ],
   "source": [
    "best_hps.get(\"units\")"
   ]
  },
  {
   "cell_type": "code",
   "execution_count": 125,
   "metadata": {},
   "outputs": [
    {
     "data": {
      "text/plain": [
       "'adam'"
      ]
     },
     "execution_count": 125,
     "metadata": {},
     "output_type": "execute_result"
    }
   ],
   "source": [
    "best_hps.get(\"optimizer\")"
   ]
  },
  {
   "cell_type": "code",
   "execution_count": 126,
   "metadata": {},
   "outputs": [
    {
     "ename": "KeyError",
     "evalue": "'stride does not exist.'",
     "output_type": "error",
     "traceback": [
      "\u001b[1;31m---------------------------------------------------------------------------\u001b[0m",
      "\u001b[1;31mKeyError\u001b[0m                                  Traceback (most recent call last)",
      "Cell \u001b[1;32mIn[126], line 1\u001b[0m\n\u001b[1;32m----> 1\u001b[0m best_hps\u001b[39m.\u001b[39;49mget(\u001b[39m\"\u001b[39;49m\u001b[39mstride\u001b[39;49m\u001b[39m\"\u001b[39;49m)\n",
      "File \u001b[1;32m~\\AppData\\Roaming\\Python\\Python310\\site-packages\\keras_tuner\\engine\\hyperparameters\\hyperparameters.py:241\u001b[0m, in \u001b[0;36mHyperParameters.get\u001b[1;34m(self, name)\u001b[0m\n\u001b[0;32m    239\u001b[0m     \u001b[39mraise\u001b[39;00m \u001b[39mValueError\u001b[39;00m(\u001b[39mf\u001b[39m\u001b[39m\"\u001b[39m\u001b[39m{\u001b[39;00mname\u001b[39m}\u001b[39;00m\u001b[39m is currently inactive.\u001b[39m\u001b[39m\"\u001b[39m)\n\u001b[0;32m    240\u001b[0m \u001b[39melse\u001b[39;00m:\n\u001b[1;32m--> 241\u001b[0m     \u001b[39mraise\u001b[39;00m \u001b[39mKeyError\u001b[39;00m(\u001b[39mf\u001b[39m\u001b[39m\"\u001b[39m\u001b[39m{\u001b[39;00mname\u001b[39m}\u001b[39;00m\u001b[39m does not exist.\u001b[39m\u001b[39m\"\u001b[39m)\n",
      "\u001b[1;31mKeyError\u001b[0m: 'stride does not exist.'"
     ]
    }
   ],
   "source": [
    "best_hps.get(\"stride\")"
   ]
  },
  {
   "cell_type": "code",
   "execution_count": null,
   "metadata": {},
   "outputs": [
    {
     "ename": "KeyError",
     "evalue": "'dropout does not exist.'",
     "output_type": "error",
     "traceback": [
      "\u001b[1;31m---------------------------------------------------------------------------\u001b[0m",
      "\u001b[1;31mKeyError\u001b[0m                                  Traceback (most recent call last)",
      "Cell \u001b[1;32mIn[117], line 1\u001b[0m\n\u001b[1;32m----> 1\u001b[0m best_hps\u001b[39m.\u001b[39;49mget(\u001b[39m\"\u001b[39;49m\u001b[39mdropout\u001b[39;49m\u001b[39m\"\u001b[39;49m)\n",
      "File \u001b[1;32m~\\AppData\\Roaming\\Python\\Python310\\site-packages\\keras_tuner\\engine\\hyperparameters\\hyperparameters.py:241\u001b[0m, in \u001b[0;36mHyperParameters.get\u001b[1;34m(self, name)\u001b[0m\n\u001b[0;32m    239\u001b[0m     \u001b[39mraise\u001b[39;00m \u001b[39mValueError\u001b[39;00m(\u001b[39mf\u001b[39m\u001b[39m\"\u001b[39m\u001b[39m{\u001b[39;00mname\u001b[39m}\u001b[39;00m\u001b[39m is currently inactive.\u001b[39m\u001b[39m\"\u001b[39m)\n\u001b[0;32m    240\u001b[0m \u001b[39melse\u001b[39;00m:\n\u001b[1;32m--> 241\u001b[0m     \u001b[39mraise\u001b[39;00m \u001b[39mKeyError\u001b[39;00m(\u001b[39mf\u001b[39m\u001b[39m\"\u001b[39m\u001b[39m{\u001b[39;00mname\u001b[39m}\u001b[39;00m\u001b[39m does not exist.\u001b[39m\u001b[39m\"\u001b[39m)\n",
      "\u001b[1;31mKeyError\u001b[0m: 'dropout does not exist.'"
     ]
    }
   ],
   "source": [
    "best_hps.get(\"dropout\")"
   ]
  },
  {
   "cell_type": "code",
   "execution_count": null,
   "metadata": {},
   "outputs": [],
   "source": [
    "model = tuner.hypermodel.build(best_hps)"
   ]
  },
  {
   "cell_type": "code",
   "execution_count": null,
   "metadata": {},
   "outputs": [],
   "source": [
    "epochs = 100\n",
    "batch_size = 128"
   ]
  },
  {
   "cell_type": "code",
   "execution_count": null,
   "metadata": {},
   "outputs": [
    {
     "name": "stdout",
     "output_type": "stream",
     "text": [
      "Epoch 1/100\n",
      "2129/2129 [==============================] - 48s 19ms/step - loss: 0.5469 - accuracy: 0.7395 - val_loss: 0.5144 - val_accuracy: 0.7556\n",
      "Epoch 2/100\n",
      "2129/2129 [==============================] - 41s 19ms/step - loss: 0.5049 - accuracy: 0.7582 - val_loss: 0.4914 - val_accuracy: 0.7688\n",
      "Epoch 3/100\n",
      "2129/2129 [==============================] - 39s 18ms/step - loss: 0.4831 - accuracy: 0.7677 - val_loss: 0.4680 - val_accuracy: 0.7751\n",
      "Epoch 4/100\n",
      "2129/2129 [==============================] - 39s 18ms/step - loss: 0.4672 - accuracy: 0.7747 - val_loss: 0.4636 - val_accuracy: 0.7777\n",
      "Epoch 5/100\n",
      "2129/2129 [==============================] - 41s 19ms/step - loss: 0.4567 - accuracy: 0.7802 - val_loss: 0.4469 - val_accuracy: 0.7862\n",
      "Epoch 6/100\n",
      "2129/2129 [==============================] - 40s 19ms/step - loss: 0.4469 - accuracy: 0.7853 - val_loss: 0.4360 - val_accuracy: 0.7927\n",
      "Epoch 7/100\n",
      "2129/2129 [==============================] - 40s 19ms/step - loss: 0.4401 - accuracy: 0.7883 - val_loss: 0.4313 - val_accuracy: 0.7944\n",
      "Epoch 8/100\n",
      "2129/2129 [==============================] - 40s 19ms/step - loss: 0.4331 - accuracy: 0.7915 - val_loss: 0.4352 - val_accuracy: 0.7933\n",
      "Epoch 9/100\n",
      "2129/2129 [==============================] - 40s 19ms/step - loss: 0.4278 - accuracy: 0.7949 - val_loss: 0.4255 - val_accuracy: 0.7958\n",
      "Epoch 10/100\n",
      "2129/2129 [==============================] - 39s 18ms/step - loss: 0.4220 - accuracy: 0.7983 - val_loss: 0.4183 - val_accuracy: 0.8016\n",
      "Epoch 11/100\n",
      "2129/2129 [==============================] - 40s 19ms/step - loss: 0.4177 - accuracy: 0.8003 - val_loss: 0.4153 - val_accuracy: 0.8030\n",
      "Epoch 12/100\n",
      "2129/2129 [==============================] - 41s 19ms/step - loss: 0.4124 - accuracy: 0.8031 - val_loss: 0.4147 - val_accuracy: 0.8036\n",
      "Epoch 13/100\n",
      "2129/2129 [==============================] - 40s 19ms/step - loss: 0.4089 - accuracy: 0.8051 - val_loss: 0.4078 - val_accuracy: 0.8069\n",
      "Epoch 14/100\n",
      "2129/2129 [==============================] - 40s 19ms/step - loss: 0.4051 - accuracy: 0.8073 - val_loss: 0.4089 - val_accuracy: 0.8067\n",
      "Epoch 15/100\n",
      "2129/2129 [==============================] - 40s 19ms/step - loss: 0.4017 - accuracy: 0.8085 - val_loss: 0.4053 - val_accuracy: 0.8092\n",
      "Epoch 16/100\n",
      "2129/2129 [==============================] - 39s 18ms/step - loss: 0.3976 - accuracy: 0.8105 - val_loss: 0.4041 - val_accuracy: 0.8099\n",
      "Epoch 17/100\n",
      "2129/2129 [==============================] - 39s 18ms/step - loss: 0.3951 - accuracy: 0.8124 - val_loss: 0.4044 - val_accuracy: 0.8092\n",
      "Epoch 18/100\n",
      "2129/2129 [==============================] - 40s 19ms/step - loss: 0.3917 - accuracy: 0.8142 - val_loss: 0.4073 - val_accuracy: 0.8057\n",
      "Epoch 19/100\n",
      "2129/2129 [==============================] - 39s 18ms/step - loss: 0.3908 - accuracy: 0.8140 - val_loss: 0.3973 - val_accuracy: 0.8120\n",
      "Epoch 20/100\n",
      "2129/2129 [==============================] - 40s 19ms/step - loss: 0.3882 - accuracy: 0.8157 - val_loss: 0.3948 - val_accuracy: 0.8150\n",
      "Epoch 21/100\n",
      "2129/2129 [==============================] - 40s 19ms/step - loss: 0.3853 - accuracy: 0.8174 - val_loss: 0.3920 - val_accuracy: 0.8150\n",
      "Epoch 22/100\n",
      "2129/2129 [==============================] - 41s 19ms/step - loss: 0.3828 - accuracy: 0.8190 - val_loss: 0.3937 - val_accuracy: 0.8148\n",
      "Epoch 23/100\n",
      "2129/2129 [==============================] - 41s 19ms/step - loss: 0.3806 - accuracy: 0.8200 - val_loss: 0.3944 - val_accuracy: 0.8149\n",
      "Epoch 24/100\n",
      "2129/2129 [==============================] - 40s 19ms/step - loss: 0.3787 - accuracy: 0.8202 - val_loss: 0.3922 - val_accuracy: 0.8148\n",
      "Epoch 25/100\n",
      "2129/2129 [==============================] - 42s 20ms/step - loss: 0.3773 - accuracy: 0.8207 - val_loss: 0.3938 - val_accuracy: 0.8168\n",
      "Epoch 26/100\n",
      "2129/2129 [==============================] - 40s 19ms/step - loss: 0.3754 - accuracy: 0.8220 - val_loss: 0.3888 - val_accuracy: 0.8169\n",
      "Epoch 27/100\n",
      "2129/2129 [==============================] - 40s 19ms/step - loss: 0.3731 - accuracy: 0.8229 - val_loss: 0.3906 - val_accuracy: 0.8167\n",
      "Epoch 28/100\n",
      "2129/2129 [==============================] - 43s 20ms/step - loss: 0.3720 - accuracy: 0.8240 - val_loss: 0.3884 - val_accuracy: 0.8185\n",
      "Epoch 29/100\n",
      "2129/2129 [==============================] - 42s 20ms/step - loss: 0.3700 - accuracy: 0.8245 - val_loss: 0.3845 - val_accuracy: 0.8217\n",
      "Epoch 30/100\n",
      "2129/2129 [==============================] - 43s 20ms/step - loss: 0.3689 - accuracy: 0.8258 - val_loss: 0.3878 - val_accuracy: 0.8209\n",
      "Epoch 31/100\n",
      "2129/2129 [==============================] - 42s 20ms/step - loss: 0.3677 - accuracy: 0.8258 - val_loss: 0.3842 - val_accuracy: 0.8230\n",
      "Epoch 32/100\n",
      "2129/2129 [==============================] - 41s 19ms/step - loss: 0.3670 - accuracy: 0.8263 - val_loss: 0.3856 - val_accuracy: 0.8229\n",
      "Epoch 33/100\n",
      "2129/2129 [==============================] - 41s 19ms/step - loss: 0.3652 - accuracy: 0.8276 - val_loss: 0.3813 - val_accuracy: 0.8225\n",
      "Epoch 34/100\n",
      "2129/2129 [==============================] - 40s 19ms/step - loss: 0.3638 - accuracy: 0.8290 - val_loss: 0.3854 - val_accuracy: 0.8216\n",
      "Epoch 35/100\n",
      "2129/2129 [==============================] - 42s 20ms/step - loss: 0.3625 - accuracy: 0.8293 - val_loss: 0.3815 - val_accuracy: 0.8213\n",
      "Epoch 36/100\n",
      "2129/2129 [==============================] - 42s 20ms/step - loss: 0.3623 - accuracy: 0.8279 - val_loss: 0.3788 - val_accuracy: 0.8240\n",
      "Epoch 37/100\n",
      "2129/2129 [==============================] - 42s 20ms/step - loss: 0.3612 - accuracy: 0.8299 - val_loss: 0.3793 - val_accuracy: 0.8230\n",
      "Epoch 38/100\n",
      "2129/2129 [==============================] - 41s 19ms/step - loss: 0.3601 - accuracy: 0.8301 - val_loss: 0.3821 - val_accuracy: 0.8219\n",
      "Epoch 39/100\n",
      "2129/2129 [==============================] - 42s 20ms/step - loss: 0.3586 - accuracy: 0.8311 - val_loss: 0.3788 - val_accuracy: 0.8229\n",
      "Epoch 40/100\n",
      "2129/2129 [==============================] - 42s 20ms/step - loss: 0.3583 - accuracy: 0.8308 - val_loss: 0.3800 - val_accuracy: 0.8246\n",
      "Epoch 41/100\n",
      "2129/2129 [==============================] - 41s 19ms/step - loss: 0.3568 - accuracy: 0.8317 - val_loss: 0.3825 - val_accuracy: 0.8210\n",
      "Epoch 42/100\n",
      "2129/2129 [==============================] - 42s 20ms/step - loss: 0.3568 - accuracy: 0.8317 - val_loss: 0.3891 - val_accuracy: 0.8166\n",
      "Epoch 43/100\n",
      "2129/2129 [==============================] - 40s 19ms/step - loss: 0.3561 - accuracy: 0.8320 - val_loss: 0.3790 - val_accuracy: 0.8239\n",
      "Epoch 44/100\n",
      "2129/2129 [==============================] - 39s 18ms/step - loss: 0.3543 - accuracy: 0.8324 - val_loss: 0.3839 - val_accuracy: 0.8207\n"
     ]
    }
   ],
   "source": [
    "history = model.fit(\n",
    "    X_train, \n",
    "    Y_train, \n",
    "    epochs=epochs, \n",
    "    batch_size=batch_size, \n",
    "    validation_split=0.2,\n",
    "    callbacks=[callback]\n",
    "    )"
   ]
  },
  {
   "cell_type": "code",
   "execution_count": null,
   "metadata": {},
   "outputs": [],
   "source": [
    "model.save(\"CNN-LSTM.h5\")"
   ]
  },
  {
   "cell_type": "code",
   "execution_count": null,
   "metadata": {},
   "outputs": [],
   "source": [
    "with open('tokenizer.pickle', 'wb') as handle:\n",
    "    pickle.dump(tokenizer, handle, protocol=pickle.HIGHEST_PROTOCOL)"
   ]
  },
  {
   "cell_type": "code",
   "execution_count": null,
   "metadata": {},
   "outputs": [
    {
     "name": "stdout",
     "output_type": "stream",
     "text": [
      "1183/1183 [==============================] - 9s 7ms/step - loss: 0.3797 - accuracy: 0.8212\n"
     ]
    }
   ],
   "source": [
    "test_accuracy = model.evaluate(X_test, Y_test)"
   ]
  },
  {
   "cell_type": "code",
   "execution_count": null,
   "metadata": {},
   "outputs": [
    {
     "name": "stdout",
     "output_type": "stream",
     "text": [
      "1183/1183 [==============================] - 8s 7ms/step\n"
     ]
    }
   ],
   "source": [
    "Y_pred = model.predict(X_test)"
   ]
  },
  {
   "cell_type": "code",
   "execution_count": null,
   "metadata": {},
   "outputs": [],
   "source": [
    "Y_pred = np.round(Y_pred, 0)"
   ]
  },
  {
   "cell_type": "code",
   "execution_count": null,
   "metadata": {},
   "outputs": [
    {
     "name": "stdout",
     "output_type": "stream",
     "text": [
      "              precision    recall  f1-score   support\n",
      "\n",
      "           0       0.89      0.87      0.88     27842\n",
      "           1       0.65      0.69      0.67     10004\n",
      "\n",
      "    accuracy                           0.82     37846\n",
      "   macro avg       0.77      0.78      0.77     37846\n",
      "weighted avg       0.82      0.82      0.82     37846\n",
      "\n"
     ]
    }
   ],
   "source": [
    "print(classification_report(Y_test, Y_pred))"
   ]
  },
  {
   "cell_type": "code",
   "execution_count": null,
   "metadata": {},
   "outputs": [
    {
     "name": "stdout",
     "output_type": "stream",
     "text": [
      "[[24181  3661]\n",
      " [ 3104  6900]]\n"
     ]
    }
   ],
   "source": [
    "print(confusion_matrix(Y_test, Y_pred))"
   ]
  },
  {
   "cell_type": "code",
   "execution_count": null,
   "metadata": {},
   "outputs": [
    {
     "data": {
      "image/png": "[encoded data removed]",
      "text/plain": [
       "<Figure size 640x480 with 1 Axes>"
      ]
     },
     "metadata": {},
     "output_type": "display_data"
    }
   ],
   "source": [
    "plt.plot(history.history[\"accuracy\"])\n",
    "plt.plot(history.history[\"val_accuracy\"])\n",
    "plt.show()"
   ]
  },
  {
   "cell_type": "code",
   "execution_count": null,
   "metadata": {},
   "outputs": [
    {
     "data": {
      "image/png": "[encoded data removed]",
      "text/plain": [
       "<Figure size 640x480 with 1 Axes>"
      ]
     },
     "metadata": {},
     "output_type": "display_data"
    }
   ],
   "source": [
    "plt.plot(history.history[\"loss\"])\n",
    "plt.plot(history.history[\"val_loss\"])\n",
    "plt.show()"
   ]
  },
  {
   "cell_type": "code",
   "execution_count": null,
   "metadata": {},
   "outputs": [],
   "source": [
    "#model = keras.Model(inputs=model.input, outputs=[model.output, model.get_layer('attention_vec').output])"
   ]
  },
  {
   "cell_type": "code",
   "execution_count": null,
   "metadata": {},
   "outputs": [],
   "source": [
    "test_case_raw = 'print \"Hello World\"'\n",
    "#test_case_raw = 'if 2==3: print \"true\" else: print \"false\"' "
   ]
  },
  {
   "cell_type": "code",
   "execution_count": null,
   "metadata": {},
   "outputs": [],
   "source": [
    "def predict_fn (code):\n",
    "    predictions = []\n",
    "    if isinstance(code, list) or isinstance(code, np.ndarray):\n",
    "        m_input = code\n",
    "    else:\n",
    "        m_input = [code]\n",
    "    \n",
    "    for m in m_input:\n",
    "        m_input = tokenizer.texts_to_sequences([m])\n",
    "        m_input = pad_sequences(m_input, maxlen=MAX_SEQUENCE_LENGTH)\n",
    "        prob = model.predict(m_input)\n",
    "        predictions.append([1-prob[0][0], prob[0][0]])\n",
    "    return np.array(predictions)\n",
    "\n"
   ]
  },
  {
   "cell_type": "code",
   "execution_count": null,
   "metadata": {},
   "outputs": [
    {
     "name": "stdout",
     "output_type": "stream",
     "text": [
      "1/1 [==============================] - 0s 57ms/step\n"
     ]
    },
    {
     "data": {
      "text/plain": [
       "array([[0.09340906, 0.90659094]])"
      ]
     },
     "execution_count": 75,
     "metadata": {},
     "output_type": "execute_result"
    }
   ],
   "source": [
    "predict_fn(test_case_raw)"
   ]
  },
  {
   "cell_type": "code",
   "execution_count": null,
   "metadata": {},
   "outputs": [
    {
     "name": "stdout",
     "output_type": "stream",
     "text": [
      "1/1 [==============================] - 0s 23ms/step\n"
     ]
    },
    {
     "data": {
      "text/plain": [
       "0.9065909385681152"
      ]
     },
     "execution_count": 76,
     "metadata": {},
     "output_type": "execute_result"
    }
   ],
   "source": [
    "predict_fn(test_case_raw)[0,1]"
   ]
  },
  {
   "cell_type": "code",
   "execution_count": null,
   "metadata": {},
   "outputs": [],
   "source": [
    "#int(pl.predict_proba([test_case_raw])[0,1])"
   ]
  },
  {
   "cell_type": "code",
   "execution_count": null,
   "metadata": {},
   "outputs": [],
   "source": [
    "#attention_outputs = outputs[1]"
   ]
  },
  {
   "cell_type": "code",
   "execution_count": null,
   "metadata": {},
   "outputs": [],
   "source": [
    "#print(attention_outputs)"
   ]
  }
 ],
 "metadata": {
  "kernelspec": {
   "display_name": "base",
   "language": "python",
   "name": "python3"
  },
  "language_info": {
   "codemirror_mode": {
    "name": "ipython",
    "version": 3
   },
   "file_extension": ".py",
   "mimetype": "text/x-python",
   "name": "python",
   "nbconvert_exporter": "python",
   "pygments_lexer": "ipython3",
   "version": "3.10.9"
  },
  "orig_nbformat": 4
 },
 "nbformat": 4,
 "nbformat_minor": 2
}
