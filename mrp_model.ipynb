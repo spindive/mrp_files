{
 "cells": [
  {
   "cell_type": "code",
   "execution_count": 359,
   "metadata": {},
   "outputs": [],
   "source": [
    "import pandas as pd\n",
    "import numpy as np\n",
    "from sklearn.model_selection import train_test_split\n",
    "import tensorflow as tf\n",
    "from tensorflow import keras\n",
    "from matplotlib import pyplot as plt\n",
    "import tokenize\n",
    "import io"
   ]
  },
  {
   "cell_type": "code",
   "execution_count": 319,
   "metadata": {},
   "outputs": [],
   "source": [
    "from tensorflow.keras.preprocessing import sequence\n",
    "from tensorflow.keras.models import Sequential\n",
    "from tensorflow.keras.layers import Dense, Dropout, Activation, Flatten, Embedding, Conv1D, GlobalMaxPooling1D, GlobalAveragePooling1D, LSTM, SimpleRNN, SpatialDropout1D, Attention\n",
    "from tensorflow.keras.callbacks import EarlyStopping , ModelCheckpoint\n",
    "from tensorflow.keras.preprocessing.text import Tokenizer\n",
    "from tensorflow.keras.preprocessing.sequence import pad_sequences"
   ]
  },
  {
   "cell_type": "code",
   "execution_count": 174,
   "metadata": {},
   "outputs": [
    {
     "data": {
      "text/plain": [
       "[PhysicalDevice(name='/physical_device:GPU:0', device_type='GPU')]"
      ]
     },
     "execution_count": 174,
     "metadata": {},
     "output_type": "execute_result"
    }
   ],
   "source": [
    "tf.config.list_physical_devices(\"GPU\")"
   ]
  },
  {
   "cell_type": "code",
   "execution_count": 175,
   "metadata": {},
   "outputs": [],
   "source": [
    "df_code_py = pd.read_parquet('df_code_py.gzip')"
   ]
  },
  {
   "cell_type": "code",
   "execution_count": 176,
   "metadata": {},
   "outputs": [
    {
     "data": {
      "text/html": [
       "<div>\n",
       "<style scoped>\n",
       "    .dataframe tbody tr th:only-of-type {\n",
       "        vertical-align: middle;\n",
       "    }\n",
       "\n",
       "    .dataframe tbody tr th {\n",
       "        vertical-align: top;\n",
       "    }\n",
       "\n",
       "    .dataframe thead th {\n",
       "        text-align: right;\n",
       "    }\n",
       "</style>\n",
       "<table border=\"1\" class=\"dataframe\">\n",
       "  <thead>\n",
       "    <tr style=\"text-align: right;\">\n",
       "      <th></th>\n",
       "      <th>academic_year_1</th>\n",
       "      <th>task</th>\n",
       "      <th>user</th>\n",
       "      <th>date</th>\n",
       "      <th>academic_year_0</th>\n",
       "      <th>upload</th>\n",
       "      <th>module</th>\n",
       "      <th>correct</th>\n",
       "      <th>hour_submitted</th>\n",
       "      <th>tokens</th>\n",
       "      <th>token_count</th>\n",
       "      <th>line_count</th>\n",
       "      <th>token_code_only</th>\n",
       "      <th>token_per_line</th>\n",
       "    </tr>\n",
       "  </thead>\n",
       "  <tbody>\n",
       "    <tr>\n",
       "      <th>0</th>\n",
       "      <td>2017</td>\n",
       "      <td>add.py</td>\n",
       "      <td>b9e7e608-6036-4d44-8770-a7036176b53c</td>\n",
       "      <td>2016-09-19 14:11:41</td>\n",
       "      <td>2016</td>\n",
       "      <td>#!/usr/bin/env python\\n\\na = int(raw_input())\\...</td>\n",
       "      <td>ca277</td>\n",
       "      <td>True</td>\n",
       "      <td>14</td>\n",
       "      <td>[{'end': [1, 21], 'line': '#!/usr/bin/env pyth...</td>\n",
       "      <td>30</td>\n",
       "      <td>4</td>\n",
       "      <td>[\\n, a, =, int, (, raw_input, (, ), ), \\n, b, ...</td>\n",
       "      <td>7.5</td>\n",
       "    </tr>\n",
       "    <tr>\n",
       "      <th>1</th>\n",
       "      <td>2017</td>\n",
       "      <td>concat-lines.py</td>\n",
       "      <td>b9e7e608-6036-4d44-8770-a7036176b53c</td>\n",
       "      <td>2016-09-19 14:17:33</td>\n",
       "      <td>2016</td>\n",
       "      <td>#!/usr/bin/env python\\n\\na = str(raw_input())\\...</td>\n",
       "      <td>ca277</td>\n",
       "      <td>True</td>\n",
       "      <td>14</td>\n",
       "      <td>[{'end': [1, 21], 'line': '#!/usr/bin/env pyth...</td>\n",
       "      <td>30</td>\n",
       "      <td>4</td>\n",
       "      <td>[\\n, a, =, str, (, raw_input, (, ), ), \\n, b, ...</td>\n",
       "      <td>7.5</td>\n",
       "    </tr>\n",
       "    <tr>\n",
       "      <th>2</th>\n",
       "      <td>2017</td>\n",
       "      <td>goodbye.py</td>\n",
       "      <td>b9e7e608-6036-4d44-8770-a7036176b53c</td>\n",
       "      <td>2016-09-19 10:15:59</td>\n",
       "      <td>2016</td>\n",
       "      <td>#!/usr/bin/env python\\n\\nprint \"Goodbye\"\\n</td>\n",
       "      <td>ca277</td>\n",
       "      <td>True</td>\n",
       "      <td>10</td>\n",
       "      <td>[{'end': [1, 21], 'line': '#!/usr/bin/env pyth...</td>\n",
       "      <td>7</td>\n",
       "      <td>2</td>\n",
       "      <td>[\\n, print, \"Goodbye\", \\n]</td>\n",
       "      <td>3.5</td>\n",
       "    </tr>\n",
       "    <tr>\n",
       "      <th>3</th>\n",
       "      <td>2017</td>\n",
       "      <td>less-than.py</td>\n",
       "      <td>b9e7e608-6036-4d44-8770-a7036176b53c</td>\n",
       "      <td>2016-09-19 14:14:22</td>\n",
       "      <td>2016</td>\n",
       "      <td>#!/usr/bin/env python\\n\\na = int(raw_input())\\...</td>\n",
       "      <td>ca277</td>\n",
       "      <td>True</td>\n",
       "      <td>14</td>\n",
       "      <td>[{'end': [1, 21], 'line': '#!/usr/bin/env pyth...</td>\n",
       "      <td>30</td>\n",
       "      <td>4</td>\n",
       "      <td>[\\n, a, =, int, (, raw_input, (, ), ), \\n, b, ...</td>\n",
       "      <td>7.5</td>\n",
       "    </tr>\n",
       "    <tr>\n",
       "      <th>4</th>\n",
       "      <td>2017</td>\n",
       "      <td>longest-line.py</td>\n",
       "      <td>b9e7e608-6036-4d44-8770-a7036176b53c</td>\n",
       "      <td>2016-09-19 14:51:28</td>\n",
       "      <td>2016</td>\n",
       "      <td>#!usr/bin/evn python\\n\\na = raw_input()\\nb = r...</td>\n",
       "      <td>ca277</td>\n",
       "      <td>True</td>\n",
       "      <td>14</td>\n",
       "      <td>[{'end': [1, 20], 'line': '#!usr/bin/evn pytho...</td>\n",
       "      <td>42</td>\n",
       "      <td>7</td>\n",
       "      <td>[\\n, a, =, raw_input, (, ), \\n, b, =, raw_inpu...</td>\n",
       "      <td>6.0</td>\n",
       "    </tr>\n",
       "  </tbody>\n",
       "</table>\n",
       "</div>"
      ],
      "text/plain": [
       "   academic_year_1             task                                  user  \\\n",
       "0             2017           add.py  b9e7e608-6036-4d44-8770-a7036176b53c   \n",
       "1             2017  concat-lines.py  b9e7e608-6036-4d44-8770-a7036176b53c   \n",
       "2             2017       goodbye.py  b9e7e608-6036-4d44-8770-a7036176b53c   \n",
       "3             2017     less-than.py  b9e7e608-6036-4d44-8770-a7036176b53c   \n",
       "4             2017  longest-line.py  b9e7e608-6036-4d44-8770-a7036176b53c   \n",
       "\n",
       "                 date  academic_year_0  \\\n",
       "0 2016-09-19 14:11:41             2016   \n",
       "1 2016-09-19 14:17:33             2016   \n",
       "2 2016-09-19 10:15:59             2016   \n",
       "3 2016-09-19 14:14:22             2016   \n",
       "4 2016-09-19 14:51:28             2016   \n",
       "\n",
       "                                              upload module  correct  \\\n",
       "0  #!/usr/bin/env python\\n\\na = int(raw_input())\\...  ca277     True   \n",
       "1  #!/usr/bin/env python\\n\\na = str(raw_input())\\...  ca277     True   \n",
       "2         #!/usr/bin/env python\\n\\nprint \"Goodbye\"\\n  ca277     True   \n",
       "3  #!/usr/bin/env python\\n\\na = int(raw_input())\\...  ca277     True   \n",
       "4  #!usr/bin/evn python\\n\\na = raw_input()\\nb = r...  ca277     True   \n",
       "\n",
       "   hour_submitted                                             tokens  \\\n",
       "0              14  [{'end': [1, 21], 'line': '#!/usr/bin/env pyth...   \n",
       "1              14  [{'end': [1, 21], 'line': '#!/usr/bin/env pyth...   \n",
       "2              10  [{'end': [1, 21], 'line': '#!/usr/bin/env pyth...   \n",
       "3              14  [{'end': [1, 21], 'line': '#!/usr/bin/env pyth...   \n",
       "4              14  [{'end': [1, 20], 'line': '#!usr/bin/evn pytho...   \n",
       "\n",
       "   token_count  line_count                                    token_code_only  \\\n",
       "0           30           4  [\\n, a, =, int, (, raw_input, (, ), ), \\n, b, ...   \n",
       "1           30           4  [\\n, a, =, str, (, raw_input, (, ), ), \\n, b, ...   \n",
       "2            7           2                         [\\n, print, \"Goodbye\", \\n]   \n",
       "3           30           4  [\\n, a, =, int, (, raw_input, (, ), ), \\n, b, ...   \n",
       "4           42           7  [\\n, a, =, raw_input, (, ), \\n, b, =, raw_inpu...   \n",
       "\n",
       "   token_per_line  \n",
       "0             7.5  \n",
       "1             7.5  \n",
       "2             3.5  \n",
       "3             7.5  \n",
       "4             6.0  "
      ]
     },
     "execution_count": 176,
     "metadata": {},
     "output_type": "execute_result"
    }
   ],
   "source": [
    "df_code_py.head()"
   ]
  },
  {
   "cell_type": "code",
   "execution_count": 409,
   "metadata": {},
   "outputs": [
    {
     "data": {
      "text/plain": [
       "(378455, 14)"
      ]
     },
     "execution_count": 409,
     "metadata": {},
     "output_type": "execute_result"
    }
   ],
   "source": [
    "df_code_py.shape"
   ]
  },
  {
   "cell_type": "code",
   "execution_count": 410,
   "metadata": {},
   "outputs": [],
   "source": [
    "df_code_py_exp = df_code_py\n",
    "#df_code_py_exp = df_code_py[df_code_py[\"task\"]==\"ex3-first-long-word.py\"]"
   ]
  },
  {
   "cell_type": "code",
   "execution_count": 411,
   "metadata": {},
   "outputs": [
    {
     "data": {
      "text/plain": [
       "array([{'end': array([ 1, 21], dtype=int64), 'line': '#!/usr/bin/env python\\n', 'start': array([1, 0], dtype=int64), 'string': '#!/usr/bin/env python', 'type': 61},\n",
       "       {'end': array([ 1, 22], dtype=int64), 'line': '#!/usr/bin/env python\\n', 'start': array([ 1, 21], dtype=int64), 'string': '\\n', 'type': 62},\n",
       "       {'end': array([2, 1], dtype=int64), 'line': '\\n', 'start': array([2, 0], dtype=int64), 'string': '\\n', 'type': 62},\n",
       "       {'end': array([3, 1], dtype=int64), 'line': 'a = int(raw_input())\\n', 'start': array([3, 0], dtype=int64), 'string': 'a', 'type': 1},\n",
       "       {'end': array([3, 3], dtype=int64), 'line': 'a = int(raw_input())\\n', 'start': array([3, 2], dtype=int64), 'string': '=', 'type': 54},\n",
       "       {'end': array([3, 7], dtype=int64), 'line': 'a = int(raw_input())\\n', 'start': array([3, 4], dtype=int64), 'string': 'int', 'type': 1},\n",
       "       {'end': array([3, 8], dtype=int64), 'line': 'a = int(raw_input())\\n', 'start': array([3, 7], dtype=int64), 'string': '(', 'type': 54},\n",
       "       {'end': array([ 3, 17], dtype=int64), 'line': 'a = int(raw_input())\\n', 'start': array([3, 8], dtype=int64), 'string': 'raw_input', 'type': 1},\n",
       "       {'end': array([ 3, 18], dtype=int64), 'line': 'a = int(raw_input())\\n', 'start': array([ 3, 17], dtype=int64), 'string': '(', 'type': 54},\n",
       "       {'end': array([ 3, 19], dtype=int64), 'line': 'a = int(raw_input())\\n', 'start': array([ 3, 18], dtype=int64), 'string': ')', 'type': 54},\n",
       "       {'end': array([ 3, 20], dtype=int64), 'line': 'a = int(raw_input())\\n', 'start': array([ 3, 19], dtype=int64), 'string': ')', 'type': 54},\n",
       "       {'end': array([ 3, 21], dtype=int64), 'line': 'a = int(raw_input())\\n', 'start': array([ 3, 20], dtype=int64), 'string': '\\n', 'type': 4},\n",
       "       {'end': array([4, 1], dtype=int64), 'line': 'b = int(raw_input())\\n', 'start': array([4, 0], dtype=int64), 'string': 'b', 'type': 1},\n",
       "       {'end': array([4, 3], dtype=int64), 'line': 'b = int(raw_input())\\n', 'start': array([4, 2], dtype=int64), 'string': '=', 'type': 54},\n",
       "       {'end': array([4, 7], dtype=int64), 'line': 'b = int(raw_input())\\n', 'start': array([4, 4], dtype=int64), 'string': 'int', 'type': 1},\n",
       "       {'end': array([4, 8], dtype=int64), 'line': 'b = int(raw_input())\\n', 'start': array([4, 7], dtype=int64), 'string': '(', 'type': 54},\n",
       "       {'end': array([ 4, 17], dtype=int64), 'line': 'b = int(raw_input())\\n', 'start': array([4, 8], dtype=int64), 'string': 'raw_input', 'type': 1},\n",
       "       {'end': array([ 4, 18], dtype=int64), 'line': 'b = int(raw_input())\\n', 'start': array([ 4, 17], dtype=int64), 'string': '(', 'type': 54},\n",
       "       {'end': array([ 4, 19], dtype=int64), 'line': 'b = int(raw_input())\\n', 'start': array([ 4, 18], dtype=int64), 'string': ')', 'type': 54},\n",
       "       {'end': array([ 4, 20], dtype=int64), 'line': 'b = int(raw_input())\\n', 'start': array([ 4, 19], dtype=int64), 'string': ')', 'type': 54},\n",
       "       {'end': array([ 4, 21], dtype=int64), 'line': 'b = int(raw_input())\\n', 'start': array([ 4, 20], dtype=int64), 'string': '\\n', 'type': 4},\n",
       "       {'end': array([5, 1], dtype=int64), 'line': '\\n', 'start': array([5, 0], dtype=int64), 'string': '\\n', 'type': 62},\n",
       "       {'end': array([6, 5], dtype=int64), 'line': 'print a + b\\n', 'start': array([6, 0], dtype=int64), 'string': 'print', 'type': 1},\n",
       "       {'end': array([6, 7], dtype=int64), 'line': 'print a + b\\n', 'start': array([6, 6], dtype=int64), 'string': 'a', 'type': 1},\n",
       "       {'end': array([6, 9], dtype=int64), 'line': 'print a + b\\n', 'start': array([6, 8], dtype=int64), 'string': '+', 'type': 54},\n",
       "       {'end': array([ 6, 11], dtype=int64), 'line': 'print a + b\\n', 'start': array([ 6, 10], dtype=int64), 'string': 'b', 'type': 1},\n",
       "       {'end': array([ 6, 12], dtype=int64), 'line': 'print a + b\\n', 'start': array([ 6, 11], dtype=int64), 'string': '\\n', 'type': 4},\n",
       "       {'end': array([7, 1], dtype=int64), 'line': '\\n', 'start': array([7, 0], dtype=int64), 'string': '\\n', 'type': 62},\n",
       "       {'end': array([8, 1], dtype=int64), 'line': '\\n', 'start': array([8, 0], dtype=int64), 'string': '\\n', 'type': 62},\n",
       "       {'end': array([9, 0], dtype=int64), 'line': '', 'start': array([9, 0], dtype=int64), 'string': '', 'type': 0}],\n",
       "      dtype=object)"
      ]
     },
     "execution_count": 411,
     "metadata": {},
     "output_type": "execute_result"
    }
   ],
   "source": [
    "df_code_py_exp.iloc[0].tokens"
   ]
  },
  {
   "cell_type": "code",
   "execution_count": 412,
   "metadata": {},
   "outputs": [],
   "source": [
    "MAX_NUM_WORDS = 100\n",
    "MAX_SEQUENCE_LENGTH = 100\n",
    "EMBEDDING_DIM = 50"
   ]
  },
  {
   "cell_type": "code",
   "execution_count": 516,
   "metadata": {},
   "outputs": [],
   "source": [
    "def tokenizer_custom(t_list):    \n",
    "    \n",
    "    if isinstance(t_list, np.ndarray):\n",
    "        #print(t_list)\n",
    "        return t_list\n",
    "    else:\n",
    "        temp_tokens = None\n",
    "        t_dict = None\n",
    "        t_code_only = []\n",
    "        with io.StringIO(t_list) as f:\n",
    "            line = f.readline\n",
    "            temp_tokens = tokenize.generate_tokens(line)\n",
    "            try:\n",
    "                for token in temp_tokens:\n",
    "                    t_dict = token._asdict()\n",
    "                    #print(t_dict)\n",
    "                    #print(t_dict[\"string\"])\n",
    "                    if t_dict[\"line\"] == \"\\n\" or t_dict[\"type\"] == 0:\n",
    "                        pass\n",
    "                    elif t_dict[\"type\"] != 61:\n",
    "                        # tokenize only the code not comments\n",
    "                        t_code_only.append(t_dict[\"string\"])\n",
    "            except:\n",
    "                pass\n",
    "        return np.array(t_code_only)"
   ]
  },
  {
   "cell_type": "code",
   "execution_count": 517,
   "metadata": {},
   "outputs": [],
   "source": [
    "tokenizer = Tokenizer(num_words = MAX_NUM_WORDS, filters=None, lower=True, analyzer=tokenizer_custom)"
   ]
  },
  {
   "cell_type": "code",
   "execution_count": 518,
   "metadata": {},
   "outputs": [],
   "source": [
    "tokenizer.fit_on_texts(df_code_py_exp[\"token_code_only\"].values)\n",
    "word_index = tokenizer.word_index"
   ]
  },
  {
   "cell_type": "code",
   "execution_count": 425,
   "metadata": {},
   "outputs": [],
   "source": [
    "X_values = tokenizer.texts_to_sequences(df_code_py_exp[\"token_code_only\"].values)\n",
    "X_values = pad_sequences(X_values, maxlen=MAX_SEQUENCE_LENGTH)\n"
   ]
  },
  {
   "cell_type": "code",
   "execution_count": 426,
   "metadata": {},
   "outputs": [],
   "source": [
    "Y_values = df_code_py_exp[\"correct\"].astype(int).values"
   ]
  },
  {
   "cell_type": "code",
   "execution_count": 427,
   "metadata": {},
   "outputs": [
    {
     "name": "stdout",
     "output_type": "stream",
     "text": [
      "[ 0  0  0  0  0  0  0  0  0  0  0  0  0  0  0  0  0  0  0  0  0  0  0  0\n",
      "  0  0  0  0  0  0  0  0  0  0  0  0  0  0  0  0  0  0  0  0  0  0  0  0\n",
      "  0  0  0  0  0  0  0  0  0  0  0  0  0  0  0  0  0  0  0  0  0  0  0  0\n",
      "  0  0  0  0  1 18  4 47  2 51  2  3  3  1 61  4 47  2 51  2  3  3  1 16\n",
      " 18 17 61  1] 1\n"
     ]
    }
   ],
   "source": [
    "print(X_values[0], Y_values[0])"
   ]
  },
  {
   "cell_type": "code",
   "execution_count": 428,
   "metadata": {},
   "outputs": [
    {
     "name": "stdout",
     "output_type": "stream",
     "text": [
      "['\\n' 'a' '=' 'int' '(' 'raw_input' '(' ')' ')' '\\n' 'b' '=' 'int' '('\n",
      " 'raw_input' '(' ')' ')' '\\n' 'print' 'a' '+' 'b' '\\n'] True\n"
     ]
    }
   ],
   "source": [
    "print(df_code_py_exp.iloc[0].token_code_only, df_code_py_exp.iloc[0].correct)"
   ]
  },
  {
   "cell_type": "code",
   "execution_count": 429,
   "metadata": {},
   "outputs": [],
   "source": [
    "X_train, X_test, Y_train, Y_test, I_train, I_test  = train_test_split(X_values, Y_values, df_code_py_exp.index, test_size = 0.1, random_state=42)"
   ]
  },
  {
   "cell_type": "code",
   "execution_count": 430,
   "metadata": {},
   "outputs": [
    {
     "name": "stdout",
     "output_type": "stream",
     "text": [
      "X_train:  (340609, 100) Y_train:  (340609,)\n",
      "X_test:  (37846, 100) Y_test:  (37846,)\n"
     ]
    }
   ],
   "source": [
    "print(\"X_train: \", X_train.shape, \"Y_train: \", Y_train.shape)\n",
    "print(\"X_test: \", X_test.shape, \"Y_test: \", Y_test.shape)"
   ]
  },
  {
   "cell_type": "code",
   "execution_count": 431,
   "metadata": {},
   "outputs": [
    {
     "name": "stdout",
     "output_type": "stream",
     "text": [
      "[15 14  1  5 79 32 15 14  5  1 32  5 79  1  5 79 79 79  5 18  1 32  5 79\n",
      "  1 32  5  1 32  5 79 79 32 15 14  1  5 79 32 15 14  5  1 32  5 79  1 32\n",
      "  5 79 32 15 14  1 32  5 79 32 15 14  1 32  5 79 79 32 15 14  1 79 79 79\n",
      " 79 79 32 15 14  1 32  5 79 79 32 15 14  6  1 10 14 11  1 32  5 79 79 32\n",
      " 15 14  6  1] 0\n"
     ]
    }
   ],
   "source": [
    "print(X_train[0], Y_train[0])"
   ]
  },
  {
   "cell_type": "code",
   "execution_count": 432,
   "metadata": {},
   "outputs": [
    {
     "name": "stdout",
     "output_type": "stream",
     "text": [
      "['\\n' 'print' '\"hello\"' ... '.' 'py' '\\n']\n"
     ]
    }
   ],
   "source": [
    "print(df_code_py_exp.loc[I_train[0], \"token_code_only\"])"
   ]
  },
  {
   "cell_type": "code",
   "execution_count": 433,
   "metadata": {},
   "outputs": [],
   "source": [
    "callback = tf.keras.callbacks.EarlyStopping(monitor=\"val_loss\", patience=3)"
   ]
  },
  {
   "cell_type": "code",
   "execution_count": 434,
   "metadata": {},
   "outputs": [
    {
     "name": "stdout",
     "output_type": "stream",
     "text": [
      "Model: \"sequential_20\"\n",
      "_________________________________________________________________\n",
      " Layer (type)                Output Shape              Param #   \n",
      "=================================================================\n",
      " embedding_20 (Embedding)    (None, 100, 50)           5000      \n",
      "                                                                 \n",
      " conv1d_20 (Conv1D)          (None, 94, 50)            17550     \n",
      "                                                                 \n",
      " lstm_4 (LSTM)               (None, 94, 50)            20200     \n",
      "                                                                 \n",
      " lstm_5 (LSTM)               (None, 25)                7600      \n",
      "                                                                 \n",
      " dense_37 (Dense)            (None, 1)                 26        \n",
      "                                                                 \n",
      "=================================================================\n",
      "Total params: 50,376\n",
      "Trainable params: 50,376\n",
      "Non-trainable params: 0\n",
      "_________________________________________________________________\n"
     ]
    }
   ],
   "source": [
    "model = Sequential()\n",
    "model.add(Embedding(MAX_NUM_WORDS, EMBEDDING_DIM, input_length=X_train.shape[1]))\n",
    "model.add(Conv1D(50, 7, padding =\"valid\", activation =\"relu\", strides=1))\n",
    "model.add(LSTM(50, activation=\"tanh\", return_sequences=True, dropout=0.1))\n",
    "model.add(LSTM(25, activation=\"tanh\", dropout=0.1))\n",
    "\n",
    "#model.add(GlobalMaxPooling1D())\n",
    "#model.add(Dense(25, activation=\"relu\"))\n",
    "model.add(Dense(1, activation=\"sigmoid\"))\n",
    "model.summary()\n"
   ]
  },
  {
   "cell_type": "code",
   "execution_count": 435,
   "metadata": {},
   "outputs": [],
   "source": [
    "model.compile(\n",
    "    loss = \"binary_crossentropy\", \n",
    "    optimizer=\"adam\",\n",
    "    metrics =[\"accuracy\"],\n",
    "    )"
   ]
  },
  {
   "cell_type": "code",
   "execution_count": 436,
   "metadata": {},
   "outputs": [],
   "source": [
    "epochs = 20\n",
    "batch_size = 128"
   ]
  },
  {
   "cell_type": "code",
   "execution_count": 437,
   "metadata": {},
   "outputs": [
    {
     "name": "stdout",
     "output_type": "stream",
     "text": [
      "Epoch 1/20\n"
     ]
    },
    {
     "name": "stdout",
     "output_type": "stream",
     "text": [
      " 909/2129 [===========>..................] - ETA: 29s - loss: 0.5670 - accuracy: 0.7313"
     ]
    },
    {
     "ename": "KeyboardInterrupt",
     "evalue": "",
     "output_type": "error",
     "traceback": [
      "\u001b[1;31m---------------------------------------------------------------------------\u001b[0m",
      "\u001b[1;31mKeyboardInterrupt\u001b[0m                         Traceback (most recent call last)",
      "Cell \u001b[1;32mIn[437], line 1\u001b[0m\n\u001b[1;32m----> 1\u001b[0m history \u001b[39m=\u001b[39m model\u001b[39m.\u001b[39;49mfit(\n\u001b[0;32m      2\u001b[0m     X_train, \n\u001b[0;32m      3\u001b[0m     Y_train, \n\u001b[0;32m      4\u001b[0m     epochs\u001b[39m=\u001b[39;49mepochs, \n\u001b[0;32m      5\u001b[0m     batch_size\u001b[39m=\u001b[39;49mbatch_size, \n\u001b[0;32m      6\u001b[0m     validation_split\u001b[39m=\u001b[39;49m\u001b[39m0.2\u001b[39;49m,\n\u001b[0;32m      7\u001b[0m     callbacks\u001b[39m=\u001b[39;49m[callback]\n\u001b[0;32m      8\u001b[0m     )\n",
      "File \u001b[1;32m~\\AppData\\Roaming\\Python\\Python310\\site-packages\\keras\\utils\\traceback_utils.py:65\u001b[0m, in \u001b[0;36mfilter_traceback.<locals>.error_handler\u001b[1;34m(*args, **kwargs)\u001b[0m\n\u001b[0;32m     63\u001b[0m filtered_tb \u001b[39m=\u001b[39m \u001b[39mNone\u001b[39;00m\n\u001b[0;32m     64\u001b[0m \u001b[39mtry\u001b[39;00m:\n\u001b[1;32m---> 65\u001b[0m     \u001b[39mreturn\u001b[39;00m fn(\u001b[39m*\u001b[39margs, \u001b[39m*\u001b[39m\u001b[39m*\u001b[39mkwargs)\n\u001b[0;32m     66\u001b[0m \u001b[39mexcept\u001b[39;00m \u001b[39mException\u001b[39;00m \u001b[39mas\u001b[39;00m e:\n\u001b[0;32m     67\u001b[0m     filtered_tb \u001b[39m=\u001b[39m _process_traceback_frames(e\u001b[39m.\u001b[39m__traceback__)\n",
      "File \u001b[1;32m~\\AppData\\Roaming\\Python\\Python310\\site-packages\\keras\\engine\\training.py:1564\u001b[0m, in \u001b[0;36mModel.fit\u001b[1;34m(self, x, y, batch_size, epochs, verbose, callbacks, validation_split, validation_data, shuffle, class_weight, sample_weight, initial_epoch, steps_per_epoch, validation_steps, validation_batch_size, validation_freq, max_queue_size, workers, use_multiprocessing)\u001b[0m\n\u001b[0;32m   1556\u001b[0m \u001b[39mwith\u001b[39;00m tf\u001b[39m.\u001b[39mprofiler\u001b[39m.\u001b[39mexperimental\u001b[39m.\u001b[39mTrace(\n\u001b[0;32m   1557\u001b[0m     \u001b[39m\"\u001b[39m\u001b[39mtrain\u001b[39m\u001b[39m\"\u001b[39m,\n\u001b[0;32m   1558\u001b[0m     epoch_num\u001b[39m=\u001b[39mepoch,\n\u001b[1;32m   (...)\u001b[0m\n\u001b[0;32m   1561\u001b[0m     _r\u001b[39m=\u001b[39m\u001b[39m1\u001b[39m,\n\u001b[0;32m   1562\u001b[0m ):\n\u001b[0;32m   1563\u001b[0m     callbacks\u001b[39m.\u001b[39mon_train_batch_begin(step)\n\u001b[1;32m-> 1564\u001b[0m     tmp_logs \u001b[39m=\u001b[39m \u001b[39mself\u001b[39;49m\u001b[39m.\u001b[39;49mtrain_function(iterator)\n\u001b[0;32m   1565\u001b[0m     \u001b[39mif\u001b[39;00m data_handler\u001b[39m.\u001b[39mshould_sync:\n\u001b[0;32m   1566\u001b[0m         context\u001b[39m.\u001b[39masync_wait()\n",
      "File \u001b[1;32m~\\AppData\\Roaming\\Python\\Python310\\site-packages\\tensorflow\\python\\util\\traceback_utils.py:150\u001b[0m, in \u001b[0;36mfilter_traceback.<locals>.error_handler\u001b[1;34m(*args, **kwargs)\u001b[0m\n\u001b[0;32m    148\u001b[0m filtered_tb \u001b[39m=\u001b[39m \u001b[39mNone\u001b[39;00m\n\u001b[0;32m    149\u001b[0m \u001b[39mtry\u001b[39;00m:\n\u001b[1;32m--> 150\u001b[0m   \u001b[39mreturn\u001b[39;00m fn(\u001b[39m*\u001b[39margs, \u001b[39m*\u001b[39m\u001b[39m*\u001b[39mkwargs)\n\u001b[0;32m    151\u001b[0m \u001b[39mexcept\u001b[39;00m \u001b[39mException\u001b[39;00m \u001b[39mas\u001b[39;00m e:\n\u001b[0;32m    152\u001b[0m   filtered_tb \u001b[39m=\u001b[39m _process_traceback_frames(e\u001b[39m.\u001b[39m__traceback__)\n",
      "File \u001b[1;32m~\\AppData\\Roaming\\Python\\Python310\\site-packages\\tensorflow\\python\\eager\\def_function.py:915\u001b[0m, in \u001b[0;36mFunction.__call__\u001b[1;34m(self, *args, **kwds)\u001b[0m\n\u001b[0;32m    912\u001b[0m compiler \u001b[39m=\u001b[39m \u001b[39m\"\u001b[39m\u001b[39mxla\u001b[39m\u001b[39m\"\u001b[39m \u001b[39mif\u001b[39;00m \u001b[39mself\u001b[39m\u001b[39m.\u001b[39m_jit_compile \u001b[39melse\u001b[39;00m \u001b[39m\"\u001b[39m\u001b[39mnonXla\u001b[39m\u001b[39m\"\u001b[39m\n\u001b[0;32m    914\u001b[0m \u001b[39mwith\u001b[39;00m OptionalXlaContext(\u001b[39mself\u001b[39m\u001b[39m.\u001b[39m_jit_compile):\n\u001b[1;32m--> 915\u001b[0m   result \u001b[39m=\u001b[39m \u001b[39mself\u001b[39m\u001b[39m.\u001b[39m_call(\u001b[39m*\u001b[39margs, \u001b[39m*\u001b[39m\u001b[39m*\u001b[39mkwds)\n\u001b[0;32m    917\u001b[0m new_tracing_count \u001b[39m=\u001b[39m \u001b[39mself\u001b[39m\u001b[39m.\u001b[39mexperimental_get_tracing_count()\n\u001b[0;32m    918\u001b[0m without_tracing \u001b[39m=\u001b[39m (tracing_count \u001b[39m==\u001b[39m new_tracing_count)\n",
      "File \u001b[1;32m~\\AppData\\Roaming\\Python\\Python310\\site-packages\\tensorflow\\python\\eager\\def_function.py:947\u001b[0m, in \u001b[0;36mFunction._call\u001b[1;34m(self, *args, **kwds)\u001b[0m\n\u001b[0;32m    944\u001b[0m   \u001b[39mself\u001b[39m\u001b[39m.\u001b[39m_lock\u001b[39m.\u001b[39mrelease()\n\u001b[0;32m    945\u001b[0m   \u001b[39m# In this case we have created variables on the first call, so we run the\u001b[39;00m\n\u001b[0;32m    946\u001b[0m   \u001b[39m# defunned version which is guaranteed to never create variables.\u001b[39;00m\n\u001b[1;32m--> 947\u001b[0m   \u001b[39mreturn\u001b[39;00m \u001b[39mself\u001b[39m\u001b[39m.\u001b[39m_stateless_fn(\u001b[39m*\u001b[39margs, \u001b[39m*\u001b[39m\u001b[39m*\u001b[39mkwds)  \u001b[39m# pylint: disable=not-callable\u001b[39;00m\n\u001b[0;32m    948\u001b[0m \u001b[39melif\u001b[39;00m \u001b[39mself\u001b[39m\u001b[39m.\u001b[39m_stateful_fn \u001b[39mis\u001b[39;00m \u001b[39mnot\u001b[39;00m \u001b[39mNone\u001b[39;00m:\n\u001b[0;32m    949\u001b[0m   \u001b[39m# Release the lock early so that multiple threads can perform the call\u001b[39;00m\n\u001b[0;32m    950\u001b[0m   \u001b[39m# in parallel.\u001b[39;00m\n\u001b[0;32m    951\u001b[0m   \u001b[39mself\u001b[39m\u001b[39m.\u001b[39m_lock\u001b[39m.\u001b[39mrelease()\n",
      "File \u001b[1;32m~\\AppData\\Roaming\\Python\\Python310\\site-packages\\tensorflow\\python\\eager\\function.py:2496\u001b[0m, in \u001b[0;36mFunction.__call__\u001b[1;34m(self, *args, **kwargs)\u001b[0m\n\u001b[0;32m   2493\u001b[0m \u001b[39mwith\u001b[39;00m \u001b[39mself\u001b[39m\u001b[39m.\u001b[39m_lock:\n\u001b[0;32m   2494\u001b[0m   (graph_function,\n\u001b[0;32m   2495\u001b[0m    filtered_flat_args) \u001b[39m=\u001b[39m \u001b[39mself\u001b[39m\u001b[39m.\u001b[39m_maybe_define_function(args, kwargs)\n\u001b[1;32m-> 2496\u001b[0m \u001b[39mreturn\u001b[39;00m graph_function\u001b[39m.\u001b[39;49m_call_flat(\n\u001b[0;32m   2497\u001b[0m     filtered_flat_args, captured_inputs\u001b[39m=\u001b[39;49mgraph_function\u001b[39m.\u001b[39;49mcaptured_inputs)\n",
      "File \u001b[1;32m~\\AppData\\Roaming\\Python\\Python310\\site-packages\\tensorflow\\python\\eager\\function.py:1862\u001b[0m, in \u001b[0;36mConcreteFunction._call_flat\u001b[1;34m(self, args, captured_inputs, cancellation_manager)\u001b[0m\n\u001b[0;32m   1858\u001b[0m possible_gradient_type \u001b[39m=\u001b[39m gradients_util\u001b[39m.\u001b[39mPossibleTapeGradientTypes(args)\n\u001b[0;32m   1859\u001b[0m \u001b[39mif\u001b[39;00m (possible_gradient_type \u001b[39m==\u001b[39m gradients_util\u001b[39m.\u001b[39mPOSSIBLE_GRADIENT_TYPES_NONE\n\u001b[0;32m   1860\u001b[0m     \u001b[39mand\u001b[39;00m executing_eagerly):\n\u001b[0;32m   1861\u001b[0m   \u001b[39m# No tape is watching; skip to running the function.\u001b[39;00m\n\u001b[1;32m-> 1862\u001b[0m   \u001b[39mreturn\u001b[39;00m \u001b[39mself\u001b[39m\u001b[39m.\u001b[39m_build_call_outputs(\u001b[39mself\u001b[39;49m\u001b[39m.\u001b[39;49m_inference_function\u001b[39m.\u001b[39;49mcall(\n\u001b[0;32m   1863\u001b[0m       ctx, args, cancellation_manager\u001b[39m=\u001b[39;49mcancellation_manager))\n\u001b[0;32m   1864\u001b[0m forward_backward \u001b[39m=\u001b[39m \u001b[39mself\u001b[39m\u001b[39m.\u001b[39m_select_forward_and_backward_functions(\n\u001b[0;32m   1865\u001b[0m     args,\n\u001b[0;32m   1866\u001b[0m     possible_gradient_type,\n\u001b[0;32m   1867\u001b[0m     executing_eagerly)\n\u001b[0;32m   1868\u001b[0m forward_function, args_with_tangents \u001b[39m=\u001b[39m forward_backward\u001b[39m.\u001b[39mforward()\n",
      "File \u001b[1;32m~\\AppData\\Roaming\\Python\\Python310\\site-packages\\tensorflow\\python\\eager\\function.py:499\u001b[0m, in \u001b[0;36m_EagerDefinedFunction.call\u001b[1;34m(self, ctx, args, cancellation_manager)\u001b[0m\n\u001b[0;32m    497\u001b[0m \u001b[39mwith\u001b[39;00m _InterpolateFunctionError(\u001b[39mself\u001b[39m):\n\u001b[0;32m    498\u001b[0m   \u001b[39mif\u001b[39;00m cancellation_manager \u001b[39mis\u001b[39;00m \u001b[39mNone\u001b[39;00m:\n\u001b[1;32m--> 499\u001b[0m     outputs \u001b[39m=\u001b[39m execute\u001b[39m.\u001b[39;49mexecute(\n\u001b[0;32m    500\u001b[0m         \u001b[39mstr\u001b[39;49m(\u001b[39mself\u001b[39;49m\u001b[39m.\u001b[39;49msignature\u001b[39m.\u001b[39;49mname),\n\u001b[0;32m    501\u001b[0m         num_outputs\u001b[39m=\u001b[39;49m\u001b[39mself\u001b[39;49m\u001b[39m.\u001b[39;49m_num_outputs,\n\u001b[0;32m    502\u001b[0m         inputs\u001b[39m=\u001b[39;49margs,\n\u001b[0;32m    503\u001b[0m         attrs\u001b[39m=\u001b[39;49mattrs,\n\u001b[0;32m    504\u001b[0m         ctx\u001b[39m=\u001b[39;49mctx)\n\u001b[0;32m    505\u001b[0m   \u001b[39melse\u001b[39;00m:\n\u001b[0;32m    506\u001b[0m     outputs \u001b[39m=\u001b[39m execute\u001b[39m.\u001b[39mexecute_with_cancellation(\n\u001b[0;32m    507\u001b[0m         \u001b[39mstr\u001b[39m(\u001b[39mself\u001b[39m\u001b[39m.\u001b[39msignature\u001b[39m.\u001b[39mname),\n\u001b[0;32m    508\u001b[0m         num_outputs\u001b[39m=\u001b[39m\u001b[39mself\u001b[39m\u001b[39m.\u001b[39m_num_outputs,\n\u001b[1;32m   (...)\u001b[0m\n\u001b[0;32m    511\u001b[0m         ctx\u001b[39m=\u001b[39mctx,\n\u001b[0;32m    512\u001b[0m         cancellation_manager\u001b[39m=\u001b[39mcancellation_manager)\n",
      "File \u001b[1;32m~\\AppData\\Roaming\\Python\\Python310\\site-packages\\tensorflow\\python\\eager\\execute.py:54\u001b[0m, in \u001b[0;36mquick_execute\u001b[1;34m(op_name, num_outputs, inputs, attrs, ctx, name)\u001b[0m\n\u001b[0;32m     52\u001b[0m \u001b[39mtry\u001b[39;00m:\n\u001b[0;32m     53\u001b[0m   ctx\u001b[39m.\u001b[39mensure_initialized()\n\u001b[1;32m---> 54\u001b[0m   tensors \u001b[39m=\u001b[39m pywrap_tfe\u001b[39m.\u001b[39;49mTFE_Py_Execute(ctx\u001b[39m.\u001b[39;49m_handle, device_name, op_name,\n\u001b[0;32m     55\u001b[0m                                       inputs, attrs, num_outputs)\n\u001b[0;32m     56\u001b[0m \u001b[39mexcept\u001b[39;00m core\u001b[39m.\u001b[39m_NotOkStatusException \u001b[39mas\u001b[39;00m e:\n\u001b[0;32m     57\u001b[0m   \u001b[39mif\u001b[39;00m name \u001b[39mis\u001b[39;00m \u001b[39mnot\u001b[39;00m \u001b[39mNone\u001b[39;00m:\n",
      "\u001b[1;31mKeyboardInterrupt\u001b[0m: "
     ]
    }
   ],
   "source": [
    "history = model.fit(\n",
    "    X_train, \n",
    "    Y_train, \n",
    "    epochs=epochs, \n",
    "    batch_size=batch_size, \n",
    "    validation_split=0.2,\n",
    "    callbacks=[callback]\n",
    "    )"
   ]
  },
  {
   "cell_type": "code",
   "execution_count": null,
   "metadata": {},
   "outputs": [],
   "source": [
    "model.save(\"CNN-LSTM.h5\")"
   ]
  },
  {
   "cell_type": "code",
   "execution_count": 438,
   "metadata": {},
   "outputs": [],
   "source": [
    "#model.load_weights(\"CNN-LSTM.h5\")"
   ]
  },
  {
   "cell_type": "code",
   "execution_count": 439,
   "metadata": {},
   "outputs": [
    {
     "name": "stdout",
     "output_type": "stream",
     "text": [
      "1183/1183 [==============================] - 13s 10ms/step - loss: 0.3846 - accuracy: 0.8198\n"
     ]
    }
   ],
   "source": [
    "accuracy = model.evaluate(X_test, Y_test)"
   ]
  },
  {
   "cell_type": "code",
   "execution_count": null,
   "metadata": {},
   "outputs": [
    {
     "data": {
      "image/png": "[encoded data removed]",
      "text/plain": [
       "<Figure size 640x480 with 1 Axes>"
      ]
     },
     "metadata": {},
     "output_type": "display_data"
    }
   ],
   "source": [
    "plt.plot(history.history[\"accuracy\"])\n",
    "plt.plot(history.history[\"val_accuracy\"])\n",
    "plt.show()"
   ]
  },
  {
   "cell_type": "code",
   "execution_count": 547,
   "metadata": {},
   "outputs": [],
   "source": [
    "#test_case = \"print('hello world')\"\n",
    "test_case = 'print \"Hello World\"'"
   ]
  },
  {
   "cell_type": "code",
   "execution_count": 548,
   "metadata": {},
   "outputs": [],
   "source": [
    "test_case = tokenizer.texts_to_sequences([test_case])\n",
    "test_case = pad_sequences(test_case, maxlen=MAX_SEQUENCE_LENGTH)\n"
   ]
  },
  {
   "cell_type": "code",
   "execution_count": 549,
   "metadata": {},
   "outputs": [
    {
     "data": {
      "text/plain": [
       "array([[ 0,  0,  0,  0,  0,  0,  0,  0,  0,  0,  0,  0,  0,  0,  0,  0,\n",
       "         0,  0,  0,  0,  0,  0,  0,  0,  0,  0,  0,  0,  0,  0,  0,  0,\n",
       "         0,  0,  0,  0,  0,  0,  0,  0,  0,  0,  0,  0,  0,  0,  0,  0,\n",
       "         0,  0,  0,  0,  0,  0,  0,  0,  0,  0,  0,  0,  0,  0,  0,  0,\n",
       "         0,  0,  0,  0,  0,  0,  0,  0,  0,  0,  0,  0,  0,  0,  0,  0,\n",
       "         0,  0,  0,  0,  0,  0,  0,  0,  0,  0,  0,  0,  0,  0,  0,  0,\n",
       "         0,  0, 16,  7]])"
      ]
     },
     "execution_count": 549,
     "metadata": {},
     "output_type": "execute_result"
    }
   ],
   "source": [
    "test_case"
   ]
  },
  {
   "cell_type": "code",
   "execution_count": 550,
   "metadata": {},
   "outputs": [
    {
     "name": "stdout",
     "output_type": "stream",
     "text": [
      "1/1 [==============================] - 0s 26ms/step\n"
     ]
    },
    {
     "data": {
      "text/plain": [
       "array([[0.79749507]], dtype=float32)"
      ]
     },
     "execution_count": 550,
     "metadata": {},
     "output_type": "execute_result"
    }
   ],
   "source": [
    "model.predict(test_case)"
   ]
  }
 ],
 "metadata": {
  "kernelspec": {
   "display_name": "base",
   "language": "python",
   "name": "python3"
  },
  "language_info": {
   "codemirror_mode": {
    "name": "ipython",
    "version": 3
   },
   "file_extension": ".py",
   "mimetype": "text/x-python",
   "name": "python",
   "nbconvert_exporter": "python",
   "pygments_lexer": "ipython3",
   "version": "3.10.9"
  },
  "orig_nbformat": 4
 },
 "nbformat": 4,
 "nbformat_minor": 2
}
